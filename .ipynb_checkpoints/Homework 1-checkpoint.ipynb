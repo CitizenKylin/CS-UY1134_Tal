{
 "cells": [
  {
   "cell_type": "markdown",
   "id": "3937c874",
   "metadata": {},
   "source": [
    "# Question 2:"
   ]
  },
  {
   "cell_type": "code",
   "execution_count": 10,
   "id": "3e0a5adb",
   "metadata": {},
   "outputs": [],
   "source": [
    "# a\n",
    "def shift(lst,k):\n",
    "    for num in range(k):\n",
    "        lst.append(lst[0])\n",
    "        lst.pop(0)\n",
    "    return lst"
   ]
  },
  {
   "cell_type": "code",
   "execution_count": 11,
   "id": "49fef832",
   "metadata": {},
   "outputs": [
    {
     "data": {
      "text/plain": [
       "[3, 4, 5, 6, 1, 2]"
      ]
     },
     "execution_count": 11,
     "metadata": {},
     "output_type": "execute_result"
    }
   ],
   "source": [
    "lst=[1,2,3,4,5,6]\n",
    "shift(lst,2)"
   ]
  },
  {
   "cell_type": "code",
   "execution_count": 27,
   "id": "f9a73722",
   "metadata": {},
   "outputs": [],
   "source": [
    "# b\n",
    "def shift_2(lst,k,direction='left'):\n",
    "    if direction == 'left':\n",
    "        for num in range(k):\n",
    "            lst.append(lst[0])\n",
    "            lst.pop(0)\n",
    "    elif direction == 'right':\n",
    "        for num in range(k):\n",
    "            lst.insert(0,lst[-1])\n",
    "            lst.pop()\n",
    "    return lst"
   ]
  },
  {
   "cell_type": "markdown",
   "id": "78eed265",
   "metadata": {},
   "source": [
    "# Question 3:"
   ]
  },
  {
   "cell_type": "code",
   "execution_count": 4,
   "id": "af823703",
   "metadata": {},
   "outputs": [],
   "source": [
    "# a\n",
    "def sum_of_sq(n):\n",
    "    sum = 0\n",
    "    for num in range(1,n):\n",
    "        sum += num**2\n",
    "    return sum"
   ]
  },
  {
   "cell_type": "code",
   "execution_count": 5,
   "id": "7051880f",
   "metadata": {},
   "outputs": [
    {
     "data": {
      "text/plain": [
       "30"
      ]
     },
     "execution_count": 5,
     "metadata": {},
     "output_type": "execute_result"
    }
   ],
   "source": [
    "sum_of_sq(5)"
   ]
  },
  {
   "cell_type": "code",
   "execution_count": 8,
   "id": "6f4a1d18",
   "metadata": {},
   "outputs": [],
   "source": [
    "# b\n",
    "def sum_of_sq_advanced(n):\n",
    "    return sum([num**2 for num in range(1,n)]) # sum 可以写在list comprehension里面吗？"
   ]
  },
  {
   "cell_type": "code",
   "execution_count": 9,
   "id": "9a33ff22",
   "metadata": {},
   "outputs": [
    {
     "data": {
      "text/plain": [
       "30"
      ]
     },
     "execution_count": 9,
     "metadata": {},
     "output_type": "execute_result"
    }
   ],
   "source": [
    "sum_of_sq_advanced(5)"
   ]
  },
  {
   "cell_type": "code",
   "execution_count": 19,
   "id": "7fd6f7e4",
   "metadata": {},
   "outputs": [],
   "source": [
    "# c\n",
    "def sum_of_sq_odd(n):\n",
    "    sum = 0\n",
    "    for num in range(1,n):\n",
    "        if num%2 == 1:\n",
    "            sum += num**2\n",
    "    return sum"
   ]
  },
  {
   "cell_type": "code",
   "execution_count": 25,
   "id": "e4b0bbe7",
   "metadata": {},
   "outputs": [],
   "source": [
    "# d\n",
    "def sum_of_sq_odd_advanced(n):\n",
    "    return sum([num**2 for num in range(1,n) if num%2==1])"
   ]
  },
  {
   "cell_type": "markdown",
   "id": "fff4b059",
   "metadata": {},
   "source": [
    "# Question #4"
   ]
  },
  {
   "cell_type": "code",
   "execution_count": 3,
   "id": "08415ec8",
   "metadata": {},
   "outputs": [],
   "source": [
    "# a\n",
    "lst1 = [10**n for n in range(6)]"
   ]
  },
  {
   "cell_type": "code",
   "execution_count": 6,
   "id": "d054ac93",
   "metadata": {},
   "outputs": [],
   "source": [
    "# b\n",
    "lst2 = [n*(n+1) for n in range(10)]"
   ]
  },
  {
   "cell_type": "code",
   "execution_count": 16,
   "id": "2ea5266f",
   "metadata": {},
   "outputs": [],
   "source": [
    "# c\n",
    "lst3 = [chr(i) for i in range(97,123)]"
   ]
  },
  {
   "cell_type": "markdown",
   "id": "f36588e9",
   "metadata": {},
   "source": [
    "# Question #5"
   ]
  },
  {
   "cell_type": "code",
   "execution_count": 27,
   "id": "2fb29b48",
   "metadata": {},
   "outputs": [],
   "source": [
    "def fibs(n):\n",
    "    init_num = 1\n",
    "    yield init_num\n",
    "    pre2_num = 0\n",
    "    pre1_num = 1\n",
    "    for i in range(1,n):\n",
    "        output = pre2_num + pre1_num\n",
    "        yield output\n",
    "        pre2_num = pre1_num\n",
    "        pre1_num = output"
   ]
  },
  {
   "cell_type": "code",
   "execution_count": 30,
   "id": "564dcd14",
   "metadata": {},
   "outputs": [
    {
     "name": "stdout",
     "output_type": "stream",
     "text": [
      "1\n",
      "1\n",
      "2\n",
      "3\n",
      "5\n",
      "8\n",
      "13\n",
      "21\n",
      "34\n",
      "55\n"
     ]
    }
   ],
   "source": [
    "for curr in fibs(10):\n",
    "    print(curr)"
   ]
  },
  {
   "cell_type": "code",
   "execution_count": null,
   "id": "0296a676",
   "metadata": {},
   "outputs": [],
   "source": []
  },
  {
   "cell_type": "code",
   "execution_count": null,
   "id": "863077bf",
   "metadata": {},
   "outputs": [],
   "source": []
  },
  {
   "cell_type": "code",
   "execution_count": null,
   "id": "27c7cb62",
   "metadata": {},
   "outputs": [],
   "source": []
  },
  {
   "cell_type": "code",
   "execution_count": null,
   "id": "e8dddb16",
   "metadata": {},
   "outputs": [],
   "source": []
  }
 ],
 "metadata": {
  "kernelspec": {
   "display_name": "Python 3 (ipykernel)",
   "language": "python",
   "name": "python3"
  },
  "language_info": {
   "codemirror_mode": {
    "name": "ipython",
    "version": 3
   },
   "file_extension": ".py",
   "mimetype": "text/x-python",
   "name": "python",
   "nbconvert_exporter": "python",
   "pygments_lexer": "ipython3",
   "version": "3.8.12"
  },
  "toc": {
   "base_numbering": 1,
   "nav_menu": {},
   "number_sections": true,
   "sideBar": true,
   "skip_h1_title": false,
   "title_cell": "Table of Contents",
   "title_sidebar": "Contents",
   "toc_cell": false,
   "toc_position": {},
   "toc_section_display": true,
   "toc_window_display": false
  },
  "vscode": {
   "interpreter": {
    "hash": "fff758d5c56eda6bf3ef34f0d4cde3312389935bcf4c692bace467005533ff3f"
   }
  }
 },
 "nbformat": 4,
 "nbformat_minor": 5
}
