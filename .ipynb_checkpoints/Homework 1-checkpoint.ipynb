{
 "cells": [
  {
   "cell_type": "markdown",
   "id": "3937c874",
   "metadata": {},
   "source": [
    "# Question 2:"
   ]
  },
  {
   "cell_type": "code",
   "execution_count": 10,
   "id": "3e0a5adb",
   "metadata": {},
   "outputs": [],
   "source": [
    "# a\n",
    "def shift(lst,k):\n",
    "    for num in range(k):\n",
    "        lst.append(lst[0])\n",
    "        lst.pop(0)\n",
    "    return lst"
   ]
  },
  {
   "cell_type": "code",
   "execution_count": 11,
   "id": "49fef832",
   "metadata": {},
   "outputs": [
    {
     "data": {
      "text/plain": [
       "[3, 4, 5, 6, 1, 2]"
      ]
     },
     "execution_count": 11,
     "metadata": {},
     "output_type": "execute_result"
    }
   ],
   "source": [
    "lst=[1,2,3,4,5,6]\n",
    "shift(lst,2)"
   ]
  },
  {
   "cell_type": "code",
   "execution_count": 27,
   "id": "f9a73722",
   "metadata": {},
   "outputs": [],
   "source": [
    "# b\n",
    "def shift_2(lst,k,direction='left'):\n",
    "    if direction == 'left':\n",
    "        for num in range(k):\n",
    "            lst.append(lst[0])\n",
    "            lst.pop(0)\n",
    "    elif direction == 'right':\n",
    "        for num in range(k):\n",
    "            lst.insert(0,lst[-1])\n",
    "            lst.pop()\n",
    "    return lst"
   ]
  },
  {
   "cell_type": "markdown",
   "id": "78eed265",
   "metadata": {},
   "source": [
    "# Question 3:"
   ]
  },
  {
   "cell_type": "code",
   "execution_count": 4,
   "id": "af823703",
   "metadata": {},
   "outputs": [],
   "source": [
    "# a\n",
    "def sum_of_sq(n):\n",
    "    sum = 0\n",
    "    for num in range(1,n):\n",
    "        sum += num**2\n",
    "    return sum"
   ]
  },
  {
   "cell_type": "code",
   "execution_count": 5,
   "id": "7051880f",
   "metadata": {},
   "outputs": [
    {
     "data": {
      "text/plain": [
       "30"
      ]
     },
     "execution_count": 5,
     "metadata": {},
     "output_type": "execute_result"
    }
   ],
   "source": [
    "sum_of_sq(5)"
   ]
  },
  {
   "cell_type": "code",
   "execution_count": 8,
   "id": "6f4a1d18",
   "metadata": {},
   "outputs": [],
   "source": [
    "# b\n",
    "def sum_of_sq_advanced(n):\n",
    "    return sum([num**2 for num in range(1,n)]) # sum 可以写在list comprehension里面吗？"
   ]
  },
  {
   "cell_type": "code",
   "execution_count": 9,
   "id": "9a33ff22",
   "metadata": {},
   "outputs": [
    {
     "data": {
      "text/plain": [
       "30"
      ]
     },
     "execution_count": 9,
     "metadata": {},
     "output_type": "execute_result"
    }
   ],
   "source": [
    "sum_of_sq_advanced(5)"
   ]
  },
  {
   "cell_type": "code",
   "execution_count": 19,
   "id": "7fd6f7e4",
   "metadata": {},
   "outputs": [],
   "source": [
    "# c\n",
    "def sum_of_sq_odd(n):\n",
    "    sum = 0\n",
    "    for num in range(1,n):\n",
    "        if num%2 == 1:\n",
    "            sum += num**2\n",
    "    return sum"
   ]
  },
  {
   "cell_type": "code",
   "execution_count": 25,
   "id": "e4b0bbe7",
   "metadata": {},
   "outputs": [],
   "source": [
    "# d\n",
    "def sum_of_sq_odd_advanced(n):\n",
    "    return sum([num**2 for num in range(1,n) if num%2==1])"
   ]
  },
  {
   "cell_type": "markdown",
   "id": "fff4b059",
   "metadata": {},
   "source": [
    "# Question #4"
   ]
  },
  {
   "cell_type": "code",
   "execution_count": 3,
   "id": "08415ec8",
   "metadata": {},
   "outputs": [],
   "source": [
    "# a\n",
    "lst1 = [10**n for n in range(6)]"
   ]
  },
  {
   "cell_type": "code",
   "execution_count": 6,
   "id": "d054ac93",
   "metadata": {},
   "outputs": [],
   "source": [
    "# b\n",
    "lst2 = [n*(n+1) for n in range(10)]"
   ]
  },
  {
   "cell_type": "code",
   "execution_count": 16,
   "id": "2ea5266f",
   "metadata": {},
   "outputs": [],
   "source": [
    "# c\n",
    "lst3 = [chr(i) for i in range(97,123)]"
   ]
  },
  {
   "cell_type": "markdown",
   "id": "f36588e9",
   "metadata": {},
   "source": [
    "# Question #5"
   ]
  },
  {
   "cell_type": "code",
   "execution_count": 27,
   "id": "2fb29b48",
   "metadata": {},
   "outputs": [],
   "source": [
    "def fibs(n):\n",
    "    init_num = 1\n",
    "    yield init_num\n",
    "    pre2_num = 0\n",
    "    pre1_num = 1\n",
    "    for i in range(1,n):\n",
    "        output = pre2_num + pre1_num\n",
    "        yield output\n",
    "        pre2_num = pre1_num\n",
    "        pre1_num = output"
   ]
  },
  {
   "cell_type": "code",
   "execution_count": 30,
   "id": "564dcd14",
   "metadata": {},
   "outputs": [
    {
     "name": "stdout",
     "output_type": "stream",
     "text": [
      "1\n",
      "1\n",
      "2\n",
      "3\n",
      "5\n",
      "8\n",
      "13\n",
      "21\n",
      "34\n",
      "55\n"
     ]
    }
   ],
   "source": [
    "for curr in fibs(10):\n",
    "    print(curr)"
   ]
  },
  {
   "cell_type": "markdown",
   "id": "08305820",
   "metadata": {},
   "source": [
    "# Question #6"
   ]
  },
  {
   "cell_type": "markdown",
   "id": "2574430a",
   "metadata": {},
   "source": [
    "## Code"
   ]
  },
  {
   "cell_type": "code",
   "execution_count": 6,
   "id": "8d88058c",
   "metadata": {},
   "outputs": [],
   "source": [
    "class Vector:\n",
    "    def __init__(self,d):\n",
    "        if isinstance(d,int):\n",
    "            self.coords = [0]*d\n",
    "        elif isinstance(d,list):\n",
    "            self.coords = d    \n",
    "    def __len__(self):\n",
    "        return len(self.coords)\n",
    "    def __getitem__(self, j): \n",
    "        return self.coords[j] \n",
    "    def __setitem__(self, j, val):\n",
    "        self.coords[j] = val \n",
    "    def __add__(self, other):\n",
    "        if (len(self) != len(other)):\n",
    "            raise ValueError(\"dimensions must agree\")\n",
    "        result = Vector(len(self))\n",
    "        for j in range(len(self)):\n",
    "            result[j] = self[j] + other[j]        \n",
    "        return result\n",
    "    def __eq__(self, other):\n",
    "        return self.coords == other.coords \n",
    "    def __ne__(self, other):\n",
    "        return not (self == other)\n",
    "    def __str__(self):\n",
    "        return '<'+ str(self.coords)[1:-1] + '>'\n",
    "    def __repr__(self):\n",
    "        return str(self)\n",
    "    \n",
    "    \n",
    "    def __sub__(self,other):\n",
    "        if (len(self) != len(other)): \n",
    "            raise ValueError(\"dimensions must agree\") # raise error很重要\n",
    "            \n",
    "        output = []\n",
    "        for i in range(len(self.coords)): # 这里是self.coords不是self**\n",
    "            output.append(self.coords[i]-other.coords[i]) # 这里是self.coords不是self**\n",
    "        return Vector(output)\n",
    "    \n",
    "    def __neg__(self):\n",
    "        output = []\n",
    "        for i in range(len(self.coords)):\n",
    "            output.append(self.coords[i]*(-1))\n",
    "        return Vector(output)\n",
    "    \n",
    "    def __mul__(self, other):\n",
    "        if isinstance(other,int):\n",
    "            output = []\n",
    "            for i in range(len(self.coords)):\n",
    "                output.append(self.coords[i]*other)\n",
    "            return Vector(output)\n",
    "        if isinstance(other,Vector):\n",
    "            if (len(self) != len(other)): \n",
    "                raise ValueError(\"dimensions must agree\")\n",
    "            output = 0\n",
    "            for i in range(len(self.coords)):\n",
    "                output += self.coords[i]*other.coords[i]\n",
    "            return output\n",
    "\n",
    "    def __rmul__(self, other):\n",
    "        if isinstance(other,int):\n",
    "            output = []\n",
    "            for i in range(len(self.coords)):\n",
    "                output.append(self.coords[i]*other)\n",
    "            return Vector(output)\n",
    "        if isinstance(other,Vector):\n",
    "            if (len(self) != len(other)): \n",
    "                raise ValueError(\"dimensions must agree\")\n",
    "            output = 0\n",
    "            for i in range(len(self.coords)):\n",
    "                output += self.coords[i]*other.coords[i]\n",
    "            return output\n",
    "    "
   ]
  },
  {
   "cell_type": "code",
   "execution_count": 110,
   "id": "50130324",
   "metadata": {},
   "outputs": [],
   "source": [
    "a = Vector([1,3,2,4])\n",
    "b = Vector([2,3,1,1])"
   ]
  },
  {
   "cell_type": "code",
   "execution_count": 111,
   "id": "c70ef0a8",
   "metadata": {},
   "outputs": [
    {
     "data": {
      "text/plain": [
       "<2, 3, 1, 1>"
      ]
     },
     "execution_count": 111,
     "metadata": {},
     "output_type": "execute_result"
    }
   ],
   "source": [
    "Vector([2,3,1,1]) # ????为什么直接会有<x,x,x,x>出来"
   ]
  },
  {
   "cell_type": "markdown",
   "id": "af9fce9d",
   "metadata": {},
   "source": [
    "只define \\__mul__的话只能支持Vector(d)\\*3, 3\\*Vector(d)就会报错！"
   ]
  },
  {
   "cell_type": "code",
   "execution_count": 76,
   "id": "bbe42af9",
   "metadata": {},
   "outputs": [],
   "source": [
    "a = 3*a"
   ]
  },
  {
   "cell_type": "code",
   "execution_count": 78,
   "id": "26923e1a",
   "metadata": {},
   "outputs": [
    {
     "data": {
      "text/plain": [
       "[3, 9, 6, 12]"
      ]
     },
     "execution_count": 78,
     "metadata": {},
     "output_type": "execute_result"
    }
   ],
   "source": [
    "a.coords"
   ]
  },
  {
   "cell_type": "code",
   "execution_count": 77,
   "id": "c89e160f",
   "metadata": {},
   "outputs": [],
   "source": [
    "c = a*b"
   ]
  },
  {
   "cell_type": "code",
   "execution_count": 79,
   "id": "99bf8098",
   "metadata": {},
   "outputs": [
    {
     "data": {
      "text/plain": [
       "[6, 27, 6, 12]"
      ]
     },
     "execution_count": 79,
     "metadata": {},
     "output_type": "execute_result"
    }
   ],
   "source": [
    "c.coords"
   ]
  },
  {
   "cell_type": "markdown",
   "id": "73ed7362",
   "metadata": {},
   "source": [
    "## formal test"
   ]
  },
  {
   "cell_type": "code",
   "execution_count": 7,
   "id": "f76088a8",
   "metadata": {},
   "outputs": [
    {
     "name": "stdout",
     "output_type": "stream",
     "text": [
      "<0, 10, 0, 0, 10>\n",
      "<2, 4, 6, 8, 10>\n",
      "<2, 14, 6, 8, 20>\n",
      "<-2, -4, -6, -8, -10>\n",
      "<6, 12, 18, 24, 30>\n",
      "<6, 12, 18, 24, 30>\n",
      "140\n"
     ]
    }
   ],
   "source": [
    "v1 = Vector(5)\n",
    "v1[1] = 10\n",
    "v1[-1] = 10\n",
    "print(v1)\n",
    "\n",
    "v2 = Vector([2, 4, 6, 8, 10])\n",
    "print(v2)\n",
    "\n",
    "u1 = v1 + v2\n",
    "print(u1)\n",
    "\n",
    "u2 = -v2\n",
    "print(u2)\n",
    "\n",
    "u3 = 3 * v2\n",
    "print(u3)\n",
    "\n",
    "u4 = v2 * 3\n",
    "print(u4)\n",
    "\n",
    "u5 = v1 * v2\n",
    "print(u5)"
   ]
  },
  {
   "cell_type": "code",
   "execution_count": 117,
   "id": "8a50060e",
   "metadata": {},
   "outputs": [
    {
     "data": {
      "text/plain": [
       "<0, 10, 0, 0, 10>"
      ]
     },
     "execution_count": 117,
     "metadata": {},
     "output_type": "execute_result"
    }
   ],
   "source": [
    "v1"
   ]
  },
  {
   "cell_type": "code",
   "execution_count": 118,
   "id": "3431f3b1",
   "metadata": {},
   "outputs": [
    {
     "data": {
      "text/plain": [
       "<2, 4, 6, 8, 10>"
      ]
     },
     "execution_count": 118,
     "metadata": {},
     "output_type": "execute_result"
    }
   ],
   "source": [
    "v2"
   ]
  },
  {
   "cell_type": "code",
   "execution_count": 120,
   "id": "cecefdf2",
   "metadata": {},
   "outputs": [
    {
     "data": {
      "text/plain": [
       "<2, 0, 0, 0, 0>"
      ]
     },
     "execution_count": 120,
     "metadata": {},
     "output_type": "execute_result"
    }
   ],
   "source": [
    "v1+v2"
   ]
  },
  {
   "cell_type": "code",
   "execution_count": 133,
   "id": "68d97a98",
   "metadata": {},
   "outputs": [],
   "source": [
    "v1 * v2"
   ]
  },
  {
   "cell_type": "code",
   "execution_count": null,
   "id": "bff0d452",
   "metadata": {},
   "outputs": [],
   "source": []
  }
 ],
 "metadata": {
  "kernelspec": {
   "display_name": "Python 3 (ipykernel)",
   "language": "python",
   "name": "python3"
  },
  "language_info": {
   "codemirror_mode": {
    "name": "ipython",
    "version": 3
   },
   "file_extension": ".py",
   "mimetype": "text/x-python",
   "name": "python",
   "nbconvert_exporter": "python",
   "pygments_lexer": "ipython3",
   "version": "3.8.12"
  },
  "toc": {
   "base_numbering": 1,
   "nav_menu": {},
   "number_sections": true,
   "sideBar": true,
   "skip_h1_title": false,
   "title_cell": "Table of Contents",
   "title_sidebar": "Contents",
   "toc_cell": false,
   "toc_position": {},
   "toc_section_display": true,
   "toc_window_display": false
  },
  "vscode": {
   "interpreter": {
    "hash": "fff758d5c56eda6bf3ef34f0d4cde3312389935bcf4c692bace467005533ff3f"
   }
  }
 },
 "nbformat": 4,
 "nbformat_minor": 5
}
