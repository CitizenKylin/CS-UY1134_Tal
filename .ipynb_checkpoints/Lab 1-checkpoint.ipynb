{
 "cells": [
  {
   "cell_type": "markdown",
   "id": "47331a26",
   "metadata": {},
   "source": [
    "# Vitamins"
   ]
  },
  {
   "cell_type": "code",
   "execution_count": 8,
   "id": "c3167921",
   "metadata": {},
   "outputs": [],
   "source": [
    "# 1a\n",
    "lst = [1,2,3]\n",
    "lst2 =lst\n",
    "lst.append(4)\n",
    "lst2.append(5)"
   ]
  },
  {
   "cell_type": "code",
   "execution_count": 9,
   "id": "ec10f969",
   "metadata": {},
   "outputs": [
    {
     "data": {
      "text/plain": [
       "[1, 2, 3, 4, 5]"
      ]
     },
     "execution_count": 9,
     "metadata": {},
     "output_type": "execute_result"
    }
   ],
   "source": [
    "lst"
   ]
  },
  {
   "cell_type": "code",
   "execution_count": 10,
   "id": "420cfad1",
   "metadata": {},
   "outputs": [],
   "source": [
    "# 1b\n",
    "s = \"aBc\"\n",
    "s = s.upper()\n",
    "t = s\n",
    "t = t.lower()"
   ]
  },
  {
   "cell_type": "code",
   "execution_count": 11,
   "id": "2ba0086a",
   "metadata": {},
   "outputs": [
    {
     "data": {
      "text/plain": [
       "'ABC'"
      ]
     },
     "execution_count": 11,
     "metadata": {},
     "output_type": "execute_result"
    }
   ],
   "source": [
    "s"
   ]
  },
  {
   "cell_type": "code",
   "execution_count": 12,
   "id": "cc341520",
   "metadata": {},
   "outputs": [
    {
     "data": {
      "text/plain": [
       "'abc'"
      ]
     },
     "execution_count": 12,
     "metadata": {},
     "output_type": "execute_result"
    }
   ],
   "source": [
    "t"
   ]
  },
  {
   "cell_type": "code",
   "execution_count": null,
   "id": "cc82fee0",
   "metadata": {},
   "outputs": [],
   "source": [
    "# 1c\n"
   ]
  },
  {
   "cell_type": "code",
   "execution_count": 36,
   "id": "ff276c31",
   "metadata": {},
   "outputs": [],
   "source": [
    "class Student: \n",
    "    def __init__(self, name = \"student\", age = 18):\n",
    "        self.name = name\n",
    "        self.age = age\n",
    "        self.courses = [] \n",
    "    def add_course(self, course): \n",
    "        self.courses.append(course)\n",
    "    def remove_course(self, course): \n",
    "        if course in self.courses: \n",
    "            self.courses.remove(course) \n",
    "            print(\"Removed Course:\", course) \n",
    "        else:\n",
    "            print(\"Course Not Found:\", course) \n",
    "    def __repr__(self): #str representation needed for print( ) \n",
    "        info = \"Name: \" + self.name \n",
    "        info += \"\\nAge: \" + str(self.age) \n",
    "        info += \"\\nCourses: \" + \" , \".join(self.courses) \n",
    "        return info + \"\\n\""
   ]
  },
  {
   "cell_type": "code",
   "execution_count": 37,
   "id": "b8261df6",
   "metadata": {},
   "outputs": [
    {
     "ename": "TypeError",
     "evalue": "can only concatenate str (not \"int\") to str",
     "output_type": "error",
     "traceback": [
      "\u001b[0;31m---------------------------------------------------------------------------\u001b[0m",
      "\u001b[0;31mTypeError\u001b[0m                                 Traceback (most recent call last)",
      "\u001b[0;32m~/.pyenv/versions/3.8.12/envs/lewagon/lib/python3.8/site-packages/IPython/core/formatters.py\u001b[0m in \u001b[0;36m__call__\u001b[0;34m(self, obj)\u001b[0m\n\u001b[1;32m    700\u001b[0m                 \u001b[0mtype_pprinters\u001b[0m\u001b[0;34m=\u001b[0m\u001b[0mself\u001b[0m\u001b[0;34m.\u001b[0m\u001b[0mtype_printers\u001b[0m\u001b[0;34m,\u001b[0m\u001b[0;34m\u001b[0m\u001b[0;34m\u001b[0m\u001b[0m\n\u001b[1;32m    701\u001b[0m                 deferred_pprinters=self.deferred_printers)\n\u001b[0;32m--> 702\u001b[0;31m             \u001b[0mprinter\u001b[0m\u001b[0;34m.\u001b[0m\u001b[0mpretty\u001b[0m\u001b[0;34m(\u001b[0m\u001b[0mobj\u001b[0m\u001b[0;34m)\u001b[0m\u001b[0;34m\u001b[0m\u001b[0;34m\u001b[0m\u001b[0m\n\u001b[0m\u001b[1;32m    703\u001b[0m             \u001b[0mprinter\u001b[0m\u001b[0;34m.\u001b[0m\u001b[0mflush\u001b[0m\u001b[0;34m(\u001b[0m\u001b[0;34m)\u001b[0m\u001b[0;34m\u001b[0m\u001b[0;34m\u001b[0m\u001b[0m\n\u001b[1;32m    704\u001b[0m             \u001b[0;32mreturn\u001b[0m \u001b[0mstream\u001b[0m\u001b[0;34m.\u001b[0m\u001b[0mgetvalue\u001b[0m\u001b[0;34m(\u001b[0m\u001b[0;34m)\u001b[0m\u001b[0;34m\u001b[0m\u001b[0;34m\u001b[0m\u001b[0m\n",
      "\u001b[0;32m~/.pyenv/versions/3.8.12/envs/lewagon/lib/python3.8/site-packages/IPython/lib/pretty.py\u001b[0m in \u001b[0;36mpretty\u001b[0;34m(self, obj)\u001b[0m\n\u001b[1;32m    392\u001b[0m                         \u001b[0;32mif\u001b[0m \u001b[0mcls\u001b[0m \u001b[0;32mis\u001b[0m \u001b[0;32mnot\u001b[0m \u001b[0mobject\u001b[0m\u001b[0;31m \u001b[0m\u001b[0;31m\\\u001b[0m\u001b[0;34m\u001b[0m\u001b[0;34m\u001b[0m\u001b[0m\n\u001b[1;32m    393\u001b[0m                                 \u001b[0;32mand\u001b[0m \u001b[0mcallable\u001b[0m\u001b[0;34m(\u001b[0m\u001b[0mcls\u001b[0m\u001b[0;34m.\u001b[0m\u001b[0m__dict__\u001b[0m\u001b[0;34m.\u001b[0m\u001b[0mget\u001b[0m\u001b[0;34m(\u001b[0m\u001b[0;34m'__repr__'\u001b[0m\u001b[0;34m)\u001b[0m\u001b[0;34m)\u001b[0m\u001b[0;34m:\u001b[0m\u001b[0;34m\u001b[0m\u001b[0;34m\u001b[0m\u001b[0m\n\u001b[0;32m--> 394\u001b[0;31m                             \u001b[0;32mreturn\u001b[0m \u001b[0m_repr_pprint\u001b[0m\u001b[0;34m(\u001b[0m\u001b[0mobj\u001b[0m\u001b[0;34m,\u001b[0m \u001b[0mself\u001b[0m\u001b[0;34m,\u001b[0m \u001b[0mcycle\u001b[0m\u001b[0;34m)\u001b[0m\u001b[0;34m\u001b[0m\u001b[0;34m\u001b[0m\u001b[0m\n\u001b[0m\u001b[1;32m    395\u001b[0m \u001b[0;34m\u001b[0m\u001b[0m\n\u001b[1;32m    396\u001b[0m             \u001b[0;32mreturn\u001b[0m \u001b[0m_default_pprint\u001b[0m\u001b[0;34m(\u001b[0m\u001b[0mobj\u001b[0m\u001b[0;34m,\u001b[0m \u001b[0mself\u001b[0m\u001b[0;34m,\u001b[0m \u001b[0mcycle\u001b[0m\u001b[0;34m)\u001b[0m\u001b[0;34m\u001b[0m\u001b[0;34m\u001b[0m\u001b[0m\n",
      "\u001b[0;32m~/.pyenv/versions/3.8.12/envs/lewagon/lib/python3.8/site-packages/IPython/lib/pretty.py\u001b[0m in \u001b[0;36m_repr_pprint\u001b[0;34m(obj, p, cycle)\u001b[0m\n\u001b[1;32m    698\u001b[0m     \u001b[0;34m\"\"\"A pprint that just redirects to the normal repr function.\"\"\"\u001b[0m\u001b[0;34m\u001b[0m\u001b[0;34m\u001b[0m\u001b[0m\n\u001b[1;32m    699\u001b[0m     \u001b[0;31m# Find newlines and replace them with p.break_()\u001b[0m\u001b[0;34m\u001b[0m\u001b[0;34m\u001b[0m\u001b[0;34m\u001b[0m\u001b[0m\n\u001b[0;32m--> 700\u001b[0;31m     \u001b[0moutput\u001b[0m \u001b[0;34m=\u001b[0m \u001b[0mrepr\u001b[0m\u001b[0;34m(\u001b[0m\u001b[0mobj\u001b[0m\u001b[0;34m)\u001b[0m\u001b[0;34m\u001b[0m\u001b[0;34m\u001b[0m\u001b[0m\n\u001b[0m\u001b[1;32m    701\u001b[0m     \u001b[0mlines\u001b[0m \u001b[0;34m=\u001b[0m \u001b[0moutput\u001b[0m\u001b[0;34m.\u001b[0m\u001b[0msplitlines\u001b[0m\u001b[0;34m(\u001b[0m\u001b[0;34m)\u001b[0m\u001b[0;34m\u001b[0m\u001b[0;34m\u001b[0m\u001b[0m\n\u001b[1;32m    702\u001b[0m     \u001b[0;32mwith\u001b[0m \u001b[0mp\u001b[0m\u001b[0;34m.\u001b[0m\u001b[0mgroup\u001b[0m\u001b[0;34m(\u001b[0m\u001b[0;34m)\u001b[0m\u001b[0;34m:\u001b[0m\u001b[0;34m\u001b[0m\u001b[0;34m\u001b[0m\u001b[0m\n",
      "\u001b[0;32m/var/folders/rd/q2lzfdss4b167026m7l6h8pm0000gn/T/ipykernel_46557/357539756.py\u001b[0m in \u001b[0;36m__repr__\u001b[0;34m(self)\u001b[0m\n\u001b[1;32m     13\u001b[0m             \u001b[0mprint\u001b[0m\u001b[0;34m(\u001b[0m\u001b[0;34m\"Course Not Found:\"\u001b[0m\u001b[0;34m,\u001b[0m \u001b[0mcourse\u001b[0m\u001b[0;34m)\u001b[0m\u001b[0;34m\u001b[0m\u001b[0;34m\u001b[0m\u001b[0m\n\u001b[1;32m     14\u001b[0m     \u001b[0;32mdef\u001b[0m \u001b[0m__repr__\u001b[0m\u001b[0;34m(\u001b[0m\u001b[0mself\u001b[0m\u001b[0;34m)\u001b[0m\u001b[0;34m:\u001b[0m \u001b[0;31m#str representation needed for print( )\u001b[0m\u001b[0;34m\u001b[0m\u001b[0;34m\u001b[0m\u001b[0m\n\u001b[0;32m---> 15\u001b[0;31m         \u001b[0minfo\u001b[0m \u001b[0;34m=\u001b[0m \u001b[0;34m\"Name: \"\u001b[0m \u001b[0;34m+\u001b[0m \u001b[0mself\u001b[0m\u001b[0;34m.\u001b[0m\u001b[0mname\u001b[0m\u001b[0;34m\u001b[0m\u001b[0;34m\u001b[0m\u001b[0m\n\u001b[0m\u001b[1;32m     16\u001b[0m         \u001b[0minfo\u001b[0m \u001b[0;34m+=\u001b[0m \u001b[0;34m\"\\nAge: \"\u001b[0m \u001b[0;34m+\u001b[0m \u001b[0mstr\u001b[0m\u001b[0;34m(\u001b[0m\u001b[0mself\u001b[0m\u001b[0;34m.\u001b[0m\u001b[0mage\u001b[0m\u001b[0;34m)\u001b[0m\u001b[0;34m\u001b[0m\u001b[0;34m\u001b[0m\u001b[0m\n\u001b[1;32m     17\u001b[0m         \u001b[0minfo\u001b[0m \u001b[0;34m+=\u001b[0m \u001b[0;34m\"\\nCourses: \"\u001b[0m \u001b[0;34m+\u001b[0m \u001b[0;34m\" , \"\u001b[0m\u001b[0;34m.\u001b[0m\u001b[0mjoin\u001b[0m\u001b[0;34m(\u001b[0m\u001b[0mself\u001b[0m\u001b[0;34m.\u001b[0m\u001b[0mcourses\u001b[0m\u001b[0;34m)\u001b[0m\u001b[0;34m\u001b[0m\u001b[0;34m\u001b[0m\u001b[0m\n",
      "\u001b[0;31mTypeError\u001b[0m: can only concatenate str (not \"int\") to str"
     ]
    }
   ],
   "source": [
    "peter = Student(16)\n",
    "peter"
   ]
  },
  {
   "cell_type": "code",
   "execution_count": 49,
   "id": "9ea56555",
   "metadata": {},
   "outputs": [
    {
     "data": {
      "text/plain": [
       "Name: Peter Parker\n",
       "Age: 18\n",
       "Courses: "
      ]
     },
     "execution_count": 49,
     "metadata": {},
     "output_type": "execute_result"
    }
   ],
   "source": [
    "peter = Student('Peter Parker')\n",
    "peter"
   ]
  },
  {
   "cell_type": "code",
   "execution_count": 50,
   "id": "125db574",
   "metadata": {},
   "outputs": [
    {
     "data": {
      "text/plain": [
       "Name: student\n",
       "Age: 16\n",
       "Courses: "
      ]
     },
     "execution_count": 50,
     "metadata": {},
     "output_type": "execute_result"
    }
   ],
   "source": [
    "peter = Student(age=16)\n",
    "peter"
   ]
  },
  {
   "cell_type": "code",
   "execution_count": 51,
   "id": "b269766b",
   "metadata": {},
   "outputs": [
    {
     "data": {
      "text/plain": [
       "Name: Peter Parker\n",
       "Age: 16\n",
       "Courses: "
      ]
     },
     "execution_count": 51,
     "metadata": {},
     "output_type": "execute_result"
    }
   ],
   "source": [
    "peter.name = 'Peter Parker'\n",
    "peter"
   ]
  },
  {
   "cell_type": "code",
   "execution_count": 52,
   "id": "adaee570",
   "metadata": {},
   "outputs": [],
   "source": [
    "peter.add_course('Physics')\n",
    "peter.add_course('Spanish')"
   ]
  },
  {
   "cell_type": "code",
   "execution_count": 53,
   "id": "0f74ce7c",
   "metadata": {},
   "outputs": [
    {
     "data": {
      "text/plain": [
       "Name: Peter Parker\n",
       "Age: 16\n",
       "Courses: Physics , Spanish"
      ]
     },
     "execution_count": 53,
     "metadata": {},
     "output_type": "execute_result"
    }
   ],
   "source": [
    "peter"
   ]
  },
  {
   "cell_type": "code",
   "execution_count": 54,
   "id": "7a2fbfa4",
   "metadata": {},
   "outputs": [
    {
     "name": "stdout",
     "output_type": "stream",
     "text": [
      "Removed Course: Spanish\n"
     ]
    }
   ],
   "source": [
    "tom = Student('Tom')\n",
    "tom.courses = peter.courses\n",
    "tom.add_course('Econ')\n",
    "peter.remove_course('Spanish')"
   ]
  },
  {
   "cell_type": "code",
   "execution_count": 55,
   "id": "e59c096e",
   "metadata": {},
   "outputs": [
    {
     "data": {
      "text/plain": [
       "Name: Peter Parker\n",
       "Age: 16\n",
       "Courses: Physics , Econ"
      ]
     },
     "execution_count": 55,
     "metadata": {},
     "output_type": "execute_result"
    }
   ],
   "source": [
    "peter"
   ]
  },
  {
   "cell_type": "code",
   "execution_count": 56,
   "id": "9590dc14",
   "metadata": {},
   "outputs": [
    {
     "data": {
      "text/plain": [
       "Name: Tom\n",
       "Age: 18\n",
       "Courses: Physics , Econ"
      ]
     },
     "execution_count": 56,
     "metadata": {},
     "output_type": "execute_result"
    }
   ],
   "source": [
    "tom"
   ]
  },
  {
   "cell_type": "markdown",
   "id": "1161d321",
   "metadata": {},
   "source": [
    "# Coding"
   ]
  },
  {
   "cell_type": "code",
   "execution_count": 61,
   "id": "b173f8a0",
   "metadata": {},
   "outputs": [],
   "source": [
    "# 1\n",
    "def can_construct(word, letters):\n",
    "    letters_lst = [-1]*26\n",
    "    \n",
    "    for char in letters:\n",
    "        if letters_lst[ord(char)-97] == -1:\n",
    "            letters_lst[ord(char)-97] = 0\n",
    "        letters_lst[ord(char)-97] += 1\n",
    "    for char in word:\n",
    "        if letters_lst[ord(char)-97] == -1:\n",
    "            return False\n",
    "        if letters_lst[ord(char)-97] < 1:\n",
    "            return False\n",
    "        letters_lst[ord(char)-97] -= 1\n",
    "    return True\n",
    "# -1 => 没有在letters 中出现过\n",
    "# 一个字母在letter中出现一次，letter_lst对应位置加一次可使用次数"
   ]
  },
  {
   "cell_type": "code",
   "execution_count": 65,
   "id": "e38f2d80",
   "metadata": {},
   "outputs": [
    {
     "data": {
      "text/plain": [
       "True"
      ]
     },
     "execution_count": 65,
     "metadata": {},
     "output_type": "execute_result"
    }
   ],
   "source": [
    "can_construct('apples','palpes')"
   ]
  },
  {
   "cell_type": "code",
   "execution_count": 66,
   "id": "b387ae06",
   "metadata": {},
   "outputs": [],
   "source": [
    "def can_construct_2(word, letters): # 感觉我这个更好一点，第一个答案有点啰嗦\n",
    "    letters_lst = [0]*26\n",
    "    \n",
    "    for char in letters:\n",
    "        letters_lst[ord(char)-97] += 1\n",
    "    for char in word:\n",
    "        if letters_lst[ord(char)-97] < 1:\n",
    "            return False\n",
    "        letters_lst[ord(char)-97] -= 1\n",
    "    return True"
   ]
  },
  {
   "cell_type": "code",
   "execution_count": 72,
   "id": "34049194",
   "metadata": {},
   "outputs": [
    {
     "data": {
      "text/plain": [
       "True"
      ]
     },
     "execution_count": 72,
     "metadata": {},
     "output_type": "execute_result"
    }
   ],
   "source": [
    "can_construct_2('apples','palseppp')"
   ]
  },
  {
   "cell_type": "markdown",
   "id": "c26fcb31",
   "metadata": {},
   "source": [
    "ord() returns the Unicode point of a given Unicode character. The ASCII (American Standard Code for Information Interchange) values for lowercase letters in Python are in the range of 97 to 122."
   ]
  },
  {
   "cell_type": "code",
   "execution_count": 74,
   "id": "84967f46",
   "metadata": {},
   "outputs": [],
   "source": [
    "# 2\n",
    "class Complex:\n",
    "    def __init__(self,a,b):\n",
    "        self.a = a\n",
    "        self.b = b\n",
    "    def __add__(self, other):\n",
    "        return Complex(self.a+other.a,self.b+other.b)\n",
    "    def __sub__(self,other):\n",
    "        return Complex(self.a-other.a,self.b-other.b)\n",
    "    def __mul__(self,other):\n",
    "        return Complex(self.a*other.a-self.b*other.b,self.a*other.b+self.b*other.a)\n",
    "    def __repr__(self):\n",
    "        return str(self.a)+ \"+\" + str(self.b) + \"i\"\n",
    "    \n",
    "    def __iadd__(self, other):\n",
    "        self = self + other\n",
    "        return self"
   ]
  },
  {
   "cell_type": "code",
   "execution_count": 75,
   "id": "0f6503d2",
   "metadata": {},
   "outputs": [
    {
     "data": {
      "text/plain": [
       "5+2i"
      ]
     },
     "execution_count": 75,
     "metadata": {},
     "output_type": "execute_result"
    }
   ],
   "source": [
    "cplx1 = Complex(5, 2)\n",
    "cplx1"
   ]
  },
  {
   "cell_type": "code",
   "execution_count": 76,
   "id": "7767f79b",
   "metadata": {},
   "outputs": [
    {
     "data": {
      "text/plain": [
       "3+3i"
      ]
     },
     "execution_count": 76,
     "metadata": {},
     "output_type": "execute_result"
    }
   ],
   "source": [
    "cplx2 = Complex(3, 3)\n",
    "cplx2"
   ]
  },
  {
   "cell_type": "code",
   "execution_count": 77,
   "id": "a36d8f14",
   "metadata": {},
   "outputs": [
    {
     "data": {
      "text/plain": [
       "8+5i"
      ]
     },
     "execution_count": 77,
     "metadata": {},
     "output_type": "execute_result"
    }
   ],
   "source": [
    "cplx1 + cplx2"
   ]
  },
  {
   "cell_type": "code",
   "execution_count": 78,
   "id": "872ea623",
   "metadata": {},
   "outputs": [
    {
     "data": {
      "text/plain": [
       "9+21i"
      ]
     },
     "execution_count": 78,
     "metadata": {},
     "output_type": "execute_result"
    }
   ],
   "source": [
    "cplx1 * cplx2"
   ]
  },
  {
   "cell_type": "code",
   "execution_count": 79,
   "id": "cde08c8c",
   "metadata": {},
   "outputs": [
    {
     "data": {
      "text/plain": [
       "(5+2i, 3+3i)"
      ]
     },
     "execution_count": 79,
     "metadata": {},
     "output_type": "execute_result"
    }
   ],
   "source": [
    "cplx1,cplx2"
   ]
  },
  {
   "cell_type": "markdown",
   "id": "142856f4",
   "metadata": {},
   "source": [
    "\\_\\_iadd__ is a special method in Python that is used to define the behavior of the += operator for custom objects. It is called the \"in-place add\" method, which means it updates the value of the object in place rather than creating a new object.   \n",
    "\n",
    "The \\_\\_iadd__ method should take a single argument, which is the value to be added to the object. It should modify the object and return it as the result. If the \\_\\_iadd__ method is not defined for an object, Python will fall back to using the \\_\\_add__ method to perform the addition operation and create a new object."
   ]
  },
  {
   "cell_type": "code",
   "execution_count": 85,
   "id": "3c159e6d",
   "metadata": {},
   "outputs": [
    {
     "name": "stdout",
     "output_type": "stream",
     "text": [
      "30\n"
     ]
    }
   ],
   "source": [
    "class MyClass:\n",
    "    def __init__(self, value):\n",
    "        self.value = value\n",
    "\n",
    "    def __iadd__(self, other):\n",
    "        self.value += other.value\n",
    "        return self\n",
    "\n",
    "obj1 = MyClass(10)\n",
    "obj2 = MyClass(20)\n",
    "\n",
    "obj1 += obj2\n",
    "print(obj1.value) # Output: 30"
   ]
  },
  {
   "cell_type": "code",
   "execution_count": 93,
   "id": "841f5c5e",
   "metadata": {},
   "outputs": [],
   "source": [
    "# 3a\n",
    "def create_permutation(n):\n",
    "    perm = [-1]*n\n",
    "    counter = n-1\n",
    "    while counter >= 0:\n",
    "        index = random.randint(0,n-1)\n",
    "        if perm[index] == -1:\n",
    "            perm[index] = counter\n",
    "            counter -= 1\n",
    "    return perm"
   ]
  },
  {
   "cell_type": "code",
   "execution_count": 94,
   "id": "166e94e0",
   "metadata": {},
   "outputs": [
    {
     "data": {
      "text/plain": [
       "[5, 2, 4, 0, 3, 1]"
      ]
     },
     "execution_count": 94,
     "metadata": {},
     "output_type": "execute_result"
    }
   ],
   "source": [
    "create_permutation(6)"
   ]
  },
  {
   "cell_type": "code",
   "execution_count": 88,
   "id": "cf308440",
   "metadata": {},
   "outputs": [
    {
     "data": {
      "text/plain": [
       "6"
      ]
     },
     "execution_count": 88,
     "metadata": {},
     "output_type": "execute_result"
    }
   ],
   "source": [
    "import random\n",
    "random.randint(1, 10)"
   ]
  },
  {
   "cell_type": "code",
   "execution_count": null,
   "id": "f5237919",
   "metadata": {},
   "outputs": [],
   "source": []
  },
  {
   "cell_type": "code",
   "execution_count": null,
   "id": "1e3acc24",
   "metadata": {},
   "outputs": [],
   "source": []
  },
  {
   "cell_type": "code",
   "execution_count": null,
   "id": "d1bc7164",
   "metadata": {},
   "outputs": [],
   "source": []
  },
  {
   "cell_type": "code",
   "execution_count": null,
   "id": "c3bf40a4",
   "metadata": {},
   "outputs": [],
   "source": []
  }
 ],
 "metadata": {
  "kernelspec": {
   "display_name": "Python 3 (ipykernel)",
   "language": "python",
   "name": "python3"
  },
  "language_info": {
   "codemirror_mode": {
    "name": "ipython",
    "version": 3
   },
   "file_extension": ".py",
   "mimetype": "text/x-python",
   "name": "python",
   "nbconvert_exporter": "python",
   "pygments_lexer": "ipython3",
   "version": "3.8.12"
  },
  "toc": {
   "base_numbering": 1,
   "nav_menu": {},
   "number_sections": true,
   "sideBar": true,
   "skip_h1_title": false,
   "title_cell": "Table of Contents",
   "title_sidebar": "Contents",
   "toc_cell": false,
   "toc_position": {},
   "toc_section_display": true,
   "toc_window_display": false
  }
 },
 "nbformat": 4,
 "nbformat_minor": 5
}
