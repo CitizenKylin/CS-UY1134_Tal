{
 "cells": [
  {
   "cell_type": "markdown",
   "id": "1240b102",
   "metadata": {},
   "source": [
    "# Lab draft"
   ]
  },
  {
   "cell_type": "code",
   "execution_count": 1,
   "id": "c777f017",
   "metadata": {},
   "outputs": [],
   "source": [
    "import copy \n",
    "lst = [1, 2, [3, 4]] \n",
    "lst_copy = copy.copy(lst) \n",
    "lst[0] = 10 \n",
    "lst_copy[2][0] = 30"
   ]
  },
  {
   "cell_type": "code",
   "execution_count": 2,
   "id": "20539797",
   "metadata": {},
   "outputs": [
    {
     "data": {
      "text/plain": [
       "[10, 2, [30, 4]]"
      ]
     },
     "execution_count": 2,
     "metadata": {},
     "output_type": "execute_result"
    }
   ],
   "source": [
    "lst"
   ]
  },
  {
   "cell_type": "code",
   "execution_count": 3,
   "id": "5b48cc39",
   "metadata": {},
   "outputs": [
    {
     "data": {
      "text/plain": [
       "[1, 2, [30, 4]]"
      ]
     },
     "execution_count": 3,
     "metadata": {},
     "output_type": "execute_result"
    }
   ],
   "source": [
    "lst_copy"
   ]
  },
  {
   "cell_type": "code",
   "execution_count": 4,
   "id": "fbbedb8e",
   "metadata": {},
   "outputs": [],
   "source": [
    "lst = [1, [2, 3], [\"a\", \"b\"] ] \n",
    "lst_slice = lst[:]"
   ]
  },
  {
   "cell_type": "code",
   "execution_count": 5,
   "id": "f65622f0",
   "metadata": {},
   "outputs": [
    {
     "data": {
      "text/plain": [
       "[1, [2, 3], ['a', 'b']]"
      ]
     },
     "execution_count": 5,
     "metadata": {},
     "output_type": "execute_result"
    }
   ],
   "source": [
    "lst_slice"
   ]
  },
  {
   "cell_type": "code",
   "execution_count": 6,
   "id": "6b8e9259",
   "metadata": {},
   "outputs": [
    {
     "name": "stdout",
     "output_type": "stream",
     "text": [
      "1\n",
      "2\n"
     ]
    }
   ],
   "source": [
    "for i in range(1,3):\n",
    "    print(i)"
   ]
  },
  {
   "cell_type": "code",
   "execution_count": 10,
   "id": "d5583f4f",
   "metadata": {},
   "outputs": [
    {
     "name": "stdout",
     "output_type": "stream",
     "text": [
      "[1, 2, 3],"
     ]
    }
   ],
   "source": [
    "i=[1,2,3]\n",
    "print(i,end=',')"
   ]
  },
  {
   "cell_type": "code",
   "execution_count": 22,
   "id": "919c22ad",
   "metadata": {},
   "outputs": [
    {
     "name": "stdout",
     "output_type": "stream",
     "text": [
      "1\n",
      "-2\n",
      "4\n",
      "-8\n",
      "16\n",
      "-32\n",
      "64\n",
      "-128\n"
     ]
    }
   ],
   "source": [
    "for i in range(0,8):\n",
    "    print((-2)**(i))\n",
    "    "
   ]
  },
  {
   "cell_type": "code",
   "execution_count": 21,
   "id": "9d90f5f5",
   "metadata": {},
   "outputs": [
    {
     "data": {
      "text/plain": [
       "0"
      ]
     },
     "execution_count": 21,
     "metadata": {},
     "output_type": "execute_result"
    }
   ],
   "source": [
    "0//2"
   ]
  },
  {
   "cell_type": "code",
   "execution_count": 24,
   "id": "9f6f0cdd",
   "metadata": {},
   "outputs": [
    {
     "name": "stdout",
     "output_type": "stream",
     "text": [
      "p\n",
      "y\n",
      "t\n",
      "h\n",
      "o\n",
      "n\n",
      "p\n",
      "y\n",
      "t\n",
      "h\n",
      "o\n",
      "n\n"
     ]
    }
   ],
   "source": [
    "my_str = \"python\"\n",
    "for num in range(2):\n",
    "    for i in my_str:\n",
    "        print(i)"
   ]
  },
  {
   "cell_type": "code",
   "execution_count": 26,
   "id": "f30eeaf9",
   "metadata": {},
   "outputs": [
    {
     "data": {
      "text/plain": [
       "['p', 'y', 't', 'h', 'o', 'n', 'p', 'y', 't', 'h', 'o', 'n']"
      ]
     },
     "execution_count": 26,
     "metadata": {},
     "output_type": "execute_result"
    }
   ],
   "source": [
    "[i for num in range(2) for i in my_str]"
   ]
  },
  {
   "cell_type": "code",
   "execution_count": 49,
   "id": "578e3ace",
   "metadata": {},
   "outputs": [],
   "source": [
    "def generator(x):\n",
    "    n=1\n",
    "    output='1'\n",
    "    m=0\n",
    "    while m<x:\n",
    "        m+=1\n",
    "        output*=n\n",
    "        yield output\n",
    "        n+=1\n",
    "        output='1'"
   ]
  },
  {
   "cell_type": "code",
   "execution_count": 40,
   "id": "18129ddd",
   "metadata": {},
   "outputs": [],
   "source": [
    "def generator2():\n",
    "    n=1\n",
    "    output='1'\n",
    "    for i in range(7):\n",
    "        output*=n\n",
    "        yield output\n",
    "        n+=1\n",
    "        output='1'"
   ]
  },
  {
   "cell_type": "code",
   "execution_count": 44,
   "id": "e6afc2b0",
   "metadata": {},
   "outputs": [],
   "source": [
    "num = generator()"
   ]
  },
  {
   "cell_type": "code",
   "execution_count": 42,
   "id": "cc545a6f",
   "metadata": {},
   "outputs": [
    {
     "data": {
      "text/plain": [
       "<generator object generator2 at 0x109b02740>"
      ]
     },
     "execution_count": 42,
     "metadata": {},
     "output_type": "execute_result"
    }
   ],
   "source": [
    "num"
   ]
  },
  {
   "cell_type": "code",
   "execution_count": 52,
   "id": "4df5a460",
   "metadata": {},
   "outputs": [
    {
     "data": {
      "text/plain": [
       "['1', '11', '111', '1111', '11111', '111111', '1111111']"
      ]
     },
     "execution_count": 52,
     "metadata": {},
     "output_type": "execute_result"
    }
   ],
   "source": [
    "[i for i in generator(7)]\n"
   ]
  },
  {
   "cell_type": "markdown",
   "id": "12156734",
   "metadata": {},
   "source": [
    "# Coding"
   ]
  },
  {
   "cell_type": "code",
   "execution_count": null,
   "id": "0032e41e",
   "metadata": {},
   "outputs": [],
   "source": [
    "def powers_of_two(n)"
   ]
  },
  {
   "cell_type": "code",
   "execution_count": null,
   "id": "227beb31",
   "metadata": {},
   "outputs": [],
   "source": []
  },
  {
   "cell_type": "code",
   "execution_count": null,
   "id": "8dd3fb6e",
   "metadata": {},
   "outputs": [],
   "source": []
  },
  {
   "cell_type": "code",
   "execution_count": null,
   "id": "ccd0350d",
   "metadata": {},
   "outputs": [],
   "source": []
  },
  {
   "cell_type": "code",
   "execution_count": null,
   "id": "ac69e53b",
   "metadata": {},
   "outputs": [],
   "source": []
  }
 ],
 "metadata": {
  "kernelspec": {
   "display_name": "Python 3 (ipykernel)",
   "language": "python",
   "name": "python3"
  },
  "language_info": {
   "codemirror_mode": {
    "name": "ipython",
    "version": 3
   },
   "file_extension": ".py",
   "mimetype": "text/x-python",
   "name": "python",
   "nbconvert_exporter": "python",
   "pygments_lexer": "ipython3",
   "version": "3.8.12"
  },
  "toc": {
   "base_numbering": 1,
   "nav_menu": {},
   "number_sections": true,
   "sideBar": true,
   "skip_h1_title": false,
   "title_cell": "Table of Contents",
   "title_sidebar": "Contents",
   "toc_cell": false,
   "toc_position": {},
   "toc_section_display": true,
   "toc_window_display": false
  }
 },
 "nbformat": 4,
 "nbformat_minor": 5
}
