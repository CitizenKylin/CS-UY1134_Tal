{
 "cells": [
  {
   "cell_type": "markdown",
   "id": "5eba9b01",
   "metadata": {},
   "source": [
    "# Q1"
   ]
  },
  {
   "cell_type": "code",
   "execution_count": 21,
   "id": "11f298e0",
   "metadata": {},
   "outputs": [],
   "source": [
    "def is_palindrome(s):\n",
    "    for i in range(len(s)):\n",
    "#         print(i)\n",
    "        if s[i] != s[-i-1]:\n",
    "#             print(s[i])\n",
    "#             print(s[-i-1])\n",
    "            return False\n",
    "    return True"
   ]
  },
  {
   "cell_type": "code",
   "execution_count": 24,
   "id": "fc12a789",
   "metadata": {},
   "outputs": [
    {
     "data": {
      "text/plain": [
       "True"
      ]
     },
     "execution_count": 24,
     "metadata": {},
     "output_type": "execute_result"
    }
   ],
   "source": [
    "a = 'tenetenetenet'\n",
    "is_palindrome(a)"
   ]
  },
  {
   "cell_type": "code",
   "execution_count": 25,
   "id": "e9029433",
   "metadata": {},
   "outputs": [
    {
     "data": {
      "text/plain": [
       "False"
      ]
     },
     "execution_count": 25,
     "metadata": {},
     "output_type": "execute_result"
    }
   ],
   "source": [
    "b = \"fuckyou\"\n",
    "is_palindrome(b)"
   ]
  },
  {
   "cell_type": "markdown",
   "id": "534d9d2a",
   "metadata": {},
   "source": [
    "# Q2"
   ]
  },
  {
   "cell_type": "code",
   "execution_count": 37,
   "id": "6051156a",
   "metadata": {},
   "outputs": [],
   "source": [
    "def reverse_vowels(input_str): \n",
    "    \"\"\"\n",
    "    : input_str type: string \n",
    "    : return type: string \n",
    "    \"\"\" \n",
    "    list_str = list(input_str) #list constructor guarantees Theta(n) \n",
    "    # Your code implementation goes here \n",
    "    vowels = [\"a\",\"e\",\"i\",\"o\",\"u\"]\n",
    "    low = 0\n",
    "    high = len(list_str)-1\n",
    "    while (low < high):\n",
    "        if list_str[low] in vowels:\n",
    "            if list_str[high] in vowels:\n",
    "                list_str[low],list_str[high] = list_str[high],list_str[low]\n",
    "        low += 1\n",
    "        high -= 1\n",
    "    return \"\".join(list_str)"
   ]
  },
  {
   "cell_type": "code",
   "execution_count": 38,
   "id": "0be0faa6",
   "metadata": {},
   "outputs": [
    {
     "data": {
      "text/plain": [
       "'tondan'"
      ]
     },
     "execution_count": 38,
     "metadata": {},
     "output_type": "execute_result"
    }
   ],
   "source": [
    "input_str=\"tandon\"\n",
    "reverse_vowels(input_str)"
   ]
  },
  {
   "cell_type": "markdown",
   "id": "8cea79df",
   "metadata": {},
   "source": [
    "# Q3"
   ]
  },
  {
   "cell_type": "code",
   "execution_count": 48,
   "id": "f5ff0be6",
   "metadata": {},
   "outputs": [],
   "source": [
    "# 3b\n",
    "def find_missing(lst):\n",
    "    left = 0\n",
    "    right = len(lst)-1\n",
    "    while left < right:\n",
    "        mid = (left+right)//2\n",
    "        print(mid)\n",
    "        if lst[mid] == mid and lst[mid+1] == mid+1:\n",
    "            return mid # 找到了number\n",
    "        elif lst[mid] == mid: # 在右边\n",
    "            left = mid + 1\n",
    "        elif lst[mid] == mid: # 在左边\n",
    "            right = mid"
   ]
  },
  {
   "cell_type": "code",
   "execution_count": 49,
   "id": "7eaa9006",
   "metadata": {},
   "outputs": [
    {
     "name": "stdout",
     "output_type": "stream",
     "text": [
      "4\n"
     ]
    },
    {
     "data": {
      "text/plain": [
       "4"
      ]
     },
     "execution_count": 49,
     "metadata": {},
     "output_type": "execute_result"
    }
   ],
   "source": [
    "lst1 = [0,1,2,3,4,5,7,8,9,10]\n",
    "find_missing(lst1)"
   ]
  },
  {
   "cell_type": "code",
   "execution_count": 47,
   "id": "396ec2d8",
   "metadata": {},
   "outputs": [
    {
     "data": {
      "text/plain": [
       "7"
      ]
     },
     "execution_count": 47,
     "metadata": {},
     "output_type": "execute_result"
    }
   ],
   "source": [
    "(5+9)//2"
   ]
  },
  {
   "cell_type": "code",
   "execution_count": null,
   "id": "c2f13ddb",
   "metadata": {},
   "outputs": [],
   "source": [
    "\n",
    "def binary_search(srt_lst,val):\n",
    "    left = 0\n",
    "    right = len(srt_lst)-1\n",
    "    ind = None\n",
    "    found = False # use boolean to break out while loop\n",
    "    while(found == False) and (left <= right):\n",
    "        mid = (left + right)//2\n",
    "        if srt_lst[mid] == val:\n",
    "            ind=mid\n",
    "            found == True\n",
    "        elif srt_lst[mid] > val:\n",
    "            right = mid-1\n",
    "        else: # srt_lst[mid] < val\n",
    "            left = mid + 1\n",
    "    return ind"
   ]
  },
  {
   "cell_type": "code",
   "execution_count": null,
   "id": "ff65cb69",
   "metadata": {},
   "outputs": [],
   "source": []
  },
  {
   "cell_type": "markdown",
   "id": "2c532b03",
   "metadata": {},
   "source": [
    "# Q4"
   ]
  },
  {
   "cell_type": "code",
   "execution_count": null,
   "id": "07b6c536",
   "metadata": {},
   "outputs": [],
   "source": [
    "def find_pivot(lst):\n",
    "    left = 0\n",
    "    right = len(lst)-1\n",
    "    \n",
    "    while():\n",
    "        mid = (left+right)//2\n",
    "        if lst[mid]<lst[mid+1]:#在左边\n",
    "            right = mid\n",
    "        elif lst[mid]>lst[mid+1]:#在右边\n",
    "            left = mid+1"
   ]
  },
  {
   "cell_type": "code",
   "execution_count": null,
   "id": "32ec4f4f",
   "metadata": {},
   "outputs": [],
   "source": []
  },
  {
   "cell_type": "code",
   "execution_count": null,
   "id": "2a7ffdd8",
   "metadata": {},
   "outputs": [],
   "source": []
  },
  {
   "cell_type": "code",
   "execution_count": null,
   "id": "1a715922",
   "metadata": {},
   "outputs": [],
   "source": []
  }
 ],
 "metadata": {
  "kernelspec": {
   "display_name": "Python 3 (ipykernel)",
   "language": "python",
   "name": "python3"
  },
  "language_info": {
   "codemirror_mode": {
    "name": "ipython",
    "version": 3
   },
   "file_extension": ".py",
   "mimetype": "text/x-python",
   "name": "python",
   "nbconvert_exporter": "python",
   "pygments_lexer": "ipython3",
   "version": "3.8.12"
  },
  "toc": {
   "base_numbering": 1,
   "nav_menu": {},
   "number_sections": true,
   "sideBar": true,
   "skip_h1_title": false,
   "title_cell": "Table of Contents",
   "title_sidebar": "Contents",
   "toc_cell": false,
   "toc_position": {},
   "toc_section_display": true,
   "toc_window_display": false
  }
 },
 "nbformat": 4,
 "nbformat_minor": 5
}
