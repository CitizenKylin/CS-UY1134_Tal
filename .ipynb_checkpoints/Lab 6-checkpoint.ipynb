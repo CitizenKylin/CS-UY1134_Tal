{
 "cells": [
  {
   "cell_type": "markdown",
   "id": "4838fd48",
   "metadata": {},
   "source": [
    "## Question 1"
   ]
  },
  {
   "cell_type": "code",
   "execution_count": 1,
   "id": "556f0ca7",
   "metadata": {},
   "outputs": [],
   "source": [
    "def sum_to(n):\n",
    "    # base case: 0 to 0\n",
    "    if n == 0:\n",
    "        return 0\n",
    "    else:\n",
    "        return (sum_to(n-1) + n)"
   ]
  },
  {
   "cell_type": "code",
   "execution_count": 2,
   "id": "d55ecd6d",
   "metadata": {},
   "outputs": [
    {
     "data": {
      "text/plain": [
       "15"
      ]
     },
     "execution_count": 2,
     "metadata": {},
     "output_type": "execute_result"
    }
   ],
   "source": [
    "sum_to(5)"
   ]
  },
  {
   "cell_type": "code",
   "execution_count": 3,
   "id": "115bd1da",
   "metadata": {},
   "outputs": [
    {
     "data": {
      "text/plain": [
       "15"
      ]
     },
     "execution_count": 3,
     "metadata": {},
     "output_type": "execute_result"
    }
   ],
   "source": [
    "0+1+2+3+4+5"
   ]
  },
  {
   "cell_type": "markdown",
   "id": "94830bdb",
   "metadata": {},
   "source": [
    "## Question 2"
   ]
  },
  {
   "cell_type": "code",
   "execution_count": 4,
   "id": "1bb57fa1",
   "metadata": {},
   "outputs": [],
   "source": [
    "def product_evens(n):\n",
    "    if n == 2:\n",
    "        return 2\n",
    "    else:\n",
    "        return (product_evens(n-2) * n)"
   ]
  },
  {
   "cell_type": "code",
   "execution_count": 5,
   "id": "78522cf2",
   "metadata": {},
   "outputs": [
    {
     "data": {
      "text/plain": [
       "384"
      ]
     },
     "execution_count": 5,
     "metadata": {},
     "output_type": "execute_result"
    }
   ],
   "source": [
    "product_evens(8)"
   ]
  },
  {
   "cell_type": "markdown",
   "id": "e14476cb",
   "metadata": {},
   "source": [
    "## Question 3"
   ]
  },
  {
   "cell_type": "code",
   "execution_count": 11,
   "id": "9f95c313",
   "metadata": {},
   "outputs": [],
   "source": [
    "# not linear\n",
    "def find_max_1(lst,low,high):\n",
    "    if low == high:\n",
    "        return lst[0]\n",
    "    \n",
    "#     if lst[low] > find_max_1(lst,low+1,high):\n",
    "#         return lst[low]\n",
    "#     return find_max_1(lst,low+1,high)\n",
    "    return(max(lst[low],find_max_1(lst,low+1,high))\n"
   ]
  },
  {
   "cell_type": "code",
   "execution_count": 16,
   "id": "9056ed81",
   "metadata": {},
   "outputs": [],
   "source": [
    "lst1=[13,9,16,3,4,2]"
   ]
  },
  {
   "cell_type": "code",
   "execution_count": 17,
   "id": "a00e5feb",
   "metadata": {},
   "outputs": [
    {
     "data": {
      "text/plain": [
       "16"
      ]
     },
     "execution_count": 17,
     "metadata": {},
     "output_type": "execute_result"
    }
   ],
   "source": [
    "find_max_1(lst1,2,5)"
   ]
  },
  {
   "cell_type": "code",
   "execution_count": 18,
   "id": "982a87bc",
   "metadata": {},
   "outputs": [],
   "source": [
    "# binary? linear?\n",
    "def find_max(lst,low,high):\n",
    "    if low == high:\n",
    "        return lst[low]\n",
    "    mid = (low + high)//2\n",
    "    return max(find_max(lst,low,mid),find_max(lst,mid+1,high))"
   ]
  },
  {
   "cell_type": "code",
   "execution_count": 19,
   "id": "23ab8de4",
   "metadata": {},
   "outputs": [
    {
     "data": {
      "text/plain": [
       "16"
      ]
     },
     "execution_count": 19,
     "metadata": {},
     "output_type": "execute_result"
    }
   ],
   "source": [
    "find_max(lst1,2,5)"
   ]
  },
  {
   "cell_type": "markdown",
   "id": "cccab4ac",
   "metadata": {},
   "source": [
    "## Question 4"
   ]
  },
  {
   "cell_type": "code",
   "execution_count": 35,
   "id": "dd0b5f57",
   "metadata": {},
   "outputs": [],
   "source": [
    "def is_palindrome(str,low,high):\n",
    "    if low+2 == high:\n",
    "        if str[low] == str[high]:\n",
    "            return True\n",
    "        else:\n",
    "            return False\n",
    "    else:\n",
    "        if str[low]!= str[high]:\n",
    "            return False\n",
    "        return is_palindrome(str,low+1,high-1)"
   ]
  },
  {
   "cell_type": "code",
   "execution_count": 37,
   "id": "38b0babc",
   "metadata": {},
   "outputs": [
    {
     "data": {
      "text/plain": [
       "False"
      ]
     },
     "execution_count": 37,
     "metadata": {},
     "output_type": "execute_result"
    }
   ],
   "source": [
    "is_palindrome('racecar',0,5)"
   ]
  },
  {
   "cell_type": "markdown",
   "id": "2a4abcf3",
   "metadata": {},
   "source": [
    "## Question 5"
   ]
  },
  {
   "cell_type": "code",
   "execution_count": 39,
   "id": "b41948cc",
   "metadata": {},
   "outputs": [],
   "source": [
    "def binary_search(lst,low,high,val):\n",
    "    if low == high:\n",
    "        if lst[low]== val:\n",
    "            return low\n",
    "        return None\n",
    "    else:\n",
    "        mid = (low+high)//2\n",
    "        if not(binary_search(lst,low,mid,val) == None):\n",
    "            return binary_search(lst,low,mid,val)\n",
    "        else:\n",
    "            return binary_search(lst,mid+1,high,val)"
   ]
  },
  {
   "cell_type": "code",
   "execution_count": 42,
   "id": "b7270128",
   "metadata": {},
   "outputs": [],
   "source": [
    "nums = [1,2,3,4,4,5,6,7,8]"
   ]
  },
  {
   "cell_type": "code",
   "execution_count": 43,
   "id": "0070f7ea",
   "metadata": {},
   "outputs": [
    {
     "data": {
      "text/plain": [
       "3"
      ]
     },
     "execution_count": 43,
     "metadata": {},
     "output_type": "execute_result"
    }
   ],
   "source": [
    "binary_search(nums,0,9,4)"
   ]
  },
  {
   "cell_type": "code",
   "execution_count": null,
   "id": "b2c4a433",
   "metadata": {},
   "outputs": [],
   "source": []
  },
  {
   "cell_type": "markdown",
   "id": "b02b8147",
   "metadata": {},
   "source": [
    "## Question 6"
   ]
  },
  {
   "cell_type": "code",
   "execution_count": null,
   "id": "c93bfd52",
   "metadata": {},
   "outputs": [],
   "source": [
    "def vc_count(word,low,high):\n",
    "    "
   ]
  },
  {
   "cell_type": "code",
   "execution_count": null,
   "id": "68b55d5b",
   "metadata": {},
   "outputs": [],
   "source": []
  },
  {
   "cell_type": "code",
   "execution_count": null,
   "id": "fc5e76a2",
   "metadata": {},
   "outputs": [],
   "source": []
  },
  {
   "cell_type": "code",
   "execution_count": null,
   "id": "a34a436d",
   "metadata": {},
   "outputs": [],
   "source": []
  },
  {
   "cell_type": "code",
   "execution_count": null,
   "id": "e492f2e5",
   "metadata": {},
   "outputs": [],
   "source": [
    "word = 'NYUTandonEngineering'"
   ]
  },
  {
   "cell_type": "code",
   "execution_count": null,
   "id": "4fa87cc7",
   "metadata": {},
   "outputs": [],
   "source": [
    "s"
   ]
  }
 ],
 "metadata": {
  "kernelspec": {
   "display_name": "Python 3 (ipykernel)",
   "language": "python",
   "name": "python3"
  },
  "language_info": {
   "codemirror_mode": {
    "name": "ipython",
    "version": 3
   },
   "file_extension": ".py",
   "mimetype": "text/x-python",
   "name": "python",
   "nbconvert_exporter": "python",
   "pygments_lexer": "ipython3",
   "version": "3.8.12"
  },
  "toc": {
   "base_numbering": 1,
   "nav_menu": {},
   "number_sections": true,
   "sideBar": true,
   "skip_h1_title": false,
   "title_cell": "Table of Contents",
   "title_sidebar": "Contents",
   "toc_cell": false,
   "toc_position": {},
   "toc_section_display": true,
   "toc_window_display": false
  }
 },
 "nbformat": 4,
 "nbformat_minor": 5
}
