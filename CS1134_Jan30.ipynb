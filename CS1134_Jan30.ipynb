{
 "cells": [
  {
   "cell_type": "markdown",
   "id": "ed1a2fdb",
   "metadata": {},
   "source": [
    "# mutate or creating new list"
   ]
  },
  {
   "cell_type": "code",
   "execution_count": 1,
   "id": "fe760a96",
   "metadata": {},
   "outputs": [],
   "source": [
    "list1 = [1,2,3]"
   ]
  },
  {
   "cell_type": "code",
   "execution_count": 3,
   "id": "a278c2a0",
   "metadata": {},
   "outputs": [],
   "source": [
    "list1.extend('abc')"
   ]
  },
  {
   "cell_type": "code",
   "execution_count": 9,
   "id": "6e488d40",
   "metadata": {},
   "outputs": [
    {
     "data": {
      "text/plain": [
       "[1, 2, 3, 'a', 'b', 'c', 4, 5, 6, 0, 0]"
      ]
     },
     "execution_count": 9,
     "metadata": {},
     "output_type": "execute_result"
    }
   ],
   "source": [
    "list1"
   ]
  },
  {
   "cell_type": "code",
   "execution_count": 5,
   "id": "f2080a0a",
   "metadata": {},
   "outputs": [],
   "source": [
    "list1.extend([4,5,6])"
   ]
  },
  {
   "cell_type": "code",
   "execution_count": 7,
   "id": "bbcd3311",
   "metadata": {},
   "outputs": [],
   "source": [
    "list2 =[0,0]"
   ]
  },
  {
   "cell_type": "code",
   "execution_count": 8,
   "id": "0bdbd734",
   "metadata": {},
   "outputs": [],
   "source": [
    "list1 += list2"
   ]
  },
  {
   "cell_type": "markdown",
   "id": "541a3088",
   "metadata": {},
   "source": [
    "lst1 += lst2 => not eq. lst1 = lst1+lst2 / eq. lst1.extend(lst2)"
   ]
  },
  {
   "cell_type": "code",
   "execution_count": 10,
   "id": "59390b9b",
   "metadata": {},
   "outputs": [],
   "source": [
    "lst1 = [1,2,3]\n",
    "lst2 = lst1\n",
    "lst3 = [1,2,3]"
   ]
  },
  {
   "cell_type": "code",
   "execution_count": 11,
   "id": "cbfc1000",
   "metadata": {},
   "outputs": [
    {
     "data": {
      "text/plain": [
       "4505220736"
      ]
     },
     "execution_count": 11,
     "metadata": {},
     "output_type": "execute_result"
    }
   ],
   "source": [
    "id(lst1)"
   ]
  },
  {
   "cell_type": "code",
   "execution_count": 12,
   "id": "6ad75093",
   "metadata": {},
   "outputs": [
    {
     "data": {
      "text/plain": [
       "4505220736"
      ]
     },
     "execution_count": 12,
     "metadata": {},
     "output_type": "execute_result"
    }
   ],
   "source": [
    "id(lst2)"
   ]
  },
  {
   "cell_type": "code",
   "execution_count": 13,
   "id": "5f71101f",
   "metadata": {},
   "outputs": [
    {
     "data": {
      "text/plain": [
       "4505197184"
      ]
     },
     "execution_count": 13,
     "metadata": {},
     "output_type": "execute_result"
    }
   ],
   "source": [
    "id(lst3)"
   ]
  },
  {
   "cell_type": "code",
   "execution_count": 14,
   "id": "e414b587",
   "metadata": {},
   "outputs": [
    {
     "name": "stdout",
     "output_type": "stream",
     "text": [
      "4505220736\n"
     ]
    },
    {
     "data": {
      "text/plain": [
       "4505220736"
      ]
     },
     "execution_count": 14,
     "metadata": {},
     "output_type": "execute_result"
    }
   ],
   "source": [
    "print(id(lst1))\n",
    "lst1.extend(lst2)\n",
    "id(lst1)\n",
    "# id for lst1 is the same"
   ]
  },
  {
   "cell_type": "code",
   "execution_count": 15,
   "id": "ad05dc1e",
   "metadata": {},
   "outputs": [
    {
     "data": {
      "text/plain": [
       "4505233280"
      ]
     },
     "execution_count": 15,
     "metadata": {},
     "output_type": "execute_result"
    }
   ],
   "source": [
    "print(id(lst1))\n",
    "lst1 = lst1 + lst2\n",
    "id(lst1)"
   ]
  },
  {
   "cell_type": "code",
   "execution_count": 16,
   "id": "86882079",
   "metadata": {},
   "outputs": [
    {
     "name": "stdout",
     "output_type": "stream",
     "text": [
      "4505233280\n"
     ]
    },
    {
     "data": {
      "text/plain": [
       "4505233280"
      ]
     },
     "execution_count": 16,
     "metadata": {},
     "output_type": "execute_result"
    }
   ],
   "source": [
    "print(id(lst1))\n",
    "lst1 += lst2\n",
    "id(lst1)"
   ]
  },
  {
   "cell_type": "markdown",
   "id": "85c5f56c",
   "metadata": {},
   "source": [
    "1. extend id 不变 2. = id 变 3.+= id 不变"
   ]
  },
  {
   "cell_type": "markdown",
   "id": "7ed7fe6e",
   "metadata": {},
   "source": [
    "# iterators"
   ]
  },
  {
   "cell_type": "markdown",
   "id": "eb0b84d4",
   "metadata": {},
   "source": [
    "for var in iterable-collection:  \n",
    "&nbsp;&nbsp;&nbsp;&nbsp; xxxxxxxxx  \n",
    "&nbsp;&nbsp;&nbsp;&nbsp; xxxxxxxxx  \n",
    "\n",
    "- Iterable-collection can be: list, string, dictionary, sets, tuples, range()\n",
    "- Iterable-collection: an object that produces an **iterator** via the syntax iter(iterable-collection)"
   ]
  },
  {
   "cell_type": "code",
   "execution_count": 17,
   "id": "b729fea9",
   "metadata": {},
   "outputs": [
    {
     "data": {
      "text/plain": [
       "<list_iterator at 0x10c7dbd00>"
      ]
     },
     "execution_count": 17,
     "metadata": {},
     "output_type": "execute_result"
    }
   ],
   "source": [
    "iter(lst1)"
   ]
  },
  {
   "cell_type": "markdown",
   "id": "b6d15db8",
   "metadata": {},
   "source": [
    "iterator: an object that exposes a series of values, by making subsequent calls to **next(iterator)**"
   ]
  },
  {
   "cell_type": "code",
   "execution_count": 19,
   "id": "7ba2c7f8",
   "metadata": {},
   "outputs": [],
   "source": [
    "lst_iter = iter(lst1)"
   ]
  },
  {
   "cell_type": "code",
   "execution_count": 26,
   "id": "2e3dc1bf",
   "metadata": {},
   "outputs": [
    {
     "data": {
      "text/plain": [
       "1"
      ]
     },
     "execution_count": 26,
     "metadata": {},
     "output_type": "execute_result"
    }
   ],
   "source": [
    "next(lst_iter)\n",
    "# Error: StopIteration"
   ]
  },
  {
   "cell_type": "markdown",
   "id": "1dd98bee",
   "metadata": {},
   "source": [
    "for var in iterable-collection:  \n",
    "&nbsp;&nbsp;&nbsp;&nbsp; xxxxxxxxx  \n",
    "&nbsp;&nbsp;&nbsp;&nbsp; xxxxxxxxx  \n",
    "解释 for loop: call next and assignining the iterator and exectute the code"
   ]
  },
  {
   "cell_type": "code",
   "execution_count": 28,
   "id": "69af6a12",
   "metadata": {},
   "outputs": [
    {
     "name": "stdout",
     "output_type": "stream",
     "text": [
      "a\n",
      "b\n",
      "c\n"
     ]
    }
   ],
   "source": [
    "s = 'abc'\n",
    "for i in s:\n",
    "    print(i)"
   ]
  },
  {
   "cell_type": "markdown",
   "id": "6447dea7",
   "metadata": {},
   "source": [
    "👇🌟🌟🌟"
   ]
  },
  {
   "cell_type": "code",
   "execution_count": 30,
   "id": "ae7c311f",
   "metadata": {},
   "outputs": [
    {
     "name": "stdout",
     "output_type": "stream",
     "text": [
      "a\n",
      "b\n",
      "c\n"
     ]
    }
   ],
   "source": [
    "# 解释for loop原理\n",
    "s = 'abc'\n",
    "s_iter = iter(s)\n",
    "end = False\n",
    "while(end==False):\n",
    "    try:\n",
    "        item = next(s_iter)\n",
    "        print(item)\n",
    "    except StopIteration:\n",
    "        end = True # boolean control"
   ]
  },
  {
   "cell_type": "markdown",
   "id": "d83f77f5",
   "metadata": {},
   "source": [
    "# Range(...) function"
   ]
  },
  {
   "cell_type": "code",
   "execution_count": 1,
   "id": "e75c7f55",
   "metadata": {
    "scrolled": true
   },
   "outputs": [
    {
     "ename": "TypeError",
     "evalue": "'float' object cannot be interpreted as an integer",
     "output_type": "error",
     "traceback": [
      "\u001b[0;31m---------------------------------------------------------------------------\u001b[0m",
      "\u001b[0;31mTypeError\u001b[0m                                 Traceback (most recent call last)",
      "\u001b[0;32m/var/folders/rd/q2lzfdss4b167026m7l6h8pm0000gn/T/ipykernel_12161/604967752.py\u001b[0m in \u001b[0;36m<module>\u001b[0;34m\u001b[0m\n\u001b[0;32m----> 1\u001b[0;31m \u001b[0;32mfor\u001b[0m \u001b[0melem\u001b[0m \u001b[0;32min\u001b[0m \u001b[0mrange\u001b[0m\u001b[0;34m(\u001b[0m\u001b[0;36m3\u001b[0m\u001b[0;34m,\u001b[0m\u001b[0;36m10\u001b[0m\u001b[0;34m,\u001b[0m\u001b[0;36m0.5\u001b[0m\u001b[0;34m)\u001b[0m\u001b[0;34m:\u001b[0m\u001b[0;34m\u001b[0m\u001b[0;34m\u001b[0m\u001b[0m\n\u001b[0m\u001b[1;32m      2\u001b[0m     \u001b[0mprint\u001b[0m\u001b[0;34m(\u001b[0m\u001b[0melem\u001b[0m\u001b[0;34m)\u001b[0m \u001b[0;31m# notebook有毛病，可以在vscode上试float\u001b[0m\u001b[0;34m\u001b[0m\u001b[0;34m\u001b[0m\u001b[0m\n",
      "\u001b[0;31mTypeError\u001b[0m: 'float' object cannot be interpreted as an integer"
     ]
    }
   ],
   "source": [
    "for elem in range(3,10,0.5):\n",
    "    print(elem) # notebook有毛病，可以在vscode上试float"
   ]
  },
  {
   "cell_type": "code",
   "execution_count": 2,
   "id": "e6376d5b",
   "metadata": {},
   "outputs": [],
   "source": [
    "# 解释range(..) function\n",
    "def my_range(start,stop,step):\n",
    "    res = []\n",
    "    curr = start\n",
    "    while(curr<stop):\n",
    "        res.append(curr)\n",
    "        curr+=step\n",
    "\n",
    "    return res"
   ]
  },
  {
   "cell_type": "code",
   "execution_count": 3,
   "id": "e6922f18",
   "metadata": {},
   "outputs": [
    {
     "name": "stdout",
     "output_type": "stream",
     "text": [
      "2\n",
      "4\n",
      "6\n",
      "8\n"
     ]
    }
   ],
   "source": [
    "for elem in my_range(2,10,2):\n",
    "    print(elem)"
   ]
  },
  {
   "cell_type": "markdown",
   "id": "1b3104f3",
   "metadata": {},
   "source": [
    "In the implementation of my_range, the entire sequence: \n",
    "- Was completely calculated before the first iteration ????\n",
    "- Is stored (as a list), all at once in the memory"
   ]
  },
  {
   "cell_type": "markdown",
   "id": "3e35151b",
   "metadata": {},
   "source": [
    "上面的downside:iter(my_range(2,10,2))  \n",
    "              |      |____1_______| |  \n",
    "              |_________2___________|  "
   ]
  },
  {
   "cell_type": "markdown",
   "id": "556b26c0",
   "metadata": {},
   "source": [
    "## Generators"
   ]
  },
  {
   "cell_type": "code",
   "execution_count": 1,
   "id": "e8cd74e3",
   "metadata": {},
   "outputs": [],
   "source": [
    "def f():\n",
    "    x=1\n",
    "    yield x\n",
    "    x += 1\n",
    "    yield x\n",
    "    x += 1\n",
    "    yield x"
   ]
  },
  {
   "cell_type": "code",
   "execution_count": 2,
   "id": "f6a0b9b0",
   "metadata": {},
   "outputs": [
    {
     "data": {
      "text/plain": [
       "<generator object f at 0x10dd7e820>"
      ]
     },
     "execution_count": 2,
     "metadata": {},
     "output_type": "execute_result"
    }
   ],
   "source": [
    "g = f()\n",
    "g"
   ]
  },
  {
   "cell_type": "code",
   "execution_count": 4,
   "id": "7b98c0ad",
   "metadata": {},
   "outputs": [
    {
     "data": {
      "text/plain": [
       "2"
      ]
     },
     "execution_count": 4,
     "metadata": {},
     "output_type": "execute_result"
    }
   ],
   "source": [
    "next(g)"
   ]
  },
  {
   "cell_type": "code",
   "execution_count": 12,
   "id": "496f3e1b",
   "metadata": {},
   "outputs": [
    {
     "data": {
      "text/plain": [
       "<generator object f at 0x10cc88f90>"
      ]
     },
     "execution_count": 12,
     "metadata": {},
     "output_type": "execute_result"
    }
   ],
   "source": [
    "g"
   ]
  },
  {
   "cell_type": "markdown",
   "id": "19081059",
   "metadata": {},
   "source": [
    "🌟🌟🌟  \n",
    "Generator is an iterator, that allows to break the execution:  \n",
    "- When yield is reached, a snapshot of the active data frame \n",
    "is taken and stored (together with the position from where \n",
    "the execution should later resume)  \n",
    "- When next is called, the data that was saved is restored, \n",
    "and the execution resumes from where it left off"
   ]
  },
  {
   "cell_type": "markdown",
   "id": "5e2fbc06",
   "metadata": {},
   "source": [
    "## Use generator to interpret range(..) function"
   ]
  },
  {
   "cell_type": "code",
   "execution_count": 13,
   "id": "8a4e746b",
   "metadata": {},
   "outputs": [],
   "source": [
    "def my_range_g(start,stop,step):\n",
    "    curr = start\n",
    "    while(curr < stop):\n",
    "        yield curr\n",
    "        curr += step"
   ]
  },
  {
   "cell_type": "markdown",
   "id": "309026d1",
   "metadata": {},
   "source": [
    "when using generators, we perform **lazy evaluation**, that produces an implicit iterable sequence. This sequence is used: \n",
    "- Holding execution and exposing an element, only when/if \n",
    "its needed\n",
    "- Without constructing a data structure that stores the \n",
    "elements all at once in the memory"
   ]
  },
  {
   "cell_type": "code",
   "execution_count": 14,
   "id": "8c5ad78a",
   "metadata": {},
   "outputs": [],
   "source": [
    "def positive_int():\n",
    "    curr = 1\n",
    "    while(True):\n",
    "        yield curr\n",
    "        curr += 1"
   ]
  },
  {
   "cell_type": "code",
   "execution_count": 18,
   "id": "f2097534",
   "metadata": {},
   "outputs": [],
   "source": [
    "ints = positive_int() # not all the elements been exposed"
   ]
  },
  {
   "cell_type": "code",
   "execution_count": 36,
   "id": "7ca3daed",
   "metadata": {},
   "outputs": [
    {
     "data": {
      "text/plain": [
       "10"
      ]
     },
     "execution_count": 36,
     "metadata": {},
     "output_type": "execute_result"
    }
   ],
   "source": [
    "next(ints)"
   ]
  },
  {
   "cell_type": "code",
   "execution_count": 33,
   "id": "d4845f07",
   "metadata": {},
   "outputs": [],
   "source": [
    "b = ints"
   ]
  },
  {
   "cell_type": "code",
   "execution_count": 35,
   "id": "310618ef",
   "metadata": {},
   "outputs": [
    {
     "data": {
      "text/plain": [
       "9"
      ]
     },
     "execution_count": 35,
     "metadata": {},
     "output_type": "execute_result"
    }
   ],
   "source": [
    "next(b)"
   ]
  },
  {
   "cell_type": "code",
   "execution_count": null,
   "id": "47c4ad6e",
   "metadata": {},
   "outputs": [],
   "source": []
  },
  {
   "cell_type": "code",
   "execution_count": null,
   "id": "e63e6b9c",
   "metadata": {},
   "outputs": [],
   "source": []
  }
 ],
 "metadata": {
  "kernelspec": {
   "display_name": "Python 3 (ipykernel)",
   "language": "python",
   "name": "python3"
  },
  "language_info": {
   "codemirror_mode": {
    "name": "ipython",
    "version": 3
   },
   "file_extension": ".py",
   "mimetype": "text/x-python",
   "name": "python",
   "nbconvert_exporter": "python",
   "pygments_lexer": "ipython3",
   "version": "3.8.12"
  },
  "toc": {
   "base_numbering": 1,
   "nav_menu": {},
   "number_sections": true,
   "sideBar": true,
   "skip_h1_title": false,
   "title_cell": "Table of Contents",
   "title_sidebar": "Contents",
   "toc_cell": false,
   "toc_position": {},
   "toc_section_display": true,
   "toc_window_display": false
  }
 },
 "nbformat": 4,
 "nbformat_minor": 5
}
