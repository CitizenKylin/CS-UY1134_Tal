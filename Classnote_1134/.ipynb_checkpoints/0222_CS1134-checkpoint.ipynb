{
 "cells": [
  {
   "cell_type": "markdown",
   "id": "e3aece9d",
   "metadata": {},
   "source": []
  },
  {
   "cell_type": "code",
   "execution_count": 8,
   "id": "e2322e55",
   "metadata": {},
   "outputs": [],
   "source": [
    "import ctypes\n",
    "def make_array(n):\n",
    "    return (n* ctypes.py_object)()\n",
    "\n",
    "class ArrayList:\n",
    "    def __init__(self):\n",
    "        self.data_arr = make_array(1)\n",
    "        self.capacity = 1\n",
    "        self.n = 0\n",
    "    def __len__(self):\n",
    "        return self.n\n",
    "\n",
    "    def append(self,val):\n",
    "        if (self.n == self.capacity):\n",
    "            self.resize(2*self.capacity)\n",
    "            # need reduce size / linear space\n",
    "        self.data_arr[self.n] = val\n",
    "        self.n += 1\n",
    "### new        \n",
    "    def resize(self,new_size):\n",
    "        new_arr = make_array(new_size)\n",
    "        for i in range(self.n):\n",
    "            new_arr[i] = self.data_arr[i]\n",
    "        self.data_arr = new_arr\n",
    "        self.capacity = new_size\n",
    "        \n",
    "    def __getitem__(self, ind):\n",
    "        if not(0 <= ind <= self.n -1):\n",
    "            raise IndexError(\"Invalid Index\")\n",
    "        return self.data_arr[ind]\n",
    "    \n",
    "    def __setitem__(self, ind, value):\n",
    "        if not(0 <= ind <= self.n -1):\n",
    "            raise IndexError(\"Invalid Index\")\n",
    "        self.data_arr[ind] = value\n",
    "\n",
    "# iter(),next()?\n",
    "    def __iter__(self):\n",
    "        for i in range(self.n):\n",
    "            yield self.data_arr[i] # self[i]\n",
    "            \n",
    "    def extend(self,iter_collection):\n",
    "        for elem in iter_collection:\n",
    "            self.append(elem)        "
   ]
  },
  {
   "cell_type": "code",
   "execution_count": 9,
   "id": "b9105fdc",
   "metadata": {},
   "outputs": [
    {
     "data": {
      "text/plain": [
       "<__main__.ArrayList at 0x10cda89a0>"
      ]
     },
     "execution_count": 9,
     "metadata": {},
     "output_type": "execute_result"
    }
   ],
   "source": [
    "lst = ArrayList()\n",
    "for i in range(1,6):\n",
    "    lst.append(10*i)\n",
    "lst"
   ]
  },
  {
   "cell_type": "code",
   "execution_count": 7,
   "id": "66dae7de",
   "metadata": {},
   "outputs": [
    {
     "data": {
      "text/plain": [
       "5"
      ]
     },
     "execution_count": 7,
     "metadata": {},
     "output_type": "execute_result"
    }
   ],
   "source": [
    "lst[6] # should be out of range, from the user standpoint.. NULL"
   ]
  },
  {
   "cell_type": "code",
   "execution_count": 12,
   "id": "8ba601ca",
   "metadata": {},
   "outputs": [
    {
     "data": {
      "text/plain": [
       "50"
      ]
     },
     "execution_count": 12,
     "metadata": {},
     "output_type": "execute_result"
    }
   ],
   "source": [
    "lst[4]"
   ]
  },
  {
   "cell_type": "code",
   "execution_count": 13,
   "id": "d67d7907",
   "metadata": {},
   "outputs": [],
   "source": [
    "lst[3]=400"
   ]
  },
  {
   "cell_type": "code",
   "execution_count": 15,
   "id": "960b0fdb",
   "metadata": {},
   "outputs": [
    {
     "name": "stdout",
     "output_type": "stream",
     "text": [
      "10\n",
      "20\n",
      "30\n",
      "400\n",
      "50\n"
     ]
    }
   ],
   "source": [
    "# should be not able to iterate, cuz we didn't explain how to iterate\n",
    "for i in lst: \n",
    "    print(i)"
   ]
  },
  {
   "cell_type": "code",
   "execution_count": 16,
   "id": "d18568a5",
   "metadata": {},
   "outputs": [],
   "source": [
    "lst2=[1,2,3,4,5]\n",
    "lst2.extend(\"anc\")"
   ]
  },
  {
   "cell_type": "code",
   "execution_count": 17,
   "id": "73f03121",
   "metadata": {},
   "outputs": [
    {
     "data": {
      "text/plain": [
       "[1, 2, 3, 4, 5, 'a', 'n', 'c']"
      ]
     },
     "execution_count": 17,
     "metadata": {},
     "output_type": "execute_result"
    }
   ],
   "source": [
    "lst2"
   ]
  },
  {
   "cell_type": "code",
   "execution_count": null,
   "id": "e0537621",
   "metadata": {},
   "outputs": [],
   "source": []
  },
  {
   "cell_type": "code",
   "execution_count": null,
   "id": "436bee97",
   "metadata": {},
   "outputs": [],
   "source": []
  },
  {
   "cell_type": "code",
   "execution_count": null,
   "id": "2f3feeaf",
   "metadata": {},
   "outputs": [],
   "source": []
  },
  {
   "cell_type": "code",
   "execution_count": null,
   "id": "fc4775d8",
   "metadata": {},
   "outputs": [],
   "source": []
  },
  {
   "cell_type": "code",
   "execution_count": null,
   "id": "9c091cb5",
   "metadata": {},
   "outputs": [],
   "source": []
  },
  {
   "cell_type": "code",
   "execution_count": null,
   "id": "c91a62b2",
   "metadata": {},
   "outputs": [],
   "source": []
  }
 ],
 "metadata": {
  "kernelspec": {
   "display_name": "Python 3 (ipykernel)",
   "language": "python",
   "name": "python3"
  },
  "language_info": {
   "codemirror_mode": {
    "name": "ipython",
    "version": 3
   },
   "file_extension": ".py",
   "mimetype": "text/x-python",
   "name": "python",
   "nbconvert_exporter": "python",
   "pygments_lexer": "ipython3",
   "version": "3.8.12"
  },
  "toc": {
   "base_numbering": 1,
   "nav_menu": {},
   "number_sections": true,
   "sideBar": true,
   "skip_h1_title": false,
   "title_cell": "Table of Contents",
   "title_sidebar": "Contents",
   "toc_cell": false,
   "toc_position": {},
   "toc_section_display": true,
   "toc_window_display": false
  }
 },
 "nbformat": 4,
 "nbformat_minor": 5
}
