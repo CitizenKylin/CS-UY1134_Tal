{
 "cells": [
  {
   "cell_type": "code",
   "execution_count": 1,
   "id": "147702cb",
   "metadata": {},
   "outputs": [
    {
     "data": {
      "text/plain": [
       "7263166218187223801"
      ]
     },
     "execution_count": 1,
     "metadata": {},
     "output_type": "execute_result"
    }
   ],
   "source": [
    "hash(\"diuk\")"
   ]
  },
  {
   "cell_type": "code",
   "execution_count": 9,
   "id": "8373c020",
   "metadata": {},
   "outputs": [
    {
     "data": {
      "text/plain": [
       "70"
      ]
     },
     "execution_count": 9,
     "metadata": {},
     "output_type": "execute_result"
    }
   ],
   "source": [
    "hash(70)"
   ]
  },
  {
   "cell_type": "code",
   "execution_count": null,
   "id": "c8ff6d35",
   "metadata": {},
   "outputs": [],
   "source": [
    "class HashTableMap:\n",
    "    def __init__(self):\n",
    "        pass\n",
    "    def __len__(self):\n",
    "        pass\n",
    "    def is_empty(self):\n",
    "        pass\n",
    "    def __getitem__(self):\n",
    "        pass\n",
    "    def __setitem__(self):\n",
    "        pass\n",
    "    def __delitem__(self,key):\n",
    "        pass\n",
    "    "
   ]
  },
  {
   "cell_type": "code",
   "execution_count": 1,
   "id": "9107a241",
   "metadata": {},
   "outputs": [],
   "source": [
    "class LinearFunction:\n",
    "    def __init__(self,a,b):\n",
    "        self.a = a\n",
    "        self.b = b\n",
    "    def __call__(self,x):\n",
    "        return self.a*x + self.b"
   ]
  },
  {
   "cell_type": "code",
   "execution_count": 2,
   "id": "57003b72",
   "metadata": {},
   "outputs": [],
   "source": [
    "f1 = LinearFunction(3,5)\n",
    "f2 = LinearFunction(2,-8)\n"
   ]
  },
  {
   "cell_type": "code",
   "execution_count": 3,
   "id": "6c0b955c",
   "metadata": {},
   "outputs": [
    {
     "data": {
      "text/plain": [
       "11"
      ]
     },
     "execution_count": 3,
     "metadata": {},
     "output_type": "execute_result"
    }
   ],
   "source": [
    "f1(2)"
   ]
  },
  {
   "cell_type": "code",
   "execution_count": null,
   "id": "9ba5d4bf",
   "metadata": {},
   "outputs": [],
   "source": [
    "from lists import ArrayList\n",
    "class UnsortedArrayMap:\n",
    "    class Item:\n",
    "        def __init__(self, key, value = None):\n",
    "            self.key = key\n",
    "            self.value = value\n",
    "    def __init__(self):\n",
    "        self.table = ArrayList()\n",
    "        \n",
    "    def __len__(self):\n",
    "        return (len(self.table))\n",
    "    def is_empty(self):\n",
    "        return (len(self) == 0)\n",
    "    \n",
    "    def __getitem__(self,key):\n",
    "        for item in self.table:\n",
    "            if item.key == key:\n",
    "                return item.value\n",
    "        raise KeyError(\"Key Error:\"+str(key))\n",
    "        \n",
    "    def __setitem__(self,key):\n",
    "        for item in self.table:\n",
    "            if item.key == key:\n",
    "                item.value=value\n",
    "                return\n",
    "        new_item=UnsortedArrayMap.Item(key,value)\n",
    "        self.table.append(new_item)\n",
    "    def __delitem__(self,key):\n",
    "        for i in range(len(self.table)):\n",
    "            curr_item = self.table[i]\n",
    "            if (curr_item.key == key):\n",
    "                self.table.pop(i)\n",
    "                return\n",
    "        raise KeyError(\"Key Error\"+str(key))\n",
    "        \n",
    "    def __iter__(self):\n",
    "        for item in self.table:\n",
    "            yield item.key\n",
    "\n",
    "class ChainingHashTableMap:\n",
    "    class MADHashFunction:\n",
    "            def __init__(self,N,p=40306835204840513073):\n",
    "                self.N = N\n",
    "                self.p = p\n",
    "                self.a = random.randint(1,self.p-1)\n",
    "                self.b = random.randint(0,self.p-1)\n",
    "\n",
    "            def __call__(self,key):\n",
    "                return ((((self.a * hash(key)) + self.b)%self.p)%self.N)\n",
    "            \n",
    "    def __init__(self, N=64):\n",
    "        self.N = N\n",
    "        self.table = make_array(self.N)\n",
    "        for i in range(self.N):\n",
    "            self.table[i]=UnsortedArrayMap()\n",
    "        self.n = 0\n",
    "        self.hash_function = ChainingHashTableMap.MADHashFunction(N)\n",
    "        \n",
    "    def __len__(self):\n",
    "        return self.n\n",
    "    \n",
    "    def is_empty(self):\n",
    "        return (len(self)==0)\n",
    "    \n",
    "    def __getitem__(self,key):\n",
    "        i = self.hash_function(key)\n",
    "        curr_bucket = self.table[i]\n",
    "        return curr_bucket[key]\n",
    "    def __setitem__(self,key,value):\n",
    "        i = self.hash_function(key)\n",
    "        curr_bucket = self.table[i]\n",
    "        old_size = len(curr_bucket)\n",
    "        curr_bucket[key] = value\n",
    "        new_size = len(curr_bucket)\n",
    "        if (new_size > old_size):\n",
    "            self.n += 1\n",
    "        if (self.n > self.N):\n",
    "            self.rehash(2*self.N)\n",
    "            \n",
    "    def __delitem__(self,key):\n",
    "        i = self.hash_function(key)\n",
    "        curr_bucket = self.table[i]\n",
    "        del curr_bucket[key]\n",
    "        self.n -= 1\n",
    "        if (self.n < self.N//4):\n",
    "            self.rehash(self.N//2)\n",
    "            \n",
    "    def __contains__(self,key):\n",
    "        try:\n",
    "            val = self[key]\n",
    "            return True\n",
    "        except KeyError:\n",
    "            return False\n",
    "\n",
    "    def __iter__(self):\n",
    "        for curr_bucket in self.table:\n",
    "            for key in curr_bucket:\n",
    "                yield key\n",
    "\n",
    "    def rehash(self,new_size):\n",
    "        old_data=[(key,self[key]) for key in self]\n",
    "        self.__init__(new_size)\n",
    "        for (key,val) in old_data:\n",
    "            self[key]=val"
   ]
  },
  {
   "cell_type": "code",
   "execution_count": 18,
   "id": "ae6a79ce",
   "metadata": {},
   "outputs": [
    {
     "data": {
      "text/plain": [
       "10"
      ]
     },
     "execution_count": 18,
     "metadata": {},
     "output_type": "execute_result"
    }
   ],
   "source": []
  },
  {
   "cell_type": "code",
   "execution_count": null,
   "id": "0e22d76a",
   "metadata": {},
   "outputs": [],
   "source": []
  },
  {
   "cell_type": "code",
   "execution_count": null,
   "id": "354f63d7",
   "metadata": {},
   "outputs": [],
   "source": []
  },
  {
   "cell_type": "code",
   "execution_count": null,
   "id": "1d0a7a7a",
   "metadata": {},
   "outputs": [],
   "source": []
  }
 ],
 "metadata": {
  "kernelspec": {
   "display_name": "Python 3 (ipykernel)",
   "language": "python",
   "name": "python3"
  },
  "language_info": {
   "codemirror_mode": {
    "name": "ipython",
    "version": 3
   },
   "file_extension": ".py",
   "mimetype": "text/x-python",
   "name": "python",
   "nbconvert_exporter": "python",
   "pygments_lexer": "ipython3",
   "version": "3.8.12"
  },
  "toc": {
   "base_numbering": 1,
   "nav_menu": {},
   "number_sections": true,
   "sideBar": true,
   "skip_h1_title": false,
   "title_cell": "Table of Contents",
   "title_sidebar": "Contents",
   "toc_cell": false,
   "toc_position": {},
   "toc_section_display": true,
   "toc_window_display": false
  }
 },
 "nbformat": 4,
 "nbformat_minor": 5
}
