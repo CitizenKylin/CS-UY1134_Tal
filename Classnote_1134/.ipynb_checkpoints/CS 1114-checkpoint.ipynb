{
 "cells": [
  {
   "cell_type": "markdown",
   "id": "ab5cb16f",
   "metadata": {},
   "source": [
    "# Jan 23"
   ]
  },
  {
   "cell_type": "markdown",
   "id": "563b50b1",
   "metadata": {},
   "source": [
    "推荐？idle"
   ]
  },
  {
   "cell_type": "code",
   "execution_count": 12,
   "id": "6e76cfe9",
   "metadata": {},
   "outputs": [
    {
     "name": "stdout",
     "output_type": "stream",
     "text": [
      "Hello World\n"
     ]
    }
   ],
   "source": [
    "print('Hello World')"
   ]
  },
  {
   "cell_type": "code",
   "execution_count": 1,
   "id": "2025735a",
   "metadata": {},
   "outputs": [],
   "source": [
    "import copy"
   ]
  },
  {
   "cell_type": "code",
   "execution_count": 2,
   "id": "03e30ee1",
   "metadata": {},
   "outputs": [],
   "source": [
    "a = (1,2,3,5,8,5,)"
   ]
  },
  {
   "cell_type": "code",
   "execution_count": 4,
   "id": "a7cfa13f",
   "metadata": {},
   "outputs": [],
   "source": [
    "s = copy.deepcopy(a)\n",
    "z = copy.copy(a)"
   ]
  },
  {
   "cell_type": "code",
   "execution_count": null,
   "id": "db0e246a",
   "metadata": {},
   "outputs": [],
   "source": [
    "try:\n",
    "    body\n",
    "except:\n",
    "    "
   ]
  },
  {
   "cell_type": "code",
   "execution_count": 7,
   "id": "698fa6d7",
   "metadata": {},
   "outputs": [
    {
     "data": {
      "text/plain": [
       "[1]"
      ]
     },
     "execution_count": 7,
     "metadata": {},
     "output_type": "execute_result"
    }
   ],
   "source": [
    "list(range(1,2,3))"
   ]
  },
  {
   "cell_type": "code",
   "execution_count": 8,
   "id": "d90b9cf8",
   "metadata": {},
   "outputs": [],
   "source": [
    "list = ['0','0','0']\n"
   ]
  },
  {
   "cell_type": "code",
   "execution_count": 9,
   "id": "f028b971",
   "metadata": {},
   "outputs": [],
   "source": [
    "a = str(list)"
   ]
  },
  {
   "cell_type": "code",
   "execution_count": 10,
   "id": "a558bfa7",
   "metadata": {},
   "outputs": [
    {
     "data": {
      "text/plain": [
       "\"['0', '0', '0']\""
      ]
     },
     "execution_count": 10,
     "metadata": {},
     "output_type": "execute_result"
    }
   ],
   "source": [
    "a"
   ]
  },
  {
   "cell_type": "markdown",
   "id": "192c4f47",
   "metadata": {},
   "source": [
    "# Jan 25"
   ]
  },
  {
   "cell_type": "code",
   "execution_count": 1,
   "id": "753740f9",
   "metadata": {},
   "outputs": [],
   "source": [
    "lst = [1]"
   ]
  },
  {
   "cell_type": "code",
   "execution_count": 3,
   "id": "8c85dd75",
   "metadata": {},
   "outputs": [
    {
     "data": {
      "text/plain": [
       "0"
      ]
     },
     "execution_count": 3,
     "metadata": {},
     "output_type": "execute_result"
    }
   ],
   "source": [
    "len(lst[1:])"
   ]
  },
  {
   "cell_type": "code",
   "execution_count": null,
   "id": "026a11a6",
   "metadata": {},
   "outputs": [],
   "source": []
  },
  {
   "cell_type": "code",
   "execution_count": null,
   "id": "d5274e0f",
   "metadata": {},
   "outputs": [],
   "source": []
  },
  {
   "cell_type": "code",
   "execution_count": null,
   "id": "4d236681",
   "metadata": {},
   "outputs": [],
   "source": []
  },
  {
   "cell_type": "code",
   "execution_count": null,
   "id": "fccf38f3",
   "metadata": {},
   "outputs": [],
   "source": []
  },
  {
   "cell_type": "code",
   "execution_count": null,
   "id": "bf98eb5a",
   "metadata": {},
   "outputs": [],
   "source": []
  },
  {
   "cell_type": "code",
   "execution_count": null,
   "id": "ab9492ca",
   "metadata": {},
   "outputs": [],
   "source": []
  },
  {
   "cell_type": "code",
   "execution_count": null,
   "id": "04a073b8",
   "metadata": {},
   "outputs": [],
   "source": []
  },
  {
   "cell_type": "code",
   "execution_count": null,
   "id": "9d5d3eb2",
   "metadata": {},
   "outputs": [],
   "source": []
  },
  {
   "cell_type": "code",
   "execution_count": null,
   "id": "261d8cf5",
   "metadata": {},
   "outputs": [],
   "source": []
  },
  {
   "cell_type": "code",
   "execution_count": null,
   "id": "881cb1a3",
   "metadata": {},
   "outputs": [],
   "source": []
  },
  {
   "cell_type": "code",
   "execution_count": null,
   "id": "fa6af217",
   "metadata": {},
   "outputs": [],
   "source": []
  }
 ],
 "metadata": {
  "kernelspec": {
   "display_name": "Python 3 (ipykernel)",
   "language": "python",
   "name": "python3"
  },
  "language_info": {
   "codemirror_mode": {
    "name": "ipython",
    "version": 3
   },
   "file_extension": ".py",
   "mimetype": "text/x-python",
   "name": "python",
   "nbconvert_exporter": "python",
   "pygments_lexer": "ipython3",
   "version": "3.8.12"
  },
  "toc": {
   "base_numbering": 1,
   "nav_menu": {},
   "number_sections": true,
   "sideBar": true,
   "skip_h1_title": false,
   "title_cell": "Table of Contents",
   "title_sidebar": "Contents",
   "toc_cell": false,
   "toc_position": {},
   "toc_section_display": true,
   "toc_window_display": false
  }
 },
 "nbformat": 4,
 "nbformat_minor": 5
}
