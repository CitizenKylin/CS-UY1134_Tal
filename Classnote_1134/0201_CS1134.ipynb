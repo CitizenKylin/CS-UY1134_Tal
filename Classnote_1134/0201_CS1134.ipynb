{
 "cells": [
  {
   "cell_type": "markdown",
   "id": "5e4c642f",
   "metadata": {},
   "source": [
    "# Asymptotic Analysis"
   ]
  },
  {
   "cell_type": "markdown",
   "id": "88efc07c",
   "metadata": {},
   "source": [
    "- Computational Problem  \n",
    "  \n",
    "when stating a problem:\n",
    "1. define input\n",
    "2. def required output"
   ]
  },
  {
   "cell_type": "markdown",
   "id": "d2bb3ec6",
   "metadata": {},
   "source": [
    "- Algorithm  \n",
    "a well defined computational procedure, "
   ]
  },
  {
   "cell_type": "markdown",
   "id": "0523b939",
   "metadata": {},
   "source": [
    "Analyzing Al\n",
    "- correctness\n",
    "for every valid input\n",
    "1. terminates(halts)\n",
    "2. provides desired output\n",
    "- performance\n",
    "measure the resources an algorithm requires\n",
    "- time of computation 🌟\n",
    "- space (memory use)\n",
    "- ..."
   ]
  },
  {
   "cell_type": "markdown",
   "id": "cdebe33f",
   "metadata": {},
   "source": [
    "Primality Testing\n",
    "def: prime num: only divisors are 1 and itself, and num>=2 integer\n",
    "def: d*k = num => d and k are complementary devisors of num"
   ]
  },
  {
   "cell_type": "markdown",
   "id": "3b1d2ef4",
   "metadata": {},
   "source": [
    "num = 100  \n",
    "1&nbsp;2&nbsp;4&nbsp;5&nbsp;10&nbsp;||&nbsp;20&nbsp;25&nbsp;50&nbsp;100"
   ]
  },
  {
   "cell_type": "code",
   "execution_count": 1,
   "id": "a3dcc7d0",
   "metadata": {},
   "outputs": [],
   "source": [
    "# version 1:\n",
    "def is_prime_1(num):\n",
    "    count_divs=0\n",
    "    for curr in range(1,int(num)+1):\n",
    "        if(num%curr==0):\n",
    "            count_divs+=1\n",
    "    if count_divs==2:\n",
    "        return True\n",
    "    else:\n",
    "        return False"
   ]
  },
  {
   "cell_type": "code",
   "execution_count": 2,
   "id": "17c5a900",
   "metadata": {},
   "outputs": [],
   "source": [
    "# version 2:\n",
    "def is_prime_2(num):\n",
    "    count_divs=0\n",
    "    for curr in range(1,int(num/2)+1):\n",
    "        if(num%curr==0):\n",
    "            count_divs+=1\n",
    "    if count_divs==1:\n",
    "        return True\n",
    "    else:\n",
    "        return False"
   ]
  },
  {
   "cell_type": "code",
   "execution_count": 12,
   "id": "b2c14229",
   "metadata": {},
   "outputs": [],
   "source": [
    "# version 3:\n",
    "import math\n",
    "def is_prime_3(num):\n",
    "    count_divs=0\n",
    "    for curr in range(1,int(math.sqrt(num))+1):\n",
    "        if(num%curr==0):\n",
    "            count_divs+=1\n",
    "    if count_divs==1:\n",
    "        return True\n",
    "    else:\n",
    "        return False"
   ]
  },
  {
   "cell_type": "markdown",
   "id": "f472e646",
   "metadata": {},
   "source": [
    "## Runtime Analysis"
   ]
  },
  {
   "cell_type": "markdown",
   "id": "853f7b6f",
   "metadata": {},
   "source": [
    "define an abstract measure:  \n",
    "- analyze the runtime as a function of the size of the input => find T(n)\n",
    "- use the 'random-access machine' (RAM) model of computation:\n",
    "1. any number occupies constant storage and can be read and/or written in constant time\n",
    "2. each primitive operation takes constant time (same time) // not primitve: sort, sum, average, x\\**n, print(not constant)\n",
    "- make asymptotic analysis => find the order of growth of T(n)"
   ]
  },
  {
   "cell_type": "code",
   "execution_count": 18,
   "id": "5f72adf0",
   "metadata": {},
   "outputs": [
    {
     "name": "stdout",
     "output_type": "stream",
     "text": [
      "Time elapsed:  0.008475780487060547  seconds.\n"
     ]
    }
   ],
   "source": [
    "import time\n",
    "\n",
    "start_time = time.time()\n",
    "\n",
    "# Your code to be measured\n",
    "is_prime_1(100000)\n",
    "\n",
    "elapsed_time = time.time() - start_time\n",
    "\n",
    "print(\"Time elapsed: \", elapsed_time, \" seconds.\")"
   ]
  },
  {
   "cell_type": "markdown",
   "id": "e70744dd",
   "metadata": {},
   "source": [
    "runtime analysis \n",
    "T1=1+3+5*n+2 = 5n+6\n",
    "T2=1+4+ 5*n/2 + 2 = n+7\n",
    "count, call range, call iter\n",
    "T3=1+4+5*math.sqrt(n)+2 =5*math.sqrt(n)+7"
   ]
  },
  {
   "cell_type": "code",
   "execution_count": 16,
   "id": "e285e265",
   "metadata": {},
   "outputs": [
    {
     "name": "stdout",
     "output_type": "stream",
     "text": [
      "Time elapsed:  0.0045549869537353516  seconds.\n"
     ]
    }
   ],
   "source": [
    "import time\n",
    "\n",
    "start_time = time.time()\n",
    "\n",
    "# Your code to be measured\n",
    "is_prime_2(100000)\n",
    "\n",
    "elapsed_time = time.time() - start_time\n",
    "\n",
    "print(\"Time elapsed: \", elapsed_time, \" seconds.\")"
   ]
  },
  {
   "cell_type": "code",
   "execution_count": 17,
   "id": "190f7e84",
   "metadata": {},
   "outputs": [
    {
     "name": "stdout",
     "output_type": "stream",
     "text": [
      "Time elapsed:  0.00011801719665527344  seconds.\n"
     ]
    }
   ],
   "source": [
    "import time\n",
    "\n",
    "start_time = time.time()\n",
    "\n",
    "# Your code to be measured\n",
    "is_prime_3(100000)\n",
    "\n",
    "elapsed_time = time.time() - start_time\n",
    "\n",
    "print(\"Time elapsed: \", elapsed_time, \" seconds.\")"
   ]
  },
  {
   "cell_type": "code",
   "execution_count": 1,
   "id": "e339f08a",
   "metadata": {},
   "outputs": [
    {
     "name": "stdout",
     "output_type": "stream",
     "text": [
      "4447947280\n",
      "4447947280\n",
      "4447947280\n"
     ]
    }
   ],
   "source": [
    "a = 1\n",
    "b = 1\n",
    "c = 1\n",
    "print(id(a))\n",
    "print(id(b))\n",
    "print(id(c))"
   ]
  },
  {
   "cell_type": "code",
   "execution_count": null,
   "id": "8a4518fe",
   "metadata": {},
   "outputs": [],
   "source": []
  },
  {
   "cell_type": "code",
   "execution_count": null,
   "id": "bec05ecb",
   "metadata": {},
   "outputs": [],
   "source": []
  }
 ],
 "metadata": {
  "kernelspec": {
   "display_name": "Python 3 (ipykernel)",
   "language": "python",
   "name": "python3"
  },
  "language_info": {
   "codemirror_mode": {
    "name": "ipython",
    "version": 3
   },
   "file_extension": ".py",
   "mimetype": "text/x-python",
   "name": "python",
   "nbconvert_exporter": "python",
   "pygments_lexer": "ipython3",
   "version": "3.8.12"
  },
  "toc": {
   "base_numbering": 1,
   "nav_menu": {},
   "number_sections": true,
   "sideBar": true,
   "skip_h1_title": false,
   "title_cell": "Table of Contents",
   "title_sidebar": "Contents",
   "toc_cell": false,
   "toc_position": {},
   "toc_section_display": true,
   "toc_window_display": false
  }
 },
 "nbformat": 4,
 "nbformat_minor": 5
}
