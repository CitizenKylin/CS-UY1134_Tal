{
 "cells": [
  {
   "cell_type": "markdown",
   "id": "9a50db60",
   "metadata": {},
   "source": [
    "# The searching problem"
   ]
  },
  {
   "cell_type": "markdown",
   "id": "dc88a38a",
   "metadata": {},
   "source": [
    "## Linear search"
   ]
  },
  {
   "cell_type": "code",
   "execution_count": null,
   "id": "73a5398d",
   "metadata": {},
   "outputs": [],
   "source": [
    "def linear_search(lst,val):\n",
    "    for i in range(len(lst)):\n",
    "        if lst[i] == val:\n",
    "            return i\n",
    "    return None"
   ]
  },
  {
   "cell_type": "markdown",
   "id": "a5d1df0a",
   "metadata": {},
   "source": [
    "## sorted search"
   ]
  },
  {
   "cell_type": "code",
   "execution_count": null,
   "id": "6fafd0ec",
   "metadata": {},
   "outputs": [],
   "source": [
    "def binary_search(srt_lst,val):\n",
    "    left = 0\n",
    "    right = len(srt_lst)-1\n",
    "    ind = None\n",
    "    found = False # use boolean to break out while loop\n",
    "    while(found == False) and (left <= right):\n",
    "        mid = (left + right)//2\n",
    "        if srt_lst[mid] == val:\n",
    "            ind=mid\n",
    "            found == True\n",
    "        elif srt_lst[mid] > val:\n",
    "            right = mid-1\n",
    "        else: # srt_lst[mid] < val\n",
    "            left = mid + 1\n",
    "    return ind"
   ]
  },
  {
   "cell_type": "code",
   "execution_count": null,
   "id": "cc8f5eeb",
   "metadata": {},
   "outputs": [],
   "source": []
  },
  {
   "cell_type": "code",
   "execution_count": null,
   "id": "f60be760",
   "metadata": {},
   "outputs": [],
   "source": []
  },
  {
   "cell_type": "code",
   "execution_count": null,
   "id": "390bc3c0",
   "metadata": {},
   "outputs": [],
   "source": []
  },
  {
   "cell_type": "code",
   "execution_count": null,
   "id": "b361f877",
   "metadata": {},
   "outputs": [],
   "source": []
  },
  {
   "cell_type": "code",
   "execution_count": null,
   "id": "c65c1ea9",
   "metadata": {},
   "outputs": [],
   "source": []
  }
 ],
 "metadata": {
  "kernelspec": {
   "display_name": "Python 3 (ipykernel)",
   "language": "python",
   "name": "python3"
  },
  "language_info": {
   "codemirror_mode": {
    "name": "ipython",
    "version": 3
   },
   "file_extension": ".py",
   "mimetype": "text/x-python",
   "name": "python",
   "nbconvert_exporter": "python",
   "pygments_lexer": "ipython3",
   "version": "3.8.12"
  },
  "toc": {
   "base_numbering": 1,
   "nav_menu": {},
   "number_sections": true,
   "sideBar": true,
   "skip_h1_title": false,
   "title_cell": "Table of Contents",
   "title_sidebar": "Contents",
   "toc_cell": false,
   "toc_position": {},
   "toc_section_display": true,
   "toc_window_display": false
  }
 },
 "nbformat": 4,
 "nbformat_minor": 5
}
