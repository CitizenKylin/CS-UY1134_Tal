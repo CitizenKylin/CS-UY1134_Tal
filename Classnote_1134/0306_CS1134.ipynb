{
 "cells": [
  {
   "cell_type": "code",
   "execution_count": null,
   "id": "431ead76",
   "metadata": {},
   "outputs": [],
   "source": [
    "def merge(srt_lst1,srt_lst2):\n",
    "    merged_list = []\n",
    "    i1 = 0\n",
    "    i2 = 0\n",
    "    while"
   ]
  },
  {
   "cell_type": "code",
   "execution_count": 1,
   "id": "53532f7e",
   "metadata": {},
   "outputs": [],
   "source": [
    "def merge_sort(lst):\n",
    "    if (len(lst)==1):\n",
    "        return\n",
    "    else:\n",
    "        mid = (0+len(lst)-1)//2\n",
    "        left_lst=lst[:mid+1]\n",
    "        right_lst = lst[mid+1:]\n",
    "        merge_sort(left_lst)\n",
    "        merge_sort(right_lst)\n",
    "        merged = merge()\n",
    "        lst[:]=merged[:]"
   ]
  },
  {
   "cell_type": "code",
   "execution_count": null,
   "id": "786f32de",
   "metadata": {},
   "outputs": [],
   "source": []
  },
  {
   "cell_type": "code",
   "execution_count": null,
   "id": "9babb210",
   "metadata": {},
   "outputs": [],
   "source": []
  },
  {
   "cell_type": "markdown",
   "id": "9ce17c87",
   "metadata": {},
   "source": []
  },
  {
   "cell_type": "code",
   "execution_count": 15,
   "id": "2ef4cc46",
   "metadata": {},
   "outputs": [],
   "source": [
    "def merge_sort(lst):\n",
    "    if (len(lst) == 0):\n",
    "        return\n",
    "    elif (len(lst) == 1):\n",
    "        return\n",
    "    else:\n",
    "        mid = (0 + len(lst)-1) // 2\n",
    "        left_lst = lst[ : mid+1]\n",
    "        right_lst = lst[mid+1 : ]\n",
    "        merge_sort(left_lst)\n",
    "        merge_sort(right_lst)\n",
    "        merged = merge(left_lst, right_lst)\n",
    "        lst[ : ] = merged[ : ]\n",
    "\n",
    "def merge(srt_lst1, srt_lst2):\n",
    "    merged_list = []\n",
    "    i1 = 0\n",
    "    i2 = 0\n",
    "    while ((i1 < len(srt_lst1)) and (i2 < len(srt_lst2))):\n",
    "        if (srt_lst1[i1] < srt_lst2[i2]):\n",
    "            merged_list.append(srt_lst1[i1])\n",
    "            i1 += 1\n",
    "        else:\n",
    "            merged_list.append(srt_lst2[i2])\n",
    "            i2 += 1\n",
    "    while (i1 < len(srt_lst1)):\n",
    "        merged_list.append(srt_lst1[i1])\n",
    "        i1 += 1\n",
    "    while (i2 < len(srt_lst2)):\n",
    "        merged_list.append(srt_lst2[i2])\n",
    "        i2 += 1\n",
    "    return merged_list"
   ]
  },
  {
   "cell_type": "code",
   "execution_count": 16,
   "id": "2086d617",
   "metadata": {},
   "outputs": [],
   "source": [
    "lst = [1,32,5,6,10,2]\n"
   ]
  },
  {
   "cell_type": "code",
   "execution_count": 17,
   "id": "6aa3162c",
   "metadata": {},
   "outputs": [],
   "source": [
    "merge_sort(lst)"
   ]
  },
  {
   "cell_type": "code",
   "execution_count": 18,
   "id": "b62c48e6",
   "metadata": {},
   "outputs": [
    {
     "data": {
      "text/plain": [
       "[1, 2, 5, 6, 10, 32]"
      ]
     },
     "execution_count": 18,
     "metadata": {},
     "output_type": "execute_result"
    }
   ],
   "source": [
    "lst"
   ]
  },
  {
   "cell_type": "code",
   "execution_count": null,
   "id": "4dcfdfd4",
   "metadata": {},
   "outputs": [],
   "source": []
  },
  {
   "cell_type": "code",
   "execution_count": null,
   "id": "35eda9bd",
   "metadata": {},
   "outputs": [],
   "source": []
  },
  {
   "cell_type": "code",
   "execution_count": null,
   "id": "20c9def3",
   "metadata": {},
   "outputs": [],
   "source": []
  },
  {
   "cell_type": "code",
   "execution_count": null,
   "id": "6c36f07d",
   "metadata": {},
   "outputs": [],
   "source": []
  },
  {
   "cell_type": "code",
   "execution_count": null,
   "id": "91fdcd4a",
   "metadata": {},
   "outputs": [],
   "source": []
  }
 ],
 "metadata": {
  "kernelspec": {
   "display_name": "Python 3 (ipykernel)",
   "language": "python",
   "name": "python3"
  },
  "language_info": {
   "codemirror_mode": {
    "name": "ipython",
    "version": 3
   },
   "file_extension": ".py",
   "mimetype": "text/x-python",
   "name": "python",
   "nbconvert_exporter": "python",
   "pygments_lexer": "ipython3",
   "version": "3.8.12"
  },
  "toc": {
   "base_numbering": 1,
   "nav_menu": {},
   "number_sections": true,
   "sideBar": true,
   "skip_h1_title": false,
   "title_cell": "Table of Contents",
   "title_sidebar": "Contents",
   "toc_cell": false,
   "toc_position": {},
   "toc_section_display": true,
   "toc_window_display": false
  }
 },
 "nbformat": 4,
 "nbformat_minor": 5
}
