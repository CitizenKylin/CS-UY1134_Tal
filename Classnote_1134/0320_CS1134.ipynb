{
 "cells": [
  {
   "cell_type": "code",
   "execution_count": null,
   "id": "921024ef",
   "metadata": {},
   "outputs": [],
   "source": [
    "import ctypes\n",
    "def make_arr(n):\n",
    "    return (n* ctypes.py_object)()\n",
    "\n",
    "class StaticStack:\n",
    "    def __init__(self,max_capacity):\n",
    "        self.data=make_arr(max_capacity)\n",
    "        self.n = 0\n",
    "        self.capacity = max_capacity\n",
    "        \n",
    "    def __len__(self):\n",
    "        return self.n\n",
    "    \n",
    "    def is_empty(self):\n",
    "        return ((len(self))==0)\n",
    "    \n",
    "    def is_full(self):\n",
    "        return (len(self)==self.capacity)\n",
    "    \n",
    "    def push(self,item):\n",
    "        if (self.is_full()):\n",
    "            raise Exception(\"Stack is full\")\n",
    "        self.data[self.n]=item\n",
    "        self.n+=1\n",
    "        \n",
    "    def pop(self):\n",
    "        if (self.is_empty()):\n",
    "            raise Exception(\"Stack is empty\")\n",
    "        item = self.data[self.n-1]\n",
    "        self.data[self.n-1]=None # because python memory usage management => garbage collector\n",
    "        self.n -= 1\n",
    "        return item\n",
    "    \n",
    "    def top(self):\n",
    "        if (self.is_empty()):\n",
    "            raise Exception(\"Stack is empty\")\n",
    "        item = self.data[self.n-1]\n",
    "        return item\n"
   ]
  },
  {
   "cell_type": "code",
   "execution_count": 1,
   "id": "4fe582f3",
   "metadata": {},
   "outputs": [
    {
     "ename": "IndentationError",
     "evalue": "expected an indented block (1730520303.py, line 16)",
     "output_type": "error",
     "traceback": [
      "\u001b[0;36m  File \u001b[0;32m\"/var/folders/rd/q2lzfdss4b167026m7l6h8pm0000gn/T/ipykernel_5701/1730520303.py\"\u001b[0;36m, line \u001b[0;32m16\u001b[0m\n\u001b[0;31m    def push(self,item):\u001b[0m\n\u001b[0m    ^\u001b[0m\n\u001b[0;31mIndentationError\u001b[0m\u001b[0;31m:\u001b[0m expected an indented block\n"
     ]
    }
   ],
   "source": [
    "from lists import ArrayList\n",
    "class ArrayStack:\n",
    "    def __init__(self,max_capacity):\n",
    "        self.data = ArrayList()\n",
    "        self.n = 0\n",
    "        self.capacity = max_capacity\n",
    "        \n",
    "    def __len__(self):\n",
    "        return len(self.data)\n",
    "    \n",
    "    def is_empty(self):\n",
    "        return len(self.data)\n",
    "    \n",
    "    def is_full(self):\n",
    "\n",
    "    def push(self,item):\n",
    "        self.data.append(item)\n",
    "\n",
    "    def pop(self):\n",
    "        if (self.is_empty()):\n",
    "            raise Exception(\"Stack is empty\")\n",
    "        return self.data.pop()\n",
    "    \n",
    "    def top(self):\n",
    "        if (self.is_empty()):\n",
    "            raise Exception(\"Stack is empty\")\n",
    "        item = self.data[-1]\n",
    "        return item"
   ]
  },
  {
   "cell_type": "code",
   "execution_count": null,
   "id": "328c7a13",
   "metadata": {},
   "outputs": [],
   "source": [
    "from stacks import ArrayStack\n",
    "\n",
    "def print_in_reverse(text):\n",
    "    s = ArratStack()\n",
    "    for ch in text:\n",
    "        s.push(ch)\n",
    "    while (chars_stack.is_empty()==False):\n",
    "        ch = chars_stack.pop()\n",
    "        print(ch,end=\"\")\n",
    "    print()"
   ]
  },
  {
   "cell_type": "code",
   "execution_count": null,
   "id": "3ec3acaf",
   "metadata": {},
   "outputs": [],
   "source": []
  },
  {
   "cell_type": "code",
   "execution_count": null,
   "id": "3f5d9f12",
   "metadata": {},
   "outputs": [],
   "source": []
  }
 ],
 "metadata": {
  "kernelspec": {
   "display_name": "Python 3 (ipykernel)",
   "language": "python",
   "name": "python3"
  },
  "language_info": {
   "codemirror_mode": {
    "name": "ipython",
    "version": 3
   },
   "file_extension": ".py",
   "mimetype": "text/x-python",
   "name": "python",
   "nbconvert_exporter": "python",
   "pygments_lexer": "ipython3",
   "version": "3.8.12"
  },
  "toc": {
   "base_numbering": 1,
   "nav_menu": {},
   "number_sections": true,
   "sideBar": true,
   "skip_h1_title": false,
   "title_cell": "Table of Contents",
   "title_sidebar": "Contents",
   "toc_cell": false,
   "toc_position": {},
   "toc_section_display": true,
   "toc_window_display": false
  }
 },
 "nbformat": 4,
 "nbformat_minor": 5
}
