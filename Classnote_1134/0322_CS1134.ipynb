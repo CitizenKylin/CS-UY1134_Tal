{
 "cells": [
  {
   "cell_type": "code",
   "execution_count": 1,
   "id": "1bfcaf06",
   "metadata": {},
   "outputs": [],
   "source": [
    "def eval_postfix_exp(exp_str):\n",
    "    operators=\"+-*/\"\n",
    "    exp_lst=exp_str.split()\n",
    "    args_stack = stacks.ArrayStack()\n",
    "    for token in exp_lst:\n",
    "        if not (token in operators):\n",
    "            args_stack.push(int(token))\n",
    "        else:\n",
    "            arg2 = args_stack.pop() # 要注意：第一个pop的是arg2\n",
    "            arg1 = args_stack.pop()\n",
    "            if (token == \"+\"):\n",
    "                res = arg1+arg2\n",
    "            elif (token == \"-\"):\n",
    "                res = arg1-arg2\n",
    "            elif (token == \"*\"):\n",
    "                res = arg1*arg2\n",
    "            elif (token == \"/\"):\n",
    "                res = arg1/arg2\n",
    "            args_stack.push(res)\n",
    "    return args_stack.pop()"
   ]
  },
  {
   "cell_type": "markdown",
   "id": "76a2e9ba",
   "metadata": {},
   "source": [
    "如果是static stack，stack的长度可能是n/2"
   ]
  },
  {
   "cell_type": "code",
   "execution_count": null,
   "id": "9a00683c",
   "metadata": {},
   "outputs": [],
   "source": []
  },
  {
   "cell_type": "code",
   "execution_count": null,
   "id": "3ead8010",
   "metadata": {},
   "outputs": [],
   "source": []
  },
  {
   "cell_type": "code",
   "execution_count": null,
   "id": "add41856",
   "metadata": {},
   "outputs": [],
   "source": []
  },
  {
   "cell_type": "code",
   "execution_count": null,
   "id": "d6f0fab5",
   "metadata": {},
   "outputs": [],
   "source": []
  },
  {
   "cell_type": "code",
   "execution_count": null,
   "id": "6cfa9568",
   "metadata": {},
   "outputs": [],
   "source": []
  },
  {
   "cell_type": "code",
   "execution_count": null,
   "id": "98b18eca",
   "metadata": {},
   "outputs": [],
   "source": []
  },
  {
   "cell_type": "code",
   "execution_count": null,
   "id": "fbe55cc6",
   "metadata": {},
   "outputs": [],
   "source": []
  },
  {
   "cell_type": "code",
   "execution_count": null,
   "id": "972b3623",
   "metadata": {},
   "outputs": [],
   "source": []
  }
 ],
 "metadata": {
  "kernelspec": {
   "display_name": "Python 3 (ipykernel)",
   "language": "python",
   "name": "python3"
  },
  "language_info": {
   "codemirror_mode": {
    "name": "ipython",
    "version": 3
   },
   "file_extension": ".py",
   "mimetype": "text/x-python",
   "name": "python",
   "nbconvert_exporter": "python",
   "pygments_lexer": "ipython3",
   "version": "3.8.12"
  },
  "toc": {
   "base_numbering": 1,
   "nav_menu": {},
   "number_sections": true,
   "sideBar": true,
   "skip_h1_title": false,
   "title_cell": "Table of Contents",
   "title_sidebar": "Contents",
   "toc_cell": false,
   "toc_position": {},
   "toc_section_display": true,
   "toc_window_display": false
  }
 },
 "nbformat": 4,
 "nbformat_minor": 5
}
