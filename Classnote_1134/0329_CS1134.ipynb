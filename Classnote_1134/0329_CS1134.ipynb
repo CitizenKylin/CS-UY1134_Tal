{
 "cells": [
  {
   "cell_type": "code",
   "execution_count": 3,
   "id": "45dc4ab0",
   "metadata": {},
   "outputs": [],
   "source": [
    "class Node:\n",
    "    def __init__(self):\n",
    "        self.data = None\n",
    "        self.next = None\n"
   ]
  },
  {
   "cell_type": "code",
   "execution_count": 4,
   "id": "90c0f1cf",
   "metadata": {},
   "outputs": [],
   "source": [
    "head = Node()\n",
    "head.data = 1\n",
    "head.next = Node()\n",
    "head.next.data = 2\n",
    "head.next.next = Node()\n",
    "head.next.next.data = 3\n",
    "head.next.next.next = None"
   ]
  },
  {
   "cell_type": "code",
   "execution_count": null,
   "id": "0d046d5c",
   "metadata": {},
   "outputs": [],
   "source": [
    "cursor = head\n",
    "while(cursor is not None):\n",
    "    print(cursor.data)\n",
    "    cursor = cursor.next\n",
    "print()"
   ]
  },
  {
   "cell_type": "code",
   "execution_count": null,
   "id": "8674ad80",
   "metadata": {},
   "outputs": [],
   "source": [
    "new_node = Node()\n",
    "new_node.data = 4\n",
    "new_node.next = head\n",
    "head = new_node"
   ]
  },
  {
   "cell_type": "code",
   "execution_count": null,
   "id": "e913fa65",
   "metadata": {},
   "outputs": [],
   "source": []
  }
 ],
 "metadata": {
  "kernelspec": {
   "display_name": "Python 3 (ipykernel)",
   "language": "python",
   "name": "python3"
  },
  "language_info": {
   "codemirror_mode": {
    "name": "ipython",
    "version": 3
   },
   "file_extension": ".py",
   "mimetype": "text/x-python",
   "name": "python",
   "nbconvert_exporter": "python",
   "pygments_lexer": "ipython3",
   "version": "3.8.12"
  },
  "toc": {
   "base_numbering": 1,
   "nav_menu": {},
   "number_sections": true,
   "sideBar": true,
   "skip_h1_title": false,
   "title_cell": "Table of Contents",
   "title_sidebar": "Contents",
   "toc_cell": false,
   "toc_position": {},
   "toc_section_display": true,
   "toc_window_display": false
  }
 },
 "nbformat": 4,
 "nbformat_minor": 5
}
