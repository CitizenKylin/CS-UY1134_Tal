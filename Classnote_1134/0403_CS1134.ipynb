{
 "cells": [
  {
   "cell_type": "markdown",
   "id": "4037ecc2",
   "metadata": {},
   "source": [
    "# Review"
   ]
  },
  {
   "cell_type": "code",
   "execution_count": 1,
   "id": "8db6f979",
   "metadata": {},
   "outputs": [],
   "source": [
    "class Node:\n",
    "    def __init__(self):\n",
    "        self.data = None\n",
    "        self.next = None"
   ]
  },
  {
   "cell_type": "code",
   "execution_count": 2,
   "id": "f93a0221",
   "metadata": {},
   "outputs": [],
   "source": [
    "head = Node()\n",
    "head.data = 1\n",
    "head.next = Node()\n",
    "head.next.data = 2\n",
    "head.next.next = Node()\n",
    "head.next.next.data = 3\n",
    "head.next.next.next = None"
   ]
  },
  {
   "cell_type": "code",
   "execution_count": 3,
   "id": "a7f90a27",
   "metadata": {},
   "outputs": [
    {
     "name": "stdout",
     "output_type": "stream",
     "text": [
      "1\n",
      "2\n",
      "3\n",
      "\n"
     ]
    }
   ],
   "source": [
    "cursor = head\n",
    "while(cursor is not None):\n",
    "    print(cursor.data)\n",
    "    cursor = cursor.next\n",
    "print()"
   ]
  },
  {
   "cell_type": "markdown",
   "id": "6763746b",
   "metadata": {},
   "source": [
    "# New"
   ]
  },
  {
   "cell_type": "markdown",
   "id": "d3d2347f",
   "metadata": {},
   "source": [
    "## LinkedList"
   ]
  },
  {
   "cell_type": "code",
   "execution_count": 6,
   "id": "4cf38c6e",
   "metadata": {},
   "outputs": [],
   "source": [
    "\n",
    "\n",
    "class LinkedList:\n",
    "    class Node:\n",
    "        def __init__(self):\n",
    "            self.data = None\n",
    "            self.next = None\n",
    "    \n",
    "    def __init__(self):\n",
    "        self.head = None\n",
    "        self.tail = None\n",
    "        self.n = 0\n",
    "    \n",
    "    def __len__(self):\n",
    "        return self.n\n",
    "    \n",
    "    def is_empty(self):\n",
    "        return (len(self)==0)\n",
    "    \n",
    "    def add_first(self,val):\n",
    "        if (self.is_empty()):\n",
    "            new_node = LinkedList.Node()\n",
    "            new_node.data = val\n",
    "            new_node.next = self.head\n",
    "            self.head = new_node\n",
    "            self.n += 1\n",
    "            self.tail = new_node\n",
    "\n",
    "        else:\n",
    "            new_node = LinkedList.Node()\n",
    "            new_node.data = val\n",
    "            new_node.next = self.head\n",
    "            self.head = new_node\n",
    "            self.n += 1\n",
    "\n",
    "    def add_last(self, val):\n",
    "        pass\n",
    "    def delete_first(self):\n",
    "        pass\n",
    "    def delete_last(self):\n",
    "        pass"
   ]
  },
  {
   "cell_type": "code",
   "execution_count": 7,
   "id": "5b6b9669",
   "metadata": {},
   "outputs": [
    {
     "name": "stdout",
     "output_type": "stream",
     "text": [
      "\n"
     ]
    }
   ],
   "source": [
    "# from lists import LinkedList\n",
    "\n",
    "lnk_lst = LinkedList()\n",
    "lnk_lst.add_first('a')\n",
    "lnk_lst.add_first('b')\n",
    "lnk_lst.add_first('c')\n",
    "print()"
   ]
  },
  {
   "cell_type": "markdown",
   "id": "2a21aafb",
   "metadata": {},
   "source": [
    "## DoublyLinkedList"
   ]
  },
  {
   "cell_type": "code",
   "execution_count": null,
   "id": "4a575af9",
   "metadata": {},
   "outputs": [],
   "source": [
    "class DoublyLinkedList:\n",
    "    class Node:\n",
    "        def __init__(self,data):\n",
    "            self.data = data\n",
    "            self.next = None\n",
    "            self.prev = None\n",
    "    \n",
    "    def __init__(self):\n",
    "        self.header = DoublyLinkedList.Node()\n",
    "        self.tailer = DoublyLinkedList.Node()\n",
    "        self.header.next = self.trailer\n",
    "        self.trailer.prev = self.header\n",
    "        self.n = 0\n",
    "    \n",
    "    def __len__(self):\n",
    "        return self.n\n",
    "    \n",
    "    def is_empty(self):\n",
    "        return (len(self)==0)\n",
    "\n",
    "# more generalized add\n",
    "    def add_after(self,node,val):\n",
    "        new_node = DoublyLinkedList.Node(val)\n",
    "        prev_node = node\n",
    "        next_node = node.next\n",
    "        \n",
    "        prev_node.next = new_node\n",
    "        next_node.prev = new_node\n",
    "        new_node.prev = prev_node\n",
    "        new_node.next = next_node\n",
    "        self.n+=1\n",
    "        return new_node # we need return new position to the user\n",
    "    \n",
    "    def add_before(self,node,val):\n",
    "        pass\n",
    "    \n",
    "        \n",
    "    \n",
    "    def add_first(self, ind, val):\n",
    "        return self.add_after(self.header) # self.header and self.trailer will never change\n",
    "\n",
    "    def add_last(self, val):\n",
    "        pass\n",
    "    \n",
    "    def delete_first(self):\n",
    "        pass\n",
    "    \n",
    "    def delete_last(self):\n",
    "        pass\n",
    "    "
   ]
  },
  {
   "cell_type": "code",
   "execution_count": null,
   "id": "9407cb64",
   "metadata": {},
   "outputs": [],
   "source": []
  },
  {
   "cell_type": "code",
   "execution_count": null,
   "id": "65c673ae",
   "metadata": {},
   "outputs": [],
   "source": []
  }
 ],
 "metadata": {
  "kernelspec": {
   "display_name": "Python 3 (ipykernel)",
   "language": "python",
   "name": "python3"
  },
  "language_info": {
   "codemirror_mode": {
    "name": "ipython",
    "version": 3
   },
   "file_extension": ".py",
   "mimetype": "text/x-python",
   "name": "python",
   "nbconvert_exporter": "python",
   "pygments_lexer": "ipython3",
   "version": "3.8.12"
  },
  "toc": {
   "base_numbering": 1,
   "nav_menu": {},
   "number_sections": true,
   "sideBar": true,
   "skip_h1_title": false,
   "title_cell": "Table of Contents",
   "title_sidebar": "Contents",
   "toc_cell": false,
   "toc_position": {},
   "toc_section_display": true,
   "toc_window_display": false
  }
 },
 "nbformat": 4,
 "nbformat_minor": 5
}
