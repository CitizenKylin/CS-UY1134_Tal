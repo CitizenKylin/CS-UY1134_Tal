{
 "cells": [
  {
   "cell_type": "markdown",
   "id": "e3a564fb",
   "metadata": {},
   "source": [
    "Rooted Tree"
   ]
  },
  {
   "cell_type": "code",
   "execution_count": 1,
   "id": "15b16937",
   "metadata": {},
   "outputs": [],
   "source": [
    "class Node:\n",
    "    def __init__(self,data,left=None,right=None):\n",
    "        self.data= data\n",
    "        self.left= None\n",
    "        if (left is not None):\n",
    "            self.left.parent = self\n",
    "        self.right= None\n",
    "        if (right is not None):\n",
    "            self.right.parent = self"
   ]
  },
  {
   "cell_type": "code",
   "execution_count": null,
   "id": "d7d856d5",
   "metadata": {},
   "outputs": [],
   "source": [
    "l_ch1 = Node(1)\n",
    "r_ch1 = Node(6)\n",
    "\n",
    "r_ch2 = Node(2,l_ch1,r_ch1)\n",
    "l_ch2 = Node(4)\n",
    "\n",
    "root = Node(5,l_ch2,r_ch2)\n"
   ]
  },
  {
   "cell_type": "code",
   "execution_count": 7,
   "id": "acc44d49",
   "metadata": {},
   "outputs": [
    {
     "ename": "IndentationError",
     "evalue": "expected an indented block (3601874051.py, line 4)",
     "output_type": "error",
     "traceback": [
      "\u001b[0;36m  File \u001b[0;32m\"/var/folders/rd/q2lzfdss4b167026m7l6h8pm0000gn/T/ipykernel_38917/3601874051.py\"\u001b[0;36m, line \u001b[0;32m4\u001b[0m\n\u001b[0;31m    def __init__(self,data,left=None,right=None):\u001b[0m\n\u001b[0m    ^\u001b[0m\n\u001b[0;31mIndentationError\u001b[0m\u001b[0;31m:\u001b[0m expected an indented block\n"
     ]
    }
   ],
   "source": [
    "from queues import ArrayQueue\n",
    "class LinkedBinaryTree:\n",
    "    class Node:\n",
    "    \n",
    "        def __init__(self,data,left=None,right=None):\n",
    "            self.data= data\n",
    "            self.left= None\n",
    "            if (left is not None):\n",
    "                self.left.parent = self\n",
    "            self.right= None\n",
    "            if (right is not None):\n",
    "                self.right.parent = self\n",
    "\n",
    "    def __init__(self,root=None):\n",
    "        self.root = None\n",
    "        self.n = self.count_nodes()\n",
    "    def __len__(self):\n",
    "        pass\n",
    "    def is_empty(self):\n",
    "        pass\n",
    "    \n",
    "    def count_nodes(self):\n",
    "        def subtree_count_nodes(root):\n",
    "            if (root is None):\n",
    "                return 0\n",
    "            else:\n",
    "                left_count = subtree_count_nodes(root.left)\n",
    "                right_count = subtree_count_nodes(root.right)\n",
    "                return left_count + right_count + 1\n",
    "        return subtree_count_nodes(self.root)\n",
    "    \n",
    "    def sum(self):\n",
    "        def subtree_sum(root):\n",
    "            if (root is None):\n",
    "                return 0\n",
    "            else:\n",
    "                left_sum = subtree_sum(root.left)\n",
    "                right_sum = subtree_sum(root.right)\n",
    "                return left_sum + right_sum + root.data\n",
    "            \n",
    "    def height(self):\n",
    "        def subtree_height(root):\n",
    "            if (root.left is None) and (root.right is None):\n",
    "                return 0\n",
    "            elif (root.left is None):\n",
    "                right_height = subtree_height(root.right)\n",
    "                return right_height + 1\n",
    "            elif (root.right is None):\n",
    "                left_height = subtree_height(root.left)\n",
    "                return left_height + 1\n",
    "            else:\n",
    "                left_height = subtree_height(root.left)\n",
    "                right_height = subtree_height(root.right)\n",
    "                return max(left_height,right_height) + 1\n",
    "        if self.is_empty():\n",
    "            raise Exception(\"Height is not defined on empty tree\")\n",
    "        return subtree_height(self.root)\n",
    "    \n",
    "    def preorder(self):\n",
    "        def subtree_preorder(root):\n",
    "            if root is None:\n",
    "                return\n",
    "            else:\n",
    "                yield root\n",
    "                yield from subtree_preorder(root.left)\n",
    "                yield from subtree_preorder(root.right)\n",
    "            \n",
    "        yield from subtree_preorder(self.root)\n",
    "        \n",
    "    def inorder(self):\n",
    "        def subtree_inorder(root):\n",
    "            if root is None:\n",
    "                return\n",
    "            else:\n",
    "                yield from subtree_inorder(root.left)\n",
    "                yield root\n",
    "                yield from subtree_ineorder(root.right)\n",
    "                \n",
    "        yield from subtree_inorder(self.root)\n",
    "        \n",
    "    def postorder(self):\n",
    "        def subtree_postorder(root):\n",
    "            if root is None:\n",
    "                return\n",
    "            else:\n",
    "                yield from subtree_inorder(root.left)\n",
    "                yield from subtree_ineorder(root.right)\n",
    "                yield root\n",
    "                \n",
    "        yield from subtree_postorder(self.root)\n",
    "\n",
    "    def breadth_first(self):\n",
    "        if self.is_empty():\n",
    "            return\n",
    "        line = ArrayQueue()\n",
    "        line.enqueue(self.root.data)\n",
    "        while (line.is_empty() == False):\n",
    "            curr_node =  line.dequeue()\n",
    "            yield curr_node\n",
    "            if (curr_node.left is not None):\n",
    "                line.enqueue(curr_node.left)\n",
    "            if (curr_node.right is not None):\n",
    "                line.enqueue(curr_node.right)\n",
    "        \n",
    "    def __iter__(self):\n",
    "        for curr_node in self.inorder():\n",
    "            yield curr_node.data\n"
   ]
  },
  {
   "cell_type": "code",
   "execution_count": 2,
   "id": "a1001583",
   "metadata": {},
   "outputs": [
    {
     "name": "stdout",
     "output_type": "stream",
     "text": [
      "1\n",
      "2\n"
     ]
    }
   ],
   "source": []
  },
  {
   "cell_type": "code",
   "execution_count": 6,
   "id": "fec33209",
   "metadata": {},
   "outputs": [
    {
     "name": "stdout",
     "output_type": "stream",
     "text": [
      "1\n",
      "2\n",
      "3\n",
      "4\n"
     ]
    }
   ],
   "source": [
    "# generator\n",
    "# def f():\n",
    "#     yield 1\n",
    "#     yield 2\n",
    "#     for i in g():\n",
    "#         yield i\n",
    "def f():\n",
    "    yield 1\n",
    "    yield 2\n",
    "    yield from g()\n",
    "\n",
    "\n",
    "def g():\n",
    "    yield 3\n",
    "    yield 4\n",
    "for i in f():\n",
    "    print(i)"
   ]
  },
  {
   "cell_type": "code",
   "execution_count": null,
   "id": "e210451e",
   "metadata": {},
   "outputs": [],
   "source": []
  },
  {
   "cell_type": "code",
   "execution_count": null,
   "id": "d5322fc5",
   "metadata": {},
   "outputs": [],
   "source": [
    "l_ch1 = LinkedBinaryTree.Node(1)\n",
    "r_ch1 = LinkedBinaryTree.Node(6)\n",
    "\n",
    "r_ch2 = LinkedBinaryTree.Node(2,l_ch1,r_ch1)\n",
    "l_ch2 = LinkedBinaryTree.Node(4)\n",
    "\n",
    "root = LinkedBinaryTree.Node(5,l_ch2,r_ch2)\n",
    "\n",
    "bin_tree = LinkedBinaryTree(root)"
   ]
  },
  {
   "cell_type": "code",
   "execution_count": 11,
   "id": "205dc5b2",
   "metadata": {},
   "outputs": [
    {
     "name": "stdout",
     "output_type": "stream",
     "text": [
      "-1\n"
     ]
    }
   ],
   "source": [
    "for i in range(-1,-2,-1):\n",
    "    print(i)"
   ]
  },
  {
   "cell_type": "code",
   "execution_count": 18,
   "id": "a359cdc9",
   "metadata": {},
   "outputs": [
    {
     "data": {
      "text/plain": [
       "1"
      ]
     },
     "execution_count": 18,
     "metadata": {},
     "output_type": "execute_result"
    }
   ],
   "source": [
    "11%2"
   ]
  },
  {
   "cell_type": "code",
   "execution_count": null,
   "id": "8e5b9930",
   "metadata": {},
   "outputs": [],
   "source": []
  }
 ],
 "metadata": {
  "kernelspec": {
   "display_name": "Python 3 (ipykernel)",
   "language": "python",
   "name": "python3"
  },
  "language_info": {
   "codemirror_mode": {
    "name": "ipython",
    "version": 3
   },
   "file_extension": ".py",
   "mimetype": "text/x-python",
   "name": "python",
   "nbconvert_exporter": "python",
   "pygments_lexer": "ipython3",
   "version": "3.8.12"
  },
  "toc": {
   "base_numbering": 1,
   "nav_menu": {},
   "number_sections": true,
   "sideBar": true,
   "skip_h1_title": false,
   "title_cell": "Table of Contents",
   "title_sidebar": "Contents",
   "toc_cell": false,
   "toc_position": {},
   "toc_section_display": true,
   "toc_window_display": false
  }
 },
 "nbformat": 4,
 "nbformat_minor": 5
}
