{
 "cells": [
  {
   "cell_type": "markdown",
   "id": "3937c874",
   "metadata": {},
   "source": [
    "# Question 2:"
   ]
  },
  {
   "cell_type": "code",
   "execution_count": 10,
   "id": "3e0a5adb",
   "metadata": {},
   "outputs": [],
   "source": [
    "# a\n",
    "def shift(lst,k):\n",
    "    for num in range(k):\n",
    "        lst.append(lst[0])\n",
    "        lst.pop(0)\n",
    "    return lst"
   ]
  },
  {
   "cell_type": "code",
   "execution_count": 11,
   "id": "49fef832",
   "metadata": {},
   "outputs": [
    {
     "data": {
      "text/plain": [
       "[3, 4, 5, 6, 1, 2]"
      ]
     },
     "execution_count": 11,
     "metadata": {},
     "output_type": "execute_result"
    }
   ],
   "source": [
    "lst=[1,2,3,4,5,6]\n",
    "shift(lst,2)"
   ]
  },
  {
   "cell_type": "code",
   "execution_count": 27,
   "id": "f9a73722",
   "metadata": {},
   "outputs": [],
   "source": [
    "# b\n",
    "def shift_2(lst,k,direction='left'):\n",
    "    if direction == 'left':\n",
    "        for num in range(k):\n",
    "            lst.append(lst[0])\n",
    "            lst.pop(0)\n",
    "    elif direction == 'right':\n",
    "        for num in range(k):\n",
    "            lst.insert(0,lst[-1])\n",
    "            lst.pop()\n",
    "    return lst"
   ]
  },
  {
   "cell_type": "markdown",
   "id": "78eed265",
   "metadata": {},
   "source": [
    "# Question 3:"
   ]
  },
  {
   "cell_type": "code",
   "execution_count": 4,
   "id": "af823703",
   "metadata": {},
   "outputs": [],
   "source": [
    "# a\n",
    "def sum_of_sq(n):\n",
    "    sum = 0\n",
    "    for num in range(1,n):\n",
    "        sum += num**2\n",
    "    return sum"
   ]
  },
  {
   "cell_type": "code",
   "execution_count": 5,
   "id": "7051880f",
   "metadata": {},
   "outputs": [
    {
     "data": {
      "text/plain": [
       "30"
      ]
     },
     "execution_count": 5,
     "metadata": {},
     "output_type": "execute_result"
    }
   ],
   "source": [
    "sum_of_sq(5)"
   ]
  },
  {
   "cell_type": "code",
   "execution_count": 8,
   "id": "6f4a1d18",
   "metadata": {},
   "outputs": [],
   "source": [
    "# b\n",
    "def sum_of_sq_advanced(n):\n",
    "    return sum([num**2 for num in range(1,n)]) # sum 可以写在list comprehension里面吗？"
   ]
  },
  {
   "cell_type": "code",
   "execution_count": 9,
   "id": "9a33ff22",
   "metadata": {},
   "outputs": [
    {
     "data": {
      "text/plain": [
       "30"
      ]
     },
     "execution_count": 9,
     "metadata": {},
     "output_type": "execute_result"
    }
   ],
   "source": [
    "sum_of_sq_advanced(5)"
   ]
  },
  {
   "cell_type": "code",
   "execution_count": 19,
   "id": "7fd6f7e4",
   "metadata": {},
   "outputs": [],
   "source": [
    "# c\n",
    "def sum_of_sq_odd(n):\n",
    "    sum = 0\n",
    "    for num in range(1,n):\n",
    "        if num%2 == 1:\n",
    "            sum += num**2\n",
    "    return sum"
   ]
  },
  {
   "cell_type": "code",
   "execution_count": 25,
   "id": "e4b0bbe7",
   "metadata": {},
   "outputs": [],
   "source": [
    "# d\n",
    "def sum_of_sq_odd_advanced(n):\n",
    "    return sum([num**2 for num in range(1,n) if num%2==1])"
   ]
  },
  {
   "cell_type": "code",
   "execution_count": null,
   "id": "701e9ff4",
   "metadata": {},
   "outputs": [],
   "source": []
  },
  {
   "cell_type": "code",
   "execution_count": null,
   "id": "08415ec8",
   "metadata": {},
   "outputs": [],
   "source": []
  }
 ],
 "metadata": {
  "kernelspec": {
   "display_name": "Python 3",
   "language": "python",
   "name": "python3"
  },
  "language_info": {
   "codemirror_mode": {
    "name": "ipython",
    "version": 3
   },
   "file_extension": ".py",
   "mimetype": "text/x-python",
   "name": "python",
   "nbconvert_exporter": "python",
   "pygments_lexer": "ipython3",
   "version": "3.8.12"
  },
  "toc": {
   "base_numbering": 1,
   "nav_menu": {},
   "number_sections": true,
   "sideBar": true,
   "skip_h1_title": false,
   "title_cell": "Table of Contents",
   "title_sidebar": "Contents",
   "toc_cell": false,
   "toc_position": {},
   "toc_section_display": true,
   "toc_window_display": false
  },
  "vscode": {
   "interpreter": {
    "hash": "fff758d5c56eda6bf3ef34f0d4cde3312389935bcf4c692bace467005533ff3f"
   }
  }
 },
 "nbformat": 4,
 "nbformat_minor": 5
}
