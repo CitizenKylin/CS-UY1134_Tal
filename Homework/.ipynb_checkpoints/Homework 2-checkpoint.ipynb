{
 "cells": [
  {
   "cell_type": "markdown",
   "id": "e834ddb1",
   "metadata": {},
   "source": [
    "# Q3"
   ]
  },
  {
   "cell_type": "code",
   "execution_count": 1,
   "id": "3f2addc4",
   "metadata": {},
   "outputs": [],
   "source": [
    "import math\n",
    "def factors(num):\n",
    "    for i in range(1,int(math.sqrt(num))+1):\n",
    "        if num%i == 0:\n",
    "            yield i\n",
    "    for i in range(int(math.sqrt(num))-1,0,-1):\n",
    "        if num%i == 0:\n",
    "            yield num//i"
   ]
  },
  {
   "cell_type": "code",
   "execution_count": 52,
   "id": "69c071dd",
   "metadata": {},
   "outputs": [
    {
     "name": "stdout",
     "output_type": "stream",
     "text": [
      "1\n",
      "2\n",
      "3\n",
      "4\n",
      "5\n",
      "6\n",
      "7\n",
      "8\n",
      "9\n",
      "10\n"
     ]
    }
   ],
   "source": [
    "for i in range(1,int(math.sqrt(101))+1):\n",
    "    print(i)"
   ]
  },
  {
   "cell_type": "code",
   "execution_count": 50,
   "id": "e3e456ef",
   "metadata": {},
   "outputs": [
    {
     "data": {
      "text/plain": [
       "10"
      ]
     },
     "execution_count": 50,
     "metadata": {},
     "output_type": "execute_result"
    }
   ],
   "source": [
    "int(math.sqrt(105))"
   ]
  },
  {
   "cell_type": "code",
   "execution_count": 49,
   "id": "37395879",
   "metadata": {},
   "outputs": [
    {
     "name": "stdout",
     "output_type": "stream",
     "text": [
      "1\n",
      "2\n",
      "4\n",
      "5\n",
      "10\n",
      "20\n",
      "25\n",
      "50\n",
      "100\n"
     ]
    }
   ],
   "source": [
    "for curr in factors(100):\n",
    "    print(curr)"
   ]
  },
  {
   "cell_type": "markdown",
   "id": "c74b5449",
   "metadata": {},
   "source": [
    "# Q2"
   ]
  },
  {
   "cell_type": "code",
   "execution_count": 2,
   "id": "12f3dcc7",
   "metadata": {},
   "outputs": [],
   "source": [
    "def e_approx(n):\n",
    "    fac = 1\n",
    "    e = 1\n",
    "    for i in range(1,n+1):\n",
    "        e += (1/fac)\n",
    "        fac *= (i+1)\n",
    "    return e\n",
    "\n",
    "# 不能用for loop, 要把factorial上次的记录下来*=让factorial可以一直积累"
   ]
  },
  {
   "cell_type": "code",
   "execution_count": 78,
   "id": "6118b26b",
   "metadata": {},
   "outputs": [
    {
     "data": {
      "text/plain": [
       "2.7182818011463845"
      ]
     },
     "execution_count": 78,
     "metadata": {},
     "output_type": "execute_result"
    }
   ],
   "source": [
    "e_approx(10)"
   ]
  },
  {
   "cell_type": "code",
   "execution_count": 62,
   "id": "867f92a5",
   "metadata": {},
   "outputs": [
    {
     "name": "stdout",
     "output_type": "stream",
     "text": [
      "1\n",
      "2\n",
      "3\n",
      "4\n"
     ]
    }
   ],
   "source": [
    "for i in range(1,4+1):\n",
    "    print(i)"
   ]
  },
  {
   "cell_type": "code",
   "execution_count": 81,
   "id": "d9f1c6c0",
   "metadata": {},
   "outputs": [],
   "source": [
    "def main():\n",
    "    for n in range(15):\n",
    "        curr_approx = e_approx(n)\n",
    "        approx_str = \"{:.15f}\".format(curr_approx)\n",
    "        print(\"n =\", n, \"Approximation:\", approx_str)"
   ]
  },
  {
   "cell_type": "code",
   "execution_count": 82,
   "id": "f45448ff",
   "metadata": {},
   "outputs": [
    {
     "name": "stdout",
     "output_type": "stream",
     "text": [
      "n = 0 Approximation: 1.000000000000000\n",
      "n = 1 Approximation: 2.000000000000000\n",
      "n = 2 Approximation: 2.500000000000000\n",
      "n = 3 Approximation: 2.666666666666667\n",
      "n = 4 Approximation: 2.708333333333333\n",
      "n = 5 Approximation: 2.716666666666666\n",
      "n = 6 Approximation: 2.718055555555555\n",
      "n = 7 Approximation: 2.718253968253968\n",
      "n = 8 Approximation: 2.718278769841270\n",
      "n = 9 Approximation: 2.718281525573192\n",
      "n = 10 Approximation: 2.718281801146385\n",
      "n = 11 Approximation: 2.718281826198493\n",
      "n = 12 Approximation: 2.718281828286169\n",
      "n = 13 Approximation: 2.718281828446759\n",
      "n = 14 Approximation: 2.718281828458230\n"
     ]
    }
   ],
   "source": [
    "main()"
   ]
  },
  {
   "cell_type": "markdown",
   "id": "045b18af",
   "metadata": {},
   "source": [
    "# Q5"
   ]
  },
  {
   "cell_type": "code",
   "execution_count": 99,
   "id": "94534e75",
   "metadata": {},
   "outputs": [],
   "source": [
    "def split_parity(lst):\n",
    "    first_even = 0\n",
    "    for i in range(len(lst)):\n",
    "        if lst[i]%2 != 0: # if odd\n",
    "            lst[i],lst[first_even] = lst[first_even],lst[i]\n",
    "            first_even += 1\n",
    "    return lst"
   ]
  },
  {
   "cell_type": "code",
   "execution_count": 100,
   "id": "40405106",
   "metadata": {},
   "outputs": [],
   "source": [
    "lst=[1,2,3,4]"
   ]
  },
  {
   "cell_type": "code",
   "execution_count": 101,
   "id": "d553b8e4",
   "metadata": {},
   "outputs": [
    {
     "data": {
      "text/plain": [
       "[1, 3, 2, 4]"
      ]
     },
     "execution_count": 101,
     "metadata": {},
     "output_type": "execute_result"
    }
   ],
   "source": [
    "split_parity(lst)"
   ]
  },
  {
   "cell_type": "markdown",
   "id": "37cd04c2",
   "metadata": {},
   "source": [
    "# Q6"
   ]
  },
  {
   "cell_type": "code",
   "execution_count": 46,
   "id": "149d4f06",
   "metadata": {},
   "outputs": [],
   "source": [
    "def two_sum(srt_lst,target):\n",
    "    left = 0\n",
    "    right = len(srt_lst)-1\n",
    "    while left <= right:\n",
    "        if srt_lst[left] + srt_lst[right] == target:\n",
    "            return (left,right)\n",
    "        elif srt_lst[left] + srt_lst[right] < target:\n",
    "            left += 1\n",
    "        elif srt_lst[left] + srt_lst[right] > target:\n",
    "            right -= 1\n",
    "    return None"
   ]
  },
  {
   "cell_type": "code",
   "execution_count": 47,
   "id": "f252e54e",
   "metadata": {},
   "outputs": [],
   "source": [
    "srt_lst=[-2, 7, 20, 21]"
   ]
  },
  {
   "cell_type": "code",
   "execution_count": null,
   "id": "06c9c640",
   "metadata": {},
   "outputs": [],
   "source": [
    "[2,3,6,7]"
   ]
  },
  {
   "cell_type": "code",
   "execution_count": null,
   "id": "8970bc29",
   "metadata": {},
   "outputs": [],
   "source": [
    "5+4+3+2+1"
   ]
  },
  {
   "cell_type": "code",
   "execution_count": 48,
   "id": "dc7dbd30",
   "metadata": {},
   "outputs": [],
   "source": [
    "two_sum(srt_lst,22)"
   ]
  },
  {
   "cell_type": "code",
   "execution_count": null,
   "id": "c24214d5",
   "metadata": {},
   "outputs": [],
   "source": []
  },
  {
   "cell_type": "markdown",
   "id": "34064396",
   "metadata": {},
   "source": [
    "# Q7"
   ]
  },
  {
   "cell_type": "code",
   "execution_count": 28,
   "id": "5a828997",
   "metadata": {},
   "outputs": [],
   "source": [
    "def findChange(lst01):\n",
    "    left = 0\n",
    "    right = len(lst01)-1\n",
    "    if lst01[0] == 1:\n",
    "        return 0\n",
    "    if lst01[-1] == 0:\n",
    "        return None\n",
    "    while left <= right:\n",
    "        mid = (left+right)//2\n",
    "        if lst01[mid]+lst01[mid+1]==1:\n",
    "            return (mid+1)\n",
    "        elif lst01[mid]+lst01[mid+1] == 2:\n",
    "            right = mid-1 #?mid-1 就是Infinite loop\n",
    "        elif lst01[mid]+lst01[mid+1] == 0:\n",
    "            left = mid+1\n",
    "    return None"
   ]
  },
  {
   "cell_type": "code",
   "execution_count": 31,
   "id": "cbee9602",
   "metadata": {},
   "outputs": [],
   "source": [
    "lst01 = [0,0,0,0,1, 1, 1, 1]"
   ]
  },
  {
   "cell_type": "code",
   "execution_count": 32,
   "id": "e8d90c05",
   "metadata": {},
   "outputs": [
    {
     "data": {
      "text/plain": [
       "4"
      ]
     },
     "execution_count": 32,
     "metadata": {},
     "output_type": "execute_result"
    }
   ],
   "source": [
    "findChange(lst01)"
   ]
  },
  {
   "cell_type": "code",
   "execution_count": null,
   "id": "2773d7c7",
   "metadata": {},
   "outputs": [],
   "source": []
  }
 ],
 "metadata": {
  "kernelspec": {
   "display_name": "Python 3 (ipykernel)",
   "language": "python",
   "name": "python3"
  },
  "language_info": {
   "codemirror_mode": {
    "name": "ipython",
    "version": 3
   },
   "file_extension": ".py",
   "mimetype": "text/x-python",
   "name": "python",
   "nbconvert_exporter": "python",
   "pygments_lexer": "ipython3",
   "version": "3.8.12"
  },
  "toc": {
   "base_numbering": 1,
   "nav_menu": {},
   "number_sections": true,
   "sideBar": true,
   "skip_h1_title": false,
   "title_cell": "Table of Contents",
   "title_sidebar": "Contents",
   "toc_cell": false,
   "toc_position": {},
   "toc_section_display": true,
   "toc_window_display": false
  }
 },
 "nbformat": 4,
 "nbformat_minor": 5
}
