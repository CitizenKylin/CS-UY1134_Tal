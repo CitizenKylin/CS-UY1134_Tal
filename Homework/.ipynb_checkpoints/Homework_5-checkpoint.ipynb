{
 "cells": [
  {
   "cell_type": "markdown",
   "id": "5dab22aa",
   "metadata": {},
   "source": [
    "# Question 1"
   ]
  },
  {
   "cell_type": "code",
   "execution_count": 13,
   "id": "ec56b9ef",
   "metadata": {},
   "outputs": [],
   "source": [
    "import ctypes  # provides low-level arrays\n",
    "def make_array(n):\n",
    "    return (n * ctypes.py_object)()\n",
    "\n",
    "class ArrayList:\n",
    "    def __init__(self):\n",
    "        self.data = make_array(1)\n",
    "        self.capacity = 1\n",
    "        self.n = 0\n",
    "\n",
    "    def __len__(self):\n",
    "        return self.n\n",
    "\n",
    "\n",
    "    def append(self, val):\n",
    "        if (self.n == self.capacity):\n",
    "            self.resize(2 * self.capacity)\n",
    "        self.data[self.n] = val\n",
    "        self.n += 1\n",
    "\n",
    "    def resize(self, new_size):\n",
    "        new_array = make_array(new_size)\n",
    "        for i in range(self.n):\n",
    "            new_array[i] = self.data[i]\n",
    "        self.data = new_array\n",
    "        self.capacity = new_size\n",
    "\n",
    "    def extend(self, iter_collection):\n",
    "        for elem in iter_collection:\n",
    "            self.append(elem)\n",
    "\n",
    "\n",
    "    def __getitem__(self, ind):\n",
    "        if (not (-self.n <= ind <= self.n - 1)):\n",
    "            raise IndexError('invalid index')\n",
    "        if (ind < 0):\n",
    "            ind = self.n + ind\n",
    "        return self.data[ind]\n",
    "\n",
    "    def __setitem__(self, ind, val):\n",
    "        if (not (-self.n <= ind <= self.n - 1)):\n",
    "            raise IndexError('invalid index')\n",
    "        if (ind < 0):\n",
    "            ind = self.n + ind\n",
    "        self.data[ind] = val\n",
    "\n",
    "\n",
    "    def pop(self, ind = -1):\n",
    "        if (not (-self.n <= ind <= self.n - 1)):\n",
    "            raise IndexError('invalid index')\n",
    "        if (ind < 0):\n",
    "            ind = self.n + ind\n",
    "        elem = self.data[ind]\n",
    "        for i in range(ind+1, self.n):\n",
    "            self.data[i-1] = self.data[i]\n",
    "        self.data[self.n - 1] = None\n",
    "        self.n -= 1\n",
    "        if (self.n < self.capacity // 4):\n",
    "            self.resize(self.capacity // 2)\n",
    "        return elem\n",
    "\n",
    "    def insert(self, ind, value):\n",
    "        if (not (-self.n <= ind <= self.n - 1)):\n",
    "            raise IndexError('invalid index')\n",
    "        if (ind < 0):\n",
    "            ind = self.n + ind\n",
    "        if (self.n == self.capacity):\n",
    "            self.resize(2 * self.capacity)\n",
    "        for j in range(self.n, ind, -1):\n",
    "            self.data[j] = self.data[j - 1]\n",
    "        self.data[ind] = value\n",
    "        self.n += 1\n",
    "\n",
    "    def __repr__(self):\n",
    "        data_as_strings = [str(self.data[i]) for i in range(self.n)]\n",
    "        return '[' + ', '.join(data_as_strings) + ']'\n",
    "\n",
    "    def __add__(self, other):\n",
    "        res = ArrayList()\n",
    "        res.extend(self)\n",
    "        res.extend(other)\n",
    "        return res\n",
    "\n",
    "    def __iadd__(self, other):\n",
    "        self.extend(other)\n",
    "        return self\n",
    "\n",
    "    def __mul__(self, times):\n",
    "        res = ArrayList()\n",
    "        for i in range(times):\n",
    "            res.extend(self)\n",
    "        return res\n",
    "\n",
    "    def __rmul__(self, times):\n",
    "        return self * times\n",
    "\n",
    "\n",
    "class StaticArrayStack:\n",
    "    def __init__(self, max_capacity):\n",
    "        self.data = make_array(max_capacity)\n",
    "        self.capacity = max_capacity \n",
    "        self.n = 0\n",
    "\n",
    "    def __len__(self):\n",
    "        return self.n\n",
    "\n",
    "    def is_empty(self):\n",
    "        return (len(self) == 0)\n",
    "\n",
    "    def is_full(self):\n",
    "        return (len(self) == self.capacity)\n",
    "\n",
    "    def push(self, item):\n",
    "        if(self.is_full()):\n",
    "            raise Exception(\"Stack is full\")\n",
    "        self.data[self.n] = item\n",
    "        self.n += 1\n",
    "\n",
    "    def pop(self):\n",
    "        if (self.is_empty()):\n",
    "            raise Exception(\"Stack is empty\")\n",
    "        item = self.data[self.n - 1]\n",
    "        self.data[self.n - 1] = None\n",
    "        self.n -= 1\n",
    "        return item\n",
    "\n",
    "    def top(self):\n",
    "        if(self.is_empty()):\n",
    "            raise Exception(\"Stack is empty\")\n",
    "        return self.data[self.n - 1]\n",
    "\n",
    "\n",
    "\n",
    "class ArrayStack:\n",
    "    def __init__(self):\n",
    "        self.data = ArrayList()\n",
    "\n",
    "    def __len__(self):\n",
    "        return len(self.data)\n",
    "\n",
    "    def is_empty(self):\n",
    "        return len(self) == 0\n",
    "\n",
    "    def push(self, val):\n",
    "        self.data.append(val)\n",
    "\n",
    "    def top(self):\n",
    "        if (self.is_empty()):\n",
    "            raise Exception(\"Stack is empty\")\n",
    "        return self.data[-1]\n",
    "\n",
    "    def pop(self):\n",
    "        if (self.is_empty()):\n",
    "            raise Exception(\"Stack is empty\")\n",
    "        return self.data.pop()\n",
    "\n",
    "    "
   ]
  },
  {
   "cell_type": "code",
   "execution_count": null,
   "id": "9a9ea81f",
   "metadata": {},
   "outputs": [],
   "source": []
  },
  {
   "cell_type": "code",
   "execution_count": 36,
   "id": "324b7ebe",
   "metadata": {
    "scrolled": true
   },
   "outputs": [
    {
     "name": "stdout",
     "output_type": "stream",
     "text": [
      "--> x = 5 1 -\n",
      "x\n",
      "--> x\n",
      "4\n",
      "--> x x +\n",
      "8\n",
      "--> y = 1 x + 3 4 * - 2 /\n",
      "y\n",
      "--> y\n",
      "-3.5\n",
      "--> done()\n"
     ]
    }
   ],
   "source": [
    "# my solution:\n",
    "import ArrayStack\n",
    "\n",
    "operators=\"+-*/\"\n",
    "input_str = None\n",
    "letters = []\n",
    "for i in range(65, 91):\n",
    "    letters.append(chr(i))\n",
    "for i in range(97, 123):\n",
    "    letters.append(chr(i))\n",
    "letter_dic = {}\n",
    "\n",
    "def assign_val(exp_lst, args_stack):\n",
    "    for token in exp_lst[2:]:\n",
    "        if token in letters:\n",
    "            # call dictionary\n",
    "            args_stack.push(float(letter_dic[token]))\n",
    "        \n",
    "        elif not (token in operators):\n",
    "            args_stack.push(float(token))\n",
    "\n",
    "        else:    \n",
    "            arg2 = args_stack.pop() \n",
    "            arg1 = args_stack.pop()\n",
    "            if (token == \"+\"):\n",
    "                res = arg1+arg2\n",
    "            elif (token == \"-\"):\n",
    "                res = arg1-arg2\n",
    "            elif (token == \"*\"):\n",
    "                res = arg1*arg2\n",
    "            elif (token == \"/\"):\n",
    "                res = arg1/arg2\n",
    "            args_stack.push(res)\n",
    "    if (args_stack.top()-int(args_stack.top())) == 0:\n",
    "        letter_dic[exp_lst[0]] = int(args_stack.pop())\n",
    "    else:\n",
    "        letter_dic[exp_lst[0]] = args_stack.pop()\n",
    "    print(exp_lst[0])\n",
    "    \n",
    "def calculation(exp_lst,args_stack):\n",
    "    for token in exp_lst:\n",
    "        if token in letter_dic:\n",
    "            # call dictionary\n",
    "            args_stack.push(float(letter_dic[token]))\n",
    "        elif not (token in operators):\n",
    "            args_stack.push(float(token))\n",
    "        else:    \n",
    "            arg2 = args_stack.pop() \n",
    "            arg1 = args_stack.pop()\n",
    "            if (token == \"+\"):\n",
    "                res = arg1+arg2\n",
    "            elif (token == \"-\"):\n",
    "                res = arg1-arg2\n",
    "            elif (token == \"*\"):\n",
    "                res = arg1*arg2\n",
    "            elif (token == \"/\"):\n",
    "                res = arg1/arg2\n",
    "            args_stack.push(res)\n",
    "    if (args_stack.top()-int(args_stack.top())) == 0:\n",
    "        print(int(args_stack.pop()))\n",
    "    else:\n",
    "        print(args_stack.pop())\n",
    "\n",
    "while True:\n",
    "    input_str = (input(\"--> \"))\n",
    "    if input_str == input_str == \"done()\":\n",
    "        break\n",
    "    exp_lst = input_str.split()\n",
    "    args_stack = ArrayStack()\n",
    "    if len(exp_lst)>=2:\n",
    "        if exp_lst[1] == \"=\":\n",
    "            assign_val(exp_lst, args_stack)\n",
    "        else:\n",
    "            calculation(exp_lst,args_stack)\n",
    "    else:\n",
    "        calculation(exp_lst,args_stack)"
   ]
  },
  {
   "cell_type": "code",
   "execution_count": null,
   "id": "07c98960",
   "metadata": {},
   "outputs": [],
   "source": []
  },
  {
   "cell_type": "code",
   "execution_count": 19,
   "id": "3ec5d4da",
   "metadata": {},
   "outputs": [
    {
     "data": {
      "text/plain": [
       "['x', '=', '5', '4', '-']"
      ]
     },
     "execution_count": 19,
     "metadata": {},
     "output_type": "execute_result"
    }
   ],
   "source": [
    "word = \"x = 5 4 -\"\n",
    "word.split()"
   ]
  },
  {
   "cell_type": "code",
   "execution_count": 10,
   "id": "a8655645",
   "metadata": {},
   "outputs": [
    {
     "data": {
      "text/plain": [
       "['5', '2', '+']"
      ]
     },
     "execution_count": 10,
     "metadata": {},
     "output_type": "execute_result"
    }
   ],
   "source": [
    "exp_lst"
   ]
  },
  {
   "cell_type": "code",
   "execution_count": 11,
   "id": "6e5346dd",
   "metadata": {
    "scrolled": true
   },
   "outputs": [
    {
     "ename": "NameError",
     "evalue": "name 'user_input' is not defined",
     "output_type": "error",
     "traceback": [
      "\u001b[0;31m---------------------------------------------------------------------------\u001b[0m",
      "\u001b[0;31mNameError\u001b[0m                                 Traceback (most recent call last)",
      "\u001b[0;32m/var/folders/rd/q2lzfdss4b167026m7l6h8pm0000gn/T/ipykernel_1693/3145965905.py\u001b[0m in \u001b[0;36m<module>\u001b[0;34m\u001b[0m\n\u001b[0;32m----> 1\u001b[0;31m \u001b[0minput\u001b[0m\u001b[0;34m=\u001b[0m\u001b[0mint\u001b[0m\u001b[0;34m(\u001b[0m\u001b[0muser_input\u001b[0m\u001b[0;34m)\u001b[0m\u001b[0;34m\u001b[0m\u001b[0;34m\u001b[0m\u001b[0m\n\u001b[0m",
      "\u001b[0;31mNameError\u001b[0m: name 'user_input' is not defined"
     ]
    }
   ],
   "source": [
    "input=int(user_input)"
   ]
  },
  {
   "cell_type": "code",
   "execution_count": 12,
   "id": "9972e504",
   "metadata": {},
   "outputs": [
    {
     "ename": "IndentationError",
     "evalue": "unexpected indent (3276799823.py, line 2)",
     "output_type": "error",
     "traceback": [
      "\u001b[0;36m  File \u001b[0;32m\"/var/folders/rd/q2lzfdss4b167026m7l6h8pm0000gn/T/ipykernel_1693/3276799823.py\"\u001b[0;36m, line \u001b[0;32m2\u001b[0m\n\u001b[0;31m    exp_lst=exp_str.split()\u001b[0m\n\u001b[0m    ^\u001b[0m\n\u001b[0;31mIndentationError\u001b[0m\u001b[0;31m:\u001b[0m unexpected indent\n"
     ]
    }
   ],
   "source": [
    "operators=\"+-*/\"\n",
    "    exp_lst=exp_str.split()\n",
    "    args_stack = ArrayStack()\n",
    "    for token in exp_lst:\n",
    "        if not (token in operators):\n",
    "            args_stack.push(int(token))\n",
    "        else:\n",
    "            arg2 = args_stack.pop() # 要注意：第一个pop的是arg2\n",
    "            arg1 = args_stack.pop()\n",
    "            if (token == \"+\"):\n",
    "                res = arg1+arg2\n",
    "            elif (token == \"-\"):\n",
    "                res = arg1-arg2\n",
    "            elif (token == \"*\"):\n",
    "                res = arg1*arg2\n",
    "            elif (token == \"/\"):\n",
    "                res = arg1/arg2\n",
    "            args_stack.push(res)\n",
    "    return args_stack.pop()"
   ]
  },
  {
   "cell_type": "code",
   "execution_count": 20,
   "id": "19fbc787",
   "metadata": {},
   "outputs": [
    {
     "data": {
      "text/plain": [
       "['5', '4', '-']"
      ]
     },
     "execution_count": 20,
     "metadata": {},
     "output_type": "execute_result"
    }
   ],
   "source": [
    "exp_lst = word.split()\n",
    "exp_lst[2:]"
   ]
  },
  {
   "cell_type": "code",
   "execution_count": 27,
   "id": "2f2b959d",
   "metadata": {},
   "outputs": [
    {
     "data": {
      "text/plain": [
       "['done()']"
      ]
     },
     "execution_count": 27,
     "metadata": {},
     "output_type": "execute_result"
    }
   ],
   "source": [
    "end = 'done()'\n",
    "end.split()"
   ]
  },
  {
   "cell_type": "code",
   "execution_count": null,
   "id": "72dc3eac",
   "metadata": {},
   "outputs": [],
   "source": [
    "float"
   ]
  },
  {
   "cell_type": "code",
   "execution_count": 31,
   "id": "6dca4bda",
   "metadata": {},
   "outputs": [
    {
     "data": {
      "text/plain": [
       "1"
      ]
     },
     "execution_count": 31,
     "metadata": {},
     "output_type": "execute_result"
    }
   ],
   "source": [
    "a = int(1)\n",
    "a"
   ]
  },
  {
   "cell_type": "code",
   "execution_count": 33,
   "id": "94317f26",
   "metadata": {},
   "outputs": [
    {
     "data": {
      "text/plain": [
       "1.5"
      ]
     },
     "execution_count": 33,
     "metadata": {},
     "output_type": "execute_result"
    }
   ],
   "source": [
    "b = float(1.5)\n",
    "b"
   ]
  },
  {
   "cell_type": "code",
   "execution_count": 34,
   "id": "2ec6e850",
   "metadata": {},
   "outputs": [
    {
     "data": {
      "text/plain": [
       "2.5"
      ]
     },
     "execution_count": 34,
     "metadata": {},
     "output_type": "execute_result"
    }
   ],
   "source": [
    "a+b"
   ]
  },
  {
   "cell_type": "markdown",
   "id": "e38d53b4",
   "metadata": {},
   "source": [
    "# Question 2"
   ]
  },
  {
   "cell_type": "code",
   "execution_count": 38,
   "id": "12380488",
   "metadata": {},
   "outputs": [],
   "source": [
    "import ctypes  # provides low-level arrays\n",
    "def make_array(n):\n",
    "    return (n * ctypes.py_object)()\n",
    "\n",
    "class ArrayList:\n",
    "    def __init__(self):\n",
    "        self.data = make_array(1)\n",
    "        self.capacity = 1\n",
    "        self.n = 0\n",
    "\n",
    "    def __len__(self):\n",
    "        return self.n\n",
    "\n",
    "\n",
    "    def append(self, val):\n",
    "        if (self.n == self.capacity):\n",
    "            self.resize(2 * self.capacity)\n",
    "        self.data[self.n] = val\n",
    "        self.n += 1\n",
    "\n",
    "    def resize(self, new_size):\n",
    "        new_array = make_array(new_size)\n",
    "        for i in range(self.n):\n",
    "            new_array[i] = self.data[i]\n",
    "        self.data = new_array\n",
    "        self.capacity = new_size\n",
    "\n",
    "    def extend(self, iter_collection):\n",
    "        for elem in iter_collection:\n",
    "            self.append(elem)\n",
    "\n",
    "\n",
    "    def __getitem__(self, ind):\n",
    "        if (not (-self.n <= ind <= self.n - 1)):\n",
    "            raise IndexError('invalid index')\n",
    "        if (ind < 0):\n",
    "            ind = self.n + ind\n",
    "        return self.data[ind]\n",
    "\n",
    "    def __setitem__(self, ind, val):\n",
    "        if (not (-self.n <= ind <= self.n - 1)):\n",
    "            raise IndexError('invalid index')\n",
    "        if (ind < 0):\n",
    "            ind = self.n + ind\n",
    "        self.data[ind] = val\n",
    "\n",
    "\n",
    "    def pop(self, ind = -1):\n",
    "        if (not (-self.n <= ind <= self.n - 1)):\n",
    "            raise IndexError('invalid index')\n",
    "        if (ind < 0):\n",
    "            ind = self.n + ind\n",
    "        elem = self.data[ind]\n",
    "        for i in range(ind+1, self.n):\n",
    "            self.data[i-1] = self.data[i]\n",
    "        self.data[self.n - 1] = None\n",
    "        self.n -= 1\n",
    "        if (self.n < self.capacity // 4):\n",
    "            self.resize(self.capacity // 2)\n",
    "        return elem\n",
    "\n",
    "    def insert(self, ind, value):\n",
    "        if (not (-self.n <= ind <= self.n - 1)):\n",
    "            raise IndexError('invalid index')\n",
    "        if (ind < 0):\n",
    "            ind = self.n + ind\n",
    "        if (self.n == self.capacity):\n",
    "            self.resize(2 * self.capacity)\n",
    "        for j in range(self.n, ind, -1):\n",
    "            self.data[j] = self.data[j - 1]\n",
    "        self.data[ind] = value\n",
    "        self.n += 1\n",
    "\n",
    "    def __repr__(self):\n",
    "        data_as_strings = [str(self.data[i]) for i in range(self.n)]\n",
    "        return '[' + ', '.join(data_as_strings) + ']'\n",
    "\n",
    "    def __add__(self, other):\n",
    "        res = ArrayList()\n",
    "        res.extend(self)\n",
    "        res.extend(other)\n",
    "        return res\n",
    "\n",
    "    def __iadd__(self, other):\n",
    "        self.extend(other)\n",
    "        return self\n",
    "\n",
    "    def __mul__(self, times):\n",
    "        res = ArrayList()\n",
    "        for i in range(times):\n",
    "            res.extend(self)\n",
    "        return res\n",
    "\n",
    "    def __rmul__(self, times):\n",
    "        return self * times\n",
    "\n",
    "class ArrayStack:\n",
    "    def __init__(self):\n",
    "        self.data = ArrayList()\n",
    "\n",
    "    def __len__(self):\n",
    "        return len(self.data)\n",
    "\n",
    "    def is_empty(self):\n",
    "        return len(self) == 0\n",
    "\n",
    "    def push(self, val):\n",
    "        self.data.append(val)\n",
    "\n",
    "    def top(self):\n",
    "        if (self.is_empty()):\n",
    "            raise Exception(\"Stack is empty\")\n",
    "        return self.data[-1]\n",
    "\n",
    "    def pop(self):\n",
    "        if (self.is_empty()):\n",
    "            raise Exception(\"Stack is empty\")\n",
    "        return self.data.pop()"
   ]
  },
  {
   "cell_type": "code",
   "execution_count": 232,
   "id": "5cd28018",
   "metadata": {},
   "outputs": [],
   "source": [
    "# import ArrayStack\n",
    "class MaxStack():\n",
    "    def __init__(self):\n",
    "        self.data = ArrayStack()\n",
    "        self._max = None        \n",
    "\n",
    "    def __len__(self):\n",
    "        return len(self.data)\n",
    "\n",
    "    def is_empty(self):\n",
    "        return len(self) == 0\n",
    "\n",
    "    def push(self, val):\n",
    "        self.data.push((val,self._max))\n",
    "        if self._max is None or self._max < val:\n",
    "            self._max = val\n",
    "\n",
    "    def top(self):\n",
    "        if self.is_empty():\n",
    "            raise Exception(\"MaxStack is empty\")\n",
    "        return self.data.top()[0] # 这里必须是self.data.top()[0]而不是self.data.top[-1][0]\n",
    "\n",
    "    def pop(self):\n",
    "        if self.is_empty():\n",
    "            raise Exception(\"MaxStack is empty\")\n",
    "        return_tup = self.data.pop()\n",
    "        if return_tup[1] is None or return_tup[1] < self._max:\n",
    "            self._max = return_tup[1]\n",
    "        return return_tup[0]\n",
    "\n",
    "    \n",
    "    def max(self):\n",
    "        if self.is_empty():\n",
    "            raise Exception(\"MaxStack is empty\")\n",
    "        return self._max        "
   ]
  },
  {
   "cell_type": "code",
   "execution_count": 233,
   "id": "3cd4a040",
   "metadata": {},
   "outputs": [],
   "source": [
    "maxS = MaxStack()"
   ]
  },
  {
   "cell_type": "code",
   "execution_count": 234,
   "id": "e24d4888",
   "metadata": {},
   "outputs": [],
   "source": [
    "maxS.push(3) # (3,0)"
   ]
  },
  {
   "cell_type": "code",
   "execution_count": 235,
   "id": "547a8dc7",
   "metadata": {},
   "outputs": [],
   "source": [
    "maxS.push(1) # (1,3)"
   ]
  },
  {
   "cell_type": "code",
   "execution_count": 236,
   "id": "36a40d63",
   "metadata": {},
   "outputs": [],
   "source": [
    "maxS.push(6) # (6,3)"
   ]
  },
  {
   "cell_type": "code",
   "execution_count": 237,
   "id": "58425801",
   "metadata": {},
   "outputs": [],
   "source": [
    "maxS.push(4) # (6,6)"
   ]
  },
  {
   "cell_type": "code",
   "execution_count": 238,
   "id": "516bc3f5",
   "metadata": {},
   "outputs": [
    {
     "data": {
      "text/plain": [
       "6"
      ]
     },
     "execution_count": 238,
     "metadata": {},
     "output_type": "execute_result"
    }
   ],
   "source": [
    "maxS.max()"
   ]
  },
  {
   "cell_type": "code",
   "execution_count": 239,
   "id": "d46aae28",
   "metadata": {},
   "outputs": [
    {
     "data": {
      "text/plain": [
       "4"
      ]
     },
     "execution_count": 239,
     "metadata": {},
     "output_type": "execute_result"
    }
   ],
   "source": [
    "maxS.pop()"
   ]
  },
  {
   "cell_type": "code",
   "execution_count": 240,
   "id": "a946843f",
   "metadata": {},
   "outputs": [
    {
     "data": {
      "text/plain": [
       "6"
      ]
     },
     "execution_count": 240,
     "metadata": {},
     "output_type": "execute_result"
    }
   ],
   "source": [
    "maxS.pop()"
   ]
  },
  {
   "cell_type": "code",
   "execution_count": 241,
   "id": "29d7b234",
   "metadata": {},
   "outputs": [
    {
     "data": {
      "text/plain": [
       "3"
      ]
     },
     "execution_count": 241,
     "metadata": {},
     "output_type": "execute_result"
    }
   ],
   "source": [
    "maxS.max()"
   ]
  },
  {
   "cell_type": "markdown",
   "id": "b1c496e8",
   "metadata": {},
   "source": [
    "# Question 3"
   ]
  },
  {
   "cell_type": "markdown",
   "id": "0fd33e37",
   "metadata": {},
   "source": [
    "## Import"
   ]
  },
  {
   "cell_type": "code",
   "execution_count": 163,
   "id": "6ba3833d",
   "metadata": {},
   "outputs": [],
   "source": [
    "import ctypes  # provides low-level arrays\n",
    "def make_array(n):\n",
    "    return (n * ctypes.py_object)()\n",
    "\n",
    "class ArrayDeque:\n",
    "    INITIAL_CAPACITY = 8\n",
    "    \n",
    "    def __init__(self):\n",
    "        self.data = make_array(ArrayDeque.INITIAL_CAPACITY)\n",
    "        self.num_of_elems = 0\n",
    "        self.front_ind = None\n",
    "        self.back_ind = None\n",
    "\n",
    "    def __len__(self):\n",
    "        return self.num_of_elems\n",
    "\n",
    "    def is_empty(self):\n",
    "        return (self.num_of_elems == 0)\n",
    "\n",
    "    def enqueue_first(self, elem):\n",
    "        if (self.num_of_elems == len(self.data)):\n",
    "            self.resize(2 * len(self.data))\n",
    "        if (self.is_empty()):\n",
    "            self.data[0] = elem\n",
    "            self.front_ind = 0\n",
    "            self.back_ind = 0\n",
    "            self.num_of_elems = 1\n",
    "        else:\n",
    "            self.front_ind = (self.front_ind - 1) % len(self.data)\n",
    "            self.data[self.front_ind] = elem\n",
    "            self.num_of_elems += 1\n",
    "\n",
    "    def enqueue_last(self, elem):\n",
    "        if(self.num_of_elems == len(self.data)):\n",
    "            self.resize(2 * len(self.data))\n",
    "        if (self.is_empty()):\n",
    "            self.data[0] = elem\n",
    "            self.front_ind = 0\n",
    "            self.back_ind = 0\n",
    "            self.num_of_elems = 1\n",
    "        else:\n",
    "            self.back_ind = (self.back_ind + 1) % len(self.data)\n",
    "            self.data[self.back_ind] = elem\n",
    "            self.num_of_elems += 1\n",
    "\n",
    "    def dequeue_first(self):\n",
    "        if (self.is_empty()):\n",
    "            raise Exception(\"Queue is empty\")\n",
    "        value = self.data[self.front_ind]\n",
    "        self.data[self.front_ind] = None\n",
    "        self.front_ind = (self.front_ind + 1) % len(self.data)\n",
    "        self.num_of_elems -= 1\n",
    "        if(self.is_empty()):\n",
    "            self.front_ind = None\n",
    "            self.back_ind = None\n",
    "        elif(self.num_of_elems < len(self.data) // 4):\n",
    "            self.resize(len(self.data) // 2)\n",
    "        return value\n",
    "\n",
    "    def dequeue_last(self):\n",
    "        if (self.is_empty()):\n",
    "            raise Exception(\"Queue is empty\")\n",
    "        value = self.data[self.back_ind]\n",
    "        self.data[self.back_ind] = None\n",
    "        self.back_ind = (self.back_ind - 1) % len(self.data)\n",
    "        self.num_of_elems -= 1\n",
    "        if(self.is_empty()):\n",
    "            self.front_ind = None\n",
    "            self.back_ind = None\n",
    "        elif(self.num_of_elems < len(self.data) // 4):\n",
    "            self.resize(len(self.data) // 2)\n",
    "        return value\n",
    "\n",
    "    def first(self):\n",
    "        if self.is_empty():\n",
    "            raise Exception(\"Queue is empty\")\n",
    "        return self.data[self.front_ind]\n",
    "\n",
    "    def last(self):\n",
    "        if self.is_empty():\n",
    "            raise Exception(\"Queue is empty\")\n",
    "        return self.data[self.back_ind]\n",
    "\n",
    "    def resize(self, new_cap):\n",
    "        old_data = self.data\n",
    "        new_data = make_array(new_cap)\n",
    "        old_ind = self.front_ind\n",
    "        for new_ind in range(self.num_of_elems):\n",
    "            new_data[new_ind] = old_data[old_ind]\n",
    "            old_ind = (old_ind + 1) % len(old_data)\n",
    "        self.data = new_data\n",
    "        self.front_ind = 0\n",
    "        self.back_ind = self.front_ind + self.num_of_elems - 1"
   ]
  },
  {
   "cell_type": "code",
   "execution_count": 164,
   "id": "89a13ad2",
   "metadata": {},
   "outputs": [],
   "source": [
    "import ctypes  # provides low-level arrays\n",
    "def make_array(n):\n",
    "    return (n * ctypes.py_object)()\n",
    "\n",
    "class ArrayList:\n",
    "    def __init__(self):\n",
    "        self.data = make_array(1)\n",
    "        self.capacity = 1\n",
    "        self.n = 0\n",
    "\n",
    "    def __len__(self):\n",
    "        return self.n\n",
    "\n",
    "\n",
    "    def append(self, val):\n",
    "        if (self.n == self.capacity):\n",
    "            self.resize(2 * self.capacity)\n",
    "        self.data[self.n] = val\n",
    "        self.n += 1\n",
    "\n",
    "    def resize(self, new_size):\n",
    "        new_array = make_array(new_size)\n",
    "        for i in range(self.n):\n",
    "            new_array[i] = self.data[i]\n",
    "        self.data = new_array\n",
    "        self.capacity = new_size\n",
    "\n",
    "    def extend(self, iter_collection):\n",
    "        for elem in iter_collection:\n",
    "            self.append(elem)\n",
    "\n",
    "\n",
    "    def __getitem__(self, ind):\n",
    "        if (not (-self.n <= ind <= self.n - 1)):\n",
    "            raise IndexError('invalid index')\n",
    "        if (ind < 0):\n",
    "            ind = self.n + ind\n",
    "        return self.data[ind]\n",
    "\n",
    "    def __setitem__(self, ind, val):\n",
    "        if (not (-self.n <= ind <= self.n - 1)):\n",
    "            raise IndexError('invalid index')\n",
    "        if (ind < 0):\n",
    "            ind = self.n + ind\n",
    "        self.data[ind] = val\n",
    "\n",
    "\n",
    "    def pop(self, ind = -1):\n",
    "        if (not (-self.n <= ind <= self.n - 1)):\n",
    "            raise IndexError('invalid index')\n",
    "        if (ind < 0):\n",
    "            ind = self.n + ind\n",
    "        elem = self.data[ind]\n",
    "        for i in range(ind+1, self.n):\n",
    "            self.data[i-1] = self.data[i]\n",
    "        self.data[self.n - 1] = None\n",
    "        self.n -= 1\n",
    "        if (self.n < self.capacity // 4):\n",
    "            self.resize(self.capacity // 2)\n",
    "        return elem\n",
    "\n",
    "    def insert(self, ind, value):\n",
    "        if (not (-self.n <= ind <= self.n - 1)):\n",
    "            raise IndexError('invalid index')\n",
    "        if (ind < 0):\n",
    "            ind = self.n + ind\n",
    "        if (self.n == self.capacity):\n",
    "            self.resize(2 * self.capacity)\n",
    "        for j in range(self.n, ind, -1):\n",
    "            self.data[j] = self.data[j - 1]\n",
    "        self.data[ind] = value\n",
    "        self.n += 1\n",
    "\n",
    "    def __repr__(self):\n",
    "        data_as_strings = [str(self.data[i]) for i in range(self.n)]\n",
    "        return '[' + ', '.join(data_as_strings) + ']'\n",
    "\n",
    "    def __add__(self, other):\n",
    "        res = ArrayList()\n",
    "        res.extend(self)\n",
    "        res.extend(other)\n",
    "        return res\n",
    "\n",
    "    def __iadd__(self, other):\n",
    "        self.extend(other)\n",
    "        return self\n",
    "\n",
    "    def __mul__(self, times):\n",
    "        res = ArrayList()\n",
    "        for i in range(times):\n",
    "            res.extend(self)\n",
    "        return res\n",
    "\n",
    "    def __rmul__(self, times):\n",
    "        return self * times"
   ]
  },
  {
   "cell_type": "code",
   "execution_count": 165,
   "id": "c8406487",
   "metadata": {},
   "outputs": [],
   "source": [
    "import ctypes  # provides low-level arrays\n",
    "def make_array(n):\n",
    "    return (n * ctypes.py_object)()\n",
    "\n",
    "class StaticArrayStack:\n",
    "    def __init__(self, max_capacity):\n",
    "        self.data = make_array(max_capacity)\n",
    "        self.capacity = max_capacity \n",
    "        self.n = 0\n",
    "\n",
    "    def __len__(self):\n",
    "        return self.n\n",
    "\n",
    "    def is_empty(self):\n",
    "        return (len(self) == 0)\n",
    "\n",
    "    def is_full(self):\n",
    "        return (len(self) == self.capacity)\n",
    "\n",
    "    def push(self, item):\n",
    "        if(self.is_full()):\n",
    "            raise Exception(\"Stack is full\")\n",
    "        self.data[self.n] = item\n",
    "        self.n += 1\n",
    "\n",
    "    def pop(self):\n",
    "        if (self.is_empty()):\n",
    "            raise Exception(\"Stack is empty\")\n",
    "        item = self.data[self.n - 1]\n",
    "        self.data[self.n - 1] = None\n",
    "        self.n -= 1\n",
    "        return item\n",
    "\n",
    "    def top(self):\n",
    "        if(self.is_empty()):\n",
    "            raise Exception(\"Stack is empty\")\n",
    "        return self.data[self.n - 1]\n",
    "\n",
    "\n",
    "\n",
    "class ArrayStack:\n",
    "    def __init__(self):\n",
    "        self.data = ArrayList()\n",
    "\n",
    "    def __len__(self):\n",
    "        return len(self.data)\n",
    "\n",
    "    def is_empty(self):\n",
    "        return len(self) == 0\n",
    "\n",
    "    def push(self, val):\n",
    "        self.data.append(val)\n",
    "\n",
    "    def top(self):\n",
    "        if (self.is_empty()):\n",
    "            raise Exception(\"Stack is empty\")\n",
    "        return self.data[-1]\n",
    "\n",
    "    def pop(self):\n",
    "        if (self.is_empty()):\n",
    "            raise Exception(\"Stack is empty\")\n",
    "        return self.data.pop()\n"
   ]
  },
  {
   "cell_type": "markdown",
   "id": "08d6e095",
   "metadata": {},
   "source": [
    "## Code Solution"
   ]
  },
  {
   "cell_type": "code",
   "execution_count": 166,
   "id": "0fde7cfd",
   "metadata": {},
   "outputs": [],
   "source": [
    "class MidStack():\n",
    "    def __init__(self):\n",
    "        self.front = ArrayStack()\n",
    "        self.back = ArrayDeque()\n",
    "        \n",
    "    def __len__(self):\n",
    "        return len(self.front) + len(self.back)\n",
    "    \n",
    "    def is_empty(self):\n",
    "        return len(self) == 0\n",
    "    \n",
    "    def push(self, val):\n",
    "        self.back.enqueue_last(val)\n",
    "        if (len(self.front.data) == self.back.num_of_elems) or (self.back.num_of_elems-len(self.front.data)==1):\n",
    "            return_val = self.back.dequeue_first()\n",
    "            self.front.push(return_val)\n",
    "        return\n",
    "    \n",
    "    def top(self):\n",
    "        return self.back.last()\n",
    "    \n",
    "    def pop(self):\n",
    "        if self.is_empty():\n",
    "            raise Exception(\"Midstack is empty\")\n",
    "        if len(self.front.data)-self.back.num_of_elems>=1:\n",
    "            self.back.enqueue_first(self.front.pop())\n",
    "        pop_val = self.back.dequeue_last()\n",
    "        return pop_val\n",
    "\n",
    "    def mid_push(self, val):\n",
    "        if len(self.front.data)>self.back.num_of_elems:\n",
    "            self.back.enqueue_first(val)\n",
    "        else:\n",
    "            self.front.push(val)"
   ]
  },
  {
   "cell_type": "code",
   "execution_count": 167,
   "id": "451aae09",
   "metadata": {},
   "outputs": [],
   "source": [
    "midS = MidStack()"
   ]
  },
  {
   "cell_type": "code",
   "execution_count": 168,
   "id": "fa312d79",
   "metadata": {},
   "outputs": [],
   "source": [
    "midS.push(2)"
   ]
  },
  {
   "cell_type": "code",
   "execution_count": 169,
   "id": "e2cf0ee2",
   "metadata": {},
   "outputs": [],
   "source": [
    "midS.push(4)"
   ]
  },
  {
   "cell_type": "code",
   "execution_count": 170,
   "id": "e47f5347",
   "metadata": {},
   "outputs": [],
   "source": [
    "midS.push(6)"
   ]
  },
  {
   "cell_type": "code",
   "execution_count": 171,
   "id": "0778888a",
   "metadata": {},
   "outputs": [],
   "source": [
    "midS.push(8)"
   ]
  },
  {
   "cell_type": "code",
   "execution_count": 172,
   "id": "ce059a0a",
   "metadata": {},
   "outputs": [],
   "source": [
    "midS.mid_push(10)"
   ]
  },
  {
   "cell_type": "code",
   "execution_count": 173,
   "id": "69fb3479",
   "metadata": {},
   "outputs": [
    {
     "data": {
      "text/plain": [
       "8"
      ]
     },
     "execution_count": 173,
     "metadata": {},
     "output_type": "execute_result"
    }
   ],
   "source": [
    "midS.pop()"
   ]
  },
  {
   "cell_type": "code",
   "execution_count": 174,
   "id": "08147c3f",
   "metadata": {},
   "outputs": [
    {
     "data": {
      "text/plain": [
       "10"
      ]
     },
     "execution_count": 174,
     "metadata": {},
     "output_type": "execute_result"
    }
   ],
   "source": [
    "midS.pop()"
   ]
  },
  {
   "cell_type": "code",
   "execution_count": 175,
   "id": "488b62af",
   "metadata": {},
   "outputs": [
    {
     "data": {
      "text/plain": [
       "6"
      ]
     },
     "execution_count": 175,
     "metadata": {},
     "output_type": "execute_result"
    }
   ],
   "source": [
    "midS.pop()"
   ]
  },
  {
   "cell_type": "code",
   "execution_count": 176,
   "id": "2dab00b2",
   "metadata": {},
   "outputs": [
    {
     "data": {
      "text/plain": [
       "4"
      ]
     },
     "execution_count": 176,
     "metadata": {},
     "output_type": "execute_result"
    }
   ],
   "source": [
    "midS.pop()"
   ]
  },
  {
   "cell_type": "code",
   "execution_count": 177,
   "id": "7c292fc7",
   "metadata": {},
   "outputs": [
    {
     "data": {
      "text/plain": [
       "2"
      ]
     },
     "execution_count": 177,
     "metadata": {},
     "output_type": "execute_result"
    }
   ],
   "source": [
    "midS.pop()"
   ]
  },
  {
   "cell_type": "markdown",
   "id": "fd43700b",
   "metadata": {},
   "source": [
    "# Question 4"
   ]
  },
  {
   "cell_type": "code",
   "execution_count": 179,
   "id": "8043bd83",
   "metadata": {},
   "outputs": [],
   "source": [
    "class Queue:\n",
    "    \n",
    "    def __init__(self):\n",
    "        self.stack1 = ArrayStack()\n",
    "        self.stack2 = ArrayStack()\n",
    "\n",
    "    def __len__(self):\n",
    "        return len(self.stack1)+len(self.stack2)\n",
    "\n",
    "    def is_empty(self):\n",
    "        return (len(self) == 0)\n",
    "\n",
    "    def enqueue(self, elem): # last\n",
    "        self.stack1.push(elem)\n",
    "    \n",
    "    def dequeue(self): # first\n",
    "        if self.is_empty():\n",
    "            raise Exception(\"Queue is empty\")\n",
    "        if self.stack2.is_empty():\n",
    "            for i in range(len(self.stack1)):\n",
    "                self.stack2.push(self.stack1.pop())\n",
    "        return self.stack2.pop()\n",
    "    def first(self):\n",
    "        if self.is_empty():\n",
    "            raise Exception(\"Queue is empty\")\n",
    "        if self.stack1.is_empty():\n",
    "            for i in range(len(self.stack2)):\n",
    "                self.stack1.push(self.stack2.pop())\n",
    "        return self.stack1.top()\n"
   ]
  },
  {
   "cell_type": "code",
   "execution_count": 180,
   "id": "2e35ddb6",
   "metadata": {},
   "outputs": [],
   "source": [
    "fake = Queque()"
   ]
  },
  {
   "cell_type": "code",
   "execution_count": 181,
   "id": "6c2f4276",
   "metadata": {},
   "outputs": [],
   "source": [
    "fake.enqueue(1)"
   ]
  },
  {
   "cell_type": "code",
   "execution_count": 182,
   "id": "11ad9c39",
   "metadata": {},
   "outputs": [],
   "source": [
    "fake.enqueue(3)"
   ]
  },
  {
   "cell_type": "code",
   "execution_count": 191,
   "id": "e7eaca69",
   "metadata": {},
   "outputs": [
    {
     "ename": "Exception",
     "evalue": "Queue is empty",
     "output_type": "error",
     "traceback": [
      "\u001b[0;31m---------------------------------------------------------------------------\u001b[0m",
      "\u001b[0;31mException\u001b[0m                                 Traceback (most recent call last)",
      "\u001b[0;32m/var/folders/rd/q2lzfdss4b167026m7l6h8pm0000gn/T/ipykernel_1693/2560414863.py\u001b[0m in \u001b[0;36m<module>\u001b[0;34m\u001b[0m\n\u001b[0;32m----> 1\u001b[0;31m \u001b[0mfake\u001b[0m\u001b[0;34m.\u001b[0m\u001b[0mfirst\u001b[0m\u001b[0;34m(\u001b[0m\u001b[0;34m)\u001b[0m\u001b[0;34m\u001b[0m\u001b[0;34m\u001b[0m\u001b[0m\n\u001b[0m",
      "\u001b[0;32m/var/folders/rd/q2lzfdss4b167026m7l6h8pm0000gn/T/ipykernel_1693/2494414482.py\u001b[0m in \u001b[0;36mfirst\u001b[0;34m(self)\u001b[0m\n\u001b[1;32m     23\u001b[0m     \u001b[0;32mdef\u001b[0m \u001b[0mfirst\u001b[0m\u001b[0;34m(\u001b[0m\u001b[0mself\u001b[0m\u001b[0;34m)\u001b[0m\u001b[0;34m:\u001b[0m\u001b[0;34m\u001b[0m\u001b[0;34m\u001b[0m\u001b[0m\n\u001b[1;32m     24\u001b[0m         \u001b[0;32mif\u001b[0m \u001b[0mself\u001b[0m\u001b[0;34m.\u001b[0m\u001b[0mis_empty\u001b[0m\u001b[0;34m(\u001b[0m\u001b[0;34m)\u001b[0m\u001b[0;34m:\u001b[0m\u001b[0;34m\u001b[0m\u001b[0;34m\u001b[0m\u001b[0m\n\u001b[0;32m---> 25\u001b[0;31m             \u001b[0;32mraise\u001b[0m \u001b[0mException\u001b[0m\u001b[0;34m(\u001b[0m\u001b[0;34m\"Queue is empty\"\u001b[0m\u001b[0;34m)\u001b[0m\u001b[0;34m\u001b[0m\u001b[0;34m\u001b[0m\u001b[0m\n\u001b[0m\u001b[1;32m     26\u001b[0m         \u001b[0;32mif\u001b[0m \u001b[0mself\u001b[0m\u001b[0;34m.\u001b[0m\u001b[0mstack1\u001b[0m\u001b[0;34m.\u001b[0m\u001b[0mis_empty\u001b[0m\u001b[0;34m(\u001b[0m\u001b[0;34m)\u001b[0m\u001b[0;34m:\u001b[0m\u001b[0;34m\u001b[0m\u001b[0;34m\u001b[0m\u001b[0m\n\u001b[1;32m     27\u001b[0m             \u001b[0;32mfor\u001b[0m \u001b[0mi\u001b[0m \u001b[0;32min\u001b[0m \u001b[0mrange\u001b[0m\u001b[0;34m(\u001b[0m\u001b[0mlen\u001b[0m\u001b[0;34m(\u001b[0m\u001b[0mself\u001b[0m\u001b[0;34m.\u001b[0m\u001b[0mstack2\u001b[0m\u001b[0;34m)\u001b[0m\u001b[0;34m)\u001b[0m\u001b[0;34m:\u001b[0m\u001b[0;34m\u001b[0m\u001b[0;34m\u001b[0m\u001b[0m\n",
      "\u001b[0;31mException\u001b[0m: Queue is empty"
     ]
    }
   ],
   "source": [
    "fake.first()"
   ]
  },
  {
   "cell_type": "code",
   "execution_count": 185,
   "id": "3c0a9b27",
   "metadata": {},
   "outputs": [],
   "source": [
    "fake.enqueue(4)"
   ]
  },
  {
   "cell_type": "code",
   "execution_count": 190,
   "id": "2f5b447b",
   "metadata": {},
   "outputs": [
    {
     "data": {
      "text/plain": [
       "4"
      ]
     },
     "execution_count": 190,
     "metadata": {},
     "output_type": "execute_result"
    }
   ],
   "source": [
    "fake.dequeue()"
   ]
  },
  {
   "cell_type": "markdown",
   "id": "e4527923",
   "metadata": {},
   "source": [
    "# Question 5"
   ]
  },
  {
   "cell_type": "code",
   "execution_count": 193,
   "id": "3c5dce34",
   "metadata": {},
   "outputs": [],
   "source": [
    "import ctypes  # provides low-level arrays\n",
    "def make_array(n):\n",
    "    return (n * ctypes.py_object)()\n",
    "\n",
    "\n",
    "class StaticArrayQueue:\n",
    "    def __init__(self, max_cap):\n",
    "        self.data_arr = make_array(max_cap)\n",
    "        self.capacity = max_cap\n",
    "        self.n = 0\n",
    "        self.front_ind = None\n",
    "\n",
    "    def __len__(self):\n",
    "        return self.n\n",
    "\n",
    "    def is_empty(self):\n",
    "        return (len(self) == 0)\n",
    "\n",
    "    def is_full(self):\n",
    "        return (self.n == self.capacity)\n",
    "\n",
    "    def enqueue(self, item):\n",
    "        if(self.is_full()):\n",
    "            raise Exception(\"Queue is full\")\n",
    "        elif(self.is_empty()):\n",
    "            self.data_arr[0] = item\n",
    "            self.front_ind = 0\n",
    "            self.n += 1\n",
    "        else:\n",
    "            back_ind = (self.front_ind + self.n) % self.capacity\n",
    "            self.data_arr[back_ind] = item\n",
    "            self.n += 1\n",
    "\n",
    "    def dequeue(self):\n",
    "        if(self.is_empty()):\n",
    "            raise Exception(\"Queue is empty\")\n",
    "        value = self.data_arr[self.front_ind]\n",
    "        self.data_arr[self.front_ind] = None\n",
    "        self.front_ind = (self.front_ind + 1) % self.capacity\n",
    "        self.n -= 1\n",
    "        if(self.is_empty()):\n",
    "            self.front_ind = None\n",
    "        return value\n",
    "\n",
    "    def first(self):\n",
    "        if(self.is_empty()):\n",
    "            raise Exception(\"Queue is empty\")\n",
    "        return self.data_arr[self.front_ind]\n",
    "\n",
    "\n",
    "\n",
    "\n",
    "class ArrayQueue:\n",
    "    INITIAL_CAPACITY = 8\n",
    "\n",
    "    def __init__(self):\n",
    "        self.data_arr = make_array(ArrayQueue.INITIAL_CAPACITY)\n",
    "        self.capacity = ArrayQueue.INITIAL_CAPACITY\n",
    "        self.n = 0\n",
    "        self.front_ind = None\n",
    "\n",
    "    def __len__(self):\n",
    "        return self.n\n",
    "\n",
    "    def is_empty(self):\n",
    "        return (len(self) == 0)\n",
    "\n",
    "    def enqueue(self, elem):\n",
    "        if (self.n == self.capacity):\n",
    "            self.resize(2 * self.capacity)\n",
    "        if (self.is_empty()):\n",
    "            self.data_arr[0] = elem\n",
    "            self.front_ind = 0\n",
    "            self.n += 1\n",
    "        else:\n",
    "            back_ind = (self.front_ind + self.n) % self.capacity\n",
    "            self.data_arr[back_ind] = elem\n",
    "            self.n += 1\n",
    "\n",
    "    def dequeue(self):\n",
    "        if (self.is_empty()):\n",
    "            raise Exception(\"Queue is empty\")\n",
    "        value = self.data_arr[self.front_ind]\n",
    "        self.data_arr[self.front_ind] = None\n",
    "        self.front_ind = (self.front_ind + 1) % self.capacity\n",
    "        self.n -= 1\n",
    "        if(self.is_empty()):\n",
    "            self.front_ind = None\n",
    "        if((self.n < self.capacity // 4) and\n",
    "                (self.capacity > ArrayQueue.INITIAL_CAPACITY)):\n",
    "            self.resize(self.capacity // 2)\n",
    "        return value\n",
    "\n",
    "    def first(self):\n",
    "        if self.is_empty():\n",
    "            raise Exception(\"Queue is empty\")\n",
    "        return self.data_arr[self.front_ind]\n",
    "\n",
    "    def resize(self, new_cap):\n",
    "        new_data = make_array(new_cap)\n",
    "        old_ind = self.front_ind\n",
    "        for new_ind in range(self.n):\n",
    "            new_data[new_ind] = self.data_arr[old_ind]\n",
    "            old_ind = (old_ind + 1) % self.capacity\n",
    "        self.data_arr = new_data\n",
    "        self.capacity = new_cap\n",
    "        self.front_ind = 0"
   ]
  },
  {
   "cell_type": "code",
   "execution_count": null,
   "id": "7d2b919c",
   "metadata": {},
   "outputs": [],
   "source": [
    "def permutations(lst):\n",
    "    \n",
    "    "
   ]
  },
  {
   "cell_type": "code",
   "execution_count": null,
   "id": "ef630d6b",
   "metadata": {},
   "outputs": [],
   "source": [
    "#1\n",
    "def permutations(lst):\n",
    "    s = ArrayStack()\n",
    "    q = ArrayQueue()\n",
    "    for elem in lst:\n",
    "        s.push(elem)\n",
    "    while (): # stack里面不为0的时候\n",
    "        q.enqueue(s.pop())\n",
    "        for i in range(length):\n",
    "    \n",
    "    q.enqueue(s.pop())\n",
    "    lst.append(q.first())\n",
    "    length = len(lst)\n",
    "    while not s.is_empty():\n",
    "        for i in range(length):\n",
    "            q.enqueue(s.top())\n",
    "            #换顺序\n",
    "            for i in range(len(q)):\n",
    "                q.enqueue(q.dequeue)\n",
    "                perm = [q.dequeue() for i in range(len(q))]\n",
    "                lst.append(perm)\n",
    "                for item in perm:\n",
    "                    q.enqueue(item)\n",
    "                while not q.is_empty():\n",
    "                    q.dequeue()\n",
    "            if i == length:\n",
    "                s.pop()"
   ]
  },
  {
   "cell_type": "code",
   "execution_count": 195,
   "id": "2b4a36d9",
   "metadata": {},
   "outputs": [],
   "source": [
    "elem_stack = ArrayStack()\n",
    "p_collection = ArrayQueue()\n",
    "lst = [1,2,3]"
   ]
  },
  {
   "cell_type": "code",
   "execution_count": 196,
   "id": "311f53b6",
   "metadata": {},
   "outputs": [],
   "source": [
    "for elem in lst:\n",
    "    elem_stack.push(elem)"
   ]
  },
  {
   "cell_type": "code",
   "execution_count": 199,
   "id": "a969e286",
   "metadata": {},
   "outputs": [
    {
     "data": {
      "text/plain": [
       "3"
      ]
     },
     "execution_count": 199,
     "metadata": {},
     "output_type": "execute_result"
    }
   ],
   "source": [
    "len(elem_stack)"
   ]
  },
  {
   "cell_type": "code",
   "execution_count": 200,
   "id": "ff7ca14e",
   "metadata": {},
   "outputs": [],
   "source": [
    "new_elem = elem_stack.pop()"
   ]
  },
  {
   "cell_type": "code",
   "execution_count": 201,
   "id": "0c1ce8f2",
   "metadata": {},
   "outputs": [
    {
     "data": {
      "text/plain": [
       "3"
      ]
     },
     "execution_count": 201,
     "metadata": {},
     "output_type": "execute_result"
    }
   ],
   "source": [
    "new_elem"
   ]
  },
  {
   "cell_type": "code",
   "execution_count": 202,
   "id": "80f0f9af",
   "metadata": {},
   "outputs": [],
   "source": [
    "p_collection.enqueue([new_elem])"
   ]
  },
  {
   "cell_type": "code",
   "execution_count": 204,
   "id": "addd6f9e",
   "metadata": {},
   "outputs": [
    {
     "data": {
      "text/plain": [
       "[3]"
      ]
     },
     "execution_count": 204,
     "metadata": {},
     "output_type": "execute_result"
    }
   ],
   "source": [
    "p_collection.first()"
   ]
  },
  {
   "cell_type": "code",
   "execution_count": 205,
   "id": "036cd808",
   "metadata": {},
   "outputs": [],
   "source": [
    "new_elem = elem_stack.pop()"
   ]
  },
  {
   "cell_type": "code",
   "execution_count": 206,
   "id": "742306ba",
   "metadata": {},
   "outputs": [
    {
     "data": {
      "text/plain": [
       "2"
      ]
     },
     "execution_count": 206,
     "metadata": {},
     "output_type": "execute_result"
    }
   ],
   "source": [
    "new_elem"
   ]
  },
  {
   "cell_type": "code",
   "execution_count": 207,
   "id": "8c95f27d",
   "metadata": {},
   "outputs": [
    {
     "data": {
      "text/plain": [
       "1"
      ]
     },
     "execution_count": 207,
     "metadata": {},
     "output_type": "execute_result"
    }
   ],
   "source": [
    "len(p_collection)"
   ]
  },
  {
   "cell_type": "code",
   "execution_count": 208,
   "id": "ee13fe7e",
   "metadata": {},
   "outputs": [],
   "source": [
    "old_p = p_collection.dequeue()"
   ]
  },
  {
   "cell_type": "code",
   "execution_count": 214,
   "id": "117bf6db",
   "metadata": {},
   "outputs": [
    {
     "data": {
      "text/plain": [
       "[3]"
      ]
     },
     "execution_count": 214,
     "metadata": {},
     "output_type": "execute_result"
    }
   ],
   "source": [
    "old_p"
   ]
  },
  {
   "cell_type": "code",
   "execution_count": 212,
   "id": "7869dbec",
   "metadata": {},
   "outputs": [],
   "source": [
    "import copy\n",
    "new_p = copy.copy(old_p)"
   ]
  },
  {
   "cell_type": "code",
   "execution_count": 213,
   "id": "bede3ce0",
   "metadata": {},
   "outputs": [
    {
     "data": {
      "text/plain": [
       "[3]"
      ]
     },
     "execution_count": 213,
     "metadata": {},
     "output_type": "execute_result"
    }
   ],
   "source": [
    "new_p"
   ]
  },
  {
   "cell_type": "code",
   "execution_count": 216,
   "id": "3c3098d6",
   "metadata": {},
   "outputs": [],
   "source": [
    "new_p.insert(0,new_elem)"
   ]
  },
  {
   "cell_type": "code",
   "execution_count": 217,
   "id": "a1b61d0c",
   "metadata": {},
   "outputs": [
    {
     "data": {
      "text/plain": [
       "[2, 3]"
      ]
     },
     "execution_count": 217,
     "metadata": {},
     "output_type": "execute_result"
    }
   ],
   "source": [
    "new_p"
   ]
  },
  {
   "cell_type": "code",
   "execution_count": 218,
   "id": "a7c36282",
   "metadata": {},
   "outputs": [],
   "source": [
    "p_collection.enqueue(new_p)"
   ]
  },
  {
   "cell_type": "code",
   "execution_count": 220,
   "id": "366f86b8",
   "metadata": {},
   "outputs": [
    {
     "data": {
      "text/plain": [
       "[2, 3]"
      ]
     },
     "execution_count": 220,
     "metadata": {},
     "output_type": "execute_result"
    }
   ],
   "source": [
    "p_collection.first()"
   ]
  },
  {
   "cell_type": "code",
   "execution_count": 226,
   "id": "693f7b86",
   "metadata": {},
   "outputs": [],
   "source": [
    "\n",
    "def permutations(lst):\n",
    "    store_stack = ArrayStack()\n",
    "    p_collection = ArrayQueue()\n",
    "    for item in lst:\n",
    "        store_stack.push(item)\n",
    "    \n",
    "    for i in range(len(store_stack)):\n",
    "        new_elem = store_stack.pop()\n",
    "        if p_collection.is_empty():\n",
    "            p_collection.enqueue([new_elem])\n",
    "        else:\n",
    "            for i in range(len(p_collection)): #一一对付p_collection里的lists\n",
    "                origin_p = p_collection.dequeue()\n",
    "                for i in range(len(origin_p)+1): #一一insert进这个list造成permutation\n",
    "                    perm_p = origin_p[:] #shallow_copy\n",
    "                    perm_p.insert(i,new_elem)\n",
    "                    p_collection.enqueue(perm_p)\n",
    "    return [p_collection.dequeue() for i in range(len(p_collection))]"
   ]
  },
  {
   "cell_type": "code",
   "execution_count": 227,
   "id": "46c645bf",
   "metadata": {},
   "outputs": [
    {
     "data": {
      "text/plain": [
       "[[1, 2, 3], [2, 1, 3], [2, 3, 1], [1, 3, 2], [3, 1, 2], [3, 2, 1]]"
      ]
     },
     "execution_count": 227,
     "metadata": {},
     "output_type": "execute_result"
    }
   ],
   "source": [
    "lst = [1,2,3]\n",
    "permutations(lst)"
   ]
  },
  {
   "cell_type": "code",
   "execution_count": null,
   "id": "43629f90",
   "metadata": {},
   "outputs": [],
   "source": []
  }
 ],
 "metadata": {
  "kernelspec": {
   "display_name": "Python 3 (ipykernel)",
   "language": "python",
   "name": "python3"
  },
  "language_info": {
   "codemirror_mode": {
    "name": "ipython",
    "version": 3
   },
   "file_extension": ".py",
   "mimetype": "text/x-python",
   "name": "python",
   "nbconvert_exporter": "python",
   "pygments_lexer": "ipython3",
   "version": "3.8.12"
  },
  "toc": {
   "base_numbering": 1,
   "nav_menu": {},
   "number_sections": true,
   "sideBar": true,
   "skip_h1_title": false,
   "title_cell": "Table of Contents",
   "title_sidebar": "Contents",
   "toc_cell": false,
   "toc_position": {},
   "toc_section_display": true,
   "toc_window_display": false
  }
 },
 "nbformat": 4,
 "nbformat_minor": 5
}
