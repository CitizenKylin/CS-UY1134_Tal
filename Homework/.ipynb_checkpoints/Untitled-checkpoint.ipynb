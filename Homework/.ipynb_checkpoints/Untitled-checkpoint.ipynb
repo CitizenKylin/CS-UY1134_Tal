{
 "cells": [
  {
   "cell_type": "code",
   "execution_count": 7,
   "id": "5fcb6dfe",
   "metadata": {},
   "outputs": [],
   "source": [
    "from LinkedBinaryTree import LinkedBinaryTree"
   ]
  },
  {
   "cell_type": "code",
   "execution_count": 6,
   "id": "c4bef46c",
   "metadata": {},
   "outputs": [
    {
     "ename": "ModuleNotFoundError",
     "evalue": "No module named 'ArrayQueue'",
     "output_type": "error",
     "traceback": [
      "\u001b[0;31m---------------------------------------------------------------------------\u001b[0m",
      "\u001b[0;31mModuleNotFoundError\u001b[0m                       Traceback (most recent call last)",
      "\u001b[0;32m/var/folders/rd/q2lzfdss4b167026m7l6h8pm0000gn/T/ipykernel_57629/1804470146.py\u001b[0m in \u001b[0;36m<module>\u001b[0;34m\u001b[0m\n\u001b[0;32m----> 1\u001b[0;31m \u001b[0;32mfrom\u001b[0m \u001b[0mArrayQueue\u001b[0m \u001b[0;32mimport\u001b[0m \u001b[0mArrayQueue\u001b[0m\u001b[0;34m\u001b[0m\u001b[0;34m\u001b[0m\u001b[0m\n\u001b[0m\u001b[1;32m      2\u001b[0m \u001b[0;34m\u001b[0m\u001b[0m\n\u001b[1;32m      3\u001b[0m \u001b[0;32mclass\u001b[0m \u001b[0mLinkedBinaryTree\u001b[0m\u001b[0;34m:\u001b[0m\u001b[0;34m\u001b[0m\u001b[0;34m\u001b[0m\u001b[0m\n\u001b[1;32m      4\u001b[0m \u001b[0;34m\u001b[0m\u001b[0m\n\u001b[1;32m      5\u001b[0m     \u001b[0;32mclass\u001b[0m \u001b[0mNode\u001b[0m\u001b[0;34m:\u001b[0m\u001b[0;34m\u001b[0m\u001b[0;34m\u001b[0m\u001b[0m\n",
      "\u001b[0;31mModuleNotFoundError\u001b[0m: No module named 'ArrayQueue'"
     ]
    }
   ],
   "source": [
    "from ArrayQueue import ArrayQueue\n",
    "\n",
    "class LinkedBinaryTree:\n",
    "\n",
    "    class Node:\n",
    "        def __init__(self, data, left=None, right=None):\n",
    "            self.data = data\n",
    "            self.parent = None\n",
    "            self.left = left\n",
    "            if (self.left is not None):\n",
    "                self.left.parent = self\n",
    "            self.right = right\n",
    "            if (self.right is not None):\n",
    "                self.right.parent = self\n",
    "\n",
    "    def __init__(self, root=None):\n",
    "        self.root = root\n",
    "        self.size = self.count_nodes()\n",
    "\n",
    "    def __len__(self):\n",
    "        return self.size\n",
    "\n",
    "    def is_empty(self):\n",
    "        return len(self) == 0\n",
    "\n",
    "\n",
    "    def count_nodes(self):\n",
    "        def subtree_count(root):\n",
    "            if (root is None):\n",
    "                return 0\n",
    "            else:\n",
    "                left_count = subtree_count(root.left)\n",
    "                right_count = subtree_count(root.right)\n",
    "                return 1 + left_count + right_count\n",
    "\n",
    "        return subtree_count(self.root)\n",
    "\n",
    "\n",
    "    def sum(self):\n",
    "        def subtree_sum(root):\n",
    "            if (root is None):\n",
    "                return 0\n",
    "            else:\n",
    "                left_sum = subtree_sum(root.left)\n",
    "                right_sum = subtree_sum(root.right)\n",
    "                return root.data + left_sum + right_sum\n",
    "\n",
    "        return subtree_sum(self.root)\n",
    "\n",
    "\n",
    "    def height(self):\n",
    "        def subtree_height(root):\n",
    "            if (root.left is None and root.right is None):\n",
    "                return 0\n",
    "            elif (root.left is None):\n",
    "                return 1 + subtree_height(root.right)\n",
    "            elif (root.right is None):\n",
    "                return 1 + subtree_height(root.left)\n",
    "            else:\n",
    "                left_height = subtree_height(root.left)\n",
    "                right_height = subtree_height(root.right)\n",
    "                return 1 + max(left_height, right_height)\n",
    "\n",
    "        if(self.is_empty()):\n",
    "            raise Exception(\"Tree is empty\")\n",
    "        return subtree_height(self.root)\n",
    "\n",
    "\n",
    "    def preorder(self):\n",
    "        def subtree_preorder(root):\n",
    "            if (root is None):\n",
    "                pass\n",
    "            else:\n",
    "                yield root\n",
    "                yield from subtree_preorder(root.left)\n",
    "                yield from subtree_preorder(root.right)\n",
    "\n",
    "        yield from subtree_preorder(self.root)\n",
    "\n",
    "\n",
    "    def postorder(self):\n",
    "        def subtree_postorder(root):\n",
    "            if (root is None):\n",
    "                pass\n",
    "            else:\n",
    "                yield from subtree_postorder(root.left)\n",
    "                yield from subtree_postorder(root.right)\n",
    "                yield root\n",
    "\n",
    "        yield from subtree_postorder(self.root)\n",
    "\n",
    "\n",
    "    def inorder(self):\n",
    "        def subtree_inorder(root):\n",
    "            if (root is None):\n",
    "                pass\n",
    "            else:\n",
    "                yield from subtree_inorder(root.left)\n",
    "                yield root\n",
    "                yield from subtree_inorder(root.right)\n",
    "\n",
    "        yield from subtree_inorder(self.root)\n",
    "\n",
    "\n",
    "    def breadth_first(self):\n",
    "        if (self.is_empty()):\n",
    "            return\n",
    "        line = ArrayQueue()\n",
    "        line.enqueue(self.root)\n",
    "        while (line.is_empty() == False):\n",
    "            curr_node = line.dequeue()\n",
    "            yield curr_node\n",
    "            if (curr_node.left is not None):\n",
    "                line.enqueue(curr_node.left)\n",
    "            if (curr_node.right is not None):\n",
    "                line.enqueue(curr_node.right)\n",
    "\n",
    "    def __iter__(self):\n",
    "        for node in self.breadth_first():\n",
    "            yield node.data\n"
   ]
  },
  {
   "cell_type": "markdown",
   "id": "42d374b6",
   "metadata": {},
   "source": [
    "# Question 1"
   ]
  },
  {
   "cell_type": "code",
   "execution_count": 120,
   "id": "06424861",
   "metadata": {},
   "outputs": [],
   "source": [
    "def min_and_max(bin_tree):\n",
    "    def subtree_min_and_max(root):\n",
    "        if (root.left is None) and (root.right is None):\n",
    "            return (root.data,root.data)\n",
    "        elif (root.left is None): # only right\n",
    "            return (min(subtree_min_and_max(root.right)[0],root.data),max(subtree_min_and_max(root.right)[1],root.data))\n",
    "        elif (root.right is None):\n",
    "            return (min(subtree_min_and_max(root.left)[0],root.data),max(subtree_min_and_max(root.left)[1],root.data))\n",
    "        else:\n",
    "            return (min(root.data,min(subtree_min_and_max(root.left)[0],subtree_min_and_max(root.right)[0])),max(root.data,max(subtree_min_and_max(root.left)[1],subtree_min_and_max(root.right)[1])))\n",
    "    return subtree_min_and_max(bin_tree.root)\n"
   ]
  },
  {
   "cell_type": "code",
   "execution_count": 121,
   "id": "0c797ef9",
   "metadata": {},
   "outputs": [],
   "source": [
    "node5 = LinkedBinaryTree.Node(5)\n",
    "node1 = LinkedBinaryTree.Node(1)\n",
    "node9 = LinkedBinaryTree.Node(9, node5, node1)\n",
    "node2 = LinkedBinaryTree.Node(2, node9, None)\n",
    "node4 = LinkedBinaryTree.Node(4)\n",
    "node8 = LinkedBinaryTree.Node(8)\n",
    "node7 = LinkedBinaryTree.Node(7, node8, node4)\n",
    "root = LinkedBinaryTree.Node(3, node2, node7)\n",
    "\n",
    "node5.parent = node9\n",
    "node1.parent = node9\n",
    "node9.parent = node2\n",
    "node2.parent = root\n",
    "node4.parent = node7\n",
    "node8.parent = node7\n",
    "node7.parent = root\n",
    "\n",
    "tree = LinkedBinaryTree(root)"
   ]
  },
  {
   "cell_type": "markdown",
   "id": "9eaa2f0f",
   "metadata": {},
   "source": [
    "        3\n",
    "    2       7\n",
    " 9             4\n",
    "5   1        8"
   ]
  },
  {
   "cell_type": "code",
   "execution_count": 125,
   "id": "4f0028fa",
   "metadata": {},
   "outputs": [
    {
     "data": {
      "text/plain": [
       "(1, 9)"
      ]
     },
     "execution_count": 125,
     "metadata": {},
     "output_type": "execute_result"
    }
   ],
   "source": [
    "min_and_max(tree)"
   ]
  },
  {
   "cell_type": "markdown",
   "id": "5160a042",
   "metadata": {},
   "source": [
    "# Question 2"
   ]
  },
  {
   "cell_type": "code",
   "execution_count": 135,
   "id": "e5b2ac7b",
   "metadata": {},
   "outputs": [],
   "source": [
    "def leaves_list(self):\n",
    "    def leaves_generator(root):\n",
    "        if root.left is None and root.right is None:\n",
    "            yield root.data\n",
    "            return\n",
    "        elif root.left is None:\n",
    "            yield from leaves_generator(root.right)\n",
    "            return\n",
    "        elif root.right is None:\n",
    "            yield from leaves_generator(root.left)\n",
    "            return\n",
    "        else:\n",
    "            yield from leaves_generator(root.left)\n",
    "            yield from leaves_generator(root.right)\n",
    "            return\n",
    "    return [i for i in leaves_generator(self.root)]"
   ]
  },
  {
   "cell_type": "code",
   "execution_count": 133,
   "id": "77852092",
   "metadata": {},
   "outputs": [],
   "source": [
    "def leaves_list_1(tree):\n",
    "    def leaves_generator(root):\n",
    "        if root.left is None and root.right is None:\n",
    "            yield root.data\n",
    "            return\n",
    "        elif root.left is None:\n",
    "            yield from leaves_generator(root.right)\n",
    "            return\n",
    "        elif root.right is None:\n",
    "            yield from leaves_generator(root.left)\n",
    "            return\n",
    "        else:\n",
    "            yield from leaves_generator(root.left)\n",
    "            yield from leaves_generator(root.right)\n",
    "            return\n",
    "    return [i for i in leaves_generator(tree.root)]"
   ]
  },
  {
   "cell_type": "code",
   "execution_count": 134,
   "id": "f108cfaa",
   "metadata": {},
   "outputs": [
    {
     "data": {
      "text/plain": [
       "[5, 1, 8, 4]"
      ]
     },
     "execution_count": 134,
     "metadata": {},
     "output_type": "execute_result"
    }
   ],
   "source": [
    "leaves_list_1(tree)"
   ]
  },
  {
   "cell_type": "markdown",
   "id": "cc6a12ff",
   "metadata": {},
   "source": [
    "# Question 3"
   ]
  },
  {
   "cell_type": "code",
   "execution_count": null,
   "id": "a27b2ddd",
   "metadata": {},
   "outputs": [],
   "source": [
    "def subtree_height(root):\n",
    "    if (root.left is None and root.right is None):\n",
    "        return 0\n",
    "    elif (root.left is None):\n",
    "        return 1 + subtree_height(root.right)\n",
    "    elif (root.right is None):\n",
    "        return 1 + subtree_height(root.left)\n",
    "    else:\n",
    "        left_height = subtree_height(root.left)\n",
    "        right_height = subtree_height(root.right)\n",
    "        return 1 + max(left_height, right_height)"
   ]
  },
  {
   "cell_type": "code",
   "execution_count": 112,
   "id": "7c982d80",
   "metadata": {},
   "outputs": [],
   "source": [
    "def is_height_balanced(bin_tree):\n",
    "    def subtree_height(root):\n",
    "        if (root is None):\n",
    "            return (True,0)\n",
    "#         elif (root.left is None):\n",
    "#             balance = -1 <= 1 - subtree_height(root.right)[1] <=1 and subtree_height(root.right)[0]\n",
    "#             return (balance,1 + subtree_height(root.right)[1])\n",
    "#         elif (root.right is None):\n",
    "#             balance = -1 <=subtree_height(root.left)[1] - 1 <=1 and subtree_height(root.left)[0]\n",
    "#             return (balance,1 + subtree_height(root.left)[1])\n",
    "        else:\n",
    "            left_height = subtree_height(root.left)\n",
    "            right_height = subtree_height(root.right)\n",
    "            balance = (-1 <= left_height[1] - right_height[1] <=1) and left_height[0] and right_height[0]\n",
    "            return (balance, 1 + max(left_height[1], right_height[1]))\n",
    "    return subtree_height(bin_tree.root)[0]\n",
    "    "
   ]
  },
  {
   "cell_type": "code",
   "execution_count": 113,
   "id": "2a4e93c0",
   "metadata": {},
   "outputs": [],
   "source": [
    "node5 = LinkedBinaryTree.Node(5)\n",
    "node1 = LinkedBinaryTree.Node(1)\n",
    "node9 = LinkedBinaryTree.Node(9)\n",
    "node8 = LinkedBinaryTree.Node(8)\n",
    "node4 = LinkedBinaryTree.Node(4)\n",
    "node2 = LinkedBinaryTree.Node(2)\n",
    "node7 = LinkedBinaryTree.Node(7)\n",
    "\n",
    "node9.right = node1\n",
    "node2.left = node9\n",
    "\n",
    "node7.left = node8\n",
    "node7.right = node4\n",
    "\n",
    "node2.left = node9\n",
    "node2.right = None\n",
    "\n",
    "node5.left = None\n",
    "node5.right = None\n",
    "\n",
    "node1.left = None\n",
    "node1.right = None\n",
    "\n",
    "node8.left = node5\n",
    "node8.right = node1\n",
    "\n",
    "node4.left = None\n",
    "node4.right = None\n",
    "\n",
    "root = node3 = LinkedBinaryTree.Node(3)\n",
    "root.left = node2\n",
    "root.right = node7\n",
    "tree1 = LinkedBinaryTree(root)"
   ]
  },
  {
   "cell_type": "code",
   "execution_count": 114,
   "id": "f4f4b4ad",
   "metadata": {},
   "outputs": [
    {
     "data": {
      "text/plain": [
       "True"
      ]
     },
     "execution_count": 114,
     "metadata": {},
     "output_type": "execute_result"
    }
   ],
   "source": [
    "is_height_balanced(LinkedBinaryTree(None))"
   ]
  },
  {
   "cell_type": "code",
   "execution_count": 115,
   "id": "068a4eca",
   "metadata": {},
   "outputs": [],
   "source": [
    "\n",
    "tree2 = LinkedBinaryTree()\n",
    "tree2.root = LinkedBinaryTree.Node(3)\n",
    "tree2.left = LinkedBinaryTree.Node(2)\n",
    "tree2.left.left = LinkedBinaryTree.Node(9)\n",
    "tree2.left.left.left = LinkedBinaryTree.Node(5)\n",
    "tree2.left.left.right = LinkedBinaryTree.Node(1)\n",
    "tree2.right = LinkedBinaryTree.Node(7)\n",
    "tree2.right.left = LinkedBinaryTree.Node(8)\n",
    "tree2.right.right = LinkedBinaryTree.Node(4)"
   ]
  },
  {
   "cell_type": "code",
   "execution_count": 116,
   "id": "3a76632b",
   "metadata": {},
   "outputs": [
    {
     "data": {
      "text/plain": [
       "True"
      ]
     },
     "execution_count": 116,
     "metadata": {},
     "output_type": "execute_result"
    }
   ],
   "source": [
    "is_height_balanced(tree2)"
   ]
  },
  {
   "cell_type": "code",
   "execution_count": null,
   "id": "dbcffe8f",
   "metadata": {},
   "outputs": [],
   "source": []
  },
  {
   "cell_type": "markdown",
   "id": "9512a68e",
   "metadata": {},
   "source": [
    "# Question 4"
   ]
  },
  {
   "cell_type": "code",
   "execution_count": 143,
   "id": "3084cb6c",
   "metadata": {},
   "outputs": [],
   "source": [
    "def iterative_inorder(root):\n",
    "    cursor = root\n",
    "    prev = None\n",
    "    while (cursor is not None):\n",
    "        if cursor.left is None:\n",
    "            yield cursor.data\n",
    "            cursor = cursor.right\n",
    "        else:\n",
    "            prev = cursor.left\n",
    "            while prev.right and prev.right is not cursor:\n",
    "                prev = prev.right\n",
    "            if not prev.right:\n",
    "                prev.right = cursor\n",
    "                cursor = cursor.left\n",
    "            else:\n",
    "                prev.right = None\n",
    "                yield cursor.data\n",
    "                cursor = cursor.right"
   ]
  },
  {
   "cell_type": "code",
   "execution_count": 144,
   "id": "649cedb8",
   "metadata": {},
   "outputs": [
    {
     "name": "stdout",
     "output_type": "stream",
     "text": [
      "5 9 1 2 - 3 8 7 4 \n"
     ]
    }
   ],
   "source": [
    "root = LinkedBinaryTree.Node(3)\n",
    "root.left = LinkedBinaryTree.Node(2)\n",
    "root.right = LinkedBinaryTree.Node(7)\n",
    "root.left.left = LinkedBinaryTree.Node(9)\n",
    "root.left.right = LinkedBinaryTree.Node('-')\n",
    "root.left.left.left = LinkedBinaryTree.Node(5)\n",
    "root.left.left.right = LinkedBinaryTree.Node(1)\n",
    "root.right.right = LinkedBinaryTree.Node(4)\n",
    "root.right.left = LinkedBinaryTree.Node(8)\n",
    "for item in iterative_inorder(root):\n",
    "    print(item, end=' ')\n",
    "print()"
   ]
  },
  {
   "cell_type": "code",
   "execution_count": null,
   "id": "317e817b",
   "metadata": {},
   "outputs": [],
   "source": []
  },
  {
   "cell_type": "code",
   "execution_count": null,
   "id": "827f8020",
   "metadata": {},
   "outputs": [],
   "source": []
  },
  {
   "cell_type": "code",
   "execution_count": null,
   "id": "25ec3866",
   "metadata": {},
   "outputs": [],
   "source": []
  },
  {
   "cell_type": "code",
   "execution_count": null,
   "id": "507dc027",
   "metadata": {},
   "outputs": [],
   "source": []
  },
  {
   "cell_type": "code",
   "execution_count": null,
   "id": "b64411c7",
   "metadata": {},
   "outputs": [],
   "source": []
  }
 ],
 "metadata": {
  "kernelspec": {
   "display_name": "Python 3 (ipykernel)",
   "language": "python",
   "name": "python3"
  },
  "language_info": {
   "codemirror_mode": {
    "name": "ipython",
    "version": 3
   },
   "file_extension": ".py",
   "mimetype": "text/x-python",
   "name": "python",
   "nbconvert_exporter": "python",
   "pygments_lexer": "ipython3",
   "version": "3.8.12"
  },
  "toc": {
   "base_numbering": 1,
   "nav_menu": {},
   "number_sections": true,
   "sideBar": true,
   "skip_h1_title": false,
   "title_cell": "Table of Contents",
   "title_sidebar": "Contents",
   "toc_cell": false,
   "toc_position": {},
   "toc_section_display": true,
   "toc_window_display": false
  }
 },
 "nbformat": 4,
 "nbformat_minor": 5
}
