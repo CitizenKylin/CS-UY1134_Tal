{
 "cells": [
  {
   "cell_type": "code",
   "execution_count": 1,
   "id": "da29ee8a",
   "metadata": {},
   "outputs": [],
   "source": [
    "import ctypes  # provides low-level arrays\n",
    "def make_array(n):\n",
    "    return (n * ctypes.py_object)()\n",
    "\n",
    "class ArrayList:\n",
    "    def __init__(self):\n",
    "        self.data = make_array(1)\n",
    "        self.capacity = 1\n",
    "        self.n = 0\n",
    "\n",
    "    def __len__(self):\n",
    "        return self.n\n",
    "\n",
    "\n",
    "    def append(self, val):\n",
    "        if (self.n == self.capacity):\n",
    "            self.resize(2 * self.capacity)\n",
    "        self.data[self.n] = val\n",
    "        self.n += 1\n",
    "\n",
    "    def resize(self, new_size):\n",
    "        new_array = make_array(new_size)\n",
    "        for i in range(self.n):\n",
    "            new_array[i] = self.data[i]\n",
    "        self.data = new_array\n",
    "        self.capacity = new_size\n",
    "\n",
    "    def extend(self, iter_collection):\n",
    "        for elem in iter_collection:\n",
    "            self.append(elem)\n",
    "\n",
    "\n",
    "    def __getitem__(self, ind):\n",
    "        if (not (-self.n <= ind <= self.n - 1)):\n",
    "            raise IndexError('invalid index')\n",
    "        if (ind < 0):\n",
    "            ind = self.n + ind\n",
    "        return self.data[ind]\n",
    "\n",
    "    def __setitem__(self, ind, val):\n",
    "        if (not (-self.n <= ind <= self.n - 1)):\n",
    "            raise IndexError('invalid index')\n",
    "        if (ind < 0):\n",
    "            ind = self.n + ind\n",
    "        self.data[ind] = val\n",
    "\n",
    "\n",
    "    def __repr__(self):\n",
    "        data_as_strings = [str(self.data[i]) for i in range(self.n)]\n",
    "        return '[' + ', '.join(data_as_strings) + ']'\n",
    "\n",
    "\n",
    "    def __add__(self, other):\n",
    "        res = ArrayList()\n",
    "        res.extend(self)\n",
    "        res.extend(other)\n",
    "        return res\n",
    "\n",
    "    def __iadd__(self, other):\n",
    "        self.extend(other)\n",
    "        return self\n",
    "\n",
    "    def __mul__(self, times):\n",
    "        res = ArrayList()\n",
    "        for i in range(times):\n",
    "            res.extend(self)\n",
    "        return res\n",
    "\n",
    "    def __rmul__(self, times):\n",
    "        return self * times\n",
    "    \n",
    "    def insert(self, index, val):\n",
    "        if not -self.n <= index <= self.n - 1:\n",
    "            raise IndexError(\"invalid index\")\n",
    "        if (self.n == self.capacity):\n",
    "            self.resize(2 * self.capacity)\n",
    "        self.append(0)\n",
    "        if index >=0:\n",
    "            iter = self.n - \n",
    "            \n",
    "        for i in range(index, self.n+1):\n",
    "            self.data[i+1] = self.data[i]\n",
    "            i += 1\n",
    "        self.data[index] = val\n",
    "        self.n += 1\n",
    "        \n",
    "#     def insert(self, index, val):\n",
    "#         if not -self.n <= index <= self.n - 1:\n",
    "#             raise IndexError(\"invalid index\")\n",
    "#         self.append(0)\n",
    "#         if index >= 0:\n",
    "#             rounds = self.n - index - 1\n",
    "#         else:\n",
    "#             rounds = -index - 1\n",
    "#         for i in range(rounds):\n",
    "#             self[-i - 1] = self[-i - 2]\n",
    "#         self[index] = val\n",
    "    \n",
    "    def pop(self, index=-1):\n",
    "        if self.n == 0:\n",
    "            raise IndexError(\"empty list\")\n",
    "        if (not (-self.n <= index <= self.n - 1)):\n",
    "            raise IndexError(\"invalid index\")\n",
    "        return_value = self[index]\n",
    "        if index < 0:\n",
    "            index = self.n + index\n",
    "        for i in range(index, self.n - 1):\n",
    "            self[i] = self[i + 1]\n",
    "        self.n -= 1\n",
    "        if self.n < self.capacity // 4:\n",
    "            self.resize(self.capacity // 2)\n",
    "        return return_value"
   ]
  },
  {
   "cell_type": "code",
   "execution_count": 6,
   "id": "b3510f87",
   "metadata": {},
   "outputs": [],
   "source": [
    "arr_lst = ArrayList()\n",
    "for i in range(1,7+1):\n",
    "    arr_lst.append(i)\n"
   ]
  },
  {
   "cell_type": "code",
   "execution_count": 7,
   "id": "a8f43a53",
   "metadata": {},
   "outputs": [
    {
     "data": {
      "text/plain": [
       "[1, 2, 3, 4, 5, 6, 7]"
      ]
     },
     "execution_count": 7,
     "metadata": {},
     "output_type": "execute_result"
    }
   ],
   "source": [
    "arr_lst"
   ]
  },
  {
   "cell_type": "code",
   "execution_count": 8,
   "id": "79cbda2a",
   "metadata": {},
   "outputs": [
    {
     "ename": "IndexError",
     "evalue": "invalid index",
     "output_type": "error",
     "traceback": [
      "\u001b[0;31m---------------------------------------------------------------------------\u001b[0m",
      "\u001b[0;31mIndexError\u001b[0m                                Traceback (most recent call last)",
      "\u001b[0;32m/var/folders/rd/q2lzfdss4b167026m7l6h8pm0000gn/T/ipykernel_31169/212934381.py\u001b[0m in \u001b[0;36m<module>\u001b[0;34m\u001b[0m\n\u001b[0;32m----> 1\u001b[0;31m \u001b[0marr_lst\u001b[0m\u001b[0;34m.\u001b[0m\u001b[0minsert\u001b[0m\u001b[0;34m(\u001b[0m\u001b[0;36m2\u001b[0m\u001b[0;34m,\u001b[0m\u001b[0;36m30\u001b[0m\u001b[0;34m)\u001b[0m\u001b[0;34m\u001b[0m\u001b[0;34m\u001b[0m\u001b[0m\n\u001b[0m",
      "\u001b[0;32m/var/folders/rd/q2lzfdss4b167026m7l6h8pm0000gn/T/ipykernel_31169/3454817296.py\u001b[0m in \u001b[0;36minsert\u001b[0;34m(self, index, val)\u001b[0m\n\u001b[1;32m     77\u001b[0m \u001b[0;34m\u001b[0m\u001b[0m\n\u001b[1;32m     78\u001b[0m         \u001b[0;32mfor\u001b[0m \u001b[0mi\u001b[0m \u001b[0;32min\u001b[0m \u001b[0mrange\u001b[0m\u001b[0;34m(\u001b[0m\u001b[0mindex\u001b[0m\u001b[0;34m,\u001b[0m \u001b[0mself\u001b[0m\u001b[0;34m.\u001b[0m\u001b[0mn\u001b[0m\u001b[0;34m+\u001b[0m\u001b[0;36m1\u001b[0m\u001b[0;34m)\u001b[0m\u001b[0;34m:\u001b[0m\u001b[0;34m\u001b[0m\u001b[0;34m\u001b[0m\u001b[0m\n\u001b[0;32m---> 79\u001b[0;31m             \u001b[0mself\u001b[0m\u001b[0;34m.\u001b[0m\u001b[0mdata\u001b[0m\u001b[0;34m[\u001b[0m\u001b[0mi\u001b[0m\u001b[0;34m+\u001b[0m\u001b[0;36m1\u001b[0m\u001b[0;34m]\u001b[0m \u001b[0;34m=\u001b[0m \u001b[0mself\u001b[0m\u001b[0;34m.\u001b[0m\u001b[0mdata\u001b[0m\u001b[0;34m[\u001b[0m\u001b[0mi\u001b[0m\u001b[0;34m]\u001b[0m\u001b[0;34m\u001b[0m\u001b[0;34m\u001b[0m\u001b[0m\n\u001b[0m\u001b[1;32m     80\u001b[0m             \u001b[0mi\u001b[0m \u001b[0;34m+=\u001b[0m \u001b[0;36m1\u001b[0m\u001b[0;34m\u001b[0m\u001b[0;34m\u001b[0m\u001b[0m\n\u001b[1;32m     81\u001b[0m         \u001b[0mself\u001b[0m\u001b[0;34m.\u001b[0m\u001b[0mdata\u001b[0m\u001b[0;34m[\u001b[0m\u001b[0mindex\u001b[0m\u001b[0;34m]\u001b[0m \u001b[0;34m=\u001b[0m \u001b[0mval\u001b[0m\u001b[0;34m\u001b[0m\u001b[0;34m\u001b[0m\u001b[0m\n",
      "\u001b[0;31mIndexError\u001b[0m: invalid index"
     ]
    }
   ],
   "source": [
    "arr_lst.insert(2,30)"
   ]
  },
  {
   "cell_type": "code",
   "execution_count": 9,
   "id": "cf186435",
   "metadata": {},
   "outputs": [
    {
     "data": {
      "text/plain": [
       "[1, 2, 3, 3, 3, 3, 3]"
      ]
     },
     "execution_count": 9,
     "metadata": {},
     "output_type": "execute_result"
    }
   ],
   "source": [
    "arr_lst"
   ]
  },
  {
   "cell_type": "code",
   "execution_count": 42,
   "id": "dba965d3",
   "metadata": {},
   "outputs": [],
   "source": [
    "def remove_all(lst, val):\n",
    "    first_val = 0\n",
    "    for i in range(len(lst)):\n",
    "        if lst[i] != val:\n",
    "            lst[i], lst[first_val] = lst[first_val], lst[i]\n",
    "            first_val += 1\n",
    "\n",
    "    for num in range(len(lst)-first_val):\n",
    "            lst.pop()\n",
    "    return lst"
   ]
  },
  {
   "cell_type": "code",
   "execution_count": 59,
   "id": "63af3c18",
   "metadata": {},
   "outputs": [],
   "source": [
    "lst = [1,2,3,2,2,4,5,5,6]"
   ]
  },
  {
   "cell_type": "code",
   "execution_count": 60,
   "id": "c244c5df",
   "metadata": {},
   "outputs": [
    {
     "data": {
      "text/plain": [
       "[1, 3, 4, 5, 5, 6]"
      ]
     },
     "execution_count": 60,
     "metadata": {},
     "output_type": "execute_result"
    }
   ],
   "source": [
    "remove_all(lst,2)"
   ]
  },
  {
   "cell_type": "code",
   "execution_count": 61,
   "id": "f0beb51d",
   "metadata": {},
   "outputs": [],
   "source": [
    "lst.insert(2,30)"
   ]
  },
  {
   "cell_type": "code",
   "execution_count": 62,
   "id": "c9fb6c6c",
   "metadata": {},
   "outputs": [
    {
     "data": {
      "text/plain": [
       "[1, 3, 30, 4, 5, 5, 6]"
      ]
     },
     "execution_count": 62,
     "metadata": {},
     "output_type": "execute_result"
    }
   ],
   "source": [
    "lst"
   ]
  },
  {
   "cell_type": "code",
   "execution_count": 12,
   "id": "04ced6a7",
   "metadata": {},
   "outputs": [
    {
     "data": {
      "text/plain": [
       "5"
      ]
     },
     "execution_count": 12,
     "metadata": {},
     "output_type": "execute_result"
    }
   ],
   "source": [
    "11//2"
   ]
  },
  {
   "cell_type": "code",
   "execution_count": null,
   "id": "3321bdb0",
   "metadata": {},
   "outputs": [],
   "source": []
  }
 ],
 "metadata": {
  "kernelspec": {
   "display_name": "Python 3 (ipykernel)",
   "language": "python",
   "name": "python3"
  },
  "language_info": {
   "codemirror_mode": {
    "name": "ipython",
    "version": 3
   },
   "file_extension": ".py",
   "mimetype": "text/x-python",
   "name": "python",
   "nbconvert_exporter": "python",
   "pygments_lexer": "ipython3",
   "version": "3.8.12"
  },
  "toc": {
   "base_numbering": 1,
   "nav_menu": {},
   "number_sections": true,
   "sideBar": true,
   "skip_h1_title": false,
   "title_cell": "Table of Contents",
   "title_sidebar": "Contents",
   "toc_cell": false,
   "toc_position": {},
   "toc_section_display": true,
   "toc_window_display": false
  }
 },
 "nbformat": 4,
 "nbformat_minor": 5
}
