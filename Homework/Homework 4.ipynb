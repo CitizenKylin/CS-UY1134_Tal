{
 "cells": [
  {
   "cell_type": "markdown",
   "id": "4c141d4d",
   "metadata": {},
   "source": [
    "# Question 3"
   ]
  },
  {
   "cell_type": "code",
   "execution_count": 33,
   "id": "560e6cd1",
   "metadata": {},
   "outputs": [],
   "source": [
    "# a\n",
    "def print_triangle(n):\n",
    "    if n==1:\n",
    "        print('*')\n",
    "    else:\n",
    "        print_triangle(n-1)\n",
    "        print('*'*n)"
   ]
  },
  {
   "cell_type": "code",
   "execution_count": 34,
   "id": "0b045c4b",
   "metadata": {},
   "outputs": [
    {
     "name": "stdout",
     "output_type": "stream",
     "text": [
      "*\n",
      "**\n",
      "***\n",
      "****\n"
     ]
    }
   ],
   "source": [
    "print_triangle(4)"
   ]
  },
  {
   "cell_type": "code",
   "execution_count": 41,
   "id": "ecd57aa2",
   "metadata": {},
   "outputs": [],
   "source": [
    "# b\n",
    "def print_oposite_triangles(n):\n",
    "    if n==1:\n",
    "        print('*')\n",
    "        print('*')\n",
    "    else:\n",
    "        print('*'*n)\n",
    "        print_oposite_triangles(n-1)\n",
    "        print('*'*n)"
   ]
  },
  {
   "cell_type": "code",
   "execution_count": 42,
   "id": "f8a15d04",
   "metadata": {},
   "outputs": [
    {
     "name": "stdout",
     "output_type": "stream",
     "text": [
      "****\n",
      "***\n",
      "**\n",
      "*\n",
      "*\n",
      "**\n",
      "***\n",
      "****\n"
     ]
    }
   ],
   "source": [
    "print_oposite_triangles(4)"
   ]
  },
  {
   "cell_type": "code",
   "execution_count": 39,
   "id": "15aaa111",
   "metadata": {},
   "outputs": [],
   "source": [
    "# c\n",
    "def print_ruler(n):\n",
    "    if n == 0:\n",
    "        return\n",
    "    else:\n",
    "        print_ruler(n-1)\n",
    "        print(\"-\"*n)\n",
    "        print_ruler(n-1)"
   ]
  },
  {
   "cell_type": "code",
   "execution_count": 40,
   "id": "b4abd57f",
   "metadata": {},
   "outputs": [
    {
     "name": "stdout",
     "output_type": "stream",
     "text": [
      "-\n",
      "--\n",
      "-\n",
      "---\n",
      "-\n",
      "--\n",
      "-\n",
      "----\n",
      "-\n",
      "--\n",
      "-\n",
      "---\n",
      "-\n",
      "--\n",
      "-\n"
     ]
    }
   ],
   "source": [
    "print_ruler(4)"
   ]
  },
  {
   "cell_type": "markdown",
   "id": "418d5362",
   "metadata": {},
   "source": [
    "# Question 4"
   ]
  },
  {
   "cell_type": "code",
   "execution_count": 43,
   "id": "db352830",
   "metadata": {},
   "outputs": [],
   "source": [
    "def list_min(lst,low,high):\n",
    "    if low == high:\n",
    "        return(lst[low])\n",
    "    else:\n",
    "        min = list_min(lst,low+1,high)\n",
    "        if lst[low] < min:\n",
    "            return lst[low]\n",
    "        else:\n",
    "            return min"
   ]
  },
  {
   "cell_type": "code",
   "execution_count": 49,
   "id": "23c5af73",
   "metadata": {},
   "outputs": [
    {
     "data": {
      "text/plain": [
       "3"
      ]
     },
     "execution_count": 49,
     "metadata": {},
     "output_type": "execute_result"
    }
   ],
   "source": [
    "lst = [3,6,7,1,2,3,4,9,4]\n",
    "list_min(lst,5,8)"
   ]
  },
  {
   "cell_type": "markdown",
   "id": "ee3e013d",
   "metadata": {},
   "source": [
    "# Question 5"
   ]
  },
  {
   "cell_type": "code",
   "execution_count": 70,
   "id": "a93b0ede",
   "metadata": {},
   "outputs": [],
   "source": [
    "# a\n",
    "def count_lowercase(s, low, high):\n",
    "    if low == high:\n",
    "        if s[low].islower():\n",
    "            return 1\n",
    "        else:\n",
    "            return 0\n",
    "    else:\n",
    "        if s[low].islower():\n",
    "            return (1 + count_lowercase(s, low+1, high))\n",
    "        return count_lowercase(s, low+1, high)"
   ]
  },
  {
   "cell_type": "code",
   "execution_count": 71,
   "id": "abe9eefc",
   "metadata": {},
   "outputs": [
    {
     "data": {
      "text/plain": [
       "2"
      ]
     },
     "execution_count": 71,
     "metadata": {},
     "output_type": "execute_result"
    }
   ],
   "source": [
    "s ='AabWC'\n",
    "count_lowercase(s, 0, 4)"
   ]
  },
  {
   "cell_type": "code",
   "execution_count": 78,
   "id": "b64b7fe2",
   "metadata": {},
   "outputs": [],
   "source": [
    "# b\n",
    "def is_number_of_lowercase_even(s, low, high):\n",
    "    if low == high:\n",
    "        if s[low].islower():\n",
    "            return False\n",
    "        else:\n",
    "            return True\n",
    "    else:\n",
    "        if s[low].islower():\n",
    "            if is_number_of_lowercase_even(s, low+1, high):\n",
    "                return False\n",
    "            else:\n",
    "                return True\n",
    "        else:\n",
    "            return is_number_of_lowercase_even(s, low+1, high)"
   ]
  },
  {
   "cell_type": "code",
   "execution_count": 83,
   "id": "1127363c",
   "metadata": {},
   "outputs": [
    {
     "data": {
      "text/plain": [
       "True"
      ]
     },
     "execution_count": 83,
     "metadata": {},
     "output_type": "execute_result"
    }
   ],
   "source": [
    "s ='AabWCa'\n",
    "is_number_of_lowercase_even(s, 0, 2)"
   ]
  },
  {
   "cell_type": "markdown",
   "id": "69656258",
   "metadata": {},
   "source": [
    "# Question 6"
   ]
  },
  {
   "cell_type": "code",
   "execution_count": 99,
   "id": "daf134ae",
   "metadata": {},
   "outputs": [],
   "source": [
    "def appearances(s, low, high):\n",
    "    if low == high:\n",
    "        key = s[low]\n",
    "        dic = {key:1}\n",
    "        return dic\n",
    "    else:\n",
    "        key = s[low]\n",
    "        dic = appearances(s, low+1, high)\n",
    "        if key in dic:\n",
    "            dic[key]+=1\n",
    "        else:\n",
    "            dic[key]=1\n",
    "        return dic"
   ]
  },
  {
   "cell_type": "code",
   "execution_count": 100,
   "id": "3a67ae70",
   "metadata": {},
   "outputs": [
    {
     "data": {
      "text/plain": [
       "'e'"
      ]
     },
     "execution_count": 100,
     "metadata": {},
     "output_type": "execute_result"
    }
   ],
   "source": [
    "s ='Hello World'\n",
    "s[1]"
   ]
  },
  {
   "cell_type": "code",
   "execution_count": 101,
   "id": "2b4062b5",
   "metadata": {},
   "outputs": [
    {
     "data": {
      "text/plain": [
       "{'d': 1, 'l': 3, 'r': 1, 'o': 2, 'W': 1, ' ': 1, 'e': 1, 'H': 1}"
      ]
     },
     "execution_count": 101,
     "metadata": {},
     "output_type": "execute_result"
    }
   ],
   "source": [
    "appearances('Hello World', 0, 10)"
   ]
  },
  {
   "cell_type": "markdown",
   "id": "e977af0b",
   "metadata": {},
   "source": [
    "# Question 7"
   ]
  },
  {
   "cell_type": "code",
   "execution_count": 148,
   "id": "f7a22ee0",
   "metadata": {},
   "outputs": [],
   "source": [
    "def split_by_sign(lst, low, high):\n",
    "    while low < high:\n",
    "        if lst[low] < 0:\n",
    "            return split_by_sign(lst, low+1, high)\n",
    "        elif lst[high] > 0:\n",
    "            return split_by_sign(lst, low, high-1)\n",
    "        else:\n",
    "            lst[low],lst[high] = lst[high],lst[low]\n",
    "            return split_by_sign(lst,low+1,high-1)"
   ]
  },
  {
   "cell_type": "code",
   "execution_count": 157,
   "id": "6d25bb95",
   "metadata": {},
   "outputs": [],
   "source": [
    "lst = [1]"
   ]
  },
  {
   "cell_type": "code",
   "execution_count": 158,
   "id": "3d9aafed",
   "metadata": {},
   "outputs": [],
   "source": [
    "split_by_sign(lst, 0, 0)"
   ]
  },
  {
   "cell_type": "code",
   "execution_count": 159,
   "id": "abef6fd4",
   "metadata": {},
   "outputs": [
    {
     "data": {
      "text/plain": [
       "[1]"
      ]
     },
     "execution_count": 159,
     "metadata": {},
     "output_type": "execute_result"
    }
   ],
   "source": [
    "lst "
   ]
  },
  {
   "cell_type": "markdown",
   "id": "a8f820b9",
   "metadata": {},
   "source": [
    "# Question 8"
   ]
  },
  {
   "cell_type": "code",
   "execution_count": 185,
   "id": "ff0445b2",
   "metadata": {},
   "outputs": [],
   "source": [
    "def flat_list(nested_lst, low, high):\n",
    "    if low == high:\n",
    "        if isinstance(nested_lst[low], int):\n",
    "            return [nested_lst[low]]\n",
    "        return flat_list(nested_lst[low], 0, len(nested_lst[low]) - 1)\n",
    "    else:\n",
    "        return flat_list(nested_lst, low, low) + flat_list(nested_lst, low + 1, high)"
   ]
  },
  {
   "cell_type": "code",
   "execution_count": 186,
   "id": "ced6431b",
   "metadata": {},
   "outputs": [],
   "source": [
    "nested_lst=[[1, 2], 3, [4, [5, 6, [7], 8]]]"
   ]
  },
  {
   "cell_type": "code",
   "execution_count": 187,
   "id": "48bc1437",
   "metadata": {},
   "outputs": [
    {
     "data": {
      "text/plain": [
       "[1, 2, 3, 4, 5, 6, 7, 8]"
      ]
     },
     "execution_count": 187,
     "metadata": {},
     "output_type": "execute_result"
    }
   ],
   "source": [
    "flat_list(nested_lst, 0,2)"
   ]
  },
  {
   "cell_type": "code",
   "execution_count": 181,
   "id": "4a04ada1",
   "metadata": {},
   "outputs": [
    {
     "data": {
      "text/plain": [
       "[1, 2, 3, 3, 4, 5]"
      ]
     },
     "execution_count": 181,
     "metadata": {},
     "output_type": "execute_result"
    }
   ],
   "source": [
    "[1,2,3]+[3,4,5]"
   ]
  },
  {
   "cell_type": "markdown",
   "id": "ec3c8d69",
   "metadata": {},
   "source": [
    "# Question 9"
   ]
  },
  {
   "cell_type": "code",
   "execution_count": 35,
   "id": "2b7c90f5",
   "metadata": {},
   "outputs": [],
   "source": [
    "def permutations(lst, low, high):\n",
    "    if low == high:\n",
    "        return [[lst[low]]] ## 这里必须 [[1]]的格式\n",
    "    else:\n",
    "        new_lst=[]\n",
    "        for i in range(high-low+1):\n",
    "            for remain_lst in permutations(lst, low + 1, high):\n",
    "                remain_lst.insert(i,lst[low])\n",
    "                new_lst.append(remain_lst)\n",
    "    return new_lst\n",
    "\n",
    "# def permutations(lst, low, high):\n",
    "#     if low == high:\n",
    "#         return [[lst[low]]]\n",
    "#     new_lst = []\n",
    "#     for i in range(high - low + 1):\n",
    "#         for sublst in permutations(lst, low + 1, high):\n",
    "#             sublst.insert(i, lst[low])\n",
    "#             new_lst.append(sublst)\n",
    "#     return new_lst"
   ]
  },
  {
   "cell_type": "code",
   "execution_count": 36,
   "id": "322aa353",
   "metadata": {},
   "outputs": [],
   "source": [
    "lst=[1, 2, 3]"
   ]
  },
  {
   "cell_type": "code",
   "execution_count": 37,
   "id": "8cf11a8c",
   "metadata": {},
   "outputs": [
    {
     "data": {
      "text/plain": [
       "[[1, 2], [2, 1]]"
      ]
     },
     "execution_count": 37,
     "metadata": {},
     "output_type": "execute_result"
    }
   ],
   "source": [
    "permutations(lst, 0, 1)"
   ]
  },
  {
   "cell_type": "code",
   "execution_count": 11,
   "id": "ea505da0",
   "metadata": {},
   "outputs": [],
   "source": [
    "def permutations(lst, low, high):\n",
    "    if low == high:\n",
    "        return \n",
    "    new_lst = []\n",
    "    for i in range(high - low + 1):\n",
    "        for sublst in permutations(lst, low + 1, high):\n",
    "            sublst.insert(i, lst[low]) \n",
    "            new_lst.append(sublst)\n",
    "    return new_lst"
   ]
  },
  {
   "cell_type": "code",
   "execution_count": 25,
   "id": "80701329",
   "metadata": {},
   "outputs": [
    {
     "data": {
      "text/plain": [
       "[[3]]"
      ]
     },
     "execution_count": 25,
     "metadata": {},
     "output_type": "execute_result"
    }
   ],
   "source": [
    "[[lst[2]]]"
   ]
  },
  {
   "cell_type": "code",
   "execution_count": null,
   "id": "a30164af",
   "metadata": {},
   "outputs": [],
   "source": [
    "lst"
   ]
  },
  {
   "cell_type": "code",
   "execution_count": null,
   "id": "2e3143d5",
   "metadata": {},
   "outputs": [],
   "source": []
  }
 ],
 "metadata": {
  "kernelspec": {
   "display_name": "Python 3 (ipykernel)",
   "language": "python",
   "name": "python3"
  },
  "language_info": {
   "codemirror_mode": {
    "name": "ipython",
    "version": 3
   },
   "file_extension": ".py",
   "mimetype": "text/x-python",
   "name": "python",
   "nbconvert_exporter": "python",
   "pygments_lexer": "ipython3",
   "version": "3.8.12"
  },
  "toc": {
   "base_numbering": 1,
   "nav_menu": {},
   "number_sections": true,
   "sideBar": true,
   "skip_h1_title": false,
   "title_cell": "Table of Contents",
   "title_sidebar": "Contents",
   "toc_cell": false,
   "toc_position": {},
   "toc_section_display": true,
   "toc_window_display": false
  }
 },
 "nbformat": 4,
 "nbformat_minor": 5
}
