{
 "cells": [
  {
   "cell_type": "markdown",
   "id": "3f1cd03b",
   "metadata": {},
   "source": [
    "# Question 1"
   ]
  },
  {
   "cell_type": "code",
   "execution_count": 3,
   "id": "bc7cd2d3",
   "metadata": {},
   "outputs": [],
   "source": [
    "from DoublyLinkedList import DoublyLinkedList"
   ]
  },
  {
   "cell_type": "code",
   "execution_count": 18,
   "id": "89a2cc7f",
   "metadata": {},
   "outputs": [],
   "source": [
    "class LinkedQueue:\n",
    "    def __init__(self):\n",
    "        self.data = DoublyLinkedList()\n",
    "    def __len__(self):\n",
    "        return self.data.size\n",
    "    def is_empty(self):\n",
    "        return (len(self)==0)\n",
    "\n",
    "    def enqueue(self, elem):\n",
    "        self.data.add_last(elem)\n",
    "\n",
    "    def dequeue(self):\n",
    "        if self.is_empty():\n",
    "            raise Exception(\"Queue is empty\")\n",
    "        return self.data.delete_first()\n",
    "\n",
    "    def first(self):\n",
    "        if self.is_empty():\n",
    "            raise Exception(\"Queue is empty\")\n",
    "        return self.data.header.next.data"
   ]
  },
  {
   "cell_type": "code",
   "execution_count": 19,
   "id": "c0657a96",
   "metadata": {},
   "outputs": [],
   "source": [
    "haha = LinkedQueue()"
   ]
  },
  {
   "cell_type": "code",
   "execution_count": 20,
   "id": "edce53f3",
   "metadata": {},
   "outputs": [],
   "source": [
    "haha.enqueue(1)"
   ]
  },
  {
   "cell_type": "code",
   "execution_count": 21,
   "id": "7c70578c",
   "metadata": {},
   "outputs": [],
   "source": [
    "haha.enqueue(3)"
   ]
  },
  {
   "cell_type": "code",
   "execution_count": 22,
   "id": "226a348a",
   "metadata": {},
   "outputs": [],
   "source": [
    "haha.enqueue(2)"
   ]
  },
  {
   "cell_type": "code",
   "execution_count": 23,
   "id": "e1f0a6a6",
   "metadata": {},
   "outputs": [
    {
     "data": {
      "text/plain": [
       "1"
      ]
     },
     "execution_count": 23,
     "metadata": {},
     "output_type": "execute_result"
    }
   ],
   "source": [
    "haha.first()"
   ]
  },
  {
   "cell_type": "code",
   "execution_count": 24,
   "id": "d5a26ef5",
   "metadata": {},
   "outputs": [
    {
     "data": {
      "text/plain": [
       "1"
      ]
     },
     "execution_count": 24,
     "metadata": {},
     "output_type": "execute_result"
    }
   ],
   "source": [
    "haha.dequeue()"
   ]
  },
  {
   "cell_type": "markdown",
   "id": "a11f96d5",
   "metadata": {},
   "source": [
    "# Question 2"
   ]
  },
  {
   "cell_type": "code",
   "execution_count": 341,
   "id": "7e23be2f",
   "metadata": {},
   "outputs": [],
   "source": [
    "from DoublyLinkedList import DoublyLinkedList\n",
    "class Integer:\n",
    "    def __init__(self, num_str):\n",
    "        \n",
    "        self.dll = DoublyLinkedList()\n",
    "        for num in num_str:\n",
    "            self.dll.add_last(int(num))\n",
    "            \n",
    "        while self.dll.header.next.data == 0 and len(self.dll) > 1:\n",
    "            self.dll.delete_first()\n",
    "        \n",
    "        \n",
    "    def __add__(self, other):\n",
    "        cursor1 = self.dll.trailer.prev\n",
    "        cursor2 = other.dll.trailer.prev\n",
    "        carrier = 0\n",
    "        str_result = \"\"\n",
    "        \n",
    "        #'is' track if same object (same address) in memory\n",
    "        while cursor1 is not self.dll.header and cursor2 is not other.dll.header: \n",
    "            result = int(cursor1.data) + int(cursor2.data) + carrier\n",
    "            if result >= 10:\n",
    "                carrier = 1\n",
    "                result %= 10\n",
    "            else:\n",
    "                carrier = 0\n",
    "            cursor1 = cursor1.prev\n",
    "            cursor2 = cursor2.prev\n",
    "            str_result = str(result) + str_result\n",
    "\n",
    "        while cursor1 is not self.dll.header:\n",
    "            result = int(cursor1.data) + carrier\n",
    "            if result >= 10:\n",
    "                carrier = 1\n",
    "                result %= 10\n",
    "            else:\n",
    "                carrier = 0\n",
    "            cursor1 = cursor1.prev\n",
    "            str_result = str(result) + str_result\n",
    "            \n",
    "        while cursor2 is not other.dll.header:\n",
    "            result = int(cursor2.data) + carrier\n",
    "            if result >= 10:\n",
    "                carrier = 1\n",
    "                result %= 10\n",
    "            else:\n",
    "                carrier = 0\n",
    "            cursor2 = cursor2.prev\n",
    "            str_result = str(result) + str_result\n",
    "        if carrier != 0:\n",
    "            str_result = str(carrier) + str_result\n",
    "        \n",
    "        return Integer(str_result)\n",
    "    \n",
    "    def __mul__(self, other):\n",
    "#         cursor1 = self.dll.trailer.prev\n",
    "#         str_result = Integer('')\n",
    "#         int_result = 0\n",
    "#         unit = 1\n",
    "#         while cursor1 is not self.dll.header:\n",
    "#             cursor2 = other.dll.trailer.prev\n",
    "#             carrier = 0\n",
    "#             par_result = ''\n",
    "#             while cursor2 is not other.dll.header:\n",
    "#                 result = int(cursor1.data) * int(cursor2.data) + carrier\n",
    "#                 if result//10 > 0:\n",
    "#                     carrier = result//10\n",
    "#                     result %= 10\n",
    "#                 else:\n",
    "#                     carrier = 0\n",
    "\n",
    "#                 cursor2 = cursor2.prev\n",
    "\n",
    "#                 par_result = str(result) + par_result\n",
    "#             int_result = int(par_result)\n",
    "#             int_result *= unit\n",
    "#             unit *= 10\n",
    "#             if carrier != 0:\n",
    "#                 int_result += carrier * unit\n",
    "#             cursor1 = cursor1.prev\n",
    "#             str_result = str_result + Integer(str(int_result))\n",
    "#         return str_result\n",
    "        new_num = Integer(\"\")\n",
    "        cursor1 = self.dll.trailer.prev\n",
    "        for i in range(len(self.dll)):\n",
    "            cursor2 = other.dll.trailer.prev\n",
    "            carry = 0\n",
    "            tmp_num = Integer(\"\")\n",
    "            for j in range(len(other.dll)):\n",
    "                result = cursor1.data * cursor2.data + carry\n",
    "                tmp_num.dll.add_first(result % 10)\n",
    "                carry = result // 10\n",
    "                cursor2 = cursor2.prev\n",
    "            if carry != 0:\n",
    "                tmp_num.dll.add_first(carry)\n",
    "            for j in range(i):\n",
    "                tmp_num.dll.add_last(0)\n",
    "            new_num = new_num + tmp_num\n",
    "            cursor1 = cursor1.prev\n",
    "        while new_num.dll.header.next.data == 0 and len(new_num.dll) > 1:\n",
    "            new_num.dll.delete_first()\n",
    "        return new_num\n",
    "    \n",
    "\n",
    "#         cursor1 = self.dll.trailer.prev\n",
    "#         str_result = Integer('')\n",
    "#         unit = ''\n",
    "#         while cursor1 is not self.dll.header: \n",
    "#             cursor2 = other.dll.trailer.prev\n",
    "#             carrier = 0\n",
    "#             par_result = ''\n",
    "#             while cursor2 is not other.dll.header:\n",
    "#                 result = int(cursor1.data) * int(cursor2.data) + carrier\n",
    "#                 if result//10 > 0:\n",
    "#                     carrier = result//10\n",
    "#                     result %= 10\n",
    "#                 else:\n",
    "#                     carrier = 0\n",
    "                \n",
    "#                 cursor2 = cursor2.prev\n",
    "                \n",
    "#                 par_result = str(result) + par_result\n",
    "#             int_result = int(par_result)\n",
    "#             int_result *= unit\n",
    "#             par_result = par_result + unit\n",
    "#             unit += '0'\n",
    "#             if carrier != 0:\n",
    "#                     par_result = str(carrier) + par_result\n",
    "#             cursor1 = cursor1.prev\n",
    "#             str_result = str_result + Integer(str(int_result))\n",
    "#         return str_result\n",
    "\n",
    "            \n",
    "    def __repr__(self):\n",
    "        return ''.join([str(elem) for elem in self.dll])"
   ]
  },
  {
   "cell_type": "code",
   "execution_count": 346,
   "id": "e7e69b4d",
   "metadata": {},
   "outputs": [],
   "source": [
    "n1 = Integer('3')"
   ]
  },
  {
   "cell_type": "code",
   "execution_count": 347,
   "id": "16e3b9c6",
   "metadata": {},
   "outputs": [],
   "source": [
    "n2 = Integer('6')"
   ]
  },
  {
   "cell_type": "code",
   "execution_count": 348,
   "id": "1b968864",
   "metadata": {},
   "outputs": [],
   "source": [
    "n3 = n1 * n2"
   ]
  },
  {
   "cell_type": "code",
   "execution_count": 349,
   "id": "915425b6",
   "metadata": {},
   "outputs": [
    {
     "data": {
      "text/plain": [
       "18"
      ]
     },
     "execution_count": 349,
     "metadata": {},
     "output_type": "execute_result"
    }
   ],
   "source": [
    "n3"
   ]
  },
  {
   "cell_type": "code",
   "execution_count": 324,
   "id": "215aede6",
   "metadata": {},
   "outputs": [
    {
     "data": {
      "text/plain": [
       "0"
      ]
     },
     "execution_count": 324,
     "metadata": {},
     "output_type": "execute_result"
    }
   ],
   "source": [
    "2//10"
   ]
  },
  {
   "cell_type": "markdown",
   "id": "c3babb2f",
   "metadata": {},
   "source": [
    "# Question 3"
   ]
  },
  {
   "cell_type": "code",
   "execution_count": 725,
   "id": "5d051bdd",
   "metadata": {},
   "outputs": [],
   "source": [
    "from DoublyLinkedList import DoublyLinkedList\n",
    "class CompactString:\n",
    "    def __init__(self, orig_str):\n",
    "        self.dll = DoublyLinkedList()\n",
    "        count = 1\n",
    "        for i in range(1, len(orig_str)):\n",
    "            if orig_str[i] == orig_str[i - 1]:\n",
    "                count += 1\n",
    "            else:\n",
    "                self.dll.add_last((orig_str[i - 1], count))\n",
    "                count = 1\n",
    "        if len(orig_str) != 0:\n",
    "            self.dll.add_last((orig_str[len(orig_str) - 1], count))\n",
    "        \n",
    "\n",
    "    def __add__(self, other):\n",
    "        new_cs = CompactString('')\n",
    "        cursor = self.dll.header.next\n",
    "        while cursor.next.data is not None:\n",
    "            new_cs.dll.add_last(cursor.data)\n",
    "            cursor = cursor.next\n",
    "        if other.dll.header.next.data is None:\n",
    "            new_cs.dll.add_last(cursor.data)\n",
    "            return new_cs\n",
    "        if cursor.data[0] == other.dll.header.next.data[0]:\n",
    "            new_cs.dll.add_last((cursor.data[0], cursor.data[1] + other.dll.header.next.data[1]))\n",
    "            cursor = other.dll.header.next.next\n",
    "        else:\n",
    "            new_cs.dll.add_last(cursor.data)\n",
    "            cursor = other.dll.header.next\n",
    "        while cursor.data is not None:\n",
    "            new_cs.dll.add_last(cursor.data)\n",
    "            cursor = cursor.next\n",
    "        return new_cs\n",
    "        \n",
    "#         if self.dll.trailer.prev.data[0] == other.dll.header.next.data[0]:\n",
    "#             new_data = (self.dll.trailer.prev.data[0],self.dll.trailer.prev.data[1]+other.dll.header.next.data[1])\n",
    "#             self.dll.delete_last()\n",
    "#             self.dll.add_last(new_data)\n",
    "#             other.dll.delete_first()\n",
    "\n",
    "#         results = ''\n",
    "#         for i in self.dll:\n",
    "#             for j in range(i[1]):\n",
    "#                 results += i[0]\n",
    "#         for i in other.dll:\n",
    "#             for j in range(i[1]):\n",
    "#                 results += i[0]\n",
    "#         new_cs = CompactString(results)\n",
    "#         return new_cs\n",
    "    \n",
    "    def __lt__(self, other): # self < other\n",
    "        cursor1 = self.dll.header.next\n",
    "        cursor2 = other.dll.header.next\n",
    "        while cursor1.data == cursor2.data and cursor1.data is not None:\n",
    "            cursor1 = cursor1.next\n",
    "            cursor2 = cursor2.next\n",
    "        if cursor1 is None and cursor2 is None:\n",
    "            return False\n",
    "#         1:aaabb\n",
    "#         2:aaabb\n",
    "\n",
    "        elif cursor1 is None and cursor2 is not None:\n",
    "            return True\n",
    "#         1:aaabb\n",
    "#         2:aaabbaa\n",
    "        elif cursor1.data is not None and cursor2.data is None:\n",
    "            return False\n",
    "#         1:aaabbaa\n",
    "#         2:aaabb\n",
    "        else:\n",
    "            if cursor1.data[0] == cursor2.data[0]:\n",
    "                if cursor1.data[1] < cursor2.data[1]:\n",
    "                    if cursor1.next is None:\n",
    "                        return True\n",
    "                    else:\n",
    "                        return cursor1.next.data[0] < cursor2.data[0]\n",
    "                else:\n",
    "                    if cursor2.next is None:\n",
    "                        return False\n",
    "                    else:\n",
    "                        return cursor1.data[0] < cursor2.next.data[0]\n",
    "            return cursor1.data[0] < cursor2.data[0]\n",
    "\n",
    "\n",
    "\n",
    "    def __le__(self, other): # self <= other\n",
    "        cursor1 = self.dll.header.next\n",
    "        cursor2 = other.dll.header.next\n",
    "        while cursor1.data == cursor2.data and cursor1.data is not None:\n",
    "            cursor1 = cursor1.next\n",
    "            cursor2 = cursor2.next\n",
    "        if cursor1 is None and cursor2 is None:\n",
    "            return True\n",
    "#         1:aaabb\n",
    "#         2:aaabb\n",
    "\n",
    "        elif cursor1 is None and cursor2 is not None:\n",
    "            return True\n",
    "#         1:aaabb\n",
    "#         2:aaabbaa\n",
    "        elif cursor1.data is not None and cursor2.data is None:\n",
    "            return False\n",
    "#         1:aaabbaa\n",
    "#         2:aaabb\n",
    "        else:\n",
    "            if cursor1.data[0] == cursor2.data[0]:\n",
    "                if cursor1.data[1] < cursor2.data[1]:\n",
    "                    if cursor1.next is None:\n",
    "                        return True\n",
    "                    else:\n",
    "                        return cursor1.next.data[0] <= cursor2.data[0]\n",
    "                else:\n",
    "                    if cursor2.next is None:\n",
    "                        return False\n",
    "                    else:\n",
    "                        return cursor1.data[0] <= cursor2.next.data[0]\n",
    "            return cursor1.data[0] <= cursor2.data[0]\n",
    "\n",
    "    def __gt__(self, other): # self > other\n",
    "        cursor1 = self.dll.header.next\n",
    "        cursor2 = other.dll.header.next\n",
    "        while cursor1.data == cursor2.data and cursor1.data is not None:\n",
    "            cursor1 = cursor1.next\n",
    "            cursor2 = cursor2.next\n",
    "        if cursor1 is None and cursor2 is None:\n",
    "            return False\n",
    "#         1:aaabb\n",
    "#         2:aaabb\n",
    "\n",
    "        elif cursor1 is None and cursor2 is not None:\n",
    "            return False\n",
    "#         1:aaabb\n",
    "#         2:aaabbaa\n",
    "        elif cursor1.data is not None and cursor2.data is None:\n",
    "            return True\n",
    "#         1:aaabbaa\n",
    "#         2:aaabb\n",
    "        else:\n",
    "            if cursor1.data[0] == cursor2.data[0]:\n",
    "                if cursor1.data[1] < cursor2.data[1]:\n",
    "                    if cursor1.next is None:\n",
    "                        return False\n",
    "                    else:\n",
    "                        return cursor1.next.data[0] > cursor2.data[0]\n",
    "                else:\n",
    "                    if cursor2.next is None:\n",
    "                        return True\n",
    "                    else:\n",
    "                        return cursor1.data[0] > cursor2.next.data[0]\n",
    "            return cursor1.data[0] > cursor2.data[0]\n",
    "    def __ge__(self, other): # self >= other\n",
    "        cursor1 = self.dll.header.next\n",
    "        cursor2 = other.dll.header.next\n",
    "        while cursor1.data == cursor2.data and cursor1.data is not None:\n",
    "            cursor1 = cursor1.next\n",
    "            cursor2 = cursor2.next\n",
    "        if cursor1 is None and cursor2 is None:\n",
    "            return True\n",
    "#         1:aaabb\n",
    "#         2:aaabb\n",
    "\n",
    "        elif cursor1 is None and cursor2 is not None:\n",
    "            return False\n",
    "#         1:aaabb\n",
    "#         2:aaabbaa\n",
    "        elif cursor1.data is not None and cursor2.data is None:\n",
    "            return True\n",
    "#         1:aaabbaa\n",
    "#         2:aaabb\n",
    "        else:\n",
    "            if cursor1.data[0] == cursor2.data[0]:\n",
    "                if cursor1.data[1] < cursor2.data[1]:\n",
    "                    if cursor1.next is None:\n",
    "                        return False\n",
    "                    else:\n",
    "                        return cursor1.next.data[0] >= cursor2.data[0]\n",
    "                else:\n",
    "                    if cursor2.next is None:\n",
    "                        return True\n",
    "                    else:\n",
    "                        return cursor1.data[0] >= cursor2.next.data[0]\n",
    "            return cursor1.data[0] >= cursor2.data[0]\n",
    "\n",
    "    def __repr__(self):\n",
    "        result_str = ''\n",
    "        for i in self.dll:\n",
    "            for j in range(i[1]):\n",
    "                result_str += i[0]\n",
    "        return result_str"
   ]
  },
  {
   "cell_type": "code",
   "execution_count": 1,
   "id": "e0fca0bb",
   "metadata": {},
   "outputs": [],
   "source": [
    "from DoublyLinkedList import DoublyLinkedList\n",
    "class CompactString:\n",
    "    def __init__(self, orig_str):\n",
    "        self.dll = DoublyLinkedList()\n",
    "        if len(orig_str) == 0:\n",
    "            pass\n",
    "        else:\n",
    "            count = 1\n",
    "            for i in range(1, len(orig_str)):\n",
    "                if orig_str[i] == orig_str[i - 1]:\n",
    "                    count += 1\n",
    "                else:\n",
    "                    self.dll.add_last((orig_str[i - 1], count))\n",
    "                    count = 1\n",
    "            if len(orig_str) != 0:\n",
    "                self.dll.add_last((orig_str[len(orig_str) - 1], count))\n",
    "\n",
    "\n",
    "    def __add__(self, other):\n",
    "        new_cs = CompactString('')\n",
    "        cursor = self.dll.header.next\n",
    "        if self.dll.header.next is self.dll.trailer:\n",
    "            return other\n",
    "        elif other.dll.header.next is other.dll.trailer:\n",
    "            return self\n",
    "        else:\n",
    "            while cursor.next.data is not None:\n",
    "                new_cs.dll.add_last(cursor.data)\n",
    "                cursor = cursor.next\n",
    "            if other.dll.header.next.data is None:\n",
    "                new_cs.dll.add_last(cursor.data)\n",
    "                return new_cs\n",
    "            if cursor.data[0] == other.dll.header.next.data[0]:\n",
    "                new_cs.dll.add_last((cursor.data[0], cursor.data[1] + other.dll.header.next.data[1]))\n",
    "                cursor = other.dll.header.next.next\n",
    "            else:\n",
    "                new_cs.dll.add_last(cursor.data)\n",
    "                cursor = other.dll.header.next\n",
    "            while cursor.data is not None:\n",
    "                new_cs.dll.add_last(cursor.data)\n",
    "                cursor = cursor.next\n",
    "            return new_cs\n",
    "\n",
    "    def __lt__(self, other):\n",
    "        cursor1 = self.dll.header.next\n",
    "        cursor2 = other.dll.header.next\n",
    "        while cursor1.data == cursor2.data and cursor1.data is not None:\n",
    "            cursor1 = cursor1.next\n",
    "            cursor2 = cursor2.next\n",
    "        if cursor1.data is None and cursor2.data is None:\n",
    "            return False\n",
    "        elif cursor1.data is None and cursor2.data is not None:\n",
    "            return True\n",
    "        elif cursor1.data is not None and cursor2.data is None:\n",
    "            return False\n",
    "        else:\n",
    "            if cursor1.data[0] == cursor2.data[0]:\n",
    "                if cursor1.data[1] > cursor2.data[1]:\n",
    "                    if cursor2.next.data is None:\n",
    "                        return False\n",
    "                    return cursor1.data[0] < cursor2.next.data[0]\n",
    "                else:\n",
    "                    if cursor1.next.data is None:\n",
    "                        return True\n",
    "                    return cursor1.next.data[0] < cursor2.data[0]\n",
    "            return cursor1.data[0] < cursor2.data[0]\n",
    "    \n",
    "    def __eq__(self, other):\n",
    "        cursor1 = self.dll.header.next\n",
    "        cursor2 = other.dll.header.next\n",
    "        while cursor1 is not self.dll.trailer or cursor2 is not other.dll.trailer:\n",
    "            if cursor1.data != cursor2.data:\n",
    "                return False\n",
    "            else:\n",
    "                cursor1 = cursor1.next\n",
    "                cursor2 = cursor2.next\n",
    "        if cursor1 is self.dll.trailer and cursor2 is other.dll.trailer:\n",
    "            return True\n",
    "        else:\n",
    "            return False\n",
    "\n",
    "    def __le__(self, other):\n",
    "        return self < other or self == other\n",
    "\n",
    "    def __gt__(self, other):\n",
    "        return other < self\n",
    "\n",
    "    def __ge__(self, other):\n",
    "        return other < self or self == other\n",
    "\n",
    "    def __repr__(self):\n",
    "        result_str = ''\n",
    "        for i in self.dll:\n",
    "            for j in range(i[1]):\n",
    "                result_str += i[0]\n",
    "        return result_str\n"
   ]
  },
  {
   "cell_type": "code",
   "execution_count": 4,
   "id": "71a92ea8",
   "metadata": {},
   "outputs": [],
   "source": [
    "n1 = CompactString('')"
   ]
  },
  {
   "cell_type": "code",
   "execution_count": 5,
   "id": "3170bd93",
   "metadata": {},
   "outputs": [],
   "source": [
    "n2 = CompactString('')"
   ]
  },
  {
   "cell_type": "code",
   "execution_count": 6,
   "id": "1b0ff5fe",
   "metadata": {},
   "outputs": [],
   "source": [
    "n3 = n1 + n2"
   ]
  },
  {
   "cell_type": "code",
   "execution_count": 8,
   "id": "977a89d8",
   "metadata": {},
   "outputs": [
    {
     "data": {
      "text/plain": [
       "True"
      ]
     },
     "execution_count": 8,
     "metadata": {},
     "output_type": "execute_result"
    }
   ],
   "source": [
    "n1 == n2"
   ]
  },
  {
   "cell_type": "code",
   "execution_count": 777,
   "id": "14345efe",
   "metadata": {},
   "outputs": [
    {
     "name": "stdout",
     "output_type": "stream",
     "text": [
      "True\n"
     ]
    }
   ],
   "source": [
    "s1 = CompactString('aa')\n",
    "s2 = CompactString('aa')\n",
    "print(s1 == s2)"
   ]
  },
  {
   "cell_type": "code",
   "execution_count": 801,
   "id": "71f82e10",
   "metadata": {},
   "outputs": [],
   "source": [
    "s1 = CompactString('abc')\n",
    "s2 = CompactString('abc')\n"
   ]
  },
  {
   "cell_type": "code",
   "execution_count": 802,
   "id": "30391912",
   "metadata": {},
   "outputs": [
    {
     "data": {
      "text/plain": [
       "abcabc"
      ]
     },
     "execution_count": 802,
     "metadata": {},
     "output_type": "execute_result"
    }
   ],
   "source": [
    "s1 + s2   # aaaaabbbaaacaaaaaaacccaaaa\n"
   ]
  },
  {
   "cell_type": "code",
   "execution_count": 803,
   "id": "5ee37ad6",
   "metadata": {},
   "outputs": [
    {
     "data": {
      "text/plain": [
       "abcabc"
      ]
     },
     "execution_count": 803,
     "metadata": {},
     "output_type": "execute_result"
    }
   ],
   "source": [
    "s2 + s1   # aaaaaaacccaaaaaaaaabbbaaac\n"
   ]
  },
  {
   "cell_type": "code",
   "execution_count": 804,
   "id": "8172ad5a",
   "metadata": {},
   "outputs": [
    {
     "data": {
      "text/plain": [
       "False"
      ]
     },
     "execution_count": 804,
     "metadata": {},
     "output_type": "execute_result"
    }
   ],
   "source": [
    "s1 < s2   # False\n"
   ]
  },
  {
   "cell_type": "code",
   "execution_count": 805,
   "id": "b87fed95",
   "metadata": {},
   "outputs": [
    {
     "data": {
      "text/plain": [
       "False"
      ]
     },
     "execution_count": 805,
     "metadata": {},
     "output_type": "execute_result"
    }
   ],
   "source": [
    "s2 < s1   # True\n"
   ]
  },
  {
   "cell_type": "code",
   "execution_count": 806,
   "id": "99d575e4",
   "metadata": {},
   "outputs": [
    {
     "data": {
      "text/plain": [
       "True"
      ]
     },
     "execution_count": 806,
     "metadata": {},
     "output_type": "execute_result"
    }
   ],
   "source": [
    "s1 <= s2  # False\n"
   ]
  },
  {
   "cell_type": "code",
   "execution_count": 807,
   "id": "c49e7719",
   "metadata": {},
   "outputs": [
    {
     "data": {
      "text/plain": [
       "True"
      ]
     },
     "execution_count": 807,
     "metadata": {},
     "output_type": "execute_result"
    }
   ],
   "source": [
    "s2 <= s1  # True\n"
   ]
  },
  {
   "cell_type": "code",
   "execution_count": 808,
   "id": "12cb1fb6",
   "metadata": {},
   "outputs": [
    {
     "data": {
      "text/plain": [
       "False"
      ]
     },
     "execution_count": 808,
     "metadata": {},
     "output_type": "execute_result"
    }
   ],
   "source": [
    "s1 > s2   # True\n"
   ]
  },
  {
   "cell_type": "code",
   "execution_count": 809,
   "id": "04c27491",
   "metadata": {},
   "outputs": [
    {
     "data": {
      "text/plain": [
       "False"
      ]
     },
     "execution_count": 809,
     "metadata": {},
     "output_type": "execute_result"
    }
   ],
   "source": [
    "s2 > s1   # False\n"
   ]
  },
  {
   "cell_type": "code",
   "execution_count": 810,
   "id": "0afcb168",
   "metadata": {},
   "outputs": [
    {
     "data": {
      "text/plain": [
       "True"
      ]
     },
     "execution_count": 810,
     "metadata": {},
     "output_type": "execute_result"
    }
   ],
   "source": [
    "s1 >= s2  # True\n"
   ]
  },
  {
   "cell_type": "code",
   "execution_count": 811,
   "id": "adfa92df",
   "metadata": {},
   "outputs": [
    {
     "data": {
      "text/plain": [
       "True"
      ]
     },
     "execution_count": 811,
     "metadata": {},
     "output_type": "execute_result"
    }
   ],
   "source": [
    "s2 >= s1  # False"
   ]
  },
  {
   "cell_type": "code",
   "execution_count": 825,
   "id": "5190a372",
   "metadata": {},
   "outputs": [],
   "source": [
    "s1 = CompactString(\"abb\")\n",
    "s2 = CompactString(\"abc\")"
   ]
  },
  {
   "cell_type": "code",
   "execution_count": 830,
   "id": "16bf17d5",
   "metadata": {},
   "outputs": [
    {
     "data": {
      "text/plain": [
       "False"
      ]
     },
     "execution_count": 830,
     "metadata": {},
     "output_type": "execute_result"
    }
   ],
   "source": []
  },
  {
   "cell_type": "markdown",
   "id": "9d421a41",
   "metadata": {},
   "source": [
    "# Question 4"
   ]
  },
  {
   "cell_type": "code",
   "execution_count": 509,
   "id": "988b962f",
   "metadata": {},
   "outputs": [],
   "source": [
    "# a.\n",
    "def copy_linked_list(lnk_lst):\n",
    "    copy_lnk_lst = DoublyLinkedList()\n",
    "    for i in lnk_lst:\n",
    "        copy_lnk_lst.add_last(i)\n",
    "    return copy_lnk_lst"
   ]
  },
  {
   "cell_type": "markdown",
   "id": "1dfbb9cd",
   "metadata": {},
   "source": [
    "test code"
   ]
  },
  {
   "cell_type": "code",
   "execution_count": 511,
   "id": "169c8111",
   "metadata": {},
   "outputs": [
    {
     "data": {
      "text/plain": [
       "<DoublyLinkedList.DoublyLinkedList.Node at 0x10e9381f0>"
      ]
     },
     "execution_count": 511,
     "metadata": {},
     "output_type": "execute_result"
    }
   ],
   "source": [
    "lnk_lst1 = DoublyLinkedList()\n",
    "elem1 = DoublyLinkedList()\n",
    "elem1.add_last(1)\n",
    "elem1.add_last(2)\n",
    "lnk_lst1.add_last(elem1)\n",
    "elem2 = 3\n",
    "lnk_lst1.add_last(elem2)"
   ]
  },
  {
   "cell_type": "code",
   "execution_count": 512,
   "id": "ce3ca731",
   "metadata": {},
   "outputs": [],
   "source": [
    "lnk_lst2 = copy_linked_list(lnk_lst1)"
   ]
  },
  {
   "cell_type": "code",
   "execution_count": 513,
   "id": "11f94061",
   "metadata": {},
   "outputs": [],
   "source": [
    "e1 = lnk_lst1.header.next\n",
    "e1_1 = e1.data.header.next\n",
    "e1_1.data = 10"
   ]
  },
  {
   "cell_type": "code",
   "execution_count": 514,
   "id": "3c315b99",
   "metadata": {},
   "outputs": [
    {
     "name": "stdout",
     "output_type": "stream",
     "text": [
      "10\n"
     ]
    }
   ],
   "source": [
    "e2 = lnk_lst2.header.next\n",
    "e2_1 = e2.data.header.next\n",
    "print(e2_1.data)"
   ]
  },
  {
   "cell_type": "code",
   "execution_count": 515,
   "id": "5ffa8326",
   "metadata": {},
   "outputs": [],
   "source": [
    "# b\n",
    "import copy\n",
    "def deep_copy_linked_list(lnk_lst):\n",
    "    deep_lnk_lst = DoublyLinkedList()\n",
    "    for i in lnk_lst:\n",
    "        deep_lnk_lst.add_last(copy.deepcopy(i))\n",
    "    return deep_lnk_lst"
   ]
  },
  {
   "cell_type": "code",
   "execution_count": 516,
   "id": "86f98a72",
   "metadata": {},
   "outputs": [
    {
     "data": {
      "text/plain": [
       "<DoublyLinkedList.DoublyLinkedList.Node at 0x10a769910>"
      ]
     },
     "execution_count": 516,
     "metadata": {},
     "output_type": "execute_result"
    }
   ],
   "source": [
    "lnk_lst1 = DoublyLinkedList()\n",
    "elem1 = DoublyLinkedList()\n",
    "elem1.add_last(1)\n",
    "elem1.add_last(2)\n",
    "lnk_lst1.add_last(elem1)\n",
    "elem2 = 3\n",
    "lnk_lst1.add_last(elem2)"
   ]
  },
  {
   "cell_type": "code",
   "execution_count": 517,
   "id": "5a3fd656",
   "metadata": {},
   "outputs": [],
   "source": [
    "lnk_lst2 = deep_copy_linked_list(lnk_lst1)"
   ]
  },
  {
   "cell_type": "code",
   "execution_count": 518,
   "id": "420b009b",
   "metadata": {},
   "outputs": [
    {
     "name": "stdout",
     "output_type": "stream",
     "text": [
      "1\n"
     ]
    }
   ],
   "source": [
    "e1 = lnk_lst1.header.next\n",
    "e1_1 = e1.data.header.next\n",
    "e1_1.data = 10\n",
    "e2 = lnk_lst2.header.next\n",
    "e2_1 = e2.data.header.next\n",
    "print(e2_1.data)"
   ]
  },
  {
   "cell_type": "code",
   "execution_count": 597,
   "id": "20b0c1a8",
   "metadata": {},
   "outputs": [
    {
     "data": {
      "text/plain": [
       "True"
      ]
     },
     "execution_count": 597,
     "metadata": {},
     "output_type": "execute_result"
    }
   ],
   "source": [
    "\"aaaa\" > \"aaa\""
   ]
  },
  {
   "cell_type": "markdown",
   "id": "36c49b27",
   "metadata": {},
   "source": [
    "# Question 5"
   ]
  },
  {
   "cell_type": "code",
   "execution_count": 876,
   "id": "753fe9d1",
   "metadata": {},
   "outputs": [],
   "source": [
    "def merge_linked_lists(srt_lnk_lst1, srt_lnk_lst2):\n",
    "    def merge_sublists(cursor1,cursor2,merge_lnk_lst):\n",
    "        if (cursor1.data is None) and (cursor2.data is None):\n",
    "            return merge_lnk_lst\n",
    "        else:\n",
    "            if (cursor1.data is not None) and (cursor2.data is not None):\n",
    "                if cursor1.data <= cursor2.data:\n",
    "                    merge_lnk_lst.add_last(cursor1.data)\n",
    "                    cursor1 = cursor1.next\n",
    "                else:\n",
    "                    merge_lnk_lst.add_last(cursor2.data)\n",
    "                    cursor2 = cursor2.next\n",
    "            elif (cursor1.data is None):\n",
    "                merge_lnk_lst.add_last(cursor2.data)\n",
    "                cursor2 = cursor2.next\n",
    "            elif (cursor2.data is None):\n",
    "                merge_lnk_lst.add_last(cursor1.data)\n",
    "                cursor1 = cursor1.next\n",
    "            merge_sublists(cursor1,cursor2,merge_lnk_lst)\n",
    "            return merge_lnk_lst\n",
    "\n",
    "    merge_lnk_lst = DoublyLinkedList()\n",
    "    cursor1 = srt_lnk_lst1.header.next\n",
    "    cursor2 = srt_lnk_lst2.header.next\n",
    "    merge_sublists(cursor1,cursor2,merge_lnk_lst)\n",
    "    return merge_lnk_lst\n"
   ]
  },
  {
   "cell_type": "code",
   "execution_count": 877,
   "id": "4e7d9406",
   "metadata": {},
   "outputs": [],
   "source": [
    "n1 = DoublyLinkedList()\n",
    "n2 = DoublyLinkedList()"
   ]
  },
  {
   "cell_type": "code",
   "execution_count": 878,
   "id": "44a85f73",
   "metadata": {},
   "outputs": [
    {
     "data": {
      "text/plain": [
       "<DoublyLinkedList.DoublyLinkedList.Node at 0x10e8633d0>"
      ]
     },
     "execution_count": 878,
     "metadata": {},
     "output_type": "execute_result"
    }
   ],
   "source": [
    "n1.add_last(1)\n",
    "n1.add_last(3)\n",
    "n1.add_last(5)\n",
    "n1.add_last(6)\n",
    "n1.add_last(8)"
   ]
  },
  {
   "cell_type": "code",
   "execution_count": 879,
   "id": "d366f359",
   "metadata": {},
   "outputs": [
    {
     "data": {
      "text/plain": [
       "<DoublyLinkedList.DoublyLinkedList.Node at 0x10ebacf70>"
      ]
     },
     "execution_count": 879,
     "metadata": {},
     "output_type": "execute_result"
    }
   ],
   "source": [
    "n2.add_last(2)\n",
    "n2.add_last(3)\n",
    "n2.add_last(5)\n",
    "n2.add_last(10)\n",
    "n2.add_last(15)\n",
    "n2.add_last(18)"
   ]
  },
  {
   "cell_type": "code",
   "execution_count": 880,
   "id": "abe62e1c",
   "metadata": {},
   "outputs": [
    {
     "data": {
      "text/plain": [
       "[1 <--> 3 <--> 5 <--> 6 <--> 8]"
      ]
     },
     "execution_count": 880,
     "metadata": {},
     "output_type": "execute_result"
    }
   ],
   "source": [
    "n1"
   ]
  },
  {
   "cell_type": "code",
   "execution_count": 881,
   "id": "2478abbe",
   "metadata": {},
   "outputs": [
    {
     "data": {
      "text/plain": [
       "[2 <--> 3 <--> 5 <--> 10 <--> 15 <--> 18]"
      ]
     },
     "execution_count": 881,
     "metadata": {},
     "output_type": "execute_result"
    }
   ],
   "source": [
    "n2"
   ]
  },
  {
   "cell_type": "code",
   "execution_count": 882,
   "id": "431f1116",
   "metadata": {},
   "outputs": [
    {
     "data": {
      "text/plain": [
       "[1 <--> 2 <--> 3 <--> 3 <--> 5 <--> 5 <--> 6 <--> 8 <--> 10 <--> 15 <--> 18]"
      ]
     },
     "execution_count": 882,
     "metadata": {},
     "output_type": "execute_result"
    }
   ],
   "source": [
    "merge_linked_lists(n1, n2)"
   ]
  },
  {
   "cell_type": "code",
   "execution_count": 883,
   "id": "1f07a5f9",
   "metadata": {},
   "outputs": [],
   "source": [
    "elem_2 = n1.delete_first()"
   ]
  },
  {
   "cell_type": "code",
   "execution_count": 884,
   "id": "98629214",
   "metadata": {},
   "outputs": [
    {
     "data": {
      "text/plain": [
       "1"
      ]
     },
     "execution_count": 884,
     "metadata": {},
     "output_type": "execute_result"
    }
   ],
   "source": [
    "elem_2"
   ]
  },
  {
   "cell_type": "code",
   "execution_count": null,
   "id": "9a34a76d",
   "metadata": {},
   "outputs": [],
   "source": []
  },
  {
   "cell_type": "code",
   "execution_count": null,
   "id": "9182fd97",
   "metadata": {},
   "outputs": [],
   "source": []
  }
 ],
 "metadata": {
  "kernelspec": {
   "display_name": "Python 3 (ipykernel)",
   "language": "python",
   "name": "python3"
  },
  "language_info": {
   "codemirror_mode": {
    "name": "ipython",
    "version": 3
   },
   "file_extension": ".py",
   "mimetype": "text/x-python",
   "name": "python",
   "nbconvert_exporter": "python",
   "pygments_lexer": "ipython3",
   "version": "3.8.12"
  },
  "toc": {
   "base_numbering": 1,
   "nav_menu": {},
   "number_sections": true,
   "sideBar": true,
   "skip_h1_title": false,
   "title_cell": "Table of Contents",
   "title_sidebar": "Contents",
   "toc_cell": false,
   "toc_position": {},
   "toc_section_display": true,
   "toc_window_display": false
  }
 },
 "nbformat": 4,
 "nbformat_minor": 5
}
