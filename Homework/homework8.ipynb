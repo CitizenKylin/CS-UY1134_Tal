{
 "cells": [
  {
   "cell_type": "markdown",
   "id": "dfac4ffa",
   "metadata": {},
   "source": [
    "# Question 2"
   ]
  },
  {
   "cell_type": "code",
   "execution_count": 2,
   "id": "90cc7ae8",
   "metadata": {},
   "outputs": [],
   "source": [
    "from BinarySearchTreeMap import BinartSearchTreeMap "
   ]
  },
  {
   "cell_type": "code",
   "execution_count": null,
   "id": "551bee79",
   "metadata": {},
   "outputs": [],
   "source": [
    "class BinartSearchTreeMap:\n",
    "    class Item:\n",
    "        def __init__(self, key, value=None):\n",
    "            self.key = key\n",
    "            self.value = value\n",
    "\n",
    "\n",
    "    class Node:\n",
    "        def __init__(self, item):\n",
    "            self.item = item\n",
    "            self.parent = None\n",
    "            self.left = None\n",
    "            self.right = None\n",
    "\n",
    "        def num_children(self):\n",
    "            count = 0\n",
    "            if(self.left is not None):\n",
    "                count += 1\n",
    "            if(self.right is not None):\n",
    "                count += 1\n",
    "            return count\n",
    "\n",
    "        def disconnect(self):\n",
    "            self.item = None\n",
    "            self.parent = None\n",
    "            self.left = None\n",
    "            self.right = None\n",
    "\n",
    "\n",
    "    def __init__(self):\n",
    "        self.root = None\n",
    "        self.n = 0\n",
    "\n",
    "    def __len__(self):\n",
    "        return self.n\n",
    "\n",
    "    def is_empty(self):\n",
    "        return (len(self) == 0)\n",
    "\n",
    "\n",
    "    # returns value, or raises exception if not found\n",
    "    def __getitem__(self, key):\n",
    "        node = self.find_node(key)\n",
    "        if(node is None):\n",
    "            raise KeyError(str(key) + \" not found\")\n",
    "        else:\n",
    "            return node.item.value\n",
    "\n",
    "    # return node with key, or None if not found\n",
    "    def find_node(self, key):\n",
    "        cursor = self.root\n",
    "        while(cursor is not None):\n",
    "            if(cursor.item.key == key):\n",
    "                return cursor\n",
    "            elif(cursor.item.key > key):\n",
    "                cursor = cursor.left\n",
    "            else: # (cursor.item.key < key\n",
    "                cursor = cursor.right\n",
    "        return None\n",
    "\n",
    "\n",
    "    # updates value if key already exists\n",
    "    def __setitem__(self, key, value):\n",
    "        node = self.find_node(key)\n",
    "        if(node is not None):\n",
    "            node.item.value = value\n",
    "        else:\n",
    "            self.insert(key, value)\n",
    "\n",
    "    # assumes that key is not in the tree\n",
    "    def insert(self, key, value):\n",
    "        new_item = BinartSearchTreeMap.Item(key, value)\n",
    "        new_node = BinartSearchTreeMap.Node(new_item)\n",
    "        if(self.is_empty() == True):\n",
    "            self.root = new_node\n",
    "            self.n = 1\n",
    "        else:\n",
    "            parent = None\n",
    "            cursor = self.root\n",
    "            while(cursor is not None):\n",
    "                parent = cursor\n",
    "                if(key < cursor.item.key):\n",
    "                    cursor = cursor.left\n",
    "                else:\n",
    "                    cursor = cursor.right\n",
    "            if(key < parent.item.key):\n",
    "                parent.left = new_node\n",
    "            else:\n",
    "                parent.right = new_node\n",
    "            new_node.parent = parent\n",
    "            self.n += 1\n",
    "\n",
    "\n",
    "    # raises an exceprion if ket not in the tree\n",
    "    def __delitem__(self, key):\n",
    "        node = self.find_node(key)\n",
    "        if (node is None):\n",
    "            raise KeyError(str(key) + \" not found\")\n",
    "        else:\n",
    "            self.delete_node(node)\n",
    "\n",
    "    # assumes the key is in the tree + returns item that was removed from the tree\n",
    "    def delete_node(self, node_to_delete):\n",
    "        item = node_to_delete.item\n",
    "        num_children = node_to_delete.num_children()\n",
    "\n",
    "        if(node_to_delete is self.root):\n",
    "            if (num_children == 0):\n",
    "                self.root = None\n",
    "                node_to_delete.disconnect()\n",
    "                self.n -= 1\n",
    "\n",
    "            elif (num_children == 1):\n",
    "                if (self.root.left is not None):\n",
    "                    self.root = self.root.left\n",
    "                else:\n",
    "                    self.root = self.root.right\n",
    "                self.root.parent = None\n",
    "                node_to_delete.disconnect()\n",
    "                self.n -= 1\n",
    "\n",
    "            else:  # num_children == 2\n",
    "                max_of_left = self.subtree_max(node_to_delete.left)\n",
    "                node_to_delete.item = max_of_left.item\n",
    "                self.delete_node(max_of_left)\n",
    "\n",
    "        else:\n",
    "            if(num_children == 0):\n",
    "                parent = node_to_delete.parent\n",
    "                if(node_to_delete is parent.left):\n",
    "                    parent.left = None\n",
    "                else:\n",
    "                    parent.right = None\n",
    "\n",
    "                node_to_delete.disconnect()\n",
    "                self.n -= 1\n",
    "\n",
    "            elif(num_children == 1):\n",
    "                parent = node_to_delete.parent\n",
    "                if(node_to_delete.left is not None):\n",
    "                    child = node_to_delete.left\n",
    "                else:\n",
    "                    child = node_to_delete.right\n",
    "\n",
    "                if(node_to_delete is parent.left):\n",
    "                    parent.left = child\n",
    "                else:\n",
    "                    parent.right = child\n",
    "                child.parent = parent\n",
    "\n",
    "                node_to_delete.disconnect()\n",
    "                self.n -= 1\n",
    "\n",
    "            else: #(num_children == 2)\n",
    "                max_in_left = self.subtree_max(node_to_delete.left)\n",
    "                node_to_delete.item = max_in_left.item\n",
    "                self.delete_node(max_in_left)\n",
    "\n",
    "        return item\n",
    "\n",
    "    def subtree_max(self, subtree_root):\n",
    "        cursor = subtree_root\n",
    "        while(cursor.right is not None):\n",
    "            cursor = cursor.right\n",
    "        return cursor\n",
    "\n",
    "\n",
    "    def inorder(self):\n",
    "        def subtree_inorder(root):\n",
    "            if (root is None):\n",
    "                return\n",
    "            else:\n",
    "                yield from subtree_inorder(root.left)\n",
    "                yield root\n",
    "                yield from subtree_inorder(root.right)\n",
    "\n",
    "        yield from subtree_inorder(self.root)\n",
    "\n",
    "    def __iter__(self):\n",
    "        for node in self.inorder():\n",
    "            yield node.item.key"
   ]
  },
  {
   "cell_type": "code",
   "execution_count": null,
   "id": "32375cd8",
   "metadata": {},
   "outputs": [],
   "source": [
    "BinartSearchTreeMap.Node()"
   ]
  },
  {
   "cell_type": "code",
   "execution_count": 133,
   "id": "6f1a74f8",
   "metadata": {},
   "outputs": [],
   "source": [
    "# q2\n",
    "# a\n",
    "def create_chain_bst(n):\n",
    "    tree_map = BinartSearchTreeMap()\n",
    "    for i in range(1,n+1):\n",
    "        tree_map.insert(i,None)\n",
    "    return tree_map"
   ]
  },
  {
   "cell_type": "code",
   "execution_count": 134,
   "id": "4317e404",
   "metadata": {},
   "outputs": [],
   "source": [
    "tree_map = BinartSearchTreeMap()"
   ]
  },
  {
   "cell_type": "code",
   "execution_count": 135,
   "id": "41ac17ed",
   "metadata": {},
   "outputs": [],
   "source": [
    "tree_map[4]=4"
   ]
  },
  {
   "cell_type": "code",
   "execution_count": 136,
   "id": "e95b4ae5",
   "metadata": {},
   "outputs": [
    {
     "data": {
      "text/plain": [
       "4"
      ]
     },
     "execution_count": 136,
     "metadata": {},
     "output_type": "execute_result"
    }
   ],
   "source": [
    "tree_map[4]"
   ]
  },
  {
   "cell_type": "code",
   "execution_count": 137,
   "id": "008aa835",
   "metadata": {},
   "outputs": [],
   "source": [
    "tree= create_chain_bst(5)"
   ]
  },
  {
   "cell_type": "code",
   "execution_count": 138,
   "id": "0d15119a",
   "metadata": {},
   "outputs": [
    {
     "name": "stdout",
     "output_type": "stream",
     "text": [
      "1\n",
      "2\n",
      "3\n",
      "4\n",
      "5\n"
     ]
    }
   ],
   "source": [
    "for key in tree:\n",
    "    print(key)"
   ]
  },
  {
   "cell_type": "code",
   "execution_count": 139,
   "id": "4ae65233",
   "metadata": {},
   "outputs": [],
   "source": [
    "# b\n",
    "def create_complete_bst(n):\n",
    "    bst = BinartSearchTreeMap()\n",
    "    add_items(bst, 1, n)\n",
    "    return bst\n",
    "def add_items(bst, low, high):\n",
    "    if high-low==2:\n",
    "        mid = (low+high)//2\n",
    "        bst.insert(mid,None)\n",
    "        bst.insert(low,None)\n",
    "        bst.insert(high,None)\n",
    "        return\n",
    "    else:\n",
    "        mid = (low+high)//2\n",
    "        bst.insert(mid,None)\n",
    "        add_items(bst,low,mid-1)\n",
    "        add_items(bst,mid+1,high)\n",
    "        return"
   ]
  },
  {
   "cell_type": "code",
   "execution_count": 140,
   "id": "4377ba9b",
   "metadata": {},
   "outputs": [],
   "source": [
    "tree_map2=create_complete_bst(15)"
   ]
  },
  {
   "cell_type": "code",
   "execution_count": 141,
   "id": "82505ea6",
   "metadata": {},
   "outputs": [
    {
     "name": "stdout",
     "output_type": "stream",
     "text": [
      "1\n",
      "2\n",
      "3\n",
      "4\n",
      "5\n",
      "6\n",
      "7\n",
      "8\n",
      "9\n",
      "10\n",
      "11\n",
      "12\n",
      "13\n",
      "14\n",
      "15\n"
     ]
    }
   ],
   "source": [
    "for key in tree_map2:\n",
    "    print(key)"
   ]
  },
  {
   "cell_type": "markdown",
   "id": "bc398cf7",
   "metadata": {},
   "source": [
    "# Question 3"
   ]
  },
  {
   "cell_type": "code",
   "execution_count": 35,
   "id": "4a1471d6",
   "metadata": {},
   "outputs": [],
   "source": [
    "from BinarySearchTreeMap import BinartSearchTreeMap "
   ]
  },
  {
   "cell_type": "code",
   "execution_count": 127,
   "id": "57cd08f5",
   "metadata": {},
   "outputs": [],
   "source": [
    "def restore_bst(prefix_lst):\n",
    "    def add_node_bst(prefix_lst,i,bound):\n",
    "        if i> len(prefix_lst)-1 or prefix_lst[i]>bound:\n",
    "            return (None,i)\n",
    "        else:\n",
    "            root = BinartSearchTreeMap.Node(BinartSearchTreeMap.Item(prefix_lst[i], None))\n",
    "            i += 1\n",
    "            left = add_node_bst(prefix_lst,i,root.item.key)\n",
    "            root.left = left[0]\n",
    "            i = left[1]\n",
    "            right = add_node_bst(prefix_lst,i,bound)\n",
    "            root.right = right[0]\n",
    "            i = right[1]\n",
    "            return (root,i)\n",
    "    root_node= add_node_bst(prefix_lst,0,float('inf'))[0]\n",
    "    tree = BinartSearchTreeMap()\n",
    "    tree.root = root_node\n",
    "    tree.n = len(prefix_lst)\n",
    "    return tree"
   ]
  },
  {
   "cell_type": "code",
   "execution_count": 128,
   "id": "001c7d3a",
   "metadata": {},
   "outputs": [],
   "source": [
    "lst = [9, 7, 3, 1, 5, 13, 11, 15]"
   ]
  },
  {
   "cell_type": "code",
   "execution_count": 40,
   "id": "4a2d8af5",
   "metadata": {},
   "outputs": [],
   "source": [
    "tree = BinartSearchTreeMap.Node(BinartSearchTreeMap.Item(lst[0]))"
   ]
  },
  {
   "cell_type": "code",
   "execution_count": 42,
   "id": "6f904ba0",
   "metadata": {},
   "outputs": [
    {
     "data": {
      "text/plain": [
       "9"
      ]
     },
     "execution_count": 42,
     "metadata": {},
     "output_type": "execute_result"
    }
   ],
   "source": [
    "tree.item.key"
   ]
  },
  {
   "cell_type": "code",
   "execution_count": 115,
   "id": "4ba3dc8f",
   "metadata": {},
   "outputs": [],
   "source": [
    "tree2=BinartSearchTreeMap()"
   ]
  },
  {
   "cell_type": "code",
   "execution_count": 44,
   "id": "9ccac56c",
   "metadata": {},
   "outputs": [],
   "source": [
    "tree2.root = tree"
   ]
  },
  {
   "cell_type": "code",
   "execution_count": 129,
   "id": "4554a25e",
   "metadata": {},
   "outputs": [],
   "source": [
    "tree3=restore_bst(lst)"
   ]
  },
  {
   "cell_type": "code",
   "execution_count": 130,
   "id": "a62d6fa3",
   "metadata": {},
   "outputs": [
    {
     "name": "stdout",
     "output_type": "stream",
     "text": [
      "<BinarySearchTreeMap.BinartSearchTreeMap object at 0x1106559d0>\n"
     ]
    }
   ],
   "source": [
    "print(tree3)"
   ]
  },
  {
   "cell_type": "code",
   "execution_count": 131,
   "id": "c1c33f03",
   "metadata": {},
   "outputs": [
    {
     "name": "stdout",
     "output_type": "stream",
     "text": [
      "1\n",
      "3\n",
      "5\n",
      "7\n",
      "9\n",
      "11\n",
      "13\n",
      "15\n"
     ]
    }
   ],
   "source": [
    "for key in tree3:\n",
    "    print(key)"
   ]
  },
  {
   "cell_type": "code",
   "execution_count": null,
   "id": "854fc31d",
   "metadata": {},
   "outputs": [],
   "source": []
  },
  {
   "cell_type": "code",
   "execution_count": null,
   "id": "c1ddfee2",
   "metadata": {},
   "outputs": [],
   "source": []
  },
  {
   "cell_type": "code",
   "execution_count": null,
   "id": "b47deb7a",
   "metadata": {},
   "outputs": [],
   "source": [
    "# Question 4\n",
    "def find_min_abs_difference(bst):\n",
    "    def help_min_dif(root,min_dif,l_max,r_min):\n",
    "    if (root is None):\n",
    "        return (float('inf'),0,float('-inf'))\n",
    "    else:\n",
    "            left_tree = help_min_dif(root) # min_difference,left_max, right_min,\n",
    "            left_max = left_tree\n",
    "            while l_max is not None\n",
    "\n",
    "        \n",
    "        \n",
    "        "
   ]
  },
  {
   "cell_type": "code",
   "execution_count": null,
   "id": "6bbe0816",
   "metadata": {},
   "outputs": [],
   "source": [
    "def getMinimumDifference(bst):\n",
    "        def fn(node, low, high):\n",
    "            if node is None: \n",
    "                return (high - low)\n",
    "            left = fn(node.left, low, node.item.key)\n",
    "            right = fn(node.right, node.item.key, high)\n",
    "            return min(left, right)\n",
    "        return fn(bst.root, float('-inf'), float('inf'))"
   ]
  },
  {
   "cell_type": "code",
   "execution_count": 132,
   "id": "78a03e69",
   "metadata": {},
   "outputs": [],
   "source": [
    "def getMinimumDifference(bst):\n",
    "    inorder_lst = []\n",
    "    for key in bst:\n",
    "        inorder_lst.append(key)\n",
    "    cursor = 0\n",
    "    min_val = inorder_lst[-1] - inorder_lst[0]\n",
    "    while cursor < len(inorder_lst)-1:\n",
    "        diff = inorder_lst[cursor+1]-inorder_lst[cursor]\n",
    "        if diff<min_val:\n",
    "            min_val = diff\n",
    "        cursor += 1\n",
    "    return "
   ]
  },
  {
   "cell_type": "code",
   "execution_count": null,
   "id": "ae67288c",
   "metadata": {},
   "outputs": [],
   "source": []
  },
  {
   "cell_type": "code",
   "execution_count": null,
   "id": "387a86de",
   "metadata": {},
   "outputs": [],
   "source": []
  },
  {
   "cell_type": "code",
   "execution_count": null,
   "id": "5f69cb6f",
   "metadata": {},
   "outputs": [],
   "source": []
  }
 ],
 "metadata": {
  "kernelspec": {
   "display_name": "Python 3 (ipykernel)",
   "language": "python",
   "name": "python3"
  },
  "language_info": {
   "codemirror_mode": {
    "name": "ipython",
    "version": 3
   },
   "file_extension": ".py",
   "mimetype": "text/x-python",
   "name": "python",
   "nbconvert_exporter": "python",
   "pygments_lexer": "ipython3",
   "version": "3.8.12"
  },
  "toc": {
   "base_numbering": 1,
   "nav_menu": {},
   "number_sections": true,
   "sideBar": true,
   "skip_h1_title": false,
   "title_cell": "Table of Contents",
   "title_sidebar": "Contents",
   "toc_cell": false,
   "toc_position": {},
   "toc_section_display": true,
   "toc_window_display": false
  }
 },
 "nbformat": 4,
 "nbformat_minor": 5
}
