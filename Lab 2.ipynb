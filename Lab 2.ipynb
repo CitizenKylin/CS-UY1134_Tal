{
 "cells": [
  {
   "cell_type": "markdown",
   "id": "1240b102",
   "metadata": {},
   "source": [
    "# Lab draft"
   ]
  },
  {
   "cell_type": "code",
   "execution_count": 1,
   "id": "c777f017",
   "metadata": {},
   "outputs": [],
   "source": [
    "import copy \n",
    "lst = [1, 2, [3, 4]] \n",
    "lst_copy = copy.copy(lst) \n",
    "lst[0] = 10 \n",
    "lst_copy[2][0] = 30"
   ]
  },
  {
   "cell_type": "code",
   "execution_count": 2,
   "id": "20539797",
   "metadata": {},
   "outputs": [
    {
     "data": {
      "text/plain": [
       "[10, 2, [30, 4]]"
      ]
     },
     "execution_count": 2,
     "metadata": {},
     "output_type": "execute_result"
    }
   ],
   "source": [
    "lst"
   ]
  },
  {
   "cell_type": "code",
   "execution_count": 3,
   "id": "5b48cc39",
   "metadata": {},
   "outputs": [
    {
     "data": {
      "text/plain": [
       "[1, 2, [30, 4]]"
      ]
     },
     "execution_count": 3,
     "metadata": {},
     "output_type": "execute_result"
    }
   ],
   "source": [
    "lst_copy"
   ]
  },
  {
   "cell_type": "code",
   "execution_count": 4,
   "id": "fbbedb8e",
   "metadata": {},
   "outputs": [],
   "source": [
    "lst = [1, [2, 3], [\"a\", \"b\"] ] \n",
    "lst_slice = lst[:]"
   ]
  },
  {
   "cell_type": "code",
   "execution_count": 5,
   "id": "f65622f0",
   "metadata": {},
   "outputs": [
    {
     "data": {
      "text/plain": [
       "[1, [2, 3], ['a', 'b']]"
      ]
     },
     "execution_count": 5,
     "metadata": {},
     "output_type": "execute_result"
    }
   ],
   "source": [
    "lst_slice"
   ]
  },
  {
   "cell_type": "code",
   "execution_count": 6,
   "id": "6b8e9259",
   "metadata": {},
   "outputs": [
    {
     "name": "stdout",
     "output_type": "stream",
     "text": [
      "1\n",
      "2\n"
     ]
    }
   ],
   "source": [
    "for i in range(1,3):\n",
    "    print(i)"
   ]
  },
  {
   "cell_type": "code",
   "execution_count": 10,
   "id": "d5583f4f",
   "metadata": {},
   "outputs": [
    {
     "name": "stdout",
     "output_type": "stream",
     "text": [
      "[1, 2, 3],"
     ]
    }
   ],
   "source": [
    "i=[1,2,3]\n",
    "print(i,end=',')"
   ]
  },
  {
   "cell_type": "code",
   "execution_count": 22,
   "id": "919c22ad",
   "metadata": {},
   "outputs": [
    {
     "name": "stdout",
     "output_type": "stream",
     "text": [
      "1\n",
      "-2\n",
      "4\n",
      "-8\n",
      "16\n",
      "-32\n",
      "64\n",
      "-128\n"
     ]
    }
   ],
   "source": [
    "for i in range(0,8):\n",
    "    print((-2)**(i))\n",
    "    "
   ]
  },
  {
   "cell_type": "code",
   "execution_count": 21,
   "id": "f20d1f53",
   "metadata": {},
   "outputs": [
    {
     "data": {
      "text/plain": [
       "0"
      ]
     },
     "execution_count": 21,
     "metadata": {},
     "output_type": "execute_result"
    }
   ],
   "source": [
    "0//2"
   ]
  },
  {
   "cell_type": "code",
   "execution_count": 77,
   "id": "81c71c2b",
   "metadata": {},
   "outputs": [
    {
     "name": "stdout",
     "output_type": "stream",
     "text": [
      "p\n",
      "y\n",
      "t\n",
      "h\n",
      "o\n",
      "n\n",
      "p\n",
      "y\n",
      "t\n",
      "h\n",
      "o\n",
      "n\n"
     ]
    }
   ],
   "source": [
    "my_str = \"python\"\n",
    "for num in range(2):\n",
    "    for i in my_str:\n",
    "        print(i)"
   ]
  },
  {
   "cell_type": "code",
   "execution_count": 80,
   "id": "42ad6e91",
   "metadata": {},
   "outputs": [
    {
     "ename": "NameError",
     "evalue": "name 'length' is not defined",
     "output_type": "error",
     "traceback": [
      "\u001b[0;31m---------------------------------------------------------------------------\u001b[0m",
      "\u001b[0;31mNameError\u001b[0m                                 Traceback (most recent call last)",
      "\u001b[0;32m/var/folders/rd/q2lzfdss4b167026m7l6h8pm0000gn/T/ipykernel_2073/728566134.py\u001b[0m in \u001b[0;36m<module>\u001b[0;34m\u001b[0m\n\u001b[0;32m----> 1\u001b[0;31m \u001b[0;34m[\u001b[0m\u001b[0mmy_str\u001b[0m\u001b[0;34m[\u001b[0m\u001b[0mi\u001b[0m\u001b[0;34m]\u001b[0m \u001b[0;32mfor\u001b[0m \u001b[0mi\u001b[0m \u001b[0;32min\u001b[0m \u001b[0mrange\u001b[0m\u001b[0;34m(\u001b[0m\u001b[0;34m-\u001b[0m\u001b[0mlength\u001b[0m\u001b[0;34m,\u001b[0m\u001b[0mlength\u001b[0m\u001b[0;34m)\u001b[0m\u001b[0;34m]\u001b[0m\u001b[0;34m\u001b[0m\u001b[0;34m\u001b[0m\u001b[0m\n\u001b[0m",
      "\u001b[0;31mNameError\u001b[0m: name 'length' is not defined"
     ]
    }
   ],
   "source": [
    "[my_str[i] for i in range(-length,length)]"
   ]
  },
  {
   "cell_type": "code",
   "execution_count": 26,
   "id": "7ba5ffee",
   "metadata": {},
   "outputs": [
    {
     "data": {
      "text/plain": [
       "['p', 'y', 't', 'h', 'o', 'n', 'p', 'y', 't', 'h', 'o', 'n']"
      ]
     },
     "execution_count": 26,
     "metadata": {},
     "output_type": "execute_result"
    }
   ],
   "source": [
    "[i for num in range(2) for i in my_str]"
   ]
  },
  {
   "cell_type": "code",
   "execution_count": 49,
   "id": "2a1519ea",
   "metadata": {},
   "outputs": [],
   "source": [
    "def generator(x):\n",
    "    n=1\n",
    "    output='1'\n",
    "    m=0\n",
    "    while m<x:\n",
    "        m+=1\n",
    "        output*=n\n",
    "        yield output\n",
    "        n+=1\n",
    "        output='1'"
   ]
  },
  {
   "cell_type": "code",
   "execution_count": 40,
   "id": "aaa87369",
   "metadata": {},
   "outputs": [],
   "source": [
    "def generator2():\n",
    "    n=1\n",
    "    output='1'\n",
    "    for i in range(7):\n",
    "        output*=n\n",
    "        yield output\n",
    "        n+=1\n",
    "        output='1'"
   ]
  },
  {
   "cell_type": "code",
   "execution_count": 44,
   "id": "e72b63f0",
   "metadata": {},
   "outputs": [],
   "source": [
    "num = generator()"
   ]
  },
  {
   "cell_type": "code",
   "execution_count": 42,
   "id": "aca1a461",
   "metadata": {},
   "outputs": [
    {
     "data": {
      "text/plain": [
       "<generator object generator2 at 0x109b02740>"
      ]
     },
     "execution_count": 42,
     "metadata": {},
     "output_type": "execute_result"
    }
   ],
   "source": [
    "num"
   ]
  },
  {
   "cell_type": "code",
   "execution_count": 52,
   "id": "7982b12e",
   "metadata": {},
   "outputs": [
    {
     "data": {
      "text/plain": [
       "['1', '11', '111', '1111', '11111', '111111', '1111111']"
      ]
     },
     "execution_count": 52,
     "metadata": {},
     "output_type": "execute_result"
    }
   ],
   "source": [
    "[i for i in generator(7)]\n"
   ]
  },
  {
   "cell_type": "markdown",
   "id": "c88ef061",
   "metadata": {},
   "source": [
    "# Coding"
   ]
  },
  {
   "cell_type": "code",
   "execution_count": 66,
   "id": "e933e4dc",
   "metadata": {},
   "outputs": [],
   "source": [
    "# 1\n",
    "def powers_of_two(n):\n",
    "    return [i for i in gen(n)]"
   ]
  },
  {
   "cell_type": "code",
   "execution_count": 59,
   "id": "1707f985",
   "metadata": {},
   "outputs": [],
   "source": [
    "def gen(x):\n",
    "    n = 0\n",
    "    while n<x:\n",
    "        output = 2\n",
    "        output=output**n\n",
    "        yield output\n",
    "        n+=1"
   ]
  },
  {
   "cell_type": "code",
   "execution_count": 67,
   "id": "aa961cc1",
   "metadata": {},
   "outputs": [
    {
     "data": {
      "text/plain": [
       "[1, 2, 4, 8, 16]"
      ]
     },
     "execution_count": 67,
     "metadata": {},
     "output_type": "execute_result"
    }
   ],
   "source": [
    "powers_of_two(5)"
   ]
  },
  {
   "cell_type": "code",
   "execution_count": null,
   "id": "d560f424",
   "metadata": {},
   "outputs": [],
   "source": [
    "# solution\n"
   ]
  },
  {
   "cell_type": "markdown",
   "id": "5f5243fc",
   "metadata": {
    "heading_collapsed": true
   },
   "source": [
    "## 课堂 coding #2"
   ]
  },
  {
   "cell_type": "code",
   "execution_count": 96,
   "id": "d08bc3c9",
   "metadata": {
    "hidden": true
   },
   "outputs": [],
   "source": [
    "class Polynomial:\n",
    "    def __init__(self,coefficients=0):\n",
    "        self._coefficients = coefficients\n",
    "\n",
    "    def __add__(self,other):\n",
    "#         if not len(poly1) > len(poly2):\n",
    "#             for times in range(len(ploy1)-len(poly2)):\n",
    "#                 poly2.append(0)\n",
    "\n",
    "        if len(self._coefficients) > len(other._coefficients):\n",
    "            for times in range(len(self._coefficients)-len(other._coefficients)):\n",
    "                other._coefficients.append(0)\n",
    "        elif len(self._coefficients) < len(other._coefficients):\n",
    "            for times in range(len(other._coefficients)-len(self._coefficients)):\n",
    "                self._coefficients.append(0)\n",
    "\n",
    "        list = []\n",
    "        for poly1,poly2 in zip(self._coefficients,other._coefficients):\n",
    "            list.append(poly1+poly2)\n",
    "        return list\n",
    "    \n",
    "    def __call__(self,param):\n",
    "        value = 0\n",
    "        for expon,constant in zip(range(len(self)),self):\n",
    "            value += constant*(param**expon)\n",
    "        return value"
   ]
  },
  {
   "cell_type": "code",
   "execution_count": null,
   "id": "3b4c5131",
   "metadata": {
    "hidden": true
   },
   "outputs": [],
   "source": [
    "p1.data ???什么意思\n",
    "__call__"
   ]
  },
  {
   "cell_type": "code",
   "execution_count": null,
   "id": "7d3ae35c",
   "metadata": {
    "hidden": true
   },
   "outputs": [],
   "source": [
    "## solution\n",
    "class Polynomial:\n",
    "    def __init__(self,coefficients=None):\n",
    "        if coefficients is None:\n",
    "            lst = [0]\n",
    "        self.data = coefficients\n",
    "\n",
    "    def __add__(self,other):\n",
    "#         if not len(poly1) > len(poly2):\n",
    "#             for times in range(len(ploy1)-len(poly2)):\n",
    "#                 poly2.append(0)\n",
    "\n",
    "        if len(self.data) > len(other.data):\n",
    "            for times in range(len(self._coefficients)-len(other._coefficients)):\n",
    "                other._coefficients.append(0)\n",
    "        elif len(self._coefficients) < len(other._coefficients):\n",
    "            for times in range(len(other._coefficients)-len(self._coefficients)):\n",
    "                self._coefficients.append(0)\n",
    "\n",
    "        list = []\n",
    "        for poly1,poly2 in zip(self._coefficients,other._coefficients):\n",
    "            list.append(poly1+poly2)\n",
    "        return list\n",
    "    \n",
    "    def __call__(self,param):\n",
    "        value = 0\n",
    "        for expon,constant in zip(range(len(self)),self):\n",
    "            value += constant*(param**expon)\n",
    "        return value"
   ]
  },
  {
   "cell_type": "markdown",
   "id": "994a883b",
   "metadata": {},
   "source": [
    "## 课后第二次coding #2"
   ]
  },
  {
   "cell_type": "code",
   "execution_count": 62,
   "id": "146a66b8",
   "metadata": {},
   "outputs": [],
   "source": [
    "class Polynomial:\n",
    "    def __init__(self,coefficients=None):\n",
    "        if coefficients is None:\n",
    "            coefficients = [0]\n",
    "        self.data = coefficients\n",
    "\n",
    "    def __add__(self,other):\n",
    "        \"\"\"\n",
    "        if len(self.data) > len(other.data):\n",
    "            for times in range(len(self.data)-len(other.data)):\n",
    "                other._coefficients.append(0)\n",
    "        elif len(self.data) < len(other.data):\n",
    "            for times in range(len(other.data)-len(self.data)):\n",
    "                self._coefficients.append(0)\n",
    "                \n",
    "        list = []\n",
    "        for poly1,poly2 in zip(self.data,other.data):\n",
    "            list.append(poly1+poly2)\n",
    "        return list\n",
    "        \"\"\"\n",
    "        if len(self.data) > len(other.data):\n",
    "            (self.data, other.data) = (other.data, self.data)\n",
    "        new = []\n",
    "        for i in range(len(other.data)):\n",
    "            if (i < len(self.data)):\n",
    "                new.append(self.data[i] + other.data[i])\n",
    "            else:\n",
    "                new.append(other.data[i])\n",
    "        return Polynomial(new)\n",
    "\n",
    "\n",
    "    \n",
    "    def __call__(self,param):\n",
    "        '''\n",
    "        value = 0\n",
    "        for expon,constant in zip(range(len(self.data)),self.data):\n",
    "            value += constant*(param**expon)\n",
    "        return value\n",
    "        '''\n",
    "        return sum([self.data[i] * param ** i for i in range(len(self.data))])\n",
    "            "
   ]
  },
  {
   "cell_type": "code",
   "execution_count": 63,
   "id": "fd694b98",
   "metadata": {},
   "outputs": [],
   "source": [
    "# what is (a,b) = (b,a) ==> a,b 内容互换\n",
    "lst2 = [0,1,2,3,4]\n",
    "lst1 = [3,4,1,7]\n",
    "(lst1, lst2) = (lst2,lst1)"
   ]
  },
  {
   "cell_type": "markdown",
   "id": "bc1814d9",
   "metadata": {},
   "source": [
    "## Test #2"
   ]
  },
  {
   "cell_type": "code",
   "execution_count": 64,
   "id": "5fb2aac5",
   "metadata": {},
   "outputs": [
    {
     "data": {
      "text/plain": [
       "[0]"
      ]
     },
     "execution_count": 64,
     "metadata": {},
     "output_type": "execute_result"
    }
   ],
   "source": [
    "# test\n",
    "poly1 = Polynomial()\n",
    "poly1.data"
   ]
  },
  {
   "cell_type": "code",
   "execution_count": 65,
   "id": "250b2ea1",
   "metadata": {},
   "outputs": [],
   "source": [
    "poly1 = Polynomial([3, 7, 0, -9, 2])\n",
    "poly2 = Polynomial([2, 0, 0, 5, 0, 0, 3])\n",
    "poly3 = poly1 + poly2"
   ]
  },
  {
   "cell_type": "code",
   "execution_count": 66,
   "id": "81c09e35",
   "metadata": {},
   "outputs": [
    {
     "data": {
      "text/plain": [
       "[5, 7, 0, -4, 2, 0, 3]"
      ]
     },
     "execution_count": 66,
     "metadata": {},
     "output_type": "execute_result"
    }
   ],
   "source": [
    "poly3.data"
   ]
  },
  {
   "cell_type": "code",
   "execution_count": 67,
   "id": "81af8b2e",
   "metadata": {},
   "outputs": [
    {
     "name": "stdout",
     "output_type": "stream",
     "text": [
      "[5, 7, 0, -4, 2, 0, 3]\n",
      "3\n",
      "10\n",
      "13\n"
     ]
    }
   ],
   "source": [
    "print(poly3.data)\n",
    "print(poly1(1))\n",
    "print(poly2(1))\n",
    "print(poly3(1))"
   ]
  },
  {
   "cell_type": "markdown",
   "id": "ce5c611c",
   "metadata": {},
   "source": [
    "** 要学会用 list[i] 在for loop 中循环"
   ]
  },
  {
   "cell_type": "code",
   "execution_count": null,
   "id": "a2312cf4",
   "metadata": {},
   "outputs": [],
   "source": []
  }
 ],
 "metadata": {
  "kernelspec": {
   "display_name": "Python 3 (ipykernel)",
   "language": "python",
   "name": "python3"
  },
  "language_info": {
   "codemirror_mode": {
    "name": "ipython",
    "version": 3
   },
   "file_extension": ".py",
   "mimetype": "text/x-python",
   "name": "python",
   "nbconvert_exporter": "python",
   "pygments_lexer": "ipython3",
   "version": "3.8.12"
  },
  "toc": {
   "base_numbering": 1,
   "nav_menu": {},
   "number_sections": true,
   "sideBar": true,
   "skip_h1_title": false,
   "title_cell": "Table of Contents",
   "title_sidebar": "Contents",
   "toc_cell": false,
   "toc_position": {},
   "toc_section_display": true,
   "toc_window_display": false
  }
 },
 "nbformat": 4,
 "nbformat_minor": 5
}
