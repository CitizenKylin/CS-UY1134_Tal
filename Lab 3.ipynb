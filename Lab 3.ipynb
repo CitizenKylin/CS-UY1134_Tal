{
 "cells": [
  {
   "cell_type": "markdown",
   "id": "2708da85",
   "metadata": {},
   "source": [
    "# Lab 3 Coding"
   ]
  },
  {
   "cell_type": "markdown",
   "id": "0726a305",
   "metadata": {},
   "source": [
    "## Question 1"
   ]
  },
  {
   "cell_type": "code",
   "execution_count": 42,
   "id": "c919ca76",
   "metadata": {},
   "outputs": [],
   "source": [
    "# a\n",
    "def reverse_list(lst):\n",
    "    return lst[-1::-1] # slice takes n times, cuz it's copying the list one by one\n"
   ]
  },
  {
   "cell_type": "code",
   "execution_count": 43,
   "id": "89d757b4",
   "metadata": {},
   "outputs": [
    {
     "data": {
      "text/plain": [
       "[2, 6, 5, 5, 4, 3, 2, 1]"
      ]
     },
     "execution_count": 43,
     "metadata": {},
     "output_type": "execute_result"
    }
   ],
   "source": [
    "lst = [1,2,3,4,5,5,6,2]\n",
    "reverse_list(lst)"
   ]
  },
  {
   "cell_type": "code",
   "execution_count": 55,
   "id": "022df982",
   "metadata": {},
   "outputs": [],
   "source": [
    "#b\n",
    "def reverse_list(lst, low = None, high = None):\n",
    "    if low is None or low == 0:\n",
    "        low = None\n",
    "    if high is None:\n",
    "        high = len(lst) - 1\n",
    "    return lst[high:low-1:-1]"
   ]
  },
  {
   "cell_type": "code",
   "execution_count": 64,
   "id": "b36b1378",
   "metadata": {},
   "outputs": [
    {
     "data": {
      "text/plain": [
       "[4, 3, 2]"
      ]
     },
     "execution_count": 64,
     "metadata": {},
     "output_type": "execute_result"
    }
   ],
   "source": [
    "lst = [1, 2, 3, 4, 5, 6]\n",
    "reverse_list(lst, 1, 3)"
   ]
  },
  {
   "cell_type": "markdown",
   "id": "4c9389ac",
   "metadata": {},
   "source": [
    "# Question 2"
   ]
  },
  {
   "cell_type": "markdown",
   "id": "aae087cd",
   "metadata": {},
   "source": [
    "Given a sorted list of positive integers with zeros mixed in, write a function to move all zeros to the end of the list while maintaining the order of the non-zero numbers. For example, given the list [0, 1, 0, 3, 13, 0], the function will modify the list to become [1, 3, 13, 0, 0, 0]. Your solution must be **in-place** and run in **Θ(n)**, where n is the length of the list. (25 minutes)"
   ]
  },
  {
   "cell_type": "code",
   "execution_count": 60,
   "id": "dcfcdeff",
   "metadata": {},
   "outputs": [],
   "source": [
    "def move_zeros(nums):\n",
    "    lst = []\n",
    "    for p1 in nums:\n",
    "        if p1 != 0:\n",
    "            lst.append(p1)\n",
    "    for p2 in nums:\n",
    "        if p2 == 0:\n",
    "            lst.append(p2)\n",
    "    return lst"
   ]
  },
  {
   "cell_type": "code",
   "execution_count": 61,
   "id": "014250ba",
   "metadata": {},
   "outputs": [
    {
     "data": {
      "text/plain": [
       "[1, 3, 13, 0, 0, 0]"
      ]
     },
     "execution_count": 61,
     "metadata": {},
     "output_type": "execute_result"
    }
   ],
   "source": [
    "num =  [0, 1, 0, 3, 13, 0]\n",
    "move_zeros(num)"
   ]
  },
  {
   "cell_type": "markdown",
   "id": "2e00e166",
   "metadata": {},
   "source": [
    "# Question 3"
   ]
  },
  {
   "cell_type": "code",
   "execution_count": null,
   "id": "9837654f",
   "metadata": {},
   "outputs": [],
   "source": [
    "def reverse_list(lst, low = None, high = None):\n",
    "    if low is None or low == 0:\n",
    "        low = None\n",
    "    if high is None:\n",
    "        high = len(lst) - 1\n",
    "    return lst[high:low-1:-1]\n",
    "def shift(lst,k):\n",
    "    "
   ]
  },
  {
   "cell_type": "code",
   "execution_count": 65,
   "id": "b669c119",
   "metadata": {},
   "outputs": [
    {
     "data": {
      "text/plain": [
       "[4, 3, 2]"
      ]
     },
     "execution_count": 65,
     "metadata": {},
     "output_type": "execute_result"
    }
   ],
   "source": [
    "lst = [1, 2, 3, 4, 5, 6]\n",
    "reverse_list(lst, 1, 3)"
   ]
  },
  {
   "cell_type": "code",
   "execution_count": null,
   "id": "be452761",
   "metadata": {},
   "outputs": [],
   "source": []
  },
  {
   "cell_type": "code",
   "execution_count": null,
   "id": "a4691d05",
   "metadata": {},
   "outputs": [],
   "source": []
  },
  {
   "cell_type": "markdown",
   "id": "be6db03d",
   "metadata": {},
   "source": [
    "# Question 4"
   ]
  },
  {
   "cell_type": "code",
   "execution_count": null,
   "id": "ef8c8755",
   "metadata": {},
   "outputs": [],
   "source": []
  },
  {
   "cell_type": "code",
   "execution_count": null,
   "id": "c391f179",
   "metadata": {},
   "outputs": [],
   "source": []
  },
  {
   "cell_type": "code",
   "execution_count": null,
   "id": "7a5ce4ee",
   "metadata": {},
   "outputs": [],
   "source": []
  },
  {
   "cell_type": "code",
   "execution_count": null,
   "id": "7652b109",
   "metadata": {},
   "outputs": [],
   "source": []
  }
 ],
 "metadata": {
  "kernelspec": {
   "display_name": "Python 3 (ipykernel)",
   "language": "python",
   "name": "python3"
  },
  "language_info": {
   "codemirror_mode": {
    "name": "ipython",
    "version": 3
   },
   "file_extension": ".py",
   "mimetype": "text/x-python",
   "name": "python",
   "nbconvert_exporter": "python",
   "pygments_lexer": "ipython3",
   "version": "3.8.12"
  },
  "toc": {
   "base_numbering": 1,
   "nav_menu": {},
   "number_sections": true,
   "sideBar": true,
   "skip_h1_title": false,
   "title_cell": "Table of Contents",
   "title_sidebar": "Contents",
   "toc_cell": false,
   "toc_position": {},
   "toc_section_display": true,
   "toc_window_display": false
  }
 },
 "nbformat": 4,
 "nbformat_minor": 5
}
