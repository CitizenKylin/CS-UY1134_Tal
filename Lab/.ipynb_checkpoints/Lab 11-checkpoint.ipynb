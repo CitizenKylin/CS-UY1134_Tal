{
 "cells": [
  {
   "cell_type": "code",
   "execution_count": 1,
   "id": "f0fbadab",
   "metadata": {},
   "outputs": [],
   "source": [
    "from LinkedBinaryTree import LinkedBinaryTree"
   ]
  },
  {
   "cell_type": "markdown",
   "id": "fe77bd00",
   "metadata": {},
   "source": [
    "# Question 1"
   ]
  },
  {
   "cell_type": "code",
   "execution_count": 4,
   "id": "cfe49015",
   "metadata": {},
   "outputs": [],
   "source": [
    "def bt_even_sum(root):\n",
    "    if root is None:\n",
    "        return 0\n",
    "    else:\n",
    "        left_sum = bt_even_sum(root.left)\n",
    "        right_sum = bt_even_sum(root.right)\n",
    "        if root.data%2 == 0:\n",
    "            return left_sum + right_sum + root.data\n",
    "        else:\n",
    "            return left_sum + right_sum"
   ]
  },
  {
   "cell_type": "markdown",
   "id": "d8975c63",
   "metadata": {},
   "source": [
    "# Question 2"
   ]
  },
  {
   "cell_type": "code",
   "execution_count": 5,
   "id": "9f4f3ac4",
   "metadata": {},
   "outputs": [],
   "source": [
    "def __contains__(self, item):    \n",
    "    def contains_helper(self, current_node, item):\n",
    "        if current_node is None:\n",
    "            return False\n",
    "        if current_node.element == item:\n",
    "            return True\n",
    "        left_subtree = self.contains_helper(current_node.left, item)\n",
    "        right_subtree = self.contains_helper(current_node.right, item)\n",
    "        return left_subtree or right_subtree"
   ]
  },
  {
   "cell_type": "code",
   "execution_count": 7,
   "id": "5779a7c6",
   "metadata": {},
   "outputs": [],
   "source": [
    "tree = LinkedBinaryTree()"
   ]
  },
  {
   "cell_type": "code",
   "execution_count": null,
   "id": "3bae4834",
   "metadata": {},
   "outputs": [],
   "source": [
    "node1 = "
   ]
  },
  {
   "cell_type": "markdown",
   "id": "998cc62a",
   "metadata": {},
   "source": [
    "# Question 3"
   ]
  },
  {
   "cell_type": "code",
   "execution_count": null,
   "id": "941ee720",
   "metadata": {},
   "outputs": [],
   "source": [
    "def is_full(self):\n",
    "    def subtree_is_full(root):\n",
    "        if root is None:\n",
    "            return True\n",
    "        if root.left is None and root.right is None:\n",
    "            return True\n",
    "        elif root.left is not None and root.right is not None:\n",
    "            return subtree_is_full(root.left) and subtree_is_full(root.right)\n",
    "        else:\n",
    "            return False\n",
    "    return subtree_is_full(self.root)"
   ]
  },
  {
   "cell_type": "code",
   "execution_count": null,
   "id": "df0c49a2",
   "metadata": {},
   "outputs": [],
   "source": []
  },
  {
   "cell_type": "code",
   "execution_count": null,
   "id": "0e712fd6",
   "metadata": {},
   "outputs": [],
   "source": []
  },
  {
   "cell_type": "code",
   "execution_count": null,
   "id": "715db17a",
   "metadata": {},
   "outputs": [],
   "source": []
  },
  {
   "cell_type": "code",
   "execution_count": null,
   "id": "c2c3ca3d",
   "metadata": {},
   "outputs": [],
   "source": []
  }
 ],
 "metadata": {
  "kernelspec": {
   "display_name": "Python 3 (ipykernel)",
   "language": "python",
   "name": "python3"
  },
  "language_info": {
   "codemirror_mode": {
    "name": "ipython",
    "version": 3
   },
   "file_extension": ".py",
   "mimetype": "text/x-python",
   "name": "python",
   "nbconvert_exporter": "python",
   "pygments_lexer": "ipython3",
   "version": "3.8.12"
  },
  "toc": {
   "base_numbering": 1,
   "nav_menu": {},
   "number_sections": true,
   "sideBar": true,
   "skip_h1_title": false,
   "title_cell": "Table of Contents",
   "title_sidebar": "Contents",
   "toc_cell": false,
   "toc_position": {},
   "toc_section_display": true,
   "toc_window_display": false
  }
 },
 "nbformat": 4,
 "nbformat_minor": 5
}
