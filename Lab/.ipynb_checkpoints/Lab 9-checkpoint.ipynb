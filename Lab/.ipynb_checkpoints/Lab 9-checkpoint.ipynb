{
 "cells": [
  {
   "cell_type": "markdown",
   "id": "47239100",
   "metadata": {},
   "source": [
    "# Question 1"
   ]
  },
  {
   "cell_type": "code",
   "execution_count": 58,
   "id": "79684eed",
   "metadata": {},
   "outputs": [],
   "source": [
    "class MeanQueue:\n",
    "    def __init__ (self):\n",
    "        self.data = ArrayQueue()\n",
    "        self.sum = 0.0\n",
    "    def __len__(self):\n",
    "        return self.data.n\n",
    "    \n",
    "    def is_empty(self):\n",
    "        return (len(self.data)==0)\n",
    "    \n",
    "    def enqueue(self, e):\n",
    "        if isinstance(e,(int,float)):\n",
    "            self.data.enqueue(e) # no need self.data.enqueue(self,e)\n",
    "            self.sum+=e\n",
    "            \n",
    "        else:\n",
    "            raise ValueError(\"MeanQueue only accepts int and float values\")\n",
    "    def dequeue(self):\n",
    "        val=self.data.dequeue(self)\n",
    "        sum -= val\n",
    "        \n",
    "    def first(self):\n",
    "        return self.data.first()\n",
    "    \n",
    "    def _sum(self):\n",
    "        return self.sum\n",
    "    \n",
    "    def mean(self):\n",
    "        # edge case!!! no 0 length\n",
    "        return self.sum/(self.data.n) if self.data.n > 0 else None"
   ]
  },
  {
   "cell_type": "code",
   "execution_count": 59,
   "id": "83bee4a5",
   "metadata": {},
   "outputs": [
    {
     "data": {
      "text/plain": [
       "False"
      ]
     },
     "execution_count": 59,
     "metadata": {},
     "output_type": "execute_result"
    }
   ],
   "source": [
    "e = 1\n",
    "e is int"
   ]
  },
  {
   "cell_type": "code",
   "execution_count": 60,
   "id": "165a6571",
   "metadata": {},
   "outputs": [
    {
     "data": {
      "text/plain": [
       "4.166666666666667"
      ]
     },
     "execution_count": 60,
     "metadata": {},
     "output_type": "execute_result"
    }
   ],
   "source": [
    "mq = MeanQueue()\n",
    "mq.enqueue(2)\n",
    "mq.enqueue(4)\n",
    "mq.enqueue(6.5)\n",
    "mq._sum()\n",
    "mq.mean()"
   ]
  },
  {
   "cell_type": "code",
   "execution_count": 61,
   "id": "90fe2732",
   "metadata": {},
   "outputs": [
    {
     "data": {
      "text/plain": [
       "4.166666666666667"
      ]
     },
     "execution_count": 61,
     "metadata": {},
     "output_type": "execute_result"
    }
   ],
   "source": [
    "(2+4+6.5)/3"
   ]
  },
  {
   "cell_type": "code",
   "execution_count": 62,
   "id": "aa41297b",
   "metadata": {},
   "outputs": [
    {
     "data": {
      "text/plain": [
       "2"
      ]
     },
     "execution_count": 62,
     "metadata": {},
     "output_type": "execute_result"
    }
   ],
   "source": [
    "mq.first()"
   ]
  },
  {
   "cell_type": "markdown",
   "id": "a7eab0d9",
   "metadata": {},
   "source": [
    "# Question 2"
   ]
  },
  {
   "cell_type": "code",
   "execution_count": 25,
   "id": "f0a45b52",
   "metadata": {},
   "outputs": [],
   "source": [
    "import ctypes  # provides low-level arrays\n",
    "def make_array(n):\n",
    "    return (n * ctypes.py_object)()\n",
    "\n",
    "class StaticArrayQueue:\n",
    "    def __init__(self, max_cap):\n",
    "        self.data_arr = make_array(max_cap)\n",
    "        self.capacity = max_cap\n",
    "        self.n = 0\n",
    "        self.front_ind = None\n",
    "\n",
    "    def __len__(self):\n",
    "        return self.n\n",
    "\n",
    "    def is_empty(self):\n",
    "        return (len(self) == 0)\n",
    "\n",
    "    def is_full(self):\n",
    "        return (self.n == self.capacity)\n",
    "\n",
    "    def enqueue(self, item):\n",
    "        if(self.is_full()):\n",
    "            raise Exception(\"Queue is full\")\n",
    "        elif(self.is_empty()):\n",
    "            self.data_arr[0] = item\n",
    "            self.front_ind = 0\n",
    "            self.n += 1\n",
    "        else:\n",
    "            back_ind = (self.front_ind + self.n) % self.capacity\n",
    "            self.data_arr[back_ind] = item\n",
    "            self.n += 1\n",
    "\n",
    "    def dequeue(self):\n",
    "        if(self.is_empty()):\n",
    "            raise Exception(\"Queue is empty\")\n",
    "        value = self.data_arr[self.front_ind]\n",
    "        self.data_arr[self.front_ind] = None\n",
    "        self.front_ind = (self.front_ind + 1) % self.capacity\n",
    "        self.n -= 1\n",
    "        if(self.is_empty()):\n",
    "            self.front_ind = None\n",
    "        return value\n",
    "\n",
    "    def first(self):\n",
    "        if(self.is_empty()):\n",
    "            raise Exception(\"Queue is empty\")\n",
    "        return self.data_arr[self.front_ind]\n",
    "\n",
    "class ArrayQueue:\n",
    "    INITIAL_CAPACITY = 8\n",
    "\n",
    "    def __init__(self):\n",
    "        self.data_arr = make_array(ArrayQueue.INITIAL_CAPACITY)\n",
    "        self.capacity = ArrayQueue.INITIAL_CAPACITY\n",
    "        self.n = 0\n",
    "        self.front_ind = None\n",
    "\n",
    "    def __len__(self):\n",
    "        return self.n\n",
    "\n",
    "    def is_empty(self):\n",
    "        return (len(self) == 0)\n",
    "\n",
    "    def enqueue(self, elem):\n",
    "        if (self.n == self.capacity):\n",
    "            self.resize(2 * self.capacity)\n",
    "        if (self.is_empty()):\n",
    "            self.data_arr[0] = elem\n",
    "            self.front_ind = 0\n",
    "            self.n += 1\n",
    "        else:\n",
    "            back_ind = (self.front_ind + self.n) % self.capacity\n",
    "            self.data_arr[back_ind] = elem\n",
    "            self.n += 1\n",
    "\n",
    "    def dequeue(self):\n",
    "        if (self.is_empty()):\n",
    "            raise Exception(\"Queue is empty\")\n",
    "        value = self.data_arr[self.front_ind]\n",
    "        self.data_arr[self.front_ind] = None\n",
    "        self.front_ind = (self.front_ind + 1) % self.capacity\n",
    "        self.n -= 1\n",
    "        if(self.is_empty()):\n",
    "            self.front_ind = None\n",
    "        if((self.n < self.capacity // 4) and\n",
    "                (self.capacity > ArrayQueue.INITIAL_CAPACITY)):\n",
    "            self.resize(self.capacity // 2)\n",
    "        return value\n",
    "\n",
    "    def first(self):\n",
    "        if self.is_empty():\n",
    "            raise Exception(\"Queue is empty\")\n",
    "        return self.data_arr[self.front_ind]\n",
    "\n",
    "    def resize(self, new_cap):\n",
    "        new_data = make_array(new_cap)\n",
    "        old_ind = self.front_ind\n",
    "        for new_ind in range(self.n):\n",
    "            new_data[new_ind] = self.data_arr[old_ind]\n",
    "            old_ind = (old_ind + 1) % self.capacity\n",
    "        self.data_arr = new_data\n",
    "        self.capacity = new_cap\n",
    "        self.front_ind = 0"
   ]
  },
  {
   "cell_type": "code",
   "execution_count": 64,
   "id": "a7b4bbe1",
   "metadata": {},
   "outputs": [],
   "source": [
    "class ArrayDeque:\n",
    "    def __init__(self):\n",
    "        self.data = ArrayQueue()\n",
    "        \n",
    "    def __len__(self):\n",
    "        return self.data.n\n",
    "    \n",
    "    def is_empty(self):\n",
    "        return (len(self.data)==0)\n",
    "    \n",
    "    def first(self):\n",
    "        return self.data.first()\n",
    "    \n",
    "    def last(self):\n",
    "        back_ind = (self.data.front_ind + self.data.n) % self.data.capacity\n",
    "        return self.data[back_ind]\n",
    "    \n",
    "    def enqueue_first(self,elem):\n",
    "        if (self.data.n == self.data.capacity):\n",
    "            self.data.resize(2 * self.data.capacity)\n",
    "        if (self.data.is_empty()):\n",
    "            self.data.data_arr[0] = elem\n",
    "            self.data.front_ind = 0\n",
    "            self.data.n += 1\n",
    "        elif (self.data.front_ind==0):\n",
    "            self.data.data_arr[-1]=elem\n",
    "            self.data.front_ind == self.data.capacity - 1\n",
    "            self.data.n += 1\n",
    "        else:\n",
    "            self.data.data_arr[self.data.front_ind - 1] = elem\n",
    "            self.data.front_ind -= 1\n",
    "            self.data.n += 1\n",
    "            \n",
    "    \n",
    "    def enqueue_last(self,elem):\n",
    "        self.data.enqueue(elem)\n",
    "        \n",
    "    def dequeue_first(self):\n",
    "        self.data.dequeue()\n",
    "    def dequeue_last(self):\n",
    "        if (self.data.is_empty()):\n",
    "            raise Exception(\"Queue is empty\")\n",
    "        back_ind = (self.data.front_ind + self.data.n) % self.data.capacity\n",
    "        value = self.data.data_arr[back_ind]\n",
    "        self.data.data_arr[back_ind] = None\n",
    "        self.n-=1\n",
    "        if(self.data.is_empty()):\n",
    "            self.data.front_ind = None\n",
    "        if((self.data.n < self.data.capacity // 4) and\n",
    "                (self.data.capacity > ArrayQueue.INITIAL_CAPACITY)): # INITIAL_CAPACITY is a class attribute\n",
    "            self.data.resize(self.data.capacity // 2)\n",
    "        return value"
   ]
  },
  {
   "cell_type": "markdown",
   "id": "867cbaef",
   "metadata": {},
   "source": [
    "# Question 3"
   ]
  },
  {
   "cell_type": "code",
   "execution_count": null,
   "id": "f7881fb3",
   "metadata": {},
   "outputs": [],
   "source": [
    "def flatten_list_by_depth(lst):\n",
    "    \"\"\" : lst type: list : return type: list \"\"\"\n",
    "    q = ArrayQueue()\n",
    "    new_lst = []\n",
    "    ''' Remove and return the top element from the stack. If the stack is empty, raise an exception'''\n",
    "    for i in lst:\n",
    "        if isinstance(i,int):\n",
    "            new_lst.append(i)\n",
    "        else:\n",
    "            \n",
    "    return new_lst"
   ]
  },
  {
   "cell_type": "code",
   "execution_count": null,
   "id": "141c4026",
   "metadata": {},
   "outputs": [],
   "source": [
    "def flatten_list(lst):\n",
    "    s = ArrayStack()\n",
    "    i = len(lst)-1\n",
    "    while i >= 0:\n",
    "        if isinstance(lst[i],int):\n",
    "            s.push(lst.pop())\n",
    "            i-=1\n",
    "        else:\n",
    "            temp = lst.pop()\n",
    "            lst.extend(temp)\n",
    "            i += (len(temp)-1)\n",
    "    for a in range(len(s)):\n",
    "        lst.append(s.pop())\n",
    "    return lst"
   ]
  },
  {
   "cell_type": "code",
   "execution_count": null,
   "id": "39acc2e7",
   "metadata": {},
   "outputs": [],
   "source": []
  },
  {
   "cell_type": "code",
   "execution_count": null,
   "id": "faebf2b6",
   "metadata": {},
   "outputs": [],
   "source": []
  },
  {
   "cell_type": "code",
   "execution_count": null,
   "id": "0e400dd7",
   "metadata": {},
   "outputs": [],
   "source": []
  },
  {
   "cell_type": "code",
   "execution_count": null,
   "id": "29736a00",
   "metadata": {},
   "outputs": [],
   "source": []
  },
  {
   "cell_type": "code",
   "execution_count": null,
   "id": "69876894",
   "metadata": {},
   "outputs": [],
   "source": []
  }
 ],
 "metadata": {
  "kernelspec": {
   "display_name": "Python 3 (ipykernel)",
   "language": "python",
   "name": "python3"
  },
  "language_info": {
   "codemirror_mode": {
    "name": "ipython",
    "version": 3
   },
   "file_extension": ".py",
   "mimetype": "text/x-python",
   "name": "python",
   "nbconvert_exporter": "python",
   "pygments_lexer": "ipython3",
   "version": "3.8.12"
  },
  "toc": {
   "base_numbering": 1,
   "nav_menu": {},
   "number_sections": true,
   "sideBar": true,
   "skip_h1_title": false,
   "title_cell": "Table of Contents",
   "title_sidebar": "Contents",
   "toc_cell": false,
   "toc_position": {},
   "toc_section_display": true,
   "toc_window_display": false
  }
 },
 "nbformat": 4,
 "nbformat_minor": 5
}
