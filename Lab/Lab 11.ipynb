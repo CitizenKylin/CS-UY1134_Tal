{
 "cells": [
  {
   "cell_type": "code",
   "execution_count": 1,
   "id": "b89200ba",
   "metadata": {},
   "outputs": [],
   "source": [
    "from LinkedBinaryTree import LinkedBinaryTree"
   ]
  },
  {
   "cell_type": "markdown",
   "id": "b8986799",
   "metadata": {},
   "source": [
    "# Question 1"
   ]
  },
  {
   "cell_type": "code",
   "execution_count": 4,
   "id": "d5b7d844",
   "metadata": {},
   "outputs": [],
   "source": [
    "def bt_even_sum(root):\n",
    "    if root is None:\n",
    "        return 0\n",
    "    else:\n",
    "        left_sum = bt_even_sum(root.left)\n",
    "        right_sum = bt_even_sum(root.right)\n",
    "        if root.data%2 == 0:\n",
    "            return left_sum + right_sum + root.data\n",
    "        else:\n",
    "            return left_sum + right_sum"
   ]
  },
  {
   "cell_type": "markdown",
   "id": "5fd79b1e",
   "metadata": {},
   "source": [
    "# Question 2"
   ]
  },
  {
   "cell_type": "code",
   "execution_count": 5,
   "id": "36b9bac2",
   "metadata": {},
   "outputs": [],
   "source": [
    "def __contains__(self, item):    \n",
    "    def contains_helper(self, current_node, item):\n",
    "        if current_node is None:\n",
    "            return False\n",
    "        if current_node.element == item:\n",
    "            return True\n",
    "        left_subtree = self.contains_helper(current_node.left, item)\n",
    "        right_subtree = self.contains_helper(current_node.right, item)\n",
    "        return left_subtree or right_subtree\n",
    "    return contains_helper(self.root, item)"
   ]
  },
  {
   "cell_type": "code",
   "execution_count": 7,
   "id": "95d3c3a1",
   "metadata": {},
   "outputs": [],
   "source": [
    "tree = LinkedBinaryTree()"
   ]
  },
  {
   "cell_type": "code",
   "execution_count": null,
   "id": "33cc71f5",
   "metadata": {},
   "outputs": [],
   "source": [
    "node1 = "
   ]
  },
  {
   "cell_type": "markdown",
   "id": "cb976c75",
   "metadata": {},
   "source": [
    "# Question 3"
   ]
  },
  {
   "cell_type": "code",
   "execution_count": 8,
   "id": "7325a961",
   "metadata": {},
   "outputs": [],
   "source": [
    "def is_full(self):\n",
    "    def subtree_is_full(root):\n",
    "        if root is None:\n",
    "            return True\n",
    "        if root.left is None and root.right is None:\n",
    "            return True\n",
    "        elif root.left is not None and root.right is not None:\n",
    "            return subtree_is_full(root.left) and subtree_is_full(root.right)\n",
    "        else:\n",
    "            return False\n",
    "    return subtree_is_full(self.root)"
   ]
  },
  {
   "cell_type": "code",
   "execution_count": null,
   "id": "2547c93e",
   "metadata": {},
   "outputs": [],
   "source": []
  },
  {
   "cell_type": "code",
   "execution_count": null,
   "id": "8ea56bc6",
   "metadata": {},
   "outputs": [],
   "source": []
  },
  {
   "cell_type": "code",
   "execution_count": null,
   "id": "bff2e347",
   "metadata": {},
   "outputs": [],
   "source": []
  },
  {
   "cell_type": "code",
   "execution_count": null,
   "id": "6ef856c9",
   "metadata": {},
   "outputs": [],
   "source": []
  }
 ],
 "metadata": {
  "kernelspec": {
   "display_name": "Python 3 (ipykernel)",
   "language": "python",
   "name": "python3"
  },
  "language_info": {
   "codemirror_mode": {
    "name": "ipython",
    "version": 3
   },
   "file_extension": ".py",
   "mimetype": "text/x-python",
   "name": "python",
   "nbconvert_exporter": "python",
   "pygments_lexer": "ipython3",
   "version": "3.8.12"
  },
  "toc": {
   "base_numbering": 1,
   "nav_menu": {},
   "number_sections": true,
   "sideBar": true,
   "skip_h1_title": false,
   "title_cell": "Table of Contents",
   "title_sidebar": "Contents",
   "toc_cell": false,
   "toc_position": {},
   "toc_section_display": true,
   "toc_window_display": false
  }
 },
 "nbformat": 4,
 "nbformat_minor": 5
}
