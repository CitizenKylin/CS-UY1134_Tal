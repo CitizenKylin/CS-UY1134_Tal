{
 "cells": [
  {
   "cell_type": "code",
   "execution_count": 1,
   "id": "5abc5d95",
   "metadata": {},
   "outputs": [],
   "source": [
    "from BinarySearchTreeMap import BinartSearchTreeMap"
   ]
  },
  {
   "cell_type": "markdown",
   "id": "3b6ab4f0",
   "metadata": {},
   "source": [
    "# Question 1"
   ]
  },
  {
   "cell_type": "code",
   "execution_count": 50,
   "id": "5b712041",
   "metadata": {},
   "outputs": [],
   "source": [
    "bst = BinartSearchTreeMap()\n",
    "bst[2]=None\n",
    "bst[3]=None\n",
    "bst[1]=None\n",
    "bst[4]=None\n",
    "#     2\n",
    "#  1     3\n",
    "#          4"
   ]
  },
  {
   "cell_type": "code",
   "execution_count": 41,
   "id": "fe2f4709",
   "metadata": {},
   "outputs": [],
   "source": [
    "\n",
    "def min_max_BST(bst):\n",
    "    if bst.is_empty():\n",
    "        return None\n",
    "    else:\n",
    "        min_cursor = bst.root\n",
    "        while min_cursor.left:\n",
    "            min_cursor = min_cursor.left\n",
    "        max_cursor = bst.root\n",
    "        while max_cursor.right:\n",
    "            max_cursor = max_cursor.right\n",
    "        return (min_cursor.item.key, max_cursor.item.key)"
   ]
  },
  {
   "cell_type": "code",
   "execution_count": 49,
   "id": "e0085f66",
   "metadata": {},
   "outputs": [
    {
     "name": "stdout",
     "output_type": "stream",
     "text": [
      "(1, 25)\n"
     ]
    }
   ],
   "source": [
    "bst1 = BinartSearchTreeMap()\n",
    "bst1.insert(5, None)\n",
    "bst1.insert(2, None)\n",
    "bst1.insert(12, None)\n",
    "bst1.insert(1, None)\n",
    "bst1.insert(3, None)\n",
    "bst1.insert(9, None)\n",
    "bst1.insert(21, None)\n",
    "bst1.insert(19, None)\n",
    "bst1.insert(25, None)\n",
    "print(min_max_BST(bst1))"
   ]
  },
  {
   "cell_type": "code",
   "execution_count": 46,
   "id": "0234ccc2",
   "metadata": {},
   "outputs": [
    {
     "name": "stdout",
     "output_type": "stream",
     "text": [
      "None\n"
     ]
    }
   ],
   "source": [
    "print(min_max_BST(bst1))"
   ]
  },
  {
   "cell_type": "markdown",
   "id": "3a52d175",
   "metadata": {},
   "source": [
    "# Question 2"
   ]
  },
  {
   "cell_type": "code",
   "execution_count": 64,
   "id": "9021f5ec",
   "metadata": {},
   "outputs": [],
   "source": [
    "def glt_n(bst, n):\n",
    "    cursor = bst.root\n",
    "    while cursor.left is not None or cursor.right is not None:\n",
    "        if n > cursor.item.key and (n-cursor.right.item.key)<(n-cursor.item.key):\n",
    "            cursor=cursor.right\n",
    "        elif n < cursor.item.key and (cursor.left.item.key-n)<(cursor.item.key-n):\n",
    "            cursor = cursor.left\n",
    "        else:\n",
    "            break\n",
    "        if cursor.item.key > n:\n",
    "            return -1\n",
    "        else:\n",
    "            return cursor.item.key\n",
    "    if n > cursor.item.key:\n",
    "        while n > cursor.item.key and cursor.next is not None:\n",
    "            cursor = cursor.right\n",
    "        "
   ]
  },
  {
   "cell_type": "code",
   "execution_count": 66,
   "id": "0b1e7f7d",
   "metadata": {},
   "outputs": [
    {
     "data": {
      "text/plain": [
       "12"
      ]
     },
     "execution_count": 66,
     "metadata": {},
     "output_type": "execute_result"
    }
   ],
   "source": [
    "glt_n(bst1, 22)"
   ]
  },
  {
   "cell_type": "code",
   "execution_count": 67,
   "id": "65514b19",
   "metadata": {},
   "outputs": [
    {
     "ename": "NameError",
     "evalue": "name 'none' is not defined",
     "output_type": "error",
     "traceback": [
      "\u001b[0;31m---------------------------------------------------------------------------\u001b[0m",
      "\u001b[0;31mNameError\u001b[0m                                 Traceback (most recent call last)",
      "\u001b[0;32m/var/folders/rd/q2lzfdss4b167026m7l6h8pm0000gn/T/ipykernel_81475/1769455550.py\u001b[0m in \u001b[0;36m<module>\u001b[0;34m\u001b[0m\n\u001b[0;32m----> 1\u001b[0;31m \u001b[0;36m1\u001b[0m \u001b[0;34m>\u001b[0m \u001b[0mnone\u001b[0m\u001b[0;34m\u001b[0m\u001b[0;34m\u001b[0m\u001b[0m\n\u001b[0m",
      "\u001b[0;31mNameError\u001b[0m: name 'none' is not defined"
     ]
    }
   ],
   "source": []
  },
  {
   "cell_type": "code",
   "execution_count": null,
   "id": "1c0bdf2f",
   "metadata": {},
   "outputs": [],
   "source": []
  },
  {
   "cell_type": "code",
   "execution_count": null,
   "id": "7846e4a5",
   "metadata": {},
   "outputs": [],
   "source": []
  },
  {
   "cell_type": "code",
   "execution_count": null,
   "id": "84e026f7",
   "metadata": {},
   "outputs": [],
   "source": []
  },
  {
   "cell_type": "code",
   "execution_count": null,
   "id": "d88df3de",
   "metadata": {},
   "outputs": [],
   "source": []
  },
  {
   "cell_type": "code",
   "execution_count": null,
   "id": "c76777d5",
   "metadata": {},
   "outputs": [],
   "source": []
  }
 ],
 "metadata": {
  "kernelspec": {
   "display_name": "Python 3 (ipykernel)",
   "language": "python",
   "name": "python3"
  },
  "language_info": {
   "codemirror_mode": {
    "name": "ipython",
    "version": 3
   },
   "file_extension": ".py",
   "mimetype": "text/x-python",
   "name": "python",
   "nbconvert_exporter": "python",
   "pygments_lexer": "ipython3",
   "version": "3.8.12"
  },
  "toc": {
   "base_numbering": 1,
   "nav_menu": {},
   "number_sections": true,
   "sideBar": true,
   "skip_h1_title": false,
   "title_cell": "Table of Contents",
   "title_sidebar": "Contents",
   "toc_cell": false,
   "toc_position": {},
   "toc_section_display": true,
   "toc_window_display": false
  }
 },
 "nbformat": 4,
 "nbformat_minor": 5
}
