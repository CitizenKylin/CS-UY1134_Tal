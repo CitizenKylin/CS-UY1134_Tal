{
 "cells": [
  {
   "cell_type": "code",
   "execution_count": 58,
   "id": "47025986",
   "metadata": {},
   "outputs": [],
   "source": [
    "from ChainingHashTableMap import ChainingHashTableMap\n",
    "from UnsortedArrayMap import UnsortedArrayMap\n",
    "from DoublyLinkedList import DoublyLinkedList"
   ]
  },
  {
   "cell_type": "markdown",
   "id": "87a8f4f4",
   "metadata": {},
   "source": [
    "# Question 1"
   ]
  },
  {
   "cell_type": "code",
   "execution_count": 15,
   "id": "96dee63b",
   "metadata": {},
   "outputs": [],
   "source": [
    "def most_frequent(lst):\n",
    "    hmap = ChainingHashTableMap()\n",
    "    for num in lst:\n",
    "        if num not in hmap:\n",
    "            hmap[num]=1\n",
    "        hmap[num] += 1\n",
    "    most_frequent = None\n",
    "    for key in hmap:\n",
    "        if most_frequent is None or hmap[key] > hmap[most_frequent]:\n",
    "            most_frequent = key\n",
    "    return most_frequent"
   ]
  },
  {
   "cell_type": "code",
   "execution_count": 16,
   "id": "c4abe34b",
   "metadata": {},
   "outputs": [],
   "source": [
    "lst = [5,9,2,9,0,5,9,7]"
   ]
  },
  {
   "cell_type": "code",
   "execution_count": 17,
   "id": "042d3555",
   "metadata": {},
   "outputs": [
    {
     "data": {
      "text/plain": [
       "9"
      ]
     },
     "execution_count": 17,
     "metadata": {},
     "output_type": "execute_result"
    }
   ],
   "source": [
    "most_frequent(lst)"
   ]
  },
  {
   "cell_type": "code",
   "execution_count": 18,
   "id": "304f7181",
   "metadata": {},
   "outputs": [],
   "source": [
    "    hmap = ChainingHashTableMap()\n",
    "    for num in lst:\n",
    "        if num not in hmap:\n",
    "            hmap[num]=1\n",
    "        hmap[num] += 1"
   ]
  },
  {
   "cell_type": "code",
   "execution_count": 34,
   "id": "1ba76011",
   "metadata": {},
   "outputs": [
    {
     "data": {
      "text/plain": [
       "True"
      ]
     },
     "execution_count": 34,
     "metadata": {},
     "output_type": "execute_result"
    }
   ],
   "source": [
    "True or hmap[None]"
   ]
  },
  {
   "cell_type": "code",
   "execution_count": 75,
   "id": "74a58cba",
   "metadata": {},
   "outputs": [],
   "source": [
    "def first_unique(lst):\n",
    "    hmap = ChainingHashTableMap()\n",
    "    for num in lst:\n",
    "        if num not in hmap:\n",
    "            hmap[num]=0\n",
    "        hmap[num] += 1\n",
    "    for key in lst: # need to use num in list\n",
    "        if hmap[key] == 1:\n",
    "            return key\n",
    "        return None"
   ]
  },
  {
   "cell_type": "code",
   "execution_count": 39,
   "id": "67717dcb",
   "metadata": {},
   "outputs": [],
   "source": [
    "lst = [5,9,2,9,0,5,9,7]"
   ]
  },
  {
   "cell_type": "code",
   "execution_count": 40,
   "id": "6e1e7ce2",
   "metadata": {},
   "outputs": [
    {
     "data": {
      "text/plain": [
       "2"
      ]
     },
     "execution_count": 40,
     "metadata": {},
     "output_type": "execute_result"
    }
   ],
   "source": [
    "first_unique(lst)"
   ]
  },
  {
   "cell_type": "markdown",
   "id": "64530b05",
   "metadata": {},
   "source": [
    "# Question 2"
   ]
  },
  {
   "cell_type": "code",
   "execution_count": 48,
   "id": "416c01df",
   "metadata": {},
   "outputs": [],
   "source": [
    "# def two_sum(lst, target):\n",
    "#     hmap = ChainingHashTableMap()\n",
    "#     for index in range(len(lst)):\n",
    "#         hmap[lst[index]]=index\n",
    "#     for num in lst:\n",
    "#         if (target-num) in hmap:\n",
    "#             return (hmap[num],hmap[target-num])"
   ]
  },
  {
   "cell_type": "code",
   "execution_count": 56,
   "id": "2bad7a67",
   "metadata": {},
   "outputs": [],
   "source": [
    "lst = [-2, 11, 15, 21, 20, 7]\n",
    "target = 22"
   ]
  },
  {
   "cell_type": "code",
   "execution_count": 57,
   "id": "37b0c63c",
   "metadata": {},
   "outputs": [
    {
     "data": {
      "text/plain": [
       "(2, 5)"
      ]
     },
     "execution_count": 57,
     "metadata": {},
     "output_type": "execute_result"
    }
   ],
   "source": [
    "two_sum(lst, target)"
   ]
  },
  {
   "cell_type": "code",
   "execution_count": 52,
   "id": "6bb32707",
   "metadata": {},
   "outputs": [],
   "source": [
    "lst = [-2, 11, 15, 21, 20, 20]\n",
    "target = 22"
   ]
  },
  {
   "cell_type": "code",
   "execution_count": 54,
   "id": "1b62dd5b",
   "metadata": {},
   "outputs": [],
   "source": [
    "def two_sum(lst, target):\n",
    "    indMap = ChainingHashTableMap()\n",
    "    for i in range(len(lst)):\n",
    "        if lst[i] in indMap:\n",
    "            return(indMap[lst[i]], i)\n",
    "        indMap[target - lst[i]] = i\n",
    "    return (None, None)"
   ]
  },
  {
   "cell_type": "code",
   "execution_count": null,
   "id": "5c2cfc85",
   "metadata": {},
   "outputs": [],
   "source": []
  },
  {
   "cell_type": "markdown",
   "id": "77976f9a",
   "metadata": {},
   "source": [
    "# Question 3"
   ]
  },
  {
   "cell_type": "code",
   "execution_count": 61,
   "id": "39744b73",
   "metadata": {},
   "outputs": [],
   "source": [
    "class PlayList:\n",
    "    def __init__(self):\n",
    "        self.hmap = ChainingHashTableMap()\n",
    "        self.playlist = DoublyLinkedList()\n",
    "        \n",
    "    def add_song(self, new_song):\n",
    "        self.hmap[new_song] = self.playlist.add_last(new_song)\n",
    "        \n",
    "    def add_song_after(self, song, new_song):\n",
    "        song_node = self.hmap[song]\n",
    "        self.hmap[new_song] = self.playlist.add_after(song_node, new_song)\n",
    "    \n",
    "    def play_song(self, song):\n",
    "        print(\"Playing \" + self.hmap[song].data) # .data is the from ddl (self.hmap[song] is node)\n",
    "        \n",
    "    def play_list(self):\n",
    "        for song in self.playlist:\n",
    "            print(\"Playing \" + song)"
   ]
  },
  {
   "cell_type": "code",
   "execution_count": 62,
   "id": "f4674499",
   "metadata": {},
   "outputs": [
    {
     "name": "stdout",
     "output_type": "stream",
     "text": [
      "Playing The Star-Spangled Banner\n",
      "Playing Jana Gana Mana\n",
      "Playing Jana Gana Mana\n",
      "Playing God Save The Queen\n",
      "Playing Kimi Ga Yo\n",
      "Playing Aegukga\n",
      "Playing The Star-Spangled Banner\n",
      "Playing La Marcha Real\n",
      "Playing March of the Volunteers\n",
      "Playing Arise, O Compatriots\n",
      "Playing Chant de Ralliement\n",
      "Playing Himno Nacional Mexicano\n"
     ]
    }
   ],
   "source": [
    "p1 = PlayList( )\n",
    "p1.add_song(\"Jana Gana Mana\") \n",
    "p1.add_song(\"Kimi Ga Yo\") \n",
    "p1.add_song(\"The Star-Spangled Banner\") \n",
    "p1.add_song(\"March of the Volunteers\") \n",
    "p1.add_song_after(\"The Star-Spangled Banner\", \"La Marcha Real\")\n",
    "p1.add_song_after(\"Kimi Ga Yo\", \"Aegukga\") \n",
    "p1.add_song(\"Arise, O Compatriots\")\n",
    "p1.add_song(\"Chant de Ralliement\") \n",
    "p1.add_song_after(\"Chant de Ralliement\", \"Himno Nacional Mexicano\")\n",
    "p1.add_song_after(\"Jana Gana Mana\", \"God Save The Queen\")\n",
    "p1.play_song(\"The Star-Spangled Banner\")\n",
    "p1.play_song(\"Jana Gana Mana\")\n",
    "p1.play_list( )"
   ]
  },
  {
   "cell_type": "markdown",
   "id": "1f851872",
   "metadata": {},
   "source": [
    "# Vitmins"
   ]
  },
  {
   "cell_type": "code",
   "execution_count": 64,
   "id": "a30b3386",
   "metadata": {},
   "outputs": [],
   "source": [
    "N=7\n",
    "p=107\n",
    "a =1\n",
    "b=2\n"
   ]
  },
  {
   "cell_type": "code",
   "execution_count": 73,
   "id": "6aa53958",
   "metadata": {},
   "outputs": [
    {
     "data": {
      "text/plain": [
       "2"
      ]
     },
     "execution_count": 73,
     "metadata": {},
     "output_type": "execute_result"
    }
   ],
   "source": [
    "i = 7\n",
    "((a*i + b)%p)%N"
   ]
  },
  {
   "cell_type": "code",
   "execution_count": null,
   "id": "d5debf48",
   "metadata": {},
   "outputs": [],
   "source": []
  },
  {
   "cell_type": "code",
   "execution_count": null,
   "id": "52707ee8",
   "metadata": {},
   "outputs": [],
   "source": []
  }
 ],
 "metadata": {
  "kernelspec": {
   "display_name": "Python 3 (ipykernel)",
   "language": "python",
   "name": "python3"
  },
  "language_info": {
   "codemirror_mode": {
    "name": "ipython",
    "version": 3
   },
   "file_extension": ".py",
   "mimetype": "text/x-python",
   "name": "python",
   "nbconvert_exporter": "python",
   "pygments_lexer": "ipython3",
   "version": "3.8.12"
  },
  "toc": {
   "base_numbering": 1,
   "nav_menu": {},
   "number_sections": true,
   "sideBar": true,
   "skip_h1_title": false,
   "title_cell": "Table of Contents",
   "title_sidebar": "Contents",
   "toc_cell": false,
   "toc_position": {},
   "toc_section_display": true,
   "toc_window_display": false
  }
 },
 "nbformat": 4,
 "nbformat_minor": 5
}
