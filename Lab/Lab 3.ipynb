{
 "cells": [
  {
   "cell_type": "markdown",
   "id": "2708da85",
   "metadata": {},
   "source": [
    "# Lab 3 Coding"
   ]
  },
  {
   "cell_type": "markdown",
   "id": "0726a305",
   "metadata": {},
   "source": [
    "## Question 1"
   ]
  },
  {
   "cell_type": "markdown",
   "id": "afd07b91",
   "metadata": {},
   "source": [
    "## By Binglin"
   ]
  },
  {
   "cell_type": "code",
   "execution_count": 10,
   "id": "c919ca76",
   "metadata": {},
   "outputs": [],
   "source": [
    "# a\n",
    "def reverse_list(lst):\n",
    "    return lst[-1::-1] # slice takes n times, cuz it's copying the list one by one\n"
   ]
  },
  {
   "cell_type": "code",
   "execution_count": 11,
   "id": "89d757b4",
   "metadata": {},
   "outputs": [
    {
     "data": {
      "text/plain": [
       "[2, 6, 5, 5, 4, 3, 2, 1]"
      ]
     },
     "execution_count": 11,
     "metadata": {},
     "output_type": "execute_result"
    }
   ],
   "source": [
    "lst = [1,2,3,4,5,5,6,2]\n",
    "reverse_list(lst)"
   ]
  },
  {
   "cell_type": "code",
   "execution_count": 3,
   "id": "022df982",
   "metadata": {},
   "outputs": [],
   "source": [
    "#b wrong!!!!\n",
    "def reverse_list(lst, low = None, high = None):\n",
    "    if low is None or low == 0:\n",
    "        low = None\n",
    "    if high is None:\n",
    "        high = len(lst) - 1\n",
    "    return lst[high:low-1:-1]"
   ]
  },
  {
   "cell_type": "code",
   "execution_count": 4,
   "id": "b36b1378",
   "metadata": {},
   "outputs": [
    {
     "data": {
      "text/plain": [
       "[4, 3, 2]"
      ]
     },
     "execution_count": 4,
     "metadata": {},
     "output_type": "execute_result"
    }
   ],
   "source": [
    "lst = [1, 2, 3, 4, 5, 6]\n",
    "reverse_list(lst, 1, 3)"
   ]
  },
  {
   "cell_type": "markdown",
   "id": "fee7f929",
   "metadata": {},
   "source": [
    "## Solution"
   ]
  },
  {
   "cell_type": "code",
   "execution_count": 17,
   "id": "28f39648",
   "metadata": {},
   "outputs": [],
   "source": [
    "# 1a\n",
    "# 方法一：用while loop\n",
    "def reverse_solu(lst):\n",
    "    low = 0\n",
    "    high = len(lst)-1\n",
    "    while low < high:\n",
    "        lst[low],lst[high] = lst[high],lst[low] #swap\n",
    "        low += 1\n",
    "        high -= 1\n",
    "    return lst"
   ]
  },
  {
   "cell_type": "code",
   "execution_count": 1,
   "id": "1b7be6a1",
   "metadata": {},
   "outputs": [],
   "source": [
    "# 方法二：用for loop\n",
    "def reverse_3(lst):\n",
    "    for i in range(len(lst)//2):\n",
    "        lst[i],lst[-i-1] = lst[-i-1],lst[i]\n",
    "    return lst\n",
    "lst = [1,2,3,4,5,5,6,2]\n",
    "reverse_3(lst)"
   ]
  },
  {
   "cell_type": "code",
   "execution_count": 19,
   "id": "967f426f",
   "metadata": {},
   "outputs": [
    {
     "data": {
      "text/plain": [
       "[2, 6, 5, 5, 4, 3, 2, 1]"
      ]
     },
     "execution_count": 19,
     "metadata": {},
     "output_type": "execute_result"
    }
   ],
   "source": [
    "lst = [1,2,3,4,5,5,6,2]\n",
    "reverse_solu(lst)"
   ]
  },
  {
   "cell_type": "code",
   "execution_count": 22,
   "id": "f5fabff8",
   "metadata": {},
   "outputs": [],
   "source": [
    "# 1b\n",
    "def reverse_solu2(lst,low=None,high=None):\n",
    "    if low is None:\n",
    "        low = 0\n",
    "    if high is None:\n",
    "        high = len(lst)-1\n",
    "    while low < high:\n",
    "        lst[low],lst[high] = lst[high],lst[low] #swap\n",
    "        low += 1\n",
    "        high -= 1\n",
    "    return lst"
   ]
  },
  {
   "cell_type": "code",
   "execution_count": 23,
   "id": "97d6567b",
   "metadata": {},
   "outputs": [
    {
     "data": {
      "text/plain": [
       "[1, 5, 5, 4, 3, 2, 6, 2]"
      ]
     },
     "execution_count": 23,
     "metadata": {},
     "output_type": "execute_result"
    }
   ],
   "source": [
    "lst = [1,2,3,4,5,5,6,2]\n",
    "reverse_solu2(lst,1,5)"
   ]
  },
  {
   "cell_type": "markdown",
   "id": "c7535a6d",
   "metadata": {},
   "source": [
    "总结： \n",
    "1. 学会用while loop 而不是for loop  \n",
    "2. 学会用swap解决lst改变sequence的问题，重要   \n",
    "3. list中就要 lst[i]"
   ]
  },
  {
   "cell_type": "markdown",
   "id": "4c9389ac",
   "metadata": {},
   "source": [
    "# Question 2"
   ]
  },
  {
   "cell_type": "markdown",
   "id": "aae087cd",
   "metadata": {},
   "source": [
    "Given a sorted list of positive integers with zeros mixed in, write a function to move all zeros to the end of the list while maintaining the order of the non-zero numbers. For example, given the list [0, 1, 0, 3, 13, 0], the function will modify the list to become [1, 3, 13, 0, 0, 0]. Your solution must be **in-place** and run in **Θ(n)**, where n is the length of the list. (25 minutes)"
   ]
  },
  {
   "cell_type": "markdown",
   "id": "4bf53a5a",
   "metadata": {},
   "source": [
    "## By Binglin"
   ]
  },
  {
   "cell_type": "code",
   "execution_count": 60,
   "id": "dcfcdeff",
   "metadata": {},
   "outputs": [],
   "source": [
    "def move_zeros(nums):\n",
    "    lst = []\n",
    "    for p1 in nums:\n",
    "        if p1 != 0:\n",
    "            lst.append(p1)\n",
    "    for p2 in nums:\n",
    "        if p2 == 0:\n",
    "            lst.append(p2)\n",
    "    return lst"
   ]
  },
  {
   "cell_type": "code",
   "execution_count": 61,
   "id": "014250ba",
   "metadata": {},
   "outputs": [
    {
     "data": {
      "text/plain": [
       "[1, 3, 13, 0, 0, 0]"
      ]
     },
     "execution_count": 61,
     "metadata": {},
     "output_type": "execute_result"
    }
   ],
   "source": [
    "num =  [0, 1, 0, 3, 13, 0]\n",
    "move_zeros(num)"
   ]
  },
  {
   "cell_type": "code",
   "execution_count": null,
   "id": "18edc261",
   "metadata": {},
   "outputs": [],
   "source": [
    "# second try\n",
    "def move_zeros_2(nums):\n",
    "    p1 = 0\n",
    "    p2 = 1\n",
    "    while p1 < len(nums)-1:\n",
    "        if nums[p1] == 0:\n",
    "        if nums[p2] == 0:\n",
    "            nums[p1], nums[p2] = nums[p2], nums[p1]\n",
    "        p1 += 1\n",
    "        p2 += 1\n",
    "    return nums"
   ]
  },
  {
   "cell_type": "markdown",
   "id": "c8a1f0d7",
   "metadata": {},
   "source": [
    "## Solution"
   ]
  },
  {
   "cell_type": "code",
   "execution_count": 5,
   "id": "9311682b",
   "metadata": {},
   "outputs": [],
   "source": [
    "def move_zeros_solu(nums):\n",
    "    last_zero = 0\n",
    "    for i in range(len(nums)):\n",
    "        if nums[i] != 0:\n",
    "            nums[i],nums[last_zero] = nums[last_zero],nums[i]\n",
    "            last_zero += 1 # 更新第一个0的位置\n",
    "    return nums\n",
    "# 逻辑：把所有数和first zero的互换位置？"
   ]
  },
  {
   "cell_type": "code",
   "execution_count": 8,
   "id": "592b8598",
   "metadata": {},
   "outputs": [
    {
     "data": {
      "text/plain": [
       "[2, 1, 3, 13, 0, 0, 0, 0]"
      ]
     },
     "execution_count": 8,
     "metadata": {},
     "output_type": "execute_result"
    }
   ],
   "source": [
    "num =  [2, 1, 0, 0, 0, 3, 13, 0]\n",
    "move_zeros_solu(num)"
   ]
  },
  {
   "cell_type": "markdown",
   "id": "2e00e166",
   "metadata": {},
   "source": [
    "# Question 3"
   ]
  },
  {
   "cell_type": "markdown",
   "id": "006b5736",
   "metadata": {},
   "source": [
    "## By Binglin"
   ]
  },
  {
   "cell_type": "code",
   "execution_count": null,
   "id": "9837654f",
   "metadata": {},
   "outputs": [],
   "source": [
    "def reverse_list(lst, low = None, high = None):\n",
    "    if low is None or low == 0:\n",
    "        low = None\n",
    "    if high is None:\n",
    "        high = len(lst) - 1\n",
    "    return lst[high:low-1:-1]\n",
    "def shift(lst,k):\n",
    "    "
   ]
  },
  {
   "cell_type": "code",
   "execution_count": 65,
   "id": "b669c119",
   "metadata": {},
   "outputs": [
    {
     "data": {
      "text/plain": [
       "[4, 3, 2]"
      ]
     },
     "execution_count": 65,
     "metadata": {},
     "output_type": "execute_result"
    }
   ],
   "source": [
    "lst = [1, 2, 3, 4, 5, 6]\n",
    "reverse_list(lst, 1, 3)"
   ]
  },
  {
   "cell_type": "markdown",
   "id": "aa556293",
   "metadata": {},
   "source": [
    "## Solution"
   ]
  },
  {
   "cell_type": "code",
   "execution_count": 14,
   "id": "a4691d05",
   "metadata": {},
   "outputs": [],
   "source": [
    "def reverse_solu2(lst,low=None,high=None):\n",
    "    if low is None:\n",
    "        low = 0\n",
    "    if high is None:\n",
    "        high = len(lst)-1\n",
    "    while low < high:\n",
    "        lst[low],lst[high] = lst[high],lst[low] #swap\n",
    "        low += 1\n",
    "        high -= 1\n",
    "    return lst"
   ]
  },
  {
   "cell_type": "code",
   "execution_count": 54,
   "id": "752b895a",
   "metadata": {},
   "outputs": [],
   "source": [
    "def shift_left_solu(list,k):\n",
    "    reverse_solu2(list)\n",
    "    reverse_solu2(list,None,len(list)-k-1)\n",
    "    return reverse_solu2(list,len(list)-k,None)"
   ]
  },
  {
   "cell_type": "markdown",
   "id": "7e9010e6",
   "metadata": {},
   "source": [
    "shift([1, 2, 3, 4, 5, 6], 2) → [3, 4, 5, 6, 1, 2]"
   ]
  },
  {
   "cell_type": "markdown",
   "id": "8b55f800",
   "metadata": {},
   "source": [
    "[6,5,4,3,|||||2,1]"
   ]
  },
  {
   "cell_type": "code",
   "execution_count": 56,
   "id": "48fbf0a7",
   "metadata": {},
   "outputs": [
    {
     "data": {
      "text/plain": [
       "[3, 4, 5, 6, 1, 2]"
      ]
     },
     "execution_count": 56,
     "metadata": {},
     "output_type": "execute_result"
    }
   ],
   "source": [
    "shift_left_solu([1,2,3,4,5,6],2)"
   ]
  },
  {
   "cell_type": "code",
   "execution_count": 18,
   "id": "29b48f89",
   "metadata": {},
   "outputs": [],
   "source": [
    "def shift_right_solu(list,k):\n",
    "    reverse_solu2(list)\n",
    "    reverse_solu2(list,None,k-1)\n",
    "    return reverse_solu2(list,k,None)"
   ]
  },
  {
   "cell_type": "markdown",
   "id": "114418d5",
   "metadata": {},
   "source": [
    "shift([1, 2, 3, 4, 5, 6], 2) → [5, 6, 1, 2, 3, 4]"
   ]
  },
  {
   "cell_type": "markdown",
   "id": "9e984f0a",
   "metadata": {},
   "source": [
    "[6,5,|||||4,3,2,1]"
   ]
  },
  {
   "cell_type": "code",
   "execution_count": 19,
   "id": "c9e25d74",
   "metadata": {},
   "outputs": [
    {
     "data": {
      "text/plain": [
       "[5, 6, 1, 2, 3, 4]"
      ]
     },
     "execution_count": 19,
     "metadata": {},
     "output_type": "execute_result"
    }
   ],
   "source": [
    "shift_right_solu([1,2,3,4,5,6],2)"
   ]
  },
  {
   "cell_type": "code",
   "execution_count": 23,
   "id": "c391f179",
   "metadata": {},
   "outputs": [],
   "source": [
    "# 第二次自己练习\n",
    "def shift_11(list,k):\n",
    "    reverse_solu2(list)\n",
    "    reverse_solu2(list,0,k-1)\n",
    "    reverse_solu2(list,k,len(list)-1)\n",
    "    return list"
   ]
  },
  {
   "cell_type": "code",
   "execution_count": 24,
   "id": "7a5ce4ee",
   "metadata": {},
   "outputs": [
    {
     "data": {
      "text/plain": [
       "[5, 6, 1, 2, 3, 4]"
      ]
     },
     "execution_count": 24,
     "metadata": {},
     "output_type": "execute_result"
    }
   ],
   "source": [
    "shift_11([1,2,3,4,5,6],2)"
   ]
  },
  {
   "cell_type": "code",
   "execution_count": null,
   "id": "7652b109",
   "metadata": {},
   "outputs": [],
   "source": []
  }
 ],
 "metadata": {
  "kernelspec": {
   "display_name": "Python 3 (ipykernel)",
   "language": "python",
   "name": "python3"
  },
  "language_info": {
   "codemirror_mode": {
    "name": "ipython",
    "version": 3
   },
   "file_extension": ".py",
   "mimetype": "text/x-python",
   "name": "python",
   "nbconvert_exporter": "python",
   "pygments_lexer": "ipython3",
   "version": "3.8.12"
  },
  "toc": {
   "base_numbering": 1,
   "nav_menu": {},
   "number_sections": true,
   "sideBar": true,
   "skip_h1_title": false,
   "title_cell": "Table of Contents",
   "title_sidebar": "Contents",
   "toc_cell": false,
   "toc_position": {},
   "toc_section_display": true,
   "toc_window_display": false
  }
 },
 "nbformat": 4,
 "nbformat_minor": 5
}
