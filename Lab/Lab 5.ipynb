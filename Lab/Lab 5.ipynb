{
 "cells": [
  {
   "cell_type": "code",
   "execution_count": 15,
   "id": "14e406a9",
   "metadata": {},
   "outputs": [],
   "source": [
    "import ctypes  # provides low-level arrays\n",
    "def make_array(n):\n",
    "    return (n * ctypes.py_object)()\n",
    "\n",
    "class ArrayList:\n",
    "# g\n",
    "    def __init__(self, iter_collection = None):\n",
    "        self.data_arr = make_array(1) # what is data_arr? \n",
    "        self.capacity = 1\n",
    "        self.n = 0\n",
    "        \n",
    "        if iter_collection is not None:\n",
    "            for elem in iter_collection:\n",
    "                self.append(elem)\n",
    "\n",
    "    def __len__(self):\n",
    "        return self.n\n",
    "\n",
    "\n",
    "    def append(self, val):\n",
    "        if (self.n == self.capacity):\n",
    "            self.resize(2 * self.capacity)\n",
    "        self.data_arr[self.n] = val\n",
    "        self.n += 1\n",
    "\n",
    "\n",
    "    def resize(self, new_size):\n",
    "        new_array = make_array(new_size)\n",
    "        for i in range(self.n):\n",
    "            new_array[i] = self.data_arr[i]\n",
    "        self.data_arr = new_array\n",
    "        self.capacity = new_size\n",
    "\n",
    "\n",
    "#     def __getitem__(self, ind):\n",
    "#         if (not (0 <= ind <= self.n - 1)):\n",
    "#             raise IndexError('invalid index')\n",
    "#         return self.data_arr[ind]\n",
    "\n",
    "\n",
    "#     def __setitem__(self, ind, val):\n",
    "#         if (not (0 <= ind <= self.n - 1)):\n",
    "#             raise IndexError('invalid index')\n",
    "#         self.data_arr[ind] = val\n",
    "\n",
    "\n",
    "    def __iter__(self):\n",
    "        for i in range(len(self)):\n",
    "            yield self.data_arr[i]  #could also yield self[i]\n",
    "\n",
    "\n",
    "    def extend(self, iter_collection):\n",
    "        for elem in iter_collection:\n",
    "            self.append(elem)\n",
    "\n",
    "# a\n",
    "    def __repr__(self):\n",
    "        submit = \"[\"\n",
    "        for i in range(self.n):\n",
    "            submit += str(self.data_arr[i])\n",
    "            if i != self.n-1:\n",
    "                submit += \",\"\n",
    "        submit += \"]\"\n",
    "        return submit\n",
    "# b\n",
    "    def __add__(self, other):\n",
    "        lst = ArrayList()\n",
    "        lst += self # 这里先要把 __iadd__ 写出来，规定+=的concatenation运算\n",
    "        lst += other\n",
    "        return(lst)\n",
    "# c\n",
    "    def __iadd__(self,other):\n",
    "        self.extend(other)\n",
    "        return self\n",
    "\n",
    "# d\n",
    "    def __getitem__(self, ind):\n",
    "        if (not (-self.n <= ind <= self.n - 1)):\n",
    "            raise IndexError('invalid index')\n",
    "        if (ind<0):\n",
    "            ind = self.n + ind\n",
    "        return self.data_arr[ind]\n",
    "    \n",
    "    def __setitem__(self, ind, val):\n",
    "        if (not (-self.n <= ind <= self.n - 1)):\n",
    "            raise IndexError('invalid index')\n",
    "        if (ind<0):\n",
    "            ind = self.n + ind\n",
    "        self.data_arr[ind] = val\n",
    "        \n",
    "# e\n",
    "    def __mul__(self,scalar):\n",
    "        lst = ArrayList()\n",
    "        for i in range(scalar):\n",
    "            lst.extend(self)\n",
    "        return lst\n",
    "    \n",
    "# f\n",
    "    def __rmul__(self,scalar):\n",
    "        return self*scalar\n",
    "\n",
    "# h\n",
    "    def remove(self,val):\n",
    "        i = 0\n",
    "        # find the index of val\n",
    "        while i < self.n and self.data_arr[i] != val:\n",
    "            i+=1\n",
    "        \n",
    "        # move back 把后面的格子往回挪一个位置remove\n",
    "        while i < self.n -1:\n",
    "            self.data_arr[i] = self.data_arr[i+1]\n",
    "            i += 1\n",
    "        # remove后原来list的最后一个应该变成none, list长度减少一个\n",
    "        if i == self.n-1:\n",
    "            self.data_arr[i] = None\n",
    "            self.n -= 1\n",
    "# i\n",
    "    def remove_all(self, val):\n",
    "        first_val = 0\n",
    "        for i in range(self.n):\n",
    "            if self[i] != val:\n",
    "                self[i], self[first_val] = self[first_val], self[i]\n",
    "                first_val += 1\n",
    "            a = i\n",
    "\n",
    "        while self.data_arr[a] == val:\n",
    "            self.data_arr[a] = None\n",
    "            a -= 1\n",
    "            self.n -= 1"
   ]
  },
  {
   "cell_type": "code",
   "execution_count": 57,
   "id": "3ae70f94",
   "metadata": {},
   "outputs": [],
   "source": [
    "arr = ArrayList()\n",
    "for i in range(1,6):\n",
    "    arr.append(i*10)"
   ]
  },
  {
   "cell_type": "code",
   "execution_count": 58,
   "id": "e7e3a3d2",
   "metadata": {},
   "outputs": [
    {
     "name": "stdout",
     "output_type": "stream",
     "text": [
      "[10,20,30,40,50]\n"
     ]
    }
   ],
   "source": [
    "print(arr)"
   ]
  },
  {
   "cell_type": "code",
   "execution_count": 60,
   "id": "0d9ba4d9",
   "metadata": {},
   "outputs": [],
   "source": [
    "arr1 = ArrayList()\n",
    "arr1.append(1)\n",
    "arr1.append(2)\n",
    "arr1.append(3)"
   ]
  },
  {
   "cell_type": "code",
   "execution_count": 61,
   "id": "35878842",
   "metadata": {},
   "outputs": [],
   "source": [
    "arr2 = ArrayList()\n",
    "arr2.append(4)\n",
    "arr2.append(5)\n",
    "arr2.append(6)"
   ]
  },
  {
   "cell_type": "code",
   "execution_count": 72,
   "id": "085652e1",
   "metadata": {},
   "outputs": [],
   "source": [
    "arr3 = arr1 + arr2"
   ]
  },
  {
   "cell_type": "code",
   "execution_count": 84,
   "id": "64fb7222",
   "metadata": {},
   "outputs": [
    {
     "data": {
      "text/plain": [
       "3"
      ]
     },
     "execution_count": 84,
     "metadata": {},
     "output_type": "execute_result"
    }
   ],
   "source": [
    "arr3[2]"
   ]
  },
  {
   "cell_type": "code",
   "execution_count": 64,
   "id": "54398deb",
   "metadata": {},
   "outputs": [
    {
     "data": {
      "text/plain": [
       "[10,20,30,40,50]"
      ]
     },
     "execution_count": 64,
     "metadata": {},
     "output_type": "execute_result"
    }
   ],
   "source": [
    "arr"
   ]
  },
  {
   "cell_type": "code",
   "execution_count": 65,
   "id": "f5cc34f6",
   "metadata": {},
   "outputs": [],
   "source": [
    "arr.append(1)"
   ]
  },
  {
   "cell_type": "code",
   "execution_count": 69,
   "id": "7964f6ff",
   "metadata": {},
   "outputs": [],
   "source": [
    "arr.extend('abc')"
   ]
  },
  {
   "cell_type": "code",
   "execution_count": 86,
   "id": "56a35fe0",
   "metadata": {},
   "outputs": [],
   "source": [
    "arr4 = ArrayList(range(10))"
   ]
  },
  {
   "cell_type": "code",
   "execution_count": 87,
   "id": "70aacc6f",
   "metadata": {},
   "outputs": [
    {
     "data": {
      "text/plain": [
       "[0,1,2,3,4,5,6,7,8,9]"
      ]
     },
     "execution_count": 87,
     "metadata": {},
     "output_type": "execute_result"
    }
   ],
   "source": [
    "arr4"
   ]
  },
  {
   "cell_type": "code",
   "execution_count": 88,
   "id": "82b36551",
   "metadata": {},
   "outputs": [],
   "source": [
    "arr4.remove(2)"
   ]
  },
  {
   "cell_type": "code",
   "execution_count": 90,
   "id": "d3e6b0cb",
   "metadata": {},
   "outputs": [],
   "source": [
    "arr4.remove(10)"
   ]
  },
  {
   "cell_type": "code",
   "execution_count": 91,
   "id": "aafab12d",
   "metadata": {},
   "outputs": [
    {
     "data": {
      "text/plain": [
       "[0,1,3,4,5,6,7,8,9]"
      ]
     },
     "execution_count": 91,
     "metadata": {},
     "output_type": "execute_result"
    }
   ],
   "source": [
    "arr4"
   ]
  },
  {
   "cell_type": "code",
   "execution_count": 92,
   "id": "3cc28648",
   "metadata": {},
   "outputs": [],
   "source": [
    "arr4.remove(1)"
   ]
  },
  {
   "cell_type": "code",
   "execution_count": 94,
   "id": "73ca65c5",
   "metadata": {},
   "outputs": [
    {
     "data": {
      "text/plain": [
       "[0,3,4,5,6,7,8,9]"
      ]
     },
     "execution_count": 94,
     "metadata": {},
     "output_type": "execute_result"
    }
   ],
   "source": [
    "arr4"
   ]
  },
  {
   "cell_type": "code",
   "execution_count": 10,
   "id": "56091cd0",
   "metadata": {},
   "outputs": [
    {
     "ename": "NameError",
     "evalue": "name 'arr4' is not defined",
     "output_type": "error",
     "traceback": [
      "\u001b[0;31m---------------------------------------------------------------------------\u001b[0m",
      "\u001b[0;31mNameError\u001b[0m                                 Traceback (most recent call last)",
      "\u001b[0;32m/var/folders/rd/q2lzfdss4b167026m7l6h8pm0000gn/T/ipykernel_18122/3130023961.py\u001b[0m in \u001b[0;36m<module>\u001b[0;34m\u001b[0m\n\u001b[0;32m----> 1\u001b[0;31m \u001b[0marr4\u001b[0m\u001b[0;34m[\u001b[0m\u001b[0;36m8\u001b[0m\u001b[0;34m]\u001b[0m\u001b[0;34m\u001b[0m\u001b[0;34m\u001b[0m\u001b[0m\n\u001b[0m",
      "\u001b[0;31mNameError\u001b[0m: name 'arr4' is not defined"
     ]
    }
   ],
   "source": [
    "arr4[8]"
   ]
  },
  {
   "cell_type": "code",
   "execution_count": 35,
   "id": "c6da0138",
   "metadata": {},
   "outputs": [],
   "source": [
    "arr5 = ArrayList([1,2,3,2,3,4,2,2])"
   ]
  },
  {
   "cell_type": "code",
   "execution_count": 39,
   "id": "72f08067",
   "metadata": {},
   "outputs": [],
   "source": [
    "arr5.remove_all(2)"
   ]
  },
  {
   "cell_type": "code",
   "execution_count": 40,
   "id": "b86614ba",
   "metadata": {},
   "outputs": [
    {
     "name": "stdout",
     "output_type": "stream",
     "text": [
      "[3, 5, 6]\n"
     ]
    }
   ],
   "source": [
    "print(arr5)"
   ]
  },
  {
   "cell_type": "code",
   "execution_count": 19,
   "id": "34390473",
   "metadata": {},
   "outputs": [
    {
     "name": "stdout",
     "output_type": "stream",
     "text": [
      "None\n"
     ]
    }
   ],
   "source": [
    "print(arr5.data_arr[-3])"
   ]
  },
  {
   "cell_type": "code",
   "execution_count": null,
   "id": "54887b2c",
   "metadata": {},
   "outputs": [],
   "source": [
    "print"
   ]
  },
  {
   "cell_type": "code",
   "execution_count": null,
   "id": "8467562d",
   "metadata": {},
   "outputs": [],
   "source": []
  },
  {
   "cell_type": "code",
   "execution_count": null,
   "id": "93c5ace1",
   "metadata": {},
   "outputs": [],
   "source": []
  },
  {
   "cell_type": "code",
   "execution_count": 41,
   "id": "a9fd9ad6",
   "metadata": {},
   "outputs": [],
   "source": [
    "import ctypes  # provides low-level arrays\n",
    "def make_array(n):\n",
    "    return (n * ctypes.py_object)()\n",
    "\n",
    "class ArrayList:\n",
    "    def __init__(self):\n",
    "        self.data = make_array(1)\n",
    "        self.capacity = 1\n",
    "        self.n = 0\n",
    "\n",
    "    def __len__(self):\n",
    "        return self.n\n",
    "\n",
    "\n",
    "    def append(self, val):\n",
    "        if (self.n == self.capacity):\n",
    "            self.resize(2 * self.capacity)\n",
    "        self.data[self.n] = val\n",
    "        self.n += 1\n",
    "\n",
    "    def resize(self, new_size):\n",
    "        new_array = make_array(new_size)\n",
    "        for i in range(self.n):\n",
    "            new_array[i] = self.data[i]\n",
    "        self.data = new_array\n",
    "        self.capacity = new_size\n",
    "\n",
    "    def extend(self, iter_collection):\n",
    "        for elem in iter_collection:\n",
    "            self.append(elem)\n",
    "\n",
    "\n",
    "    def __getitem__(self, ind):\n",
    "        if (not (-self.n <= ind <= self.n - 1)):\n",
    "            raise IndexError('invalid index')\n",
    "        if (ind < 0):\n",
    "            ind = self.n + ind\n",
    "        return self.data[ind]\n",
    "\n",
    "    def __setitem__(self, ind, val):\n",
    "        if (not (-self.n <= ind <= self.n - 1)):\n",
    "            raise IndexError('invalid index')\n",
    "        if (ind < 0):\n",
    "            ind = self.n + ind\n",
    "        self.data[ind] = val\n",
    "\n",
    "\n",
    "    def __repr__(self):\n",
    "        data_as_strings = [str(self.data[i]) for i in range(self.n)]\n",
    "        return '[' + ', '.join(data_as_strings) + ']'\n",
    "\n",
    "\n",
    "    def __add__(self, other):\n",
    "        res = ArrayList()\n",
    "        res.extend(self)\n",
    "        res.extend(other)\n",
    "        return res\n",
    "\n",
    "    def __iadd__(self, other):\n",
    "        self.extend(other)\n",
    "        return self\n",
    "\n",
    "    def __mul__(self, times):\n",
    "        res = ArrayList()\n",
    "        for i in range(times):\n",
    "            res.extend(self)\n",
    "        return res\n",
    "\n",
    "    def __rmul__(self, times):\n",
    "        return self * times\n",
    "    \n",
    "    def insert(self, index, val):\n",
    "        if (self.n == self.capacity):\n",
    "            self.resize(2 * self.capacity)\n",
    "        if (not (-self.n <= index <= self.n - 1)):\n",
    "            raise IndexError('invalid index')\n",
    "        for i in range(index, self.n+1):\n",
    "            self.data[i+1] = self.data[i]\n",
    "            i += 1\n",
    "        self.data[index] = val\n",
    "        self.n += 1\n",
    "    \n",
    "    def pop(self, index = -1): # 为什么不能index = self.n - 1\n",
    "        if self.n == 0:\n",
    "            raise IndexError('empty list')\n",
    "        if (not (-self.n <= index <= self.n - 1)):\n",
    "            raise IndexError('invalid index')\n",
    "        if index < 0:\n",
    "            index = index + self.n\n",
    "\n",
    "        self.data[index] = None\n",
    "        for i in range(index,self.n-1): #必须是self.n-1, self.n会报错\n",
    "            self.data[i] = self.data[i+1]\n",
    "        self.n -= 1\n",
    "        if self.capacity / 4 > self.n:\n",
    "            self.capacity *= 0.5\n",
    "            \n",
    "    def remove_all(self, val):\n",
    "        first_val = 0\n",
    "        for i in range(self.n):\n",
    "            if self[i] != val:\n",
    "                self[i],self[first_val] = self[first_val],self[i]\n",
    "                first_val += 1\n",
    "        for num in range(i-first_val+1):\n",
    "            self.pop()\n",
    "            "
   ]
  },
  {
   "cell_type": "code",
   "execution_count": 72,
   "id": "befff7aa",
   "metadata": {},
   "outputs": [],
   "source": [
    "arr_lst = ArrayList()\n",
    "for i in range(1,4+1):\n",
    "    arr_lst.append(i)\n",
    "arr_lst.insert(2,30)"
   ]
  },
  {
   "cell_type": "code",
   "execution_count": 73,
   "id": "6b067991",
   "metadata": {},
   "outputs": [
    {
     "data": {
      "text/plain": [
       "[1, 2, 30, 3, 3]"
      ]
     },
     "execution_count": 73,
     "metadata": {},
     "output_type": "execute_result"
    }
   ],
   "source": [
    "arr_lst"
   ]
  },
  {
   "cell_type": "code",
   "execution_count": 81,
   "id": "9db06019",
   "metadata": {},
   "outputs": [],
   "source": [
    "arr_lst2 = ArrayList()\n",
    "for i in range(1,5+1):\n",
    "    arr_lst2.append(i)"
   ]
  },
  {
   "cell_type": "code",
   "execution_count": 83,
   "id": "919f3c58",
   "metadata": {},
   "outputs": [],
   "source": [
    "arr_lst2.pop(2)"
   ]
  },
  {
   "cell_type": "code",
   "execution_count": 84,
   "id": "f9609ac0",
   "metadata": {},
   "outputs": [
    {
     "data": {
      "text/plain": [
       "[1, 2, 4, 5]"
      ]
     },
     "execution_count": 84,
     "metadata": {},
     "output_type": "execute_result"
    }
   ],
   "source": [
    "arr_lst2"
   ]
  },
  {
   "cell_type": "code",
   "execution_count": 77,
   "id": "dba7cd41",
   "metadata": {},
   "outputs": [
    {
     "data": {
      "text/plain": [
       "[1, 2, 3]"
      ]
     },
     "execution_count": 77,
     "metadata": {},
     "output_type": "execute_result"
    }
   ],
   "source": [
    "arr_lst2.pop()\n",
    "arr_lst2"
   ]
  },
  {
   "cell_type": "code",
   "execution_count": 78,
   "id": "fed9cab4",
   "metadata": {},
   "outputs": [
    {
     "data": {
      "text/plain": [
       "[1, 2]"
      ]
     },
     "execution_count": 78,
     "metadata": {},
     "output_type": "execute_result"
    }
   ],
   "source": [
    "arr_lst2.pop()\n",
    "arr_lst2"
   ]
  },
  {
   "cell_type": "code",
   "execution_count": 79,
   "id": "35885d2b",
   "metadata": {},
   "outputs": [
    {
     "data": {
      "text/plain": [
       "[1]"
      ]
     },
     "execution_count": 79,
     "metadata": {},
     "output_type": "execute_result"
    }
   ],
   "source": [
    "arr_lst2.pop()\n",
    "arr_lst2"
   ]
  },
  {
   "cell_type": "code",
   "execution_count": 80,
   "id": "4478c7d4",
   "metadata": {},
   "outputs": [
    {
     "data": {
      "text/plain": [
       "4.0"
      ]
     },
     "execution_count": 80,
     "metadata": {},
     "output_type": "execute_result"
    }
   ],
   "source": [
    "arr_lst2.capacity"
   ]
  },
  {
   "cell_type": "code",
   "execution_count": 21,
   "id": "9791ac76",
   "metadata": {},
   "outputs": [],
   "source": [
    "# 3\n",
    "def find_duplicates(lst):\n",
    "    counterlst = [0 for i in range(len(lst))]\n",
    "    for num in lst: \n",
    "        counterlst[num] += 1\n",
    "    output = []\n",
    "    for dup in range(len(counterlst)):\n",
    "        if counterlst[dup] > 1:\n",
    "            output.append(dup)\n",
    "    return output\n",
    "            "
   ]
  },
  {
   "cell_type": "code",
   "execution_count": 22,
   "id": "0211257d",
   "metadata": {},
   "outputs": [],
   "source": [
    "lst = [2,4,4,1,2]"
   ]
  },
  {
   "cell_type": "code",
   "execution_count": 23,
   "id": "a8868e48",
   "metadata": {},
   "outputs": [
    {
     "data": {
      "text/plain": [
       "[2, 4]"
      ]
     },
     "execution_count": 23,
     "metadata": {},
     "output_type": "execute_result"
    }
   ],
   "source": [
    "find_duplicates(lst)"
   ]
  },
  {
   "cell_type": "code",
   "execution_count": 26,
   "id": "0f4c535c",
   "metadata": {},
   "outputs": [
    {
     "name": "stdout",
     "output_type": "stream",
     "text": [
      "fuckme\n"
     ]
    }
   ],
   "source": [
    "\n",
    "try:\n",
    "    result = 10 / 0\n",
    "except ZeroDivisionError:\n",
    "    print('fuckme')"
   ]
  },
  {
   "cell_type": "code",
   "execution_count": null,
   "id": "b25a12c8",
   "metadata": {},
   "outputs": [],
   "source": [
    "# 4\n"
   ]
  },
  {
   "cell_type": "code",
   "execution_count": null,
   "id": "7855ce46",
   "metadata": {},
   "outputs": [],
   "source": [
    "arr5 = ArrayList()"
   ]
  },
  {
   "cell_type": "code",
   "execution_count": null,
   "id": "b8696fba",
   "metadata": {},
   "outputs": [],
   "source": [
    "arr5.append(3)\n",
    "arr5.append(4)\n",
    "arr5.append(5)\n",
    "arr5.append(4)\n",
    "arr5.append(4)\n",
    "arr5.append(6)"
   ]
  },
  {
   "cell_type": "code",
   "execution_count": null,
   "id": "cc9afbc4",
   "metadata": {},
   "outputs": [],
   "source": [
    "arr5.remove_all(4)"
   ]
  },
  {
   "cell_type": "code",
   "execution_count": 45,
   "id": "f8ebb55a",
   "metadata": {},
   "outputs": [
    {
     "data": {
      "text/plain": [
       "'ANIFJGIKERG'"
      ]
     },
     "execution_count": 45,
     "metadata": {},
     "output_type": "execute_result"
    }
   ],
   "source": [
    "string = \"anifjgikerg\"\n",
    "string.upper()"
   ]
  },
  {
   "cell_type": "code",
   "execution_count": null,
   "id": "c98d1d84",
   "metadata": {},
   "outputs": [],
   "source": []
  }
 ],
 "metadata": {
  "kernelspec": {
   "display_name": "Python 3 (ipykernel)",
   "language": "python",
   "name": "python3"
  },
  "language_info": {
   "codemirror_mode": {
    "name": "ipython",
    "version": 3
   },
   "file_extension": ".py",
   "mimetype": "text/x-python",
   "name": "python",
   "nbconvert_exporter": "python",
   "pygments_lexer": "ipython3",
   "version": "3.8.12"
  },
  "toc": {
   "base_numbering": 1,
   "nav_menu": {},
   "number_sections": true,
   "sideBar": true,
   "skip_h1_title": false,
   "title_cell": "Table of Contents",
   "title_sidebar": "Contents",
   "toc_cell": false,
   "toc_position": {},
   "toc_section_display": true,
   "toc_window_display": false
  }
 },
 "nbformat": 4,
 "nbformat_minor": 5
}
