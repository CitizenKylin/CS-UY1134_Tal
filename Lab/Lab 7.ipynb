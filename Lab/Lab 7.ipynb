{
 "cells": [
  {
   "cell_type": "markdown",
   "id": "09678bd8",
   "metadata": {},
   "source": [
    "# Question 1"
   ]
  },
  {
   "cell_type": "code",
   "execution_count": 1,
   "id": "506257c5",
   "metadata": {},
   "outputs": [],
   "source": [
    "def SortLst(lst):\n",
    "    i = 0\n",
    "    while i < len(lst):\n",
    "        print(lst)\n",
    "        if lst[i] != i:\n",
    "            j = lst[i]\n",
    "            lst[i],lst[j]=lst[j],lst[i]\n",
    "        else:\n",
    "            i += 1\n",
    "# 原理：从index=0开始每个数字都会指到，并把它们swap到它们正确的地方"
   ]
  },
  {
   "cell_type": "code",
   "execution_count": 4,
   "id": "2d962e5b",
   "metadata": {},
   "outputs": [],
   "source": [
    "lst = [0,4,2,1,3]"
   ]
  },
  {
   "cell_type": "code",
   "execution_count": 5,
   "id": "7b628fd5",
   "metadata": {},
   "outputs": [
    {
     "name": "stdout",
     "output_type": "stream",
     "text": [
      "[0, 4, 2, 1, 3]\n",
      "[0, 4, 2, 1, 3]\n",
      "[0, 3, 2, 1, 4]\n",
      "[0, 1, 2, 3, 4]\n",
      "[0, 1, 2, 3, 4]\n",
      "[0, 1, 2, 3, 4]\n",
      "[0, 1, 2, 3, 4]\n"
     ]
    }
   ],
   "source": [
    "SortLst(lst)"
   ]
  },
  {
   "cell_type": "markdown",
   "id": "e358784e",
   "metadata": {},
   "source": [
    "# Question 2"
   ]
  },
  {
   "cell_type": "markdown",
   "id": "fec43af4",
   "metadata": {},
   "source": [
    "## Binglin Solution: Works ✅"
   ]
  },
  {
   "cell_type": "code",
   "execution_count": 17,
   "id": "44778a6e",
   "metadata": {},
   "outputs": [],
   "source": [
    "def intersectionOfLst(lst1,lst2):\n",
    "    i = 0\n",
    "    j = 0 \n",
    "    output = []\n",
    "    if lst1[i]<lst2[j]:\n",
    "        while i < (len(lst1)):\n",
    "            if lst1[i]== lst2[j]:\n",
    "                output.append(lst1[i])\n",
    "                j+=1\n",
    "            i+=1\n",
    "    elif lst1[i]>=lst2[j]:\n",
    "        while j < (len(lst2)):\n",
    "            if lst1[i]== lst2[j]:\n",
    "                output.append(lst2[j])\n",
    "                i+=1\n",
    "            j+=1\n",
    "    return output"
   ]
  },
  {
   "cell_type": "code",
   "execution_count": 18,
   "id": "ae43b681",
   "metadata": {},
   "outputs": [],
   "source": [
    "lst2 = [1,2,3,4]\n",
    "lst1 = [3,4,5]"
   ]
  },
  {
   "cell_type": "code",
   "execution_count": 19,
   "id": "5afa9313",
   "metadata": {},
   "outputs": [
    {
     "data": {
      "text/plain": [
       "[3, 4]"
      ]
     },
     "execution_count": 19,
     "metadata": {},
     "output_type": "execute_result"
    }
   ],
   "source": [
    "intersectionOfLst(lst1,lst2)"
   ]
  },
  {
   "cell_type": "markdown",
   "id": "72852057",
   "metadata": {},
   "source": [
    "## Solution"
   ]
  },
  {
   "cell_type": "code",
   "execution_count": null,
   "id": "ccd67e2e",
   "metadata": {},
   "outputs": [],
   "source": [
    "def intersectionOfLst(lst1,lst2):\n",
    "    res = []\n",
    "    ptr1 = 0\n",
    "    ptr2 = 0\n",
    "    while ptr < len(lst1) and ptr2< len(lst2):\n",
    "        if lst1[ptr1] == lst2[ptr2]:\n",
    "            res.append(lst1[ptr1])\n",
    "            ptr1+=1\n",
    "            ptr2+=2\n",
    "        elif lst1[ptr1] > lst2[ptr2]:\n",
    "            ptr2+=1\n",
    "        else:\n",
    "            ptr1+=1\n",
    "    return res"
   ]
  },
  {
   "cell_type": "markdown",
   "id": "e4e1117f",
   "metadata": {},
   "source": [
    "# Question 3"
   ]
  },
  {
   "cell_type": "code",
   "execution_count": 20,
   "id": "87f2c89f",
   "metadata": {},
   "outputs": [],
   "source": [
    "def isPowerOfTwo(n):\n",
    "    if n == 1:\n",
    "        return True\n",
    "    elif n < 1:\n",
    "        return False\n",
    "    return isPowerOfTwo(n/2)"
   ]
  },
  {
   "cell_type": "code",
   "execution_count": 22,
   "id": "34d89856",
   "metadata": {},
   "outputs": [
    {
     "data": {
      "text/plain": [
       "True"
      ]
     },
     "execution_count": 22,
     "metadata": {},
     "output_type": "execute_result"
    }
   ],
   "source": [
    "isPowerOfTwo(8)"
   ]
  },
  {
   "cell_type": "markdown",
   "id": "9c98ad04",
   "metadata": {},
   "source": [
    "# Question 4"
   ]
  },
  {
   "cell_type": "code",
   "execution_count": 24,
   "id": "4f85eeca",
   "metadata": {},
   "outputs": [],
   "source": [
    "def split_parity(lst,low,high):\n",
    "    if low < high:\n",
    "        if lst[low]%2==1 and lst[high]%2==0:\n",
    "            lst[low],lst[high]=lst[high],lst[low]\n",
    "        elif lst[low]%2 == 0:\n",
    "            low+=1\n",
    "        elif lst[high]%2 == 1:\n",
    "            high -= 1\n",
    "        split_parity(lst,low,high)\n",
    "    "
   ]
  },
  {
   "cell_type": "code",
   "execution_count": null,
   "id": "1cf58571",
   "metadata": {},
   "outputs": [],
   "source": [
    "first_odd = 0  \n",
    "for i in len(lst): \n",
    "    if lst[i]%2==1:# odd\n",
    "        lst[first_odd],lst[i]=lst[i],lst[first_odd]\n",
    "        i+=1\n",
    "        "
   ]
  },
  {
   "cell_type": "code",
   "execution_count": 25,
   "id": "5773a0de",
   "metadata": {},
   "outputs": [],
   "source": [
    "lst = [4, -5, 2, 3, -1, -6, 7, 9, 0]"
   ]
  },
  {
   "cell_type": "code",
   "execution_count": 27,
   "id": "30de563a",
   "metadata": {},
   "outputs": [],
   "source": [
    "split_parity(lst,0,8)"
   ]
  },
  {
   "cell_type": "code",
   "execution_count": 28,
   "id": "c5851b3e",
   "metadata": {},
   "outputs": [
    {
     "data": {
      "text/plain": [
       "[4, 0, 2, -6, -1, 3, 7, 9, -5]"
      ]
     },
     "execution_count": 28,
     "metadata": {},
     "output_type": "execute_result"
    }
   ],
   "source": [
    "lst"
   ]
  },
  {
   "cell_type": "markdown",
   "id": "9b1fa92e",
   "metadata": {},
   "source": [
    "# Question 5"
   ]
  },
  {
   "cell_type": "code",
   "execution_count": 30,
   "id": "21c72088",
   "metadata": {},
   "outputs": [],
   "source": [
    "def nested_sum(lst):\n",
    "    if isinstance(lst,int):\n",
    "        return lst\n",
    "    else:\n",
    "        return sum(nested_sum(elem) for elem in lst)"
   ]
  },
  {
   "cell_type": "code",
   "execution_count": 31,
   "id": "a88580a0",
   "metadata": {},
   "outputs": [],
   "source": [
    "lst = [ [1, 2], 3, [4, [5, 6, [7], 8 ] ] ]"
   ]
  },
  {
   "cell_type": "code",
   "execution_count": 32,
   "id": "9ee049c1",
   "metadata": {},
   "outputs": [
    {
     "data": {
      "text/plain": [
       "36"
      ]
     },
     "execution_count": 32,
     "metadata": {},
     "output_type": "execute_result"
    }
   ],
   "source": [
    "nested_sum(lst)"
   ]
  },
  {
   "cell_type": "code",
   "execution_count": 1,
   "id": "5a69c592",
   "metadata": {},
   "outputs": [],
   "source": [
    "lst = [1,2,3]"
   ]
  },
  {
   "cell_type": "code",
   "execution_count": 2,
   "id": "2df9e35c",
   "metadata": {},
   "outputs": [
    {
     "data": {
      "text/plain": [
       "False"
      ]
     },
     "execution_count": 2,
     "metadata": {},
     "output_type": "execute_result"
    }
   ],
   "source": [
    "isinstance(lst,int)"
   ]
  },
  {
   "cell_type": "markdown",
   "id": "40c4d42e",
   "metadata": {},
   "source": [
    "# Question 6"
   ]
  },
  {
   "cell_type": "code",
   "execution_count": 3,
   "id": "0e683365",
   "metadata": {},
   "outputs": [],
   "source": [
    "def nested_depth_level(lst):\n",
    "    if isinstance(lst,list):\n",
    "        level=0\n",
    "        for elem in lst:\n",
    "            if level < nested_depth_level(elem):\n",
    "                level = nested_depth_level(elem)\n",
    "        return level+1\n",
    "    else:\n",
    "        return 0"
   ]
  },
  {
   "cell_type": "code",
   "execution_count": 4,
   "id": "5d31f2ac",
   "metadata": {},
   "outputs": [],
   "source": [
    "lst = [ [1, 2], 3, [4, [5, 6, [7], 8 ] ], [ [ [ [9] ] ] ] ]"
   ]
  },
  {
   "cell_type": "code",
   "execution_count": 5,
   "id": "4842bb6c",
   "metadata": {},
   "outputs": [
    {
     "data": {
      "text/plain": [
       "5"
      ]
     },
     "execution_count": 5,
     "metadata": {},
     "output_type": "execute_result"
    }
   ],
   "source": [
    "nested_depth_level(lst)"
   ]
  },
  {
   "cell_type": "code",
   "execution_count": null,
   "id": "169aaf95",
   "metadata": {},
   "outputs": [],
   "source": []
  },
  {
   "cell_type": "code",
   "execution_count": null,
   "id": "819aaa51",
   "metadata": {},
   "outputs": [],
   "source": []
  },
  {
   "cell_type": "code",
   "execution_count": null,
   "id": "719dc80e",
   "metadata": {},
   "outputs": [],
   "source": []
  },
  {
   "cell_type": "code",
   "execution_count": null,
   "id": "c5336019",
   "metadata": {},
   "outputs": [],
   "source": []
  },
  {
   "cell_type": "code",
   "execution_count": null,
   "id": "50599c80",
   "metadata": {},
   "outputs": [],
   "source": []
  },
  {
   "cell_type": "code",
   "execution_count": null,
   "id": "f21196d5",
   "metadata": {},
   "outputs": [],
   "source": []
  },
  {
   "cell_type": "code",
   "execution_count": null,
   "id": "345d024e",
   "metadata": {},
   "outputs": [],
   "source": []
  }
 ],
 "metadata": {
  "kernelspec": {
   "display_name": "Python 3 (ipykernel)",
   "language": "python",
   "name": "python3"
  },
  "language_info": {
   "codemirror_mode": {
    "name": "ipython",
    "version": 3
   },
   "file_extension": ".py",
   "mimetype": "text/x-python",
   "name": "python",
   "nbconvert_exporter": "python",
   "pygments_lexer": "ipython3",
   "version": "3.8.12"
  },
  "toc": {
   "base_numbering": 1,
   "nav_menu": {},
   "number_sections": true,
   "sideBar": true,
   "skip_h1_title": false,
   "title_cell": "Table of Contents",
   "title_sidebar": "Contents",
   "toc_cell": false,
   "toc_position": {},
   "toc_section_display": true,
   "toc_window_display": false
  }
 },
 "nbformat": 4,
 "nbformat_minor": 5
}
