{
 "cells": [
  {
   "cell_type": "markdown",
   "id": "f78d916b",
   "metadata": {
    "heading_collapsed": true
   },
   "source": [
    "# ArrayStack.py"
   ]
  },
  {
   "cell_type": "code",
   "execution_count": 90,
   "id": "8dd0a049",
   "metadata": {
    "hidden": true
   },
   "outputs": [],
   "source": [
    "import ctypes  # provides low-level arrays\n",
    "def make_array(n):\n",
    "    return (n * ctypes.py_object)()\n",
    "\n",
    "class ArrayList:\n",
    "    def __init__(self):\n",
    "        self.data = make_array(1)\n",
    "        self.capacity = 1\n",
    "        self.n = 0\n",
    "\n",
    "    def __len__(self):\n",
    "        return self.n\n",
    "\n",
    "\n",
    "    def append(self, val):\n",
    "        if (self.n == self.capacity):\n",
    "            self.resize(2 * self.capacity)\n",
    "        self.data[self.n] = val\n",
    "        self.n += 1\n",
    "\n",
    "    def resize(self, new_size):\n",
    "        new_array = make_array(new_size)\n",
    "        for i in range(self.n):\n",
    "            new_array[i] = self.data[i]\n",
    "        self.data = new_array\n",
    "        self.capacity = new_size\n",
    "\n",
    "    def extend(self, iter_collection):\n",
    "        for elem in iter_collection:\n",
    "            self.append(elem)\n",
    "\n",
    "\n",
    "    def __getitem__(self, ind):\n",
    "        if (not (-self.n <= ind <= self.n - 1)):\n",
    "            raise IndexError('invalid index')\n",
    "        if (ind < 0):\n",
    "            ind = self.n + ind\n",
    "        return self.data[ind]\n",
    "\n",
    "    def __setitem__(self, ind, val):\n",
    "        if (not (-self.n <= ind <= self.n - 1)):\n",
    "            raise IndexError('invalid index')\n",
    "        if (ind < 0):\n",
    "            ind = self.n + ind\n",
    "        self.data[ind] = val\n",
    "\n",
    "\n",
    "    def pop(self, ind = -1):\n",
    "        if (not (-self.n <= ind <= self.n - 1)):\n",
    "            raise IndexError('invalid index')\n",
    "        if (ind < 0):\n",
    "            ind = self.n + ind\n",
    "        elem = self.data[ind]\n",
    "        for i in range(ind+1, self.n):\n",
    "            self.data[i-1] = self.data[i]\n",
    "        self.data[self.n - 1] = None\n",
    "        self.n -= 1\n",
    "        if (self.n < self.capacity // 4):\n",
    "            self.resize(self.capacity // 2)\n",
    "        return elem\n",
    "\n",
    "    def insert(self, ind, value):\n",
    "        if (not (-self.n <= ind <= self.n - 1)):\n",
    "            raise IndexError('invalid index')\n",
    "        if (ind < 0):\n",
    "            ind = self.n + ind\n",
    "        if (self.n == self.capacity):\n",
    "            self.resize(2 * self.capacity)\n",
    "        for j in range(self.n, ind, -1):\n",
    "            self.data[j] = self.data[j - 1]\n",
    "        self.data[ind] = value\n",
    "        self.n += 1\n",
    "\n",
    "    def __repr__(self):\n",
    "        data_as_strings = [str(self.data[i]) for i in range(self.n)]\n",
    "        return '[' + ', '.join(data_as_strings) + ']'\n",
    "\n",
    "    def __add__(self, other):\n",
    "        res = ArrayList()\n",
    "        res.extend(self)\n",
    "        res.extend(other)\n",
    "        return res\n",
    "\n",
    "    def __iadd__(self, other):\n",
    "        self.extend(other)\n",
    "        return self\n",
    "\n",
    "    def __mul__(self, times):\n",
    "        res = ArrayList()\n",
    "        for i in range(times):\n",
    "            res.extend(self)\n",
    "        return res\n",
    "\n",
    "    def __rmul__(self, times):\n",
    "        return self * times\n",
    "\n",
    "\n",
    "class StaticArrayStack:\n",
    "    def __init__(self, max_capacity):\n",
    "        self.data = make_array(max_capacity)\n",
    "        self.capacity = max_capacity \n",
    "        self.n = 0\n",
    "\n",
    "    def __len__(self):\n",
    "        return self.n\n",
    "\n",
    "    def is_empty(self):\n",
    "        return (len(self) == 0)\n",
    "\n",
    "    def is_full(self):\n",
    "        return (len(self) == self.capacity)\n",
    "\n",
    "    def push(self, item):\n",
    "        if(self.is_full()):\n",
    "            raise Exception(\"Stack is full\")\n",
    "        self.data[self.n] = item\n",
    "        self.n += 1\n",
    "\n",
    "    def pop(self):\n",
    "        if (self.is_empty()):\n",
    "            raise Exception(\"Stack is empty\")\n",
    "        item = self.data[self.n - 1]\n",
    "        self.data[self.n - 1] = None\n",
    "        self.n -= 1\n",
    "        return item\n",
    "\n",
    "    def top(self):\n",
    "        if(self.is_empty()):\n",
    "            raise Exception(\"Stack is empty\")\n",
    "        return self.data[self.n - 1]\n",
    "\n",
    "\n",
    "\n",
    "class ArrayStack:\n",
    "    def __init__(self):\n",
    "        self.data = ArrayList()\n",
    "\n",
    "    def __len__(self):\n",
    "        return len(self.data)\n",
    "\n",
    "    def is_empty(self):\n",
    "        return len(self) == 0\n",
    "\n",
    "    def push(self, val):\n",
    "        self.data.append(val)\n",
    "\n",
    "    def top(self):\n",
    "        if (self.is_empty()):\n",
    "            raise Exception(\"Stack is empty\")\n",
    "        return self.data[-1]\n",
    "\n",
    "    def pop(self):\n",
    "        if (self.is_empty()):\n",
    "            raise Exception(\"Stack is empty\")\n",
    "        return self.data.pop()\n",
    "\n",
    "\n",
    "\n",
    "\n",
    "def print_in_reverse(str):\n",
    "    S = ArrayStack()\n",
    "\n",
    "    for ch in str:\n",
    "        S.push(ch)\n",
    "\n",
    "    while (S.is_empty() == False):\n",
    "        ch = S.pop()\n",
    "        print(ch, end='')\n",
    "    print()\n",
    "\n",
    "\n",
    "\n",
    "def eval_postfix_exp(exp_str):\n",
    "    operators = \"+-*/\"\n",
    "    exp_lst = exp_str.split()\n",
    "    args_stack = ArrayStack()\n",
    "    for token in exp_lst:\n",
    "        if(token not in operators):\n",
    "            args_stack.push(int(token))\n",
    "        else:\n",
    "            arg2 = args_stack.pop()\n",
    "            arg1 = args_stack.pop()\n",
    "            if(token == '+'):\n",
    "                res = arg1 + arg2\n",
    "            elif (token == '-'):\n",
    "                res = arg1 - arg2\n",
    "            elif(token == '*'):\n",
    "                res = arg1 * arg2\n",
    "            elif(token == '/'):\n",
    "                if(arg2 == 0):\n",
    "                    raise ZeroDivisionError\n",
    "                else:\n",
    "                    res = arg1 / arg2\n",
    "            args_stack.push(res)\n",
    "\n",
    "    return args_stack.pop()"
   ]
  },
  {
   "cell_type": "code",
   "execution_count": 1,
   "id": "676e7eaf",
   "metadata": {
    "hidden": true
   },
   "outputs": [],
   "source": []
  },
  {
   "cell_type": "markdown",
   "id": "d0fd2084",
   "metadata": {},
   "source": [
    "# Question 1"
   ]
  },
  {
   "cell_type": "code",
   "execution_count": 21,
   "id": "8b909568",
   "metadata": {},
   "outputs": [],
   "source": [
    "def stack_sum(s):\n",
    "    if len(s) == 1:\n",
    "        return s.top()\n",
    "    else:\n",
    "        val = s.pop()\n",
    "        result = stack_sum(s)\n",
    "        result += val\n",
    "        s.push(val)\n",
    "        return result"
   ]
  },
  {
   "cell_type": "code",
   "execution_count": 22,
   "id": "77f9eda1",
   "metadata": {},
   "outputs": [],
   "source": [
    "s = ArrayStack()"
   ]
  },
  {
   "cell_type": "code",
   "execution_count": 12,
   "id": "4a32a59c",
   "metadata": {},
   "outputs": [
    {
     "data": {
      "text/plain": [
       "[1, -14, 5, 6, -7, 9, 10, -5, -8]"
      ]
     },
     "execution_count": 12,
     "metadata": {},
     "output_type": "execute_result"
    }
   ],
   "source": [
    "[1, -14, 5, 6, -7, 9, 10, -5, -8]"
   ]
  },
  {
   "cell_type": "code",
   "execution_count": 23,
   "id": "e753c12f",
   "metadata": {},
   "outputs": [],
   "source": [
    "s.push(1)\n",
    "s.push(-14)\n",
    "s.push(5)\n",
    "s.push(6)\n",
    "s.push(-7)\n",
    "s.push(9)\n",
    "s.push(10)\n",
    "s.push(-5)\n",
    "s.push(-8)"
   ]
  },
  {
   "cell_type": "code",
   "execution_count": 24,
   "id": "215a4335",
   "metadata": {},
   "outputs": [
    {
     "data": {
      "text/plain": [
       "-8"
      ]
     },
     "execution_count": 24,
     "metadata": {},
     "output_type": "execute_result"
    }
   ],
   "source": [
    "s.top()"
   ]
  },
  {
   "cell_type": "code",
   "execution_count": 25,
   "id": "7b909260",
   "metadata": {},
   "outputs": [
    {
     "data": {
      "text/plain": [
       "-3"
      ]
     },
     "execution_count": 25,
     "metadata": {},
     "output_type": "execute_result"
    }
   ],
   "source": [
    "stack_sum(s)"
   ]
  },
  {
   "cell_type": "code",
   "execution_count": 26,
   "id": "5e888d5a",
   "metadata": {},
   "outputs": [
    {
     "data": {
      "text/plain": [
       "-3"
      ]
     },
     "execution_count": 26,
     "metadata": {},
     "output_type": "execute_result"
    }
   ],
   "source": [
    "1-14+5+6-7+9+10-5-8"
   ]
  },
  {
   "cell_type": "markdown",
   "id": "2df68114",
   "metadata": {},
   "source": [
    "# Question 2"
   ]
  },
  {
   "cell_type": "code",
   "execution_count": 42,
   "id": "71907467",
   "metadata": {},
   "outputs": [],
   "source": [
    "def eval_prefix(exp_str):\n",
    "    exp_lst = exp_str.split(\" \")\n",
    "    operators=\"+-*/\"\n",
    "    args_stack = ArrayStack()\n",
    "    i = len(exp_lst)-1\n",
    "    while i >= 0:\n",
    "        if not (exp_lst[i] in operators):\n",
    "            args_stack.push(int(exp_lst[i]))\n",
    "        else:\n",
    "            arg1 = args_stack.pop()\n",
    "            arg2 = args_stack.pop()\n",
    "            if (exp_lst[i] == \"+\"):\n",
    "                res = arg1+arg2\n",
    "            elif (exp_lst[i] == \"-\"):\n",
    "                res = arg1-arg2\n",
    "            elif (exp_lst[i] == \"*\"):\n",
    "                res = arg1*arg2\n",
    "            elif (exp_lst[i] == \"/\"):\n",
    "                # check division\n",
    "                if arg2 == 0:\n",
    "                    raise ZeroDivisionError\n",
    "                res = arg1/arg2\n",
    "            args_stack.push(res)\n",
    "        i-=1\n",
    "    return args_stack.pop()\n",
    "            \n",
    "# going backwards: for i in range(len(exp_lst)-1,-1,-1):\n",
    "    \n",
    "    "
   ]
  },
  {
   "cell_type": "code",
   "execution_count": 32,
   "id": "f3c5f9d4",
   "metadata": {},
   "outputs": [],
   "source": [
    "def eval_postfix_exp(exp_str):\n",
    "    operators=\"+-*/\"\n",
    "    exp_lst=exp_str.split()\n",
    "    args_stack = ArrayStack()\n",
    "    for token in exp_lst:\n",
    "        if not (token in operators):\n",
    "            args_stack.push(int(token))\n",
    "        else:\n",
    "            arg2 = args_stack.pop() # 要注意：第一个pop的是arg2\n",
    "            arg1 = args_stack.pop()\n",
    "            if (token == \"+\"):\n",
    "                res = arg1+arg2\n",
    "            elif (token == \"-\"):\n",
    "                res = arg1-arg2\n",
    "            elif (token == \"*\"):\n",
    "                res = arg1*arg2\n",
    "            elif (token == \"/\"):\n",
    "                res = arg1/arg2\n",
    "            args_stack.push(res)\n",
    "    return args_stack.pop()"
   ]
  },
  {
   "cell_type": "code",
   "execution_count": 34,
   "id": "d7660d37",
   "metadata": {},
   "outputs": [
    {
     "data": {
      "text/plain": [
       "2"
      ]
     },
     "execution_count": 34,
     "metadata": {},
     "output_type": "execute_result"
    }
   ],
   "source": [
    "exp_str = \"3 4 * 10 -\"\n",
    "eval_postfix_exp(exp_str)"
   ]
  },
  {
   "cell_type": "code",
   "execution_count": 43,
   "id": "85d4e61e",
   "metadata": {},
   "outputs": [
    {
     "data": {
      "text/plain": [
       "2"
      ]
     },
     "execution_count": 43,
     "metadata": {},
     "output_type": "execute_result"
    }
   ],
   "source": [
    "exp_str = \"- * 3 4 10\"\n",
    "eval_prefix(exp_str)"
   ]
  },
  {
   "cell_type": "markdown",
   "id": "065dd713",
   "metadata": {},
   "source": [
    "# Question 3"
   ]
  },
  {
   "cell_type": "code",
   "execution_count": 128,
   "id": "7097994b",
   "metadata": {},
   "outputs": [],
   "source": [
    "def flatten_list(lst):\n",
    "    s = ArrayStack()\n",
    "    i = len(lst)-1\n",
    "    while i >= 0:\n",
    "        if isinstance(lst[i],int):\n",
    "            s.push(lst.pop())\n",
    "            i-=1\n",
    "        else:\n",
    "            temp = lst.pop()\n",
    "            lst.extend(temp)\n",
    "            i += (len(temp)-1)\n",
    "    for a in range(len(s)):\n",
    "        lst.append(s.pop())\n",
    "    return lst"
   ]
  },
  {
   "cell_type": "code",
   "execution_count": 129,
   "id": "0106191e",
   "metadata": {},
   "outputs": [],
   "source": [
    "lst = [1,2,[4,[5],9,4]]"
   ]
  },
  {
   "cell_type": "code",
   "execution_count": 130,
   "id": "15562d53",
   "metadata": {},
   "outputs": [
    {
     "data": {
      "text/plain": [
       "[1, 2, 4, 5, 9, 4]"
      ]
     },
     "execution_count": 130,
     "metadata": {},
     "output_type": "execute_result"
    }
   ],
   "source": [
    "flatten_list(lst)"
   ]
  },
  {
   "cell_type": "code",
   "execution_count": 124,
   "id": "5eacc09a",
   "metadata": {},
   "outputs": [
    {
     "data": {
      "text/plain": [
       "[4, [5], 9, 4]"
      ]
     },
     "execution_count": 124,
     "metadata": {},
     "output_type": "execute_result"
    }
   ],
   "source": [
    "temp = lst.pop()\n",
    "temp"
   ]
  },
  {
   "cell_type": "code",
   "execution_count": 109,
   "id": "fe969be3",
   "metadata": {},
   "outputs": [],
   "source": [
    "lst.extend(temp)"
   ]
  },
  {
   "cell_type": "code",
   "execution_count": 110,
   "id": "27ba7fc0",
   "metadata": {},
   "outputs": [
    {
     "data": {
      "text/plain": [
       "[1, 2, 4, [5], 9, 4]"
      ]
     },
     "execution_count": 110,
     "metadata": {},
     "output_type": "execute_result"
    }
   ],
   "source": [
    "lst"
   ]
  },
  {
   "cell_type": "code",
   "execution_count": 111,
   "id": "a1b6f325",
   "metadata": {},
   "outputs": [
    {
     "data": {
      "text/plain": [
       "4"
      ]
     },
     "execution_count": 111,
     "metadata": {},
     "output_type": "execute_result"
    }
   ],
   "source": [
    "len(temp)"
   ]
  },
  {
   "cell_type": "code",
   "execution_count": null,
   "id": "cca8b006",
   "metadata": {},
   "outputs": [],
   "source": []
  }
 ],
 "metadata": {
  "kernelspec": {
   "display_name": "Python 3 (ipykernel)",
   "language": "python",
   "name": "python3"
  },
  "language_info": {
   "codemirror_mode": {
    "name": "ipython",
    "version": 3
   },
   "file_extension": ".py",
   "mimetype": "text/x-python",
   "name": "python",
   "nbconvert_exporter": "python",
   "pygments_lexer": "ipython3",
   "version": "3.8.12"
  },
  "toc": {
   "base_numbering": 1,
   "nav_menu": {},
   "number_sections": true,
   "sideBar": true,
   "skip_h1_title": false,
   "title_cell": "Table of Contents",
   "title_sidebar": "Contents",
   "toc_cell": false,
   "toc_position": {},
   "toc_section_display": true,
   "toc_window_display": false
  }
 },
 "nbformat": 4,
 "nbformat_minor": 5
}
