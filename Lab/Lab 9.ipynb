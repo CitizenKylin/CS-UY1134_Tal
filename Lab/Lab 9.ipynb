{
 "cells": [
  {
   "cell_type": "markdown",
   "id": "c0af4ab1",
   "metadata": {},
   "source": [
    "# Question 1"
   ]
  },
  {
   "cell_type": "code",
   "execution_count": 81,
   "id": "749bf3be",
   "metadata": {},
   "outputs": [],
   "source": [
    "class MeanQueue:\n",
    "    def __init__ (self):\n",
    "        self.data = ArrayQueue()\n",
    "        self.qsum = 0.0 # don't call that sum, call it qsum\n",
    "    def __len__(self):\n",
    "        return self.data.n\n",
    "    \n",
    "    def is_empty(self):\n",
    "        return (len(self.data)==0)\n",
    "    \n",
    "    def enqueue(self, e):\n",
    "        if isinstance(e,(int,float)):\n",
    "            self.data.enqueue(e) # no need self.data.enqueue(self,e)\n",
    "            self.qsum +=e\n",
    "            \n",
    "        else:\n",
    "            raise ValueError(\"MeanQueue only accepts int and float values\")\n",
    "    def dequeue(self):\n",
    "        val=self.data.dequeue(self)\n",
    "        sum -= val\n",
    "        \n",
    "    def first(self):\n",
    "        return self.data.first()\n",
    "    \n",
    "    def sum(self):\n",
    "        return self.qsum\n",
    "    \n",
    "    def mean(self):\n",
    "        # edge case!!! no 0 length\n",
    "        return self.qsum/(self.data.n) if self.data.n > 0 else None"
   ]
  },
  {
   "cell_type": "code",
   "execution_count": 77,
   "id": "af45c8e2",
   "metadata": {},
   "outputs": [
    {
     "data": {
      "text/plain": [
       "False"
      ]
     },
     "execution_count": 77,
     "metadata": {},
     "output_type": "execute_result"
    }
   ],
   "source": [
    "e = 1\n",
    "e is int"
   ]
  },
  {
   "cell_type": "code",
   "execution_count": 78,
   "id": "ca53b6cd",
   "metadata": {},
   "outputs": [
    {
     "data": {
      "text/plain": [
       "4.166666666666667"
      ]
     },
     "execution_count": 78,
     "metadata": {},
     "output_type": "execute_result"
    }
   ],
   "source": [
    "mq = MeanQueue()\n",
    "mq.enqueue(2)\n",
    "mq.enqueue(4)\n",
    "mq.enqueue(6.5)\n",
    "mq.sum()\n",
    "mq.mean()"
   ]
  },
  {
   "cell_type": "code",
   "execution_count": 79,
   "id": "fd23dd68",
   "metadata": {},
   "outputs": [
    {
     "data": {
      "text/plain": [
       "4.166666666666667"
      ]
     },
     "execution_count": 79,
     "metadata": {},
     "output_type": "execute_result"
    }
   ],
   "source": [
    "(2+4+6.5)/3"
   ]
  },
  {
   "cell_type": "code",
   "execution_count": 80,
   "id": "cf3b73f9",
   "metadata": {},
   "outputs": [
    {
     "data": {
      "text/plain": [
       "2"
      ]
     },
     "execution_count": 80,
     "metadata": {},
     "output_type": "execute_result"
    }
   ],
   "source": [
    "mq.first()"
   ]
  },
  {
   "cell_type": "markdown",
   "id": "bca52aec",
   "metadata": {},
   "source": [
    "# Question 2"
   ]
  },
  {
   "cell_type": "code",
   "execution_count": 25,
   "id": "1bf1a711",
   "metadata": {},
   "outputs": [],
   "source": [
    "import ctypes  # provides low-level arrays\n",
    "def make_array(n):\n",
    "    return (n * ctypes.py_object)()\n",
    "\n",
    "class StaticArrayQueue:\n",
    "    def __init__(self, max_cap):\n",
    "        self.data_arr = make_array(max_cap)\n",
    "        self.capacity = max_cap\n",
    "        self.n = 0\n",
    "        self.front_ind = None\n",
    "\n",
    "    def __len__(self):\n",
    "        return self.n\n",
    "\n",
    "    def is_empty(self):\n",
    "        return (len(self) == 0)\n",
    "\n",
    "    def is_full(self):\n",
    "        return (self.n == self.capacity)\n",
    "\n",
    "    def enqueue(self, item):\n",
    "        if(self.is_full()):\n",
    "            raise Exception(\"Queue is full\")\n",
    "        elif(self.is_empty()):\n",
    "            self.data_arr[0] = item\n",
    "            self.front_ind = 0\n",
    "            self.n += 1\n",
    "        else:\n",
    "            back_ind = (self.front_ind + self.n) % self.capacity\n",
    "            self.data_arr[back_ind] = item\n",
    "            self.n += 1\n",
    "\n",
    "    def dequeue(self):\n",
    "        if(self.is_empty()):\n",
    "            raise Exception(\"Queue is empty\")\n",
    "        value = self.data_arr[self.front_ind]\n",
    "        self.data_arr[self.front_ind] = None\n",
    "        self.front_ind = (self.front_ind + 1) % self.capacity\n",
    "        self.n -= 1\n",
    "        if(self.is_empty()):\n",
    "            self.front_ind = None\n",
    "        return value\n",
    "\n",
    "    def first(self):\n",
    "        if(self.is_empty()):\n",
    "            raise Exception(\"Queue is empty\")\n",
    "        return self.data_arr[self.front_ind]\n",
    "\n",
    "class ArrayQueue:\n",
    "    INITIAL_CAPACITY = 8\n",
    "\n",
    "    def __init__(self):\n",
    "        self.data_arr = make_array(ArrayQueue.INITIAL_CAPACITY)\n",
    "        self.capacity = ArrayQueue.INITIAL_CAPACITY\n",
    "        self.n = 0\n",
    "        self.front_ind = None\n",
    "\n",
    "    def __len__(self):\n",
    "        return self.n\n",
    "\n",
    "    def is_empty(self):\n",
    "        return (len(self) == 0)\n",
    "\n",
    "    def enqueue(self, elem):\n",
    "        if (self.n == self.capacity):\n",
    "            self.resize(2 * self.capacity)\n",
    "        if (self.is_empty()):\n",
    "            self.data_arr[0] = elem\n",
    "            self.front_ind = 0\n",
    "            self.n += 1\n",
    "        else:\n",
    "            back_ind = (self.front_ind + self.n) % self.capacity\n",
    "            self.data_arr[back_ind] = elem\n",
    "            self.n += 1\n",
    "\n",
    "    def dequeue(self):\n",
    "        if (self.is_empty()):\n",
    "            raise Exception(\"Queue is empty\")\n",
    "        value = self.data_arr[self.front_ind]\n",
    "        self.data_arr[self.front_ind] = None\n",
    "        self.front_ind = (self.front_ind + 1) % self.capacity\n",
    "        self.n -= 1\n",
    "        if(self.is_empty()):\n",
    "            self.front_ind = None\n",
    "        if((self.n < self.capacity // 4) and\n",
    "                (self.capacity > ArrayQueue.INITIAL_CAPACITY)):\n",
    "            self.resize(self.capacity // 2)\n",
    "        return value\n",
    "\n",
    "    def first(self):\n",
    "        if self.is_empty():\n",
    "            raise Exception(\"Queue is empty\")\n",
    "        return self.data_arr[self.front_ind]\n",
    "\n",
    "    def resize(self, new_cap):\n",
    "        new_data = make_array(new_cap)\n",
    "        old_ind = self.front_ind\n",
    "        for new_ind in range(self.n):\n",
    "            new_data[new_ind] = self.data_arr[old_ind]\n",
    "            old_ind = (old_ind + 1) % self.capacity\n",
    "        self.data_arr = new_data\n",
    "        self.capacity = new_cap\n",
    "        self.front_ind = 0"
   ]
  },
  {
   "cell_type": "code",
   "execution_count": 64,
   "id": "e0dfe0e3",
   "metadata": {},
   "outputs": [],
   "source": [
    "class ArrayDeque:\n",
    "    def __init__(self):\n",
    "        self.data = ArrayQueue()\n",
    "        \n",
    "    def __len__(self):\n",
    "        return self.data.n\n",
    "    \n",
    "    def is_empty(self):\n",
    "        return (len(self.data)==0)\n",
    "    \n",
    "    def first(self):\n",
    "        return self.data.first()\n",
    "    \n",
    "    def last(self):\n",
    "        back_ind = (self.data.front_ind + self.data.n) % self.data.capacity\n",
    "        return self.data[back_ind]\n",
    "    \n",
    "    def enqueue_first(self,elem):\n",
    "        if (self.data.n == self.data.capacity):\n",
    "            self.data.resize(2 * self.data.capacity)\n",
    "        if (self.data.is_empty()):\n",
    "            self.data.data_arr[0] = elem\n",
    "            self.data.front_ind = 0\n",
    "            self.data.n += 1\n",
    "        elif (self.data.front_ind==0):\n",
    "            self.data.data_arr[-1]=elem\n",
    "            self.data.front_ind == self.data.capacity - 1\n",
    "            self.data.n += 1\n",
    "        else:\n",
    "            self.data.data_arr[self.data.front_ind - 1] = elem\n",
    "            self.data.front_ind -= 1\n",
    "            self.data.n += 1\n",
    "            \n",
    "    \n",
    "    def enqueue_last(self,elem):\n",
    "        self.data.enqueue(elem)\n",
    "        \n",
    "    def dequeue_first(self):\n",
    "        self.data.dequeue()\n",
    "    def dequeue_last(self):\n",
    "        if (self.data.is_empty()):\n",
    "            raise Exception(\"Queue is empty\")\n",
    "        back_ind = (self.data.front_ind + self.data.n) % self.data.capacity\n",
    "        value = self.data.data_arr[back_ind]\n",
    "        self.data.data_arr[back_ind] = None\n",
    "        self.n-=1\n",
    "        if(self.data.is_empty()):\n",
    "            self.data.front_ind = None\n",
    "        if((self.data.n < self.data.capacity // 4) and\n",
    "                (self.data.capacity > ArrayQueue.INITIAL_CAPACITY)): # INITIAL_CAPACITY is a class attribute\n",
    "            self.data.resize(self.data.capacity // 2)\n",
    "        return value"
   ]
  },
  {
   "cell_type": "markdown",
   "id": "44776c88",
   "metadata": {},
   "source": [
    "# Question 3"
   ]
  },
  {
   "cell_type": "code",
   "execution_count": null,
   "id": "8e207b98",
   "metadata": {},
   "outputs": [],
   "source": [
    "def flatten_list_by_depth(lst):\n",
    "    \"\"\" : lst type: list : return type: list \"\"\"\n",
    "    q = ArrayQueue()\n",
    "    new_lst = []\n",
    "    ''' Remove and return the top element from the stack. If the stack is empty, raise an exception'''\n",
    "    for i in lst:\n",
    "        if isinstance(i,int):\n",
    "            new_lst.append(i)\n",
    "        else:8\n",
    "            \n",
    "    return new_lst"
   ]
  },
  {
   "cell_type": "code",
   "execution_count": null,
   "id": "8766c89d",
   "metadata": {},
   "outputs": [],
   "source": [
    "def flatten_list(lst):\n",
    "    s = ArrayStack()\n",
    "    i = len(lst)-1\n",
    "    while i >= 0:\n",
    "        if isinstance(lst[i],int):\n",
    "            s.push(lst.pop())\n",
    "            i-=1\n",
    "        else:\n",
    "            temp = lst.pop()\n",
    "            lst.extend(temp)\n",
    "            i += (len(temp)-1)\n",
    "    for a in range(len(s)):\n",
    "        lst.append(s.pop())\n",
    "    return lst"
   ]
  },
  {
   "cell_type": "code",
   "execution_count": null,
   "id": "e79af971",
   "metadata": {},
   "outputs": [],
   "source": []
  },
  {
   "cell_type": "code",
   "execution_count": null,
   "id": "732abe3f",
   "metadata": {},
   "outputs": [],
   "source": []
  },
  {
   "cell_type": "code",
   "execution_count": null,
   "id": "3b9bbbfd",
   "metadata": {},
   "outputs": [],
   "source": []
  },
  {
   "cell_type": "code",
   "execution_count": null,
   "id": "d950f069",
   "metadata": {},
   "outputs": [],
   "source": []
  },
  {
   "cell_type": "code",
   "execution_count": null,
   "id": "ed9767e9",
   "metadata": {},
   "outputs": [],
   "source": []
  }
 ],
 "metadata": {
  "kernelspec": {
   "display_name": "Python 3 (ipykernel)",
   "language": "python",
   "name": "python3"
  },
  "language_info": {
   "codemirror_mode": {
    "name": "ipython",
    "version": 3
   },
   "file_extension": ".py",
   "mimetype": "text/x-python",
   "name": "python",
   "nbconvert_exporter": "python",
   "pygments_lexer": "ipython3",
   "version": "3.8.12"
  },
  "toc": {
   "base_numbering": 1,
   "nav_menu": {},
   "number_sections": true,
   "sideBar": true,
   "skip_h1_title": false,
   "title_cell": "Table of Contents",
   "title_sidebar": "Contents",
   "toc_cell": false,
   "toc_position": {},
   "toc_section_display": true,
   "toc_window_display": false
  }
 },
 "nbformat": 4,
 "nbformat_minor": 5
}
