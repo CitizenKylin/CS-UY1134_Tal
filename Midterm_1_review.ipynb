{
 "cells": [
  {
   "cell_type": "markdown",
   "id": "c7f04d3b",
   "metadata": {},
   "source": [
    "## Lab 1"
   ]
  },
  {
   "cell_type": "code",
   "execution_count": 2,
   "id": "3c5c8fb6",
   "metadata": {},
   "outputs": [
    {
     "name": "stdout",
     "output_type": "stream",
     "text": [
      "[1, 2, 3]\n"
     ]
    }
   ],
   "source": [
    "lst = [1,2,3]\n",
    "for elem in lst:\n",
    "    elem+=10\n",
    "print(lst)"
   ]
  },
  {
   "cell_type": "code",
   "execution_count": 4,
   "id": "0321461a",
   "metadata": {},
   "outputs": [
    {
     "data": {
      "text/plain": [
       "'aBc'"
      ]
     },
     "execution_count": 4,
     "metadata": {},
     "output_type": "execute_result"
    }
   ],
   "source": [
    "s = 'aBc'\n",
    "s"
   ]
  },
  {
   "cell_type": "code",
   "execution_count": 5,
   "id": "00bce070",
   "metadata": {},
   "outputs": [
    {
     "name": "stdout",
     "output_type": "stream",
     "text": [
      "inside func s = ABC\n",
      "abc\n"
     ]
    }
   ],
   "source": [
    "s = 'abc'\n",
    "def func(s):\n",
    "    s = s.upper()\n",
    "    print('inside func s =',s)\n",
    "func(s)\n",
    "print(s)"
   ]
  },
  {
   "cell_type": "markdown",
   "id": "d0477edc",
   "metadata": {},
   "source": [
    "## Lab 2"
   ]
  },
  {
   "cell_type": "code",
   "execution_count": 6,
   "id": "d5c76beb",
   "metadata": {},
   "outputs": [
    {
     "name": "stdout",
     "output_type": "stream",
     "text": [
      "1, 3, 6, 10, 15, 21, 28, 36, 45, 55, "
     ]
    }
   ],
   "source": [
    "def sum_to(n):\n",
    "    for i in range(1, n+1):\n",
    "        total = i * (i + 1)//2\n",
    "        yield total\n",
    "for i in sum_to(10):\n",
    "    print(i, end = ', ')"
   ]
  },
  {
   "cell_type": "code",
   "execution_count": 7,
   "id": "56d5b760",
   "metadata": {},
   "outputs": [
    {
     "data": {
      "text/plain": [
       "[1, -2, 4, -8, 16, -32, 64, -128]"
      ]
     },
     "execution_count": 7,
     "metadata": {},
     "output_type": "execute_result"
    }
   ],
   "source": [
    "[(-2)**num for num in range(0,8)]"
   ]
  },
  {
   "cell_type": "code",
   "execution_count": null,
   "id": "aedc980a",
   "metadata": {},
   "outputs": [],
   "source": []
  },
  {
   "cell_type": "code",
   "execution_count": 10,
   "id": "f47ef7a5",
   "metadata": {},
   "outputs": [
    {
     "data": {
      "text/plain": [
       "['P', 'y', 't', 'h', 'o', 'n', 'P', 'y', 't', 'h', 'o', 'n']"
      ]
     },
     "execution_count": 10,
     "metadata": {},
     "output_type": "execute_result"
    }
   ],
   "source": [
    "my_str = \"Python\"\n",
    "[my_str[i] for i in range(-len(my_str),len(my_str))]"
   ]
  },
  {
   "cell_type": "code",
   "execution_count": 14,
   "id": "7f054f9d",
   "metadata": {},
   "outputs": [
    {
     "data": {
      "text/plain": [
       "['', '1', '11', '111', '1111', '11111', '111111', '1111111']"
      ]
     },
     "execution_count": 14,
     "metadata": {},
     "output_type": "execute_result"
    }
   ],
   "source": [
    "def ones():\n",
    "    for i in range(0,8):\n",
    "        yield ('1'*i)\n",
    "[i for i in ones()]"
   ]
  },
  {
   "cell_type": "markdown",
   "id": "5ac7373b",
   "metadata": {},
   "source": [
    "## Lecture on asymptotic"
   ]
  },
  {
   "cell_type": "code",
   "execution_count": 30,
   "id": "4c0974d8",
   "metadata": {},
   "outputs": [],
   "source": [
    "def prefix_averaged_1(lst):\n",
    "    n = len(lst)\n",
    "    res = [0]*n\n",
    "    for i in range(n):\n",
    "        _sum = sum(lst[0:i+1])\n",
    "        average = _sum/(i+1)\n",
    "        res[i] = average\n",
    "    return res"
   ]
  },
  {
   "cell_type": "code",
   "execution_count": 31,
   "id": "0731e40b",
   "metadata": {},
   "outputs": [],
   "source": [
    "lst = [10,20,30,40,50]"
   ]
  },
  {
   "cell_type": "code",
   "execution_count": 32,
   "id": "92acde0e",
   "metadata": {},
   "outputs": [
    {
     "data": {
      "text/plain": [
       "[10.0, 15.0, 20.0, 25.0, 30.0]"
      ]
     },
     "execution_count": 32,
     "metadata": {},
     "output_type": "execute_result"
    }
   ],
   "source": [
    "prefix_averaged_1(lst)"
   ]
  },
  {
   "cell_type": "code",
   "execution_count": 37,
   "id": "e5049941",
   "metadata": {},
   "outputs": [],
   "source": [
    "def prefix_averaged_2(lst):\n",
    "    n = len(lst)\n",
    "    res = [0]*n\n",
    "    _sum = 0\n",
    "    for i in range(n):\n",
    "        _sum += (lst[i])\n",
    "        average = _sum/(i+1)\n",
    "        res[i] = average\n",
    "    return res"
   ]
  },
  {
   "cell_type": "code",
   "execution_count": 38,
   "id": "af212f59",
   "metadata": {},
   "outputs": [
    {
     "data": {
      "text/plain": [
       "[10.0, 15.0, 20.0, 25.0, 30.0]"
      ]
     },
     "execution_count": 38,
     "metadata": {},
     "output_type": "execute_result"
    }
   ],
   "source": [
    "prefix_averaged_2(lst)"
   ]
  },
  {
   "cell_type": "markdown",
   "id": "4bd2e378",
   "metadata": {},
   "source": [
    "## Lab 3"
   ]
  },
  {
   "cell_type": "code",
   "execution_count": 43,
   "id": "d31f35c8",
   "metadata": {},
   "outputs": [],
   "source": [
    "def move_zeros(lst):\n",
    "    first_zero = 0\n",
    "    for i in range(len(lst)):\n",
    "        if lst[i] != 0:\n",
    "            lst[i],lst[first_zero] = lst[first_zero],lst[i]\n",
    "            first_zero+=1\n",
    "    return lst"
   ]
  },
  {
   "cell_type": "code",
   "execution_count": 44,
   "id": "d97c8ba0",
   "metadata": {},
   "outputs": [],
   "source": [
    "lst = [0,1,0,3,13,0]\n"
   ]
  },
  {
   "cell_type": "code",
   "execution_count": 45,
   "id": "67dae57f",
   "metadata": {},
   "outputs": [
    {
     "data": {
      "text/plain": [
       "[1, 3, 13, 0, 0, 0]"
      ]
     },
     "execution_count": 45,
     "metadata": {},
     "output_type": "execute_result"
    }
   ],
   "source": [
    "move_zeros(lst)"
   ]
  },
  {
   "cell_type": "code",
   "execution_count": null,
   "id": "ef385096",
   "metadata": {},
   "outputs": [],
   "source": []
  },
  {
   "cell_type": "markdown",
   "id": "ea417b76",
   "metadata": {},
   "source": [
    "## Homework 2"
   ]
  },
  {
   "cell_type": "code",
   "execution_count": 106,
   "id": "ac8d05c8",
   "metadata": {},
   "outputs": [],
   "source": [
    "import math\n",
    "def factors(num):\n",
    "    for i in range(1,int(math.sqrt(num))+1):\n",
    "        if num%i == 0:\n",
    "            yield i\n",
    "    for i in range(int(math.sqrt(num)),0,-1):\n",
    "        if num%i == 0:\n",
    "            yield num//i"
   ]
  },
  {
   "cell_type": "code",
   "execution_count": 110,
   "id": "4a54fd98",
   "metadata": {},
   "outputs": [
    {
     "name": "stdout",
     "output_type": "stream",
     "text": [
      "1\n",
      "2\n",
      "4\n",
      "5\n",
      "10\n",
      "10\n",
      "20\n",
      "25\n",
      "50\n",
      "100\n"
     ]
    }
   ],
   "source": [
    "for i in factors(100):\n",
    "    print(i)"
   ]
  },
  {
   "cell_type": "code",
   "execution_count": 101,
   "id": "31a6a137",
   "metadata": {},
   "outputs": [
    {
     "ename": "ZeroDivisionError",
     "evalue": "integer division or modulo by zero",
     "output_type": "error",
     "traceback": [
      "\u001b[0;31m---------------------------------------------------------------------------\u001b[0m",
      "\u001b[0;31mZeroDivisionError\u001b[0m                         Traceback (most recent call last)",
      "\u001b[0;32m/var/folders/rd/q2lzfdss4b167026m7l6h8pm0000gn/T/ipykernel_37931/792645397.py\u001b[0m in \u001b[0;36m<module>\u001b[0;34m\u001b[0m\n\u001b[0;32m----> 1\u001b[0;31m \u001b[0;36m2\u001b[0m\u001b[0;34m%\u001b[0m\u001b[0;34m(\u001b[0m\u001b[0mint\u001b[0m\u001b[0;34m(\u001b[0m\u001b[0mmath\u001b[0m\u001b[0;34m.\u001b[0m\u001b[0msqrt\u001b[0m\u001b[0;34m(\u001b[0m\u001b[0;36m2\u001b[0m\u001b[0;34m)\u001b[0m\u001b[0;34m)\u001b[0m\u001b[0;34m-\u001b[0m\u001b[0;36m1\u001b[0m\u001b[0;34m)\u001b[0m \u001b[0;34m==\u001b[0m\u001b[0;36m0\u001b[0m\u001b[0;34m\u001b[0m\u001b[0;34m\u001b[0m\u001b[0m\n\u001b[0m",
      "\u001b[0;31mZeroDivisionError\u001b[0m: integer division or modulo by zero"
     ]
    }
   ],
   "source": [
    "2%(int(math.sqrt(2))-1) ==0"
   ]
  },
  {
   "cell_type": "markdown",
   "id": "3956bc55",
   "metadata": {},
   "source": [
    "## Midterm mock"
   ]
  },
  {
   "cell_type": "code",
   "execution_count": 114,
   "id": "b23fca15",
   "metadata": {},
   "outputs": [],
   "source": [
    "def remove_all_evens(lst):\n",
    "    first_even = 0\n",
    "    for index in range(len(lst)):\n",
    "        if lst[index]%2 != 0:\n",
    "            lst[index],lst[first_even] = lst[first_even],lst[index]\n",
    "            first_even += 1\n",
    "    for num in range(len(lst)-first_even):\n",
    "        lst.pop()\n",
    "    return lst"
   ]
  },
  {
   "cell_type": "code",
   "execution_count": 115,
   "id": "693f83b9",
   "metadata": {},
   "outputs": [
    {
     "data": {
      "text/plain": [
       "[1, 3, 5]"
      ]
     },
     "execution_count": 115,
     "metadata": {},
     "output_type": "execute_result"
    }
   ],
   "source": [
    "lst1= [1,3,2,4,4,5,6]\n",
    "remove_all_evens(lst1)"
   ]
  },
  {
   "cell_type": "markdown",
   "id": "81587c92",
   "metadata": {},
   "source": [
    "## recursive "
   ]
  },
  {
   "cell_type": "code",
   "execution_count": 120,
   "id": "5f55102d",
   "metadata": {},
   "outputs": [],
   "source": [
    "def count_up(start,end):\n",
    "    if start == end:\n",
    "        print(start)\n",
    "    else:\n",
    "        mid = (start+end)//2\n",
    "        count_up(start,mid)\n",
    "        count_up(mid+1,end)"
   ]
  },
  {
   "cell_type": "code",
   "execution_count": 121,
   "id": "495a7b14",
   "metadata": {},
   "outputs": [
    {
     "name": "stdout",
     "output_type": "stream",
     "text": [
      "1\n",
      "2\n",
      "3\n",
      "4\n",
      "5\n",
      "6\n",
      "7\n",
      "8\n"
     ]
    }
   ],
   "source": [
    "count_up(1,8)"
   ]
  },
  {
   "cell_type": "code",
   "execution_count": 122,
   "id": "69aae7d2",
   "metadata": {},
   "outputs": [],
   "source": [
    "def count_down(start,end):\n",
    "    if start == end:\n",
    "        print(end)\n",
    "    else:\n",
    "        count_down(start+1,end)\n",
    "        print(start)"
   ]
  },
  {
   "cell_type": "code",
   "execution_count": 123,
   "id": "fc9bb601",
   "metadata": {},
   "outputs": [
    {
     "name": "stdout",
     "output_type": "stream",
     "text": [
      "5\n",
      "4\n",
      "3\n",
      "2\n",
      "1\n"
     ]
    }
   ],
   "source": [
    "count_down(1,5)"
   ]
  },
  {
   "cell_type": "code",
   "execution_count": 125,
   "id": "9aeb855e",
   "metadata": {},
   "outputs": [],
   "source": [
    "def count_up_and_down(start,end):\n",
    "    if start==end:\n",
    "        print(start)\n",
    "    else:\n",
    "        print(start)\n",
    "        count_up_and_down(start+1,end) # no end-1 here\n",
    "        print(start)"
   ]
  },
  {
   "cell_type": "code",
   "execution_count": 126,
   "id": "4e01dba9",
   "metadata": {},
   "outputs": [
    {
     "name": "stdout",
     "output_type": "stream",
     "text": [
      "1\n",
      "2\n",
      "3\n",
      "4\n",
      "5\n",
      "6\n",
      "5\n",
      "4\n",
      "3\n",
      "2\n",
      "1\n"
     ]
    }
   ],
   "source": [
    "count_up_and_down(1,6)"
   ]
  },
  {
   "cell_type": "code",
   "execution_count": 138,
   "id": "5d35cf1a",
   "metadata": {},
   "outputs": [],
   "source": [
    "def factorial(n):\n",
    "    if n == 1:\n",
    "        return 1\n",
    "    else:\n",
    "        return n*factorial(n-1)"
   ]
  },
  {
   "cell_type": "code",
   "execution_count": 139,
   "id": "0e18d02e",
   "metadata": {},
   "outputs": [
    {
     "data": {
      "text/plain": [
       "1"
      ]
     },
     "execution_count": 139,
     "metadata": {},
     "output_type": "execute_result"
    }
   ],
   "source": [
    "factorial(1)"
   ]
  },
  {
   "cell_type": "code",
   "execution_count": 140,
   "id": "55482fe0",
   "metadata": {},
   "outputs": [
    {
     "data": {
      "text/plain": [
       "24"
      ]
     },
     "execution_count": 140,
     "metadata": {},
     "output_type": "execute_result"
    }
   ],
   "source": [
    "1*2*3*4"
   ]
  },
  {
   "cell_type": "code",
   "execution_count": null,
   "id": "5b48b4b6",
   "metadata": {},
   "outputs": [],
   "source": []
  }
 ],
 "metadata": {
  "kernelspec": {
   "display_name": "Python 3 (ipykernel)",
   "language": "python",
   "name": "python3"
  },
  "language_info": {
   "codemirror_mode": {
    "name": "ipython",
    "version": 3
   },
   "file_extension": ".py",
   "mimetype": "text/x-python",
   "name": "python",
   "nbconvert_exporter": "python",
   "pygments_lexer": "ipython3",
   "version": "3.8.12"
  },
  "toc": {
   "base_numbering": 1,
   "nav_menu": {},
   "number_sections": true,
   "sideBar": true,
   "skip_h1_title": false,
   "title_cell": "Table of Contents",
   "title_sidebar": "Contents",
   "toc_cell": false,
   "toc_position": {},
   "toc_section_display": true,
   "toc_window_display": false
  }
 },
 "nbformat": 4,
 "nbformat_minor": 5
}
